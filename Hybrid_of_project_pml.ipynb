{
  "nbformat": 4,
  "nbformat_minor": 0,
  "metadata": {
    "colab": {
      "provenance": []
    },
    "kernelspec": {
      "name": "python3",
      "display_name": "Python 3"
    },
    "language_info": {
      "name": "python"
    }
  },
  "cells": [
    {
      "cell_type": "markdown",
      "source": [
        "##modeling"
      ],
      "metadata": {
        "id": "uYZKDfoptojv"
      }
    },
    {
      "cell_type": "code",
      "execution_count": null,
      "metadata": {
        "colab": {
          "base_uri": "https://localhost:8080/"
        },
        "id": "h_COME1R4VxS",
        "outputId": "41bbcb8e-3618-4e6d-ff38-f26b87b0432e"
      },
      "outputs": [
        {
          "output_type": "stream",
          "name": "stdout",
          "text": [
            "Masukkan ID / Username: JPV852\n",
            "ID / Username: JPV852 diterima. Menyesuaikan rekomendasi...\n",
            "Rekomendasi:\n",
            "13579    Extinction\n",
            "11119     Peninsula\n",
            "18032    Shark Bait\n",
            "Name: Movie Name, dtype: object\n",
            "Mean Cosine Similarity untuk rekomendasi: 0.9940\n"
          ]
        }
      ],
      "source": [
        "from sklearn.feature_extraction.text import TfidfVectorizer\n",
        "from sklearn.metrics.pairwise import cosine_similarity\n",
        "import pandas as pd\n",
        "\n",
        "data = pd.read_csv('/content/proses_pml.csv')\n",
        "\n",
        "# TF-IDF Vectorization pada kolom 'Genre'\n",
        "tfidf = TfidfVectorizer(stop_words='english')\n",
        "tfidf_matrix = tfidf.fit_transform(data['Genre'])\n",
        "\n",
        "# Hitung Cosine Similarity\n",
        "cosine_sim = cosine_similarity(tfidf_matrix, tfidf_matrix)\n",
        "\n",
        "# Buat fungsi rekomendasi berbasis konten\n",
        "indices = pd.Series(data.index, index=data['Movie Name']).drop_duplicates()\n",
        "\n",
        "def content_based_recommendations(user_id=None):\n",
        "    if user_id:  # Jika ID pengguna dimasukkan\n",
        "        # Ambil semua film yang direview oleh pengguna\n",
        "        watched_movies = data[data['Reviewer'] == user_id]['Movie Name'].tolist()\n",
        "        if not watched_movies:\n",
        "            return f\"Pengguna dengan ID '{user_id}' tidak memiliki review dalam database.\"\n",
        "\n",
        "        # Ambil indeks film yang direview\n",
        "        watched_indices = indices[watched_movies].values\n",
        "        # Hitung skor kesamaan untuk semua film yang direview\n",
        "        sim_scores = sum([cosine_sim[i] for i in watched_indices])\n",
        "    else:  # Jika tidak ada ID pengguna, gunakan film pertama sebagai referensi\n",
        "        sim_scores = cosine_sim[0]\n",
        "\n",
        "    # Urutkan skor kesamaan dan ambil 3 teratas\n",
        "    sim_scores = list(enumerate(sim_scores))\n",
        "    sim_scores = sorted(sim_scores, key=lambda x: x[1], reverse=True)\n",
        "    movie_indices = [i[0] for i in sim_scores[1:4]]  # Ambil rekomendasi teratas\n",
        "\n",
        "    return data['Movie Name'].iloc[movie_indices]\n",
        "\n",
        "# Input pengguna: ID pengguna\n",
        "user_id_input = input(\"Masukkan ID / Username: \").strip()\n",
        "\n",
        "if user_id_input:\n",
        "    print(f\"ID / Username: {user_id_input} diterima. Menyesuaikan rekomendasi...\")\n",
        "    recommendations = content_based_recommendations(user_id=user_id_input)\n",
        "else:\n",
        "    recommendations = content_based_recommendations()\n",
        "\n",
        "print(\"Rekomendasi:\")\n",
        "print(recommendations)\n",
        "\n",
        "# Evaluasi model: Menghitung Mean Cosine Similarity\n",
        "def evaluate_model():\n",
        "    \"\"\"\n",
        "    Fungsi untuk mengevaluasi model dengan menghitung mean cosine similarity\n",
        "    dari semua rekomendasi yang diberikan.\n",
        "    \"\"\"\n",
        "    similarities = []\n",
        "    for idx in range(len(data)):\n",
        "        # Cosine similarity untuk tiap item\n",
        "        sim_scores = list(enumerate(cosine_sim[idx]))\n",
        "        sim_scores = sorted(sim_scores, key=lambda x: x[1], reverse=True)\n",
        "        top_similarities = [x[1] for x in sim_scores[1:4]]\n",
        "        similarities.extend(top_similarities)\n",
        "    mean_similarity = sum(similarities) / len(similarities)\n",
        "    return mean_similarity\n",
        "\n",
        "# Hitung evaluasi model\n",
        "mean_similarity = evaluate_model()\n",
        "print(f\"Mean Cosine Similarity untuk rekomendasi: {mean_similarity:.4f}\")"
      ]
    },
    {
      "cell_type": "code",
      "execution_count": null,
      "metadata": {
        "colab": {
          "base_uri": "https://localhost:8080/"
        },
        "id": "fC6cJOig95q3",
        "outputId": "28e3a121-9a06-444b-d7bb-80e929344921"
      },
      "outputs": [
        {
          "output_type": "stream",
          "name": "stdout",
          "text": [
            "Collecting scikit-surprise\n",
            "  Downloading scikit_surprise-1.1.4.tar.gz (154 kB)\n",
            "\u001b[?25l     \u001b[90m━━━━━━━━━━━━━━━━━━━━━━━━━━━━━━━━━━━━━━━━\u001b[0m \u001b[32m0.0/154.4 kB\u001b[0m \u001b[31m?\u001b[0m eta \u001b[36m-:--:--\u001b[0m\r\u001b[2K     \u001b[90m━━━━━━━━━━━━━━━━━━━━━━━━━━━━━━━━━━━━━━━━\u001b[0m \u001b[32m154.4/154.4 kB\u001b[0m \u001b[31m11.0 MB/s\u001b[0m eta \u001b[36m0:00:00\u001b[0m\n",
            "\u001b[?25h  Installing build dependencies ... \u001b[?25l\u001b[?25hdone\n",
            "  Getting requirements to build wheel ... \u001b[?25l\u001b[?25hdone\n",
            "  Preparing metadata (pyproject.toml) ... \u001b[?25l\u001b[?25hdone\n",
            "Requirement already satisfied: joblib>=1.2.0 in /usr/local/lib/python3.10/dist-packages (from scikit-surprise) (1.4.2)\n",
            "Requirement already satisfied: numpy>=1.19.5 in /usr/local/lib/python3.10/dist-packages (from scikit-surprise) (1.26.4)\n",
            "Requirement already satisfied: scipy>=1.6.0 in /usr/local/lib/python3.10/dist-packages (from scikit-surprise) (1.13.1)\n",
            "Building wheels for collected packages: scikit-surprise\n",
            "  Building wheel for scikit-surprise (pyproject.toml) ... \u001b[?25l\u001b[?25hdone\n",
            "  Created wheel for scikit-surprise: filename=scikit_surprise-1.1.4-cp310-cp310-linux_x86_64.whl size=2357276 sha256=0f0925374dd6ebe975d9d79bba9a569c36bda4d3adccf642fe2d8b4a706078f3\n",
            "  Stored in directory: /root/.cache/pip/wheels/4b/3f/df/6acbf0a40397d9bf3ff97f582cc22fb9ce66adde75bc71fd54\n",
            "Successfully built scikit-surprise\n",
            "Installing collected packages: scikit-surprise\n",
            "Successfully installed scikit-surprise-1.1.4\n"
          ]
        }
      ],
      "source": [
        "!pip install scikit-surprise"
      ]
    },
    {
      "cell_type": "code",
      "execution_count": null,
      "metadata": {
        "colab": {
          "base_uri": "https://localhost:8080/"
        },
        "id": "aSa8MA4z95q3",
        "outputId": "a8d50ef7-4004-4269-e71e-a372c304deb2"
      },
      "outputs": [
        {
          "output_type": "stream",
          "name": "stdout",
          "text": [
            "Evaluating RMSE, MAE of algorithm SVD on 5 split(s).\n",
            "\n",
            "                  Fold 1  Fold 2  Fold 3  Fold 4  Fold 5  Mean    Std     \n",
            "RMSE (testset)    19.4999 19.3889 19.0137 19.1788 18.8168 19.1796 0.2472  \n",
            "MAE (testset)     12.7357 12.6741 12.5178 12.6979 12.2379 12.5727 0.1831  \n",
            "Fit time          0.32    0.37    0.31    0.49    0.65    0.43    0.13    \n",
            "Test time         0.02    0.03    0.02    0.04    0.04    0.03    0.01    \n",
            "Masukkan ID / Username: JPV852\n",
            "Rekomendasi untuk 'JPV852':\n",
            "1. Portrait of a Lady on Fire\n",
            "2. Top Gun: Maverick\n",
            "3. Jurassic Park\n"
          ]
        }
      ],
      "source": [
        "from surprise import SVD, Dataset, Reader\n",
        "from surprise.model_selection import cross_validate\n",
        "from surprise import PredictionImpossible\n",
        "\n",
        "# Dataset untuk Surprise\n",
        "reader = Reader(rating_scale=(0, 100))  # Sesuaikan skala rating\n",
        "collab_data = Dataset.load_from_df(data[['Reviewer', 'Movie Name', 'Score']], reader)\n",
        "\n",
        "# Model SVD (Singular Value Decomposition)\n",
        "svd_model = SVD()\n",
        "cross_validate(svd_model, collab_data, cv=5, verbose=True)\n",
        "\n",
        "# Latih model\n",
        "trainset = collab_data.build_full_trainset()\n",
        "svd_model.fit(trainset)\n",
        "\n",
        "# Fungsi Collaborative Recommendations\n",
        "def collaborative_recommendations(user_id, n_recommendations=3):\n",
        "    movies = data['Movie Name'].unique()\n",
        "    watched_movies = data[data['Reviewer'] == user_id]['Movie Name']\n",
        "    to_predict = [movie for movie in movies if movie not in watched_movies.values]\n",
        "    predictions = []\n",
        "    for movie in to_predict:\n",
        "        try:\n",
        "            predictions.append((movie, svd_model.predict(user_id, movie).est))\n",
        "        except PredictionImpossible:\n",
        "            continue\n",
        "    predictions = sorted(predictions, key=lambda x: x[1], reverse=True)\n",
        "    return [pred[0] for pred in predictions[:n_recommendations]]\n",
        "\n",
        "# Input pengguna\n",
        "user_id = input(\"Masukkan ID / Username: \").strip()\n",
        "recommendations = collaborative_recommendations(user_id)\n",
        "\n",
        "# Output\n",
        "if not recommendations:\n",
        "    print(f\"Tidak ada rekomendasi untuk user '{user_id}'.\")\n",
        "else:\n",
        "    print(f\"Rekomendasi untuk '{user_id}':\")\n",
        "    for i, movie in enumerate(recommendations, 1):\n",
        "        print(f\"{i}. {movie}\")\n"
      ]
    },
    {
      "cell_type": "code",
      "source": [
        "def hybrid_with_sentiment(user_id, n_recommendations=5):\n",
        "    \"\"\"\n",
        "    Fungsi untuk menghasilkan rekomendasi hybrid berdasarkan konten dan kolaboratif,\n",
        "    kemudian diurutkan berdasarkan skor sentimen.\n",
        "    \"\"\"\n",
        "    # Rekomendasi berbasis konten\n",
        "    content_recs = content_based_recommendations()\n",
        "    if isinstance(content_recs, str):  # Jika terjadi error, kosongkan rekomendasi konten\n",
        "        content_recs = []\n",
        "\n",
        "    # Rekomendasi berbasis kolaboratif\n",
        "    collab_recs = collaborative_recommendations(user_id)\n",
        "\n",
        "    # Gabungkan rekomendasi dan urutkan berdasarkan Sentiment Score\n",
        "    combined_recs = list(set(content_recs).union(set(collab_recs)))\n",
        "    sentiment_sorted = sorted(\n",
        "        combined_recs,\n",
        "        key=lambda x: data.loc[data['Movie Name'] == x, 'Sentiment Score'].mean(),\n",
        "        reverse=True\n",
        "    )\n",
        "    return sentiment_sorted[:n_recommendations]\n",
        "\n",
        "\n",
        "def evaluate_hybrid():\n",
        "    \"\"\"\n",
        "    Fungsi untuk mengevaluasi cakupan rekomendasi hybrid.\n",
        "    Coverage dihitung sebagai persentase film yang direkomendasikan\n",
        "    terhadap total film dalam dataset.\n",
        "    \"\"\"\n",
        "    total_movies = len(data['Movie Name'].unique())\n",
        "    recommended_movies = set(hybrid_with_sentiment(user_id_input))\n",
        "    coverage = len(recommended_movies) / total_movies * 100\n",
        "    return coverage\n",
        "\n",
        "\n",
        "# Input pengguna\n",
        "user_id_input = input(\"Masukkan ID pengguna: \").strip()\n",
        "\n",
        "# Hybrid Recommendations\n",
        "hybrid_recs = hybrid_with_sentiment(user_id_input)\n",
        "\n",
        "# Menampilkan rekomendasi hybrid\n",
        "if not hybrid_recs:\n",
        "    print(f\"Tidak ada rekomendasi untuk user '{user_id_input}'.\")\n",
        "else:\n",
        "    print(f\"\\nRekomendasi Hybrid untuk user '{user_id_input}':\")\n",
        "    for idx, movie in enumerate(hybrid_recs, 1):\n",
        "        print(f\"{idx}. {movie}\")\n",
        "\n",
        "# Evaluasi cakupan rekomendasi\n",
        "coverage = evaluate_hybrid()\n",
        "print(f\"\\nCoverage of Hybrid Recommendations: {coverage:.2f}%\")\n"
      ],
      "metadata": {
        "colab": {
          "base_uri": "https://localhost:8080/"
        },
        "id": "Ksq_JxeiakJU",
        "outputId": "8e45069f-c50e-4d08-af0a-afbec6a360fd"
      },
      "execution_count": null,
      "outputs": [
        {
          "output_type": "stream",
          "name": "stdout",
          "text": [
            "Masukkan ID pengguna: JPV852\n",
            "\n",
            "Rekomendasi Hybrid untuk user 'JPV852':\n",
            "1. Yes Day\n",
            "2. The Lighthouse\n",
            "3. Battle: Los Angeles\n",
            "4. Guardians of the Galaxy\n",
            "5. Padre no hay mas que uno 3\n",
            "\n",
            "Coverage of Hybrid Recommendations: 0.05%\n"
          ]
        }
      ]
    }
  ]
}