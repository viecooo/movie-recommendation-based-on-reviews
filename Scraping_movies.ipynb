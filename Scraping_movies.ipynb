{
  "nbformat": 4,
  "nbformat_minor": 0,
  "metadata": {
    "colab": {
      "provenance": [],
      "authorship_tag": "ABX9TyM2L0ScYIB1QdofP7SmJjeH",
      "include_colab_link": true
    },
    "kernelspec": {
      "name": "python3",
      "display_name": "Python 3"
    },
    "language_info": {
      "name": "python"
    }
  },
  "cells": [
    {
      "cell_type": "markdown",
      "metadata": {
        "id": "view-in-github",
        "colab_type": "text"
      },
      "source": [
        "<a href=\"https://colab.research.google.com/github/viecooo/movie-recommendation-based-on-reviews/blob/main/Scraping_movies.ipynb\" target=\"_parent\"><img src=\"https://colab.research.google.com/assets/colab-badge.svg\" alt=\"Open In Colab\"/></a>"
      ]
    },
    {
      "cell_type": "code",
      "source": [
        "!pip install sumy"
      ],
      "metadata": {
        "colab": {
          "base_uri": "https://localhost:8080/"
        },
        "id": "7AcnLiMH8iWF",
        "outputId": "7cb15f9e-4135-4b9c-88ae-21288351c689"
      },
      "execution_count": null,
      "outputs": [
        {
          "output_type": "stream",
          "name": "stdout",
          "text": [
            "Collecting sumy\n",
            "  Downloading sumy-0.11.0-py2.py3-none-any.whl.metadata (7.5 kB)\n",
            "Collecting docopt<0.7,>=0.6.1 (from sumy)\n",
            "  Downloading docopt-0.6.2.tar.gz (25 kB)\n",
            "  Preparing metadata (setup.py) ... \u001b[?25l\u001b[?25hdone\n",
            "Collecting breadability>=0.1.20 (from sumy)\n",
            "  Downloading breadability-0.1.20.tar.gz (32 kB)\n",
            "  Preparing metadata (setup.py) ... \u001b[?25l\u001b[?25hdone\n",
            "Requirement already satisfied: requests>=2.7.0 in /usr/local/lib/python3.10/dist-packages (from sumy) (2.32.3)\n",
            "Collecting pycountry>=18.2.23 (from sumy)\n",
            "  Downloading pycountry-24.6.1-py3-none-any.whl.metadata (12 kB)\n",
            "Requirement already satisfied: nltk>=3.0.2 in /usr/local/lib/python3.10/dist-packages (from sumy) (3.9.1)\n",
            "Requirement already satisfied: chardet in /usr/local/lib/python3.10/dist-packages (from breadability>=0.1.20->sumy) (5.2.0)\n",
            "Requirement already satisfied: lxml>=2.0 in /usr/local/lib/python3.10/dist-packages (from breadability>=0.1.20->sumy) (5.3.0)\n",
            "Requirement already satisfied: click in /usr/local/lib/python3.10/dist-packages (from nltk>=3.0.2->sumy) (8.1.7)\n",
            "Requirement already satisfied: joblib in /usr/local/lib/python3.10/dist-packages (from nltk>=3.0.2->sumy) (1.4.2)\n",
            "Requirement already satisfied: regex>=2021.8.3 in /usr/local/lib/python3.10/dist-packages (from nltk>=3.0.2->sumy) (2024.11.6)\n",
            "Requirement already satisfied: tqdm in /usr/local/lib/python3.10/dist-packages (from nltk>=3.0.2->sumy) (4.67.1)\n",
            "Requirement already satisfied: charset-normalizer<4,>=2 in /usr/local/lib/python3.10/dist-packages (from requests>=2.7.0->sumy) (3.4.0)\n",
            "Requirement already satisfied: idna<4,>=2.5 in /usr/local/lib/python3.10/dist-packages (from requests>=2.7.0->sumy) (3.10)\n",
            "Requirement already satisfied: urllib3<3,>=1.21.1 in /usr/local/lib/python3.10/dist-packages (from requests>=2.7.0->sumy) (2.2.3)\n",
            "Requirement already satisfied: certifi>=2017.4.17 in /usr/local/lib/python3.10/dist-packages (from requests>=2.7.0->sumy) (2024.12.14)\n",
            "Downloading sumy-0.11.0-py2.py3-none-any.whl (97 kB)\n",
            "\u001b[2K   \u001b[90m━━━━━━━━━━━━━━━━━━━━━━━━━━━━━━━━━━━━━━━━\u001b[0m \u001b[32m97.3/97.3 kB\u001b[0m \u001b[31m3.3 MB/s\u001b[0m eta \u001b[36m0:00:00\u001b[0m\n",
            "\u001b[?25hDownloading pycountry-24.6.1-py3-none-any.whl (6.3 MB)\n",
            "\u001b[2K   \u001b[90m━━━━━━━━━━━━━━━━━━━━━━━━━━━━━━━━━━━━━━━━\u001b[0m \u001b[32m6.3/6.3 MB\u001b[0m \u001b[31m61.3 MB/s\u001b[0m eta \u001b[36m0:00:00\u001b[0m\n",
            "\u001b[?25hBuilding wheels for collected packages: breadability, docopt\n",
            "  Building wheel for breadability (setup.py) ... \u001b[?25l\u001b[?25hdone\n",
            "  Created wheel for breadability: filename=breadability-0.1.20-py2.py3-none-any.whl size=21692 sha256=eadf1423c7eae94b6bd470dd4e848f191cc2cd5824c238ecd7bf52c192c86603\n",
            "  Stored in directory: /root/.cache/pip/wheels/64/22/90/b84fcc30e16598db20a0d41340616dbf9b1e82bbcc627b0b33\n",
            "  Building wheel for docopt (setup.py) ... \u001b[?25l\u001b[?25hdone\n",
            "  Created wheel for docopt: filename=docopt-0.6.2-py2.py3-none-any.whl size=13706 sha256=626b5a359b2933cd8d9d0d05a7031c2d258c53c028ca34fafdd9ace9897ac76f\n",
            "  Stored in directory: /root/.cache/pip/wheels/fc/ab/d4/5da2067ac95b36618c629a5f93f809425700506f72c9732fac\n",
            "Successfully built breadability docopt\n",
            "Installing collected packages: docopt, pycountry, breadability, sumy\n",
            "Successfully installed breadability-0.1.20 docopt-0.6.2 pycountry-24.6.1 sumy-0.11.0\n"
          ]
        }
      ]
    },
    {
      "cell_type": "code",
      "source": [
        "import nltk\n",
        "nltk.download('punkt_tab')\n"
      ],
      "metadata": {
        "colab": {
          "base_uri": "https://localhost:8080/"
        },
        "id": "Rzf86_EB-JFP",
        "outputId": "fab39e1e-0b97-4731-d9ec-4d74e5434713"
      },
      "execution_count": null,
      "outputs": [
        {
          "output_type": "stream",
          "name": "stderr",
          "text": [
            "[nltk_data] Downloading package punkt_tab to /root/nltk_data...\n",
            "[nltk_data]   Package punkt_tab is already up-to-date!\n"
          ]
        },
        {
          "output_type": "execute_result",
          "data": {
            "text/plain": [
              "True"
            ]
          },
          "metadata": {},
          "execution_count": 6
        }
      ]
    },
    {
      "cell_type": "code",
      "execution_count": null,
      "metadata": {
        "colab": {
          "base_uri": "https://localhost:8080/"
        },
        "id": "R2PiyM968Qu7",
        "outputId": "29f829ad-0277-4377-940d-eaa6b46da928"
      },
      "outputs": [
        {
          "metadata": {
            "tags": null
          },
          "name": "stdout",
          "output_type": "stream",
          "text": [
            "Processing movie: Red One\n",
            "IMDb ID: tt14948432\n",
            "Number of reviews: 15766\n"
          ]
        },
        {
          "metadata": {
            "tags": null
          },
          "name": "stderr",
          "output_type": "stream",
          "text": [
            "Device set to use cpu\n"
          ]
        },
        {
          "metadata": {
            "tags": null
          },
          "name": "stdout",
          "output_type": "stream",
          "text": [
            "Contextual Summary: [{'summary_text': '\"Home Alone\" offers a mix of action, comedy, and Sci-Fi elements, but its CGI and character designs aren\\'t flawless. Despite its flaws, it\\'s a fun Christmas movie with interesting holiday lore and cool gimmicks. Dwayne Johnson\\'s performance as Callum is decent, but the film\\'s scares come off as somewhat funny and cheesy. While it may alienate under 12s with its language, \"Red One\" remains a solid and creative take on Christmas movies, despite its lackluster acting and lack of unbiased opinions on its own merit. Overall, the movie\\'s unique approach to storytelling and storytelling makes it a must-watch for those seeking a feel-good Christmas movie that\\'s not too serious about its impact on the genre\\'s impact on its overall impact on audiences. Ultimately, \"Rose one\" is a standout in the genre.'}]\n",
            "Processing movie: Venom: The Last Dance\n",
            "IMDb ID: tt16366836\n",
            "Number of reviews: 39830\n"
          ]
        },
        {
          "metadata": {
            "tags": null
          },
          "name": "stderr",
          "output_type": "stream",
          "text": [
            "Device set to use cpu\n"
          ]
        },
        {
          "metadata": {
            "tags": null
          },
          "name": "stdout",
          "output_type": "stream",
          "text": [
            "Contextual Summary: [{'summary_text': '\"Venom: The Last Dance\" offers a mixed bag of entertainment, with some finding it entertaining while others criticize its chaotic plot and lack of character development. Tom Hardy\\'s performance shines, delivering a blend of humor, action, and Venom\\'s signature appetite for chaos. Despite some emotional moments, the film\\'s cardboard cutouts and clumsy pacing detract from its potential as a high-octane ride with a surprising amount of heart. Overall, it\\'s a messy buddy road trip in which you must turn your brains off...again, despite its lack of space for development and disjointed storylines, leaving audiences disappointed, leaving viewers disappointed by its lackluster action scenes and rushed bangs, leaving a lasting impression on viewers and a forgettable experience for fans of superheroes. Ultimately, it remains a disappointing entry in the Marvel universe.'}]\n",
            "Processing movie: Mufasa: The Lion King\n",
            "IMDb ID: tt13186482\n",
            "Number of reviews: 27669\n"
          ]
        },
        {
          "metadata": {
            "tags": null
          },
          "name": "stderr",
          "output_type": "stream",
          "text": [
            "Device set to use cpu\n"
          ]
        },
        {
          "metadata": {
            "tags": null
          },
          "name": "stdout",
          "output_type": "stream",
          "text": [
            "Contextual Summary: [{'summary_text': '\"Mufasa\" receives mixed reviews, with some praising its technical prowess and emotional depth, while others criticize its formulaic storytelling and lack of originality. While some find it enjoyable with Timon and Pumba\\'s appearance, others see it as a disappointing follow-up to \"The Lion King.\" Lin-Manuel Miranda\\'s performance shines, balancing confidence and coming-of-age fears with a strong character. Despite its flaws, the film remains a solid and enjoyable watch, even if it falls short of its potential. Overall, it\\'s a worthwhile watch for fans of the franchise and those willing to invest in its visuals and musical score, making it a standout in storytelling and storytelling. Ultimately, \"Mifaso\" is a compelling and enjoyable viewing experience, albeit one that may not be without flaw in the genre.'}]\n",
            "Processing movie: Moana 2\n",
            "IMDb ID: tt13622970\n",
            "Number of reviews: 22780\n"
          ]
        },
        {
          "metadata": {
            "tags": null
          },
          "name": "stderr",
          "output_type": "stream",
          "text": [
            "Device set to use cpu\n"
          ]
        },
        {
          "metadata": {
            "tags": null
          },
          "name": "stdout",
          "output_type": "stream",
          "text": [
            "Contextual Summary: [{'summary_text': '\"Moana 2\" offers a mixed bag of experiences, with some finding it predictable and lacking in originality. While it revisits familiar themes and beats, it delivers solid jokes and a delightful mid-credit scene. The film\\'s attempt to replicate the first film feels disjointed and meanders. Despite some memorable moments, it lacks originality, leaving fans unsatisfied. However, its cultural depth and uplifting message make it a must-watch for adults, especially those seeking self-help and community-building. Overall, it\\'s an enjoyable and engaging watch for those willing to wait until Disney+ to see how it performs in the coming weeks of December, despite its predictable plot and lack of creative risks in the first installments in its eventual release amidst some familiar tropes and plot-savvy storytelling in the sequels aplenty of characters and storylines. Regardless, its overall,'}]\n",
            "Processing movie: Carry-On\n",
            "IMDb ID: tt21382296\n",
            "Number of reviews: 15388\n"
          ]
        },
        {
          "metadata": {
            "tags": null
          },
          "name": "stderr",
          "output_type": "stream",
          "text": [
            "Device set to use cpu\n"
          ]
        },
        {
          "metadata": {
            "tags": null
          },
          "name": "stdout",
          "output_type": "stream",
          "text": [
            "Contextual Summary: [{'summary_text': '\"The Dark Knight Rises\" offers a mixed bag of reviews, with some praising Taron Egerton and Jason Bateman\\'s performances but others deeming it mediocre. While Taron Edgerton delivers a solid performance, his villain\\'s portrayal falls short, leaving viewers wanting more. Despite some interesting twists and wry humor, the film relies heavily on practical effects, offering engaging action sequences. While it may not deliver the realism expected from action movies, it\\'s a worthwhile watch if you\\'re willing to invest some time on it. Overall, the cast and cinematography make it an enjoyable watch, despite some flaws and eye rolling moments that detract from its potential impact on its overall impact on the overall impact of the overall experience and overall, making it a forgettable watch for those interested in action films like \"Die Hard\" and \"Poker.\"'}]\n",
            "Processing movie: Sonic the Hedgehog 3\n",
            "IMDb ID: tt18259086\n",
            "Number of reviews: 24347\n"
          ]
        },
        {
          "metadata": {
            "tags": null
          },
          "name": "stderr",
          "output_type": "stream",
          "text": [
            "Device set to use cpu\n"
          ]
        },
        {
          "metadata": {
            "tags": null
          },
          "name": "stdout",
          "output_type": "stream",
          "text": [
            "Contextual Summary: [{'summary_text': '\"Sonic the Hedgehog 3\" is a must-see for Sonic fans and/or for the family, with a fantastic soundtrack and Keanu Reeves\\'s performance as Sonic and Shadow. While some critics find it lacking in depth and dialogue, others praise its entertaining characters and comedy. Jim Carrey\\'s portrayal of Shadow and Sonic adds depth to the story, but the film\\'s plot may not reach cross generations audiences like \"Inside Out 2.\" Overall, it\\'s a pleasant viewing experience for kids and a thrilling ride through Sonic\\'s worlds, despite some flaws in dialogue and rockwell\\'s overall rating of 10/10 for the character\\'s voice performances and the overall overall, \" Sonic\" remains a fun and engaging experience for the whole family. \"S Sonic\" is an enjoyable and memorable experience for both the family and for the kids alike, even if it falls short of its potential.'}]\n",
            "Processing movie: Elevation\n",
            "IMDb ID: tt23558280\n",
            "Number of reviews: 18003\n"
          ]
        },
        {
          "metadata": {
            "tags": null
          },
          "name": "stderr",
          "output_type": "stream",
          "text": [
            "Device set to use cpu\n"
          ]
        },
        {
          "metadata": {
            "tags": null
          },
          "name": "stdout",
          "output_type": "stream",
          "text": [
            "Contextual Summary: [{'summary_text': '\"Elevation\" receives mixed reviews, with some praising its mix of cool parts and character development, while others find it underwhelming. Despite its flaws, the character cast and Maddie Hassin\\'s energy shine through, making it a worthwhile watch for fans of post-apocalyptic monster movies. While it may not reach the heights of its predecessor, \"A Quiet Place,\" it manages to tug at your heartstrings but falls short of its potential. Overall, it\\'s a decent portion of the film that delivers a satisfying viewing experience despite some slow burn and lackluster character development. Nonetheless, overall, it remains a mixed bag of monster movies with a potential for a sequel, even if it may fall short of achieving its potential amidst the rest of the genre. Ultimately, it falls far below its potential, leaving viewers wanting more from the overall experience.'}]\n",
            "Processing movie: The Price of Money: A Largo Winch Adventure\n",
            "IMDb ID: tt23049322\n",
            "Number of reviews: 3212\n"
          ]
        },
        {
          "metadata": {
            "tags": null
          },
          "name": "stderr",
          "output_type": "stream",
          "text": [
            "Device set to use cpu\n"
          ]
        },
        {
          "metadata": {
            "tags": null
          },
          "name": "stdout",
          "output_type": "stream",
          "text": [
            "Contextual Summary: [{'summary_text': '\"Largo Winch: The Cost of Money\" disappoints with its predictable action sequences and overhyped villains. Tomer Sisley\\'s portrayal of corporate Yamakasi feels aged, but the film\\'s execution feels recycled and spat out. James Franco\\'s villain feels more like a rejected Call of Duty DLC character, while the CGI effects feel microwaved. Despite its flaws, Sisley pulls his weight, but overall, it\\'s a lazy sequel that fails to deliver on its promise of action-packed thrills and clichés, leaving viewers wondering if the movie is a parody or a mishmash of 2000s action flick tropes. Ultimately, it falls short of its potential, resulting in a forgettable and forgettable experience that could have been a decade ago. Regardless of its shortcomings, it remains a satisfying watch for fans of the action genre.'}]\n",
            "Processing movie: Absolution\n",
            "IMDb ID: tt8337290\n",
            "Number of reviews: 20691\n"
          ]
        },
        {
          "metadata": {
            "tags": null
          },
          "name": "stderr",
          "output_type": "stream",
          "text": [
            "Device set to use cpu\n"
          ]
        },
        {
          "metadata": {
            "tags": null
          },
          "name": "stdout",
          "output_type": "stream",
          "text": [
            "Contextual Summary: [{'summary_text': '\"Absolution\" follows a former boxer turned low level enforcer working for local crime boss Charlie Connor (Ron Perlman). While Liam Neeson\\'s career has taken a different route, his portrayal of a seasoned tough guy falls short of his potential. Despite some predictable scenes and stale dialogue, the film offers a dark and well-told story, even if it feels like a waste of time for some. Nevertheless, it\\'s a good watch for fans of melodramas, especially for those with a unique taste in action movies. Ultimately, it may not be for everyone, but it may appeal to fans of Neesons\\'s fans who enjoy dark drama and dark action flicks with varying degrees of success in storytelling. Regardless of its overall rating, \"abbeeson\" remains a solid entry in the action genre, despite its lackluster performances and lackluster execution.'}]\n",
            "Processing movie: Dirty Angels\n",
            "IMDb ID: tt23872640\n",
            "Number of reviews: 23331\n"
          ]
        },
        {
          "metadata": {
            "tags": null
          },
          "name": "stderr",
          "output_type": "stream",
          "text": [
            "Device set to use cpu\n"
          ]
        },
        {
          "metadata": {
            "tags": null
          },
          "name": "stdout",
          "output_type": "stream",
          "text": [
            "Contextual Summary: [{'summary_text': '\"Dirty Angels\" receives mixed reviews, with some praising Eva Green\\'s performance but others deeming it a forgettable experience. Despite attempts at stylish cinematography, it\\'s undermined by unnecessary lens flares and gratuitous slow-motion shots, leaving viewers with a headache-inducing, amateurish feel. While the action is decent, the film\\'s lack of commitment to a tone and rushed action sequences leave it feeling less than engaging. Ruby Rose\\'s acting range is criticized for its lack of creativity, resulting in a dull ride that feels like a missed opportunity for viewers to engage with the characters\\' emotions and philosophical musings, ultimately leaving viewers wanting more. Overall, \"DIRTYANGS\" is a disappointing and ultimately disappointing viewing experience for those willing to invest in the genre for a matinee viewing experience rather than a memorable viewing experience.'}]\n",
            "Processing movie: Kraven the Hunter\n",
            "IMDb ID: tt8790086\n",
            "Number of reviews: 22224\n"
          ]
        },
        {
          "metadata": {
            "tags": null
          },
          "name": "stderr",
          "output_type": "stream",
          "text": [
            "Device set to use cpu\n"
          ]
        },
        {
          "metadata": {
            "tags": null
          },
          "name": "stdout",
          "output_type": "stream",
          "text": [
            "Contextual Summary: [{'summary_text': '\"Kraven the Hunter\" receives mixed reviews, with some praising its R rating and action sequences, while others criticize its lackluster adaptation of the source material. While Russel Crowe shines in his role, the film\\'s lack of depth and reliance on script flaws hinder its potential. Despite attempts at a sympathetic portrayal of Kraven, the script feels like it was written by a 5-year-old playing with Marvel toys. Ultimately, it\\'s a forgettable entry in the Marvel Universe, with few opportunities to explore the character\\'s origin story and lack of effort, leaving audiences disappointed in the overall viewing experience. Overall, it may not reach the heights of its potential, but overall, it falls short of delivering on its potential for a new character in a different genre in the near future, leaving viewers disappointed in its execution and overall impact on the overall experience. Regardless, it could lead to a disappointing and ultimately disappointing'}]\n",
            "Processing movie: Gladiator II\n",
            "IMDb ID: tt9218128\n",
            "Number of reviews: 19950\n"
          ]
        },
        {
          "metadata": {
            "tags": null
          },
          "name": "stderr",
          "output_type": "stream",
          "text": [
            "Device set to use cpu\n"
          ]
        },
        {
          "metadata": {
            "tags": null
          },
          "name": "stdout",
          "output_type": "stream",
          "text": [
            "Contextual Summary: [{'summary_text': '\"Gladiator 2\" receives mixed reviews, with some praising its grandeur and visuals, while others find it lacking in depth and depth. Paul Mescal\\'s portrayal felt generic and lacking gravitas, despite attempts to change things up from its predecessor. Despite some positive reviews, others see it as a waste of time and money, resulting in a film that falls short of the original\\'s potential. While some find it thrilling and exciting, others criticize its lack of coherence and lack of depth in character-relationships, making it a missed opportunity to rethinking its direction and focusing on its potential for a fresh take on Gladiator I. Overall, it\\'s a disappointing entry in the genre, even if it may not reach its full potential in the future adolescent cinematic experience amidst its flaws and potential for future sequels.'}]\n",
            "Processing movie: The Wild Robot\n",
            "IMDb ID: tt29623480\n",
            "Number of reviews: 37814\n"
          ]
        },
        {
          "metadata": {
            "tags": null
          },
          "name": "stderr",
          "output_type": "stream",
          "text": [
            "Device set to use cpu\n"
          ]
        },
        {
          "metadata": {
            "tags": null
          },
          "name": "stdout",
          "output_type": "stream",
          "text": [
            "Contextual Summary: [{'summary_text': '\"Brightbill\" is hailed as one of the greatest animated films in cinema history, praised for its adorable animation and infectious cooiness. Director Chris Sanders delivers a standout performance, especially in Brightbill, delivering universal themes and Schadenfreude humor. While some may find its familiar beats familiar, others appreciate its freshness and originality. Despite its low box office, the film\\'s relatable characters and relatable commentary made it a must-watch for fans of the medium and those with a love for animation. Overall, it\\'s a testament to the genius of animation and its impact on viewers of all ages, even if it falls short of being a classic in its own right. Regardless, \"The Wild Robot\" stands as a worthy contender for a cinematic experience for viewers with its enduring impact and lasting impact on audiences beyond mere mere cult classics like \"Kung Fu Panda\" and \"Teen'}]\n",
            "Processing movie: Heretic\n",
            "IMDb ID: tt28015403\n",
            "Number of reviews: 24452\n"
          ]
        },
        {
          "metadata": {
            "tags": null
          },
          "name": "stderr",
          "output_type": "stream",
          "text": [
            "Device set to use cpu\n"
          ]
        },
        {
          "metadata": {
            "tags": null
          },
          "name": "stdout",
          "output_type": "stream",
          "text": [
            "Contextual Summary: [{'summary_text': '\"Heretic\" by Hugh Grant delivers a chilling experience, blending theological debate with timeless themes. Despite its flaws, Grant\\'s portrayal draws viewers into Reed\\'s enigmatic character, weaving charm and menace. The film\\'s exploration of religious beliefs resonates long after the credits roll, making it a memorable addition to the \"elevated horror\" genre. While some criticize its reliance on cheap storytelling tricks, others appreciate its exploration of both sides of the coin, evoking a sense of dread and lingering memories of a lifetime of enduring fascination with religion and its impact on audiences. Overall, \"History of Religion\" stands as a noteworthy entry in the horror genre, offering a unique and thought-provoking exploration of the human condition and societal norms of religion and culture. Ultimately, \"Heritage\" remains a must-watch for horror fans everywhere.'}]\n",
            "Processing movie: Armor\n",
            "IMDb ID: tt29252358\n",
            "Number of reviews: 19804\n"
          ]
        },
        {
          "metadata": {
            "tags": null
          },
          "name": "stderr",
          "output_type": "stream",
          "text": [
            "Device set to use cpu\n"
          ]
        },
        {
          "metadata": {
            "tags": null
          },
          "name": "stdout",
          "output_type": "stream",
          "text": [
            "Contextual Summary: [{'summary_text': '\"Armor\" receives mixed reviews, with praise for Sylvester Stallone\\'s performance but criticism for its lackluster special effects and disjointed storytelling. While some find it entertaining, others criticize its amateurish pacing and lack of depth in the action sequences. Despite occasional moments of excitement, the film\\'s minimal use of CGI and uninspired dialogue make it a forgettable watch. Ultimately, it\\'s a disappointment for fans of the franchise, especially considering its lack of originality and lackluster visuals. Overall, it falls short of its potential, leaving viewers with a lasting impression on its overall impact on the overall viewing experience and overall perception of its shortcomings. Regardless, it remains a must-watch for those willing to invest in action movies. Nonetheless, it may not be a standout in the genre, but it may leave some viewers with mixed feelings about its overall quality and overall impact.'}]\n",
            "Processing movie: That Christmas\n",
            "IMDb ID: tt14855468\n",
            "Number of reviews: 24774\n"
          ]
        },
        {
          "metadata": {
            "tags": null
          },
          "name": "stderr",
          "output_type": "stream",
          "text": [
            "Device set to use cpu\n"
          ]
        },
        {
          "metadata": {
            "tags": null
          },
          "name": "stdout",
          "output_type": "stream",
          "text": [
            "Contextual Summary: [{'summary_text': '\"That Christmas\" is a charming holiday movie performed by capable actors, blending realistic animation with mature themes. While some find it preachy and lacking in real points of interest, others appreciate its fab cast and well-known voices. Richard Curtis\\'s animation style shines through, making it a one-time favorite for those planning on watching it for the holidays. Despite its mid-point, it\\'s a delightful family Christmas film that\\'s set to become an instant classic in years to come, offering a blend of charm and humor, despite some moments that feel dated and lacking meaning. Regardless, the film\\'s overall rating is highly recommend for those who appreciate its quirky charm and memorable characters and engaging storytelling. \"The Christmas Tree\" remains a must-watch for those seeking a classic holiday movie with a sense of nostalgia and a bit of nostalgia for older holiday classics and timeless classics alike, recommending it as a memorable and enjoyable watch.'}]\n",
            "Processing movie: My Fault\n",
            "IMDb ID: tt21909764\n",
            "Number of reviews: 15507\n"
          ]
        },
        {
          "metadata": {
            "tags": null
          },
          "name": "stderr",
          "output_type": "stream",
          "text": [
            "Device set to use cpu\n"
          ]
        },
        {
          "metadata": {
            "tags": null
          },
          "name": "stdout",
          "output_type": "stream",
          "text": [
            "Contextual Summary: [{'summary_text': '\"My Fault\" offers a familiar romantic comedy experience with familiar tropes and over-the-top action sequences. While some scenes feel sluggish and unrealistic, the chemistry between Noah and Nick keeps viewers engaged. Despite its flaws, the movie offers moments of enjoyment, especially for fans of romcoms like \"After.\" However, some critics find it unrealistic and lacking in originality, making it a forgettable watch if you\\'re into cringe-worthy cinema. Overall, it\\'s a classic teen love drama with a strong female lead and a troubled young couple who discovers their own secrets. Regardless, it may not be for everyone, offering a thrilling ride through a series of unforgettable characters and unforgettable characters. Ultimately, it might not be the perfect romantic comedy with its own unique twists and depth in storytelling and plot twists that may leave viewers wanting more from it.'}]\n",
            "Processing movie: The Substance\n",
            "IMDb ID: tt17526714\n",
            "Number of reviews: 23460\n"
          ]
        },
        {
          "metadata": {
            "tags": null
          },
          "name": "stderr",
          "output_type": "stream",
          "text": [
            "Device set to use cpu\n"
          ]
        },
        {
          "metadata": {
            "tags": null
          },
          "name": "stdout",
          "output_type": "stream",
          "text": [
            "Contextual Summary: [{'summary_text': '\"The Substance\" is hailed as a future cult classic, blending body/psychological horror with social commentary. Demi Moore delivers a standout performance, portraying a character grappling with age-related insecurities. Directed by David Cronenberg, it explores themes of fame, objectification, and obsession with unsettling visuals. With its homage to Kubrick and female-driven perspective, it\\'s a must-watch for fans of body horror and incisive social commentary, making it a timeless classic that resonates with audiences for years to come. Despite its flaws, the film remains a compelling and thought-provoking cinematic experience that will resonate with audiences long after its release in theaters in the fallout from other genres like \"Goodbye\" and \"Sunset Boulevard\" as well as \"The Thrilling depth and satire.'}]\n",
            "Processing movie: Deadpool & Wolverine\n",
            "IMDb ID: tt1431045\n",
            "Number of reviews: 32089\n"
          ]
        },
        {
          "metadata": {
            "tags": null
          },
          "name": "stderr",
          "output_type": "stream",
          "text": [
            "Device set to use cpu\n"
          ]
        },
        {
          "metadata": {
            "tags": null
          },
          "name": "stdout",
          "output_type": "stream",
          "text": [
            "Contextual Summary: [{'summary_text': '\"Deadpool\" receives mixed reviews, with some praising Ryan Reynolds\\' comedic prowess as the titular character. While some find it unconventional and lacking depth, others appreciate its humor and nudity scenes. Despite its flaws, it\\'s considered a future action movie classic, showcasing Deadpool\\'s happy persona and fight against cancer. However, some critics find it too gory and excessively violent, despite its mature subject matter. Nevertheless, it remains a pleasant surprise, praised for its adult humor and action scenes, making it a must-watch for fans of comic books and action movies alike, even if it falls short of its potential amidst its shortcomings and lackluster cinematic excellence. Ultimately, \"Dawn\" is a beloved classic that deserves recognition for its unique approach to action movies and a timeless classic that transcends genre conventions and tropes.'}]\n",
            "Processing movie: Terrifier 3\n",
            "IMDb ID: tt27911000\n",
            "Number of reviews: 33291\n"
          ]
        },
        {
          "metadata": {
            "tags": null
          },
          "name": "stderr",
          "output_type": "stream",
          "text": [
            "Device set to use cpu\n"
          ]
        },
        {
          "metadata": {
            "tags": null
          },
          "name": "stdout",
          "output_type": "stream",
          "text": [
            "Contextual Summary: [{'summary_text': '\"Terrifier 3\" receives mixed reviews, with praise for Art the Clown\\'s physicality but criticism for its lack of violence. Despite strong performances, especially from David Howard Thornton, the film\\'s over-the-top violence and realistic special effects gore make it a scarily good watch. Those who enjoy traditional slasher flicks with creative kills and satisfying performances may find it more interesting than \"Hostel.\" Ultimately, it\\'s a forgettable entry in the genre, despite its flaws and a lack of originality in storytelling and gore, leaving viewers disappointed with its lackluster performances and lackluster gore in the overall experience. Regardless, \"Terrifier 3\" remains a must-watch for gore fans and fans of traditional genre gore and sexy gore lovers alike alike, making it an icon of the era and its impact on audiences.'}]\n",
            "Processing movie: Watchmen: Chapter II\n",
            "IMDb ID: tt32627545\n",
            "Number of reviews: 12791\n"
          ]
        },
        {
          "metadata": {
            "tags": null
          },
          "name": "stderr",
          "output_type": "stream",
          "text": [
            "Device set to use cpu\n"
          ]
        },
        {
          "metadata": {
            "tags": null
          },
          "name": "stdout",
          "output_type": "stream",
          "text": [
            "Contextual Summary: [{'summary_text': '\"Watchmen: Chapter II\" (2024) picks up the old story seamlessly, blending standard animation with a good-enough plot. Character development is decent, though pacing hiccups occasionally detract from the overall experience. The voice acting is solid, though some scenes feel overbearing. Overall, it\\'s entertaining and broadens the Watchmen universe. While some may find it lacking in depth, others appreciate its exploration of moral dilemmas and action sequences, making it a worthwhile watch for fans of the comics and the rewrite of a great story. Despite its flaws, it remains a compelling and enjoyable watch, even if it falls short of rewriting and retelling a classic that\\'s a timeless classic. Regardless of whether or not, this 90-minute adaptation stands as a testament to the power of storytelling and storytelling in the 21st century.'}]\n",
            "Processing movie: Transformers One\n",
            "IMDb ID: tt8864596\n",
            "Number of reviews: 20132\n"
          ]
        },
        {
          "metadata": {
            "tags": null
          },
          "name": "stderr",
          "output_type": "stream",
          "text": [
            "Device set to use cpu\n"
          ]
        },
        {
          "metadata": {
            "tags": null
          },
          "name": "stdout",
          "output_type": "stream",
          "text": [
            "Contextual Summary: [{'summary_text': '\"Transformers One\" is a visually stunning relaunch of the Transformers franchise, showcasing strong characters, humor, and heart. While some find it simplistic and lacking in compelling storytelling, others appreciate its emotional depth and thematic depth. Directed by Josh Cooley, it features Chris Hemsworth (Thor), Scarlett Johansson (Bullet Train), Steve Buscemi (Boardwalk Empire), and Laurence Fishburne (The Matrix). Despite its flaws, it\\'s a must-watch for all Transformers fans, offering a fresh perspective on the franchise\\'s future direction and a fun action sequences. Despite some shortcomings, the film\\'s visuals and soundtrack make it a standout in the series, highlighting the potential for a sequel in the future. Ultimately, it may not reach the heights of Michael Bay\\'s predecessors.'}]\n",
            "Processing movie: Weekend in Taipei\n",
            "IMDb ID: tt28142896\n",
            "Number of reviews: 27717\n"
          ]
        },
        {
          "metadata": {
            "tags": null
          },
          "name": "stderr",
          "output_type": "stream",
          "text": [
            "Device set to use cpu\n"
          ]
        },
        {
          "metadata": {
            "tags": null
          },
          "name": "stdout",
          "output_type": "stream",
          "text": [
            "Contextual Summary: [{'summary_text': '\"Weekend in Taipei\" delivers fast-paced action with visually stimulating cinematography but falls short in plot and execution. Luc BESSON\\'s direction maintains a strong focus on French genre cinema, but the film\\'s reliance on familiar action tropes and long-winded moments may deter some viewers. While some find it entertaining and visually stimulating, others criticize its long fight scenes and lack of originality. George Huang\\'s comeback as a corrupt billionaire criminal mastermind may have been more successful if Luc Besson\\'s co-director had a bit more bite-sized role. Overall, \"Wonderful\" is a disappointing entry in action thrillers with a lingering sense of humor and suspenseful storytelling. Despite its flaws, it remains a must-watch for fans of classic action movies and adolescent action genres.'}]\n",
            "Processing movie: Apocalypse Z: The Beginning of the End\n",
            "IMDb ID: tt27599851\n",
            "Number of reviews: 18534\n"
          ]
        },
        {
          "metadata": {
            "tags": null
          },
          "name": "stderr",
          "output_type": "stream",
          "text": [
            "Device set to use cpu\n"
          ]
        },
        {
          "metadata": {
            "tags": null
          },
          "name": "stdout",
          "output_type": "stream",
          "text": [
            "Contextual Summary: [{'summary_text': '\"Apocalypse Z: El principio del fin\" delivers a pleasant surprise, delivering the stress of being alone in a zombie-filled situation. While the acting and special effects are decent, the film\\'s focus on Manel, portrayed by Francisco Ortiz, falls short of delivering much new to the genre. Despite some predictable moments, the movie maintains a fine balance of suspense and emotion, keeping viewers thoroughly entertained. While not surprising for fans of the genre, it\\'s praised for its portrayal of humanity\\'s youngest zombies, leaving a lasting impression on those who enjoy the genre\\'s long-term effects and emotional impact it has on viewers. Nevertheless, it may not be for everyone who enjoys the zombie genre, but for those who appreciate a good zombie movie with a deeper exploration of the fate of mankind and the future of mankind\\'s future.'}]\n",
            "Processing movie: Miraculous World, London: At the Edge of Time\n",
            "IMDb ID tidak ditemukan untuk film Miraculous World, London: At the Edge of Time\n",
            "Processing movie: Wicked\n",
            "IMDb ID: tt1262426\n",
            "Number of reviews: 27984\n"
          ]
        },
        {
          "metadata": {
            "tags": null
          },
          "name": "stderr",
          "output_type": "stream",
          "text": [
            "Device set to use cpu\n"
          ]
        },
        {
          "metadata": {
            "tags": null
          },
          "name": "stdout",
          "output_type": "stream",
          "text": [
            "Contextual Summary: [{'summary_text': '\"Glinda\" receives mixed reviews, with some praising Ariana Grande\\'s performance but others deeming it rushed and lacking depth. While Grande shines, the film\\'s themes of prejudicial anarchy, intolerance, and unconventional friendship fall flat. Despite positive reviews, some find it dated and lacking in substance, while others appreciate its potential but feel it missed the mark. Ultimately, it\\'s a mixed bag of criticisms, with Grande delivering moments of greatness but a lackluster performance and a dullness, making it a forgettable watch for fans of adversity and societal norms. Nonetheless, Grande and Jonathan Bailey\\'s portrayal standout performances stand out among the cast and director respectively, offering a fresh perspective on the film amidst its dated cult-cult classics like Alice in Wonderland-like visuals and enduring appeal.'}]\n",
            "Processing movie: Smile 2\n",
            "IMDb ID: tt29268110\n",
            "Number of reviews: 15122\n"
          ]
        },
        {
          "metadata": {
            "tags": null
          },
          "name": "stderr",
          "output_type": "stream",
          "text": [
            "Device set to use cpu\n"
          ]
        },
        {
          "metadata": {
            "tags": null
          },
          "name": "stdout",
          "output_type": "stream",
          "text": [
            "Contextual Summary: [{'summary_text': '\"Smile 2\" delivers tense entertainment with Rosemarie DeWitt\\'s performance, capturing her multifaceted personality with nuance. While the film lacks new information, it offers gripping entertainment and deep themes on pop star culture. Parker Finn\\'s debut film, \\'Smile\\', offers compelling visuals and atmospheric score, focusing more on psychological aspects. Despite its shortcomings, the sequel delivers gripping performances and captivates with its tension-filled premise. While some find it overrated, others appreciate its exploration of trauma and the toxic culture of pop stardom, making it a worthwhile watch for fans of horror and horror fans alike. Overall, it\\'s an improvement over its predecessor\\'s shortcomings, offering endless possibilities in terms of storytelling and storytelling. Ultimately, it remains a must-watch for horror lovers and fans of pop culture enthusiasts alike alike, despite its flaws and a lackluster cinematic experience.'}]\n",
            "Processing movie: Sidelined: The QB and Me\n",
            "IMDb ID: tt19704542\n",
            "Number of reviews: 17029\n"
          ]
        },
        {
          "metadata": {
            "tags": null
          },
          "name": "stderr",
          "output_type": "stream",
          "text": [
            "Device set to use cpu\n"
          ]
        },
        {
          "metadata": {
            "tags": null
          },
          "name": "stdout",
          "output_type": "stream",
          "text": [
            "Contextual Summary: [{'summary_text': '\"Lowkey\" offers a mixed bag of emotions, with some finding it emotionally resonant and others praising its portrayal of friendships, balance, and family. While it may not break new ground in the genre, it\\'s a great watch for fans of cliche movies and those who enjoy making fun of romcom clichés. Despite its flaws, the film draws viewers into a richly crafted world with breathtaking visuals and an evocative score, leaving audiences smiling, crying, and applauding long after the credits roll, making it a truly unforgettable experience that will leave audiences smiling and crying long after credits roll despite its lackluster acting and sloppiness in its plot. Ultimately, \"Woody\" is a must-watch for those who appreciate its melodrama and rompiness, but it falls short of its potential, leaving viewers wanting more from it.'}]\n",
            "Processing movie: Alien: Romulus\n",
            "IMDb ID: tt18412256\n",
            "Number of reviews: 26843\n"
          ]
        },
        {
          "metadata": {
            "tags": null
          },
          "name": "stderr",
          "output_type": "stream",
          "text": [
            "Device set to use cpu\n"
          ]
        },
        {
          "metadata": {
            "tags": null
          },
          "name": "stdout",
          "output_type": "stream",
          "text": [
            "Contextual Summary: [{'summary_text': '\"Alien: Romulus\" receives mixed reviews, with some praising its subtlety and not-so-subtle elements, while others find it forgettable and lacking in originality. While some appreciate its homage to Ridley Scott\\'s original, others feel it lacks the humour of its predecessors. However, others appreciate its strong performances, particularly from Cailee Spaeny and Isabela Merced. The film\\'s use of sound effects and CGI adds depth to its overall experience, though some criticize its lack of originality and lack of authenticity. Overall, it\\'s a bloody good entry in the \\'Alien/s\\' franchise, even if it falls short of its potential for a more original take on the franchise\\'s impact on the genre\\'s potential for originality in some ways. Despite its flaws, it remains a worthy contender in the genre.'}]\n",
            "Processing movie: Despicable Me 4\n",
            "IMDb ID: tt7510222\n",
            "Number of reviews: 31824\n"
          ]
        },
        {
          "metadata": {
            "tags": null
          },
          "name": "stderr",
          "output_type": "stream",
          "text": [
            "Device set to use cpu\n"
          ]
        },
        {
          "metadata": {
            "tags": null
          },
          "name": "stdout",
          "output_type": "stream",
          "text": [
            "Contextual Summary: [{'summary_text': '\"Despicable Me 4 (2024)\" receives mixed reviews, with some praising its variety of characters and humor, while others find it played out. Despite Steve Carell\\'s voice acting, the film\\'s wacky humor and action sequences keep viewers entertained. While it may appeal to younger audiences, its focus on younger characters and the Minions adds depth to the franchise. However, it falls short of delivering the requisite entertainment value, leaving viewers with a mixed impression of its overall experience. Overall, it\\'s an entertaining addition to the series, though some find it lacking the depth of the previous installments. Pierre Coffin\\'s performance adds to the overall experience, making it a must-watch for fans of the franchise and those who enjoy the spectacle it provides. Regardless, it may not be a memorable addition to this franchise. Ultimately, it remains a worthwhile watch for those who appreciate'}]\n",
            "Processing movie: Inside Out 2\n",
            "IMDb ID: tt22022452\n",
            "Number of reviews: 24916\n"
          ]
        },
        {
          "metadata": {
            "tags": null
          },
          "name": "stderr",
          "output_type": "stream",
          "text": [
            "Device set to use cpu\n"
          ]
        },
        {
          "metadata": {
            "tags": null
          },
          "name": "stdout",
          "output_type": "stream",
          "text": [
            "Contextual Summary: [{'summary_text': '\"Inside Out 2\" is a heartwarming sequel from Pixar, focusing on Riley\\'s journey into her teenage years. While it may not reach groundbreaking heights, the film offers a fresh perspective on growing up. It introduces new emotions, each with their own unique personalities and quirks. While some find it relatable and educational, others find it depressing and lacking in educational content. Overall, it\\'s a must-watch for teens and young adults, especially if you\\'re a Teenager. Despite its shortcomings, it remains a delightful and emotional sequel that focuses on resilience and resilience in the face of societal norms in order to reach its full potential a new level of emotional impact it can have on adults. Regardless of its flaws, it still stands as a standout in the genre\\'s genre-spanning reach. and a positive sequel that resonates with adults and adults alike.'}]\n",
            "Processing movie: Culpa tuya\n",
            "IMDb ID tidak ditemukan untuk film Culpa tuya\n",
            "Processing movie: How the Grinch Stole Christmas\n",
            "IMDb ID: tt0170016\n",
            "Number of reviews: 20917\n"
          ]
        },
        {
          "metadata": {
            "tags": null
          },
          "name": "stderr",
          "output_type": "stream",
          "text": [
            "Device set to use cpu\n"
          ]
        },
        {
          "metadata": {
            "tags": null
          },
          "name": "stdout",
          "output_type": "stream",
          "text": [
            "Contextual Summary: [{'summary_text': '\"How the Grinch Stole Christmas\" receives mixed reviews, with praise for Taylor Momsen\\'s portrayal of Cindy Lou Who, but criticism for its overstuffed fantasy and Carrey\\'s lack of restraint. While some find it entertaining and enjoyable, others criticize its overly long runtime and lack of impact on the film. Despite its flaws, the film offers moments of comedy and humor, especially in its portrayals of the iconic character. Ultimately, it\\'s a forgettable attempt at reimagining a classic character like \"The Grinch\" for a big budget remake without a memorable character like this. Overall, it falls short of its potential, leaving viewers with mixed feelings about its lack of originality and the film\\'s overall impact on viewers. Regardless, it may not be a worthwhile watch for fans of the classic characters like \"Cat in the Hat\" or other classic tropes like \"Cindy Lou.\"'}]\n",
            "Processing movie: Arcadian\n",
            "IMDb ID: tt22939186\n",
            "Number of reviews: 17353\n"
          ]
        },
        {
          "metadata": {
            "tags": null
          },
          "name": "stderr",
          "output_type": "stream",
          "text": [
            "Device set to use cpu\n"
          ]
        },
        {
          "metadata": {
            "tags": null
          },
          "name": "stdout",
          "output_type": "stream",
          "text": [
            "Contextual Summary: [{'summary_text': '\"Apocalyptic Monster\" offers a unique blend of horror and horror, featuring Nic Cage as the lead. Director Benjamin Brewer cleverly crafts a creature-feature with a mix of dialogue, believable characters, and creative enemy design. While some may find it similar to \"A Quiet Place,\" Cage\\'s presence adds depth to the story, making it a standout in the genre. Despite its similarities to \"28 Days Later,\" it\\'s hailed as one of the best and exciting horror movies of the year, praised for its bleak settings and disgusting creatures amidst its similar monster-themed filmmaking style. Overall, it may not be a bad watch, but its overall rating makes it an entertaining watch for fans of adolescent horror films like \"The Monster\" and \"The Animated crime fiction genres like \"Bitterfall\" as well as \"Filmfall\\'s horror genre genre genre cinema.'}]\n",
            "Processing movie: GTMAX\n",
            "IMDb ID: tt29260436\n",
            "Number of reviews: 5995\n"
          ]
        },
        {
          "metadata": {
            "tags": null
          },
          "name": "stderr",
          "output_type": "stream",
          "text": [
            "Device set to use cpu\n"
          ]
        },
        {
          "metadata": {
            "tags": null
          },
          "name": "stdout",
          "output_type": "stream",
          "text": [
            "Contextual Summary: [{'summary_text': '\"GTMax\" offers a solid action B movie despite its predictable plot and bland characters. While some find it decent, others find it predictable and lacking depth. The film\\'s visual effects were subpar, and the characters lacked depth. Despite some moments of creativity, it\\'s a missed opportunity and not worth the time. Nevertheless, \"Everything is fine\" is a decent motocycle action movie that blends action-packed , motorbike pursuits , shootouts, rip roaring , and violence, making it a must-watch for fans of action movies and motocycling enthusiasts alike, but others view it as a miss opportunity and may not be worth a chance to catch up to its potential adversity in genres like \"Balle Perdue 1\" and \"GT Max\" in the genre. Overall, it offers an entertaining and thought-provoking ride.'}]\n",
            "Processing movie: Scream 4\n",
            "IMDb ID: tt1262416\n",
            "Number of reviews: 30329\n"
          ]
        },
        {
          "metadata": {
            "tags": null
          },
          "name": "stderr",
          "output_type": "stream",
          "text": [
            "Device set to use cpu\n"
          ]
        },
        {
          "metadata": {
            "tags": null
          },
          "name": "stdout",
          "output_type": "stream",
          "text": [
            "Contextual Summary: [{'summary_text': '\"Scream 4\" presents a unique take on the classic slasher genre, blending self-aware humor with self-mocking humor. While some parts feel unrealistic, the film delivers genuine scares and laughs, especially for genre-savvy horror fans. Director Wes Craven\\'s decision to re-create the series felt justified, especially with new twists and a large body count. Despite its predictability, the movie\\'s hilarious execution and hilarious moments make it a standout in the genre, even if it falls short of the original\\'s reincarnation. Ultimately, it\\'s an enjoyable watch for fans of the genre and those willing to embrace the genre\\'s laughs and silly fun in its own unique twists, resulting in a memorable and memorable viewing experience worth watching. Regardless of whether or not, \"scream\" fans will appreciate its hilarious and ridiculous fun moments and memorable storytelling.'}]\n",
            "Processing movie: Anora\n",
            "IMDb ID: tt28607951\n",
            "Number of reviews: 26700\n"
          ]
        },
        {
          "metadata": {
            "tags": null
          },
          "name": "stderr",
          "output_type": "stream",
          "text": [
            "Device set to use cpu\n"
          ]
        },
        {
          "metadata": {
            "tags": null
          },
          "name": "stdout",
          "output_type": "stream",
          "text": [
            "Contextual Summary: [{'summary_text': '\"ANORA\" offers a compelling portrayal of a Uzbek-American stripper mixed up with a Russian oligarch\\'s son, Anora, despite its lengthy runtime. Mark Eidelshtein delivers a standout performance, delivering a fiery performance alongside Yura Borisov. While some may question its moral compass, the film offers insight into the motivations of men and women. Sean Baker\\'s direction manages to create tension and tension throughout, making it a worthwhile watch for fans of sex work and the escort girl\\'s journey. Overall, it\\'s a fun, if somewhat predictable, exploration of sexuality and sexuality in the midst of its own. Despite occasional pacing issues, it remains a thought-provoking exploration of masculinity and masculinity in a different kind of cinematic experience.'}]\n",
            "Processing movie: SDI: Secret Department of Intervention\n",
            "IMDb ID tidak ditemukan untuk film SDI: Secret Department of Intervention\n",
            "Processing movie: Levels\n",
            "IMDb ID: tt10831486\n",
            "Number of reviews: 14011\n"
          ]
        },
        {
          "metadata": {
            "tags": null
          },
          "name": "stderr",
          "output_type": "stream",
          "text": [
            "Device set to use cpu\n"
          ]
        },
        {
          "metadata": {
            "tags": null
          },
          "name": "stdout",
          "output_type": "stream",
          "text": [
            "Contextual Summary: [{'summary_text': '\"The Expanse\" receives mixed reviews, with praise for Cara Gee\\'s performance and David Hewlett\\'s perfomance but criticism for its reliance on familiar tropes and pacing issues. While some find it visually appealing, others appreciate its exploration of philosophical debates. Despite its flaws, it offers a decent science fiction romance with solid production values and Amanda Tapping\\'s voice. While it may not reach the heights of other films, it\\'s a triumph in Science Fiction, with outstanding cast and a stellar showcasing of an idea yet to be put into a cinematic endeavor. Overall, it represents a promising entry in the sci-fi genre, albeit one that falls short of reaching the height of its rivals like \"Stargate Atlantis\" and \"The Next Generation.\" Despite criticisms, \"It may not fully reach its potential, but it may reach its full potential.'}]\n",
            "Processing movie: Arena Wars\n",
            "IMDb ID: tt14132588\n",
            "Number of reviews: 17513\n"
          ]
        },
        {
          "metadata": {
            "tags": null
          },
          "name": "stderr",
          "output_type": "stream",
          "text": [
            "Device set to use cpu\n"
          ]
        },
        {
          "metadata": {
            "tags": null
          },
          "name": "stdout",
          "output_type": "stream",
          "text": [
            "Contextual Summary: [{'summary_text': '\"Arena Wars\" receives mixed reviews, with some praising its action sequences and Luke Bender\\'s performance but others find it lacking in depth. Michael Madsen and Eric Roberts deliver strong performances, especially in the lead role. While some find it ambitious and hits its aims, others criticize its overexaggerated sound effects and lack of emotional depth. Directed by Brandon Slagle, it\\'s a cracking fight film with gruesome kills and the best bad guy death I\\'ve seen in years. Overall, it deserves credit for a crowdfunded production like Mahal Productions\\'s blockbuster thriller with some questionable performances, even if it falls short of its potential, according to some critics of its execution and overall, it fails to deliver on its promises with a lackluster execution and lackluster performances, making it a forgettable entry in the action genre like \"Total Recall.\"'}]\n",
            "Processing movie: Azrael\n",
            "IMDb ID: tt22173666\n",
            "Number of reviews: 27448\n"
          ]
        },
        {
          "metadata": {
            "tags": null
          },
          "name": "stderr",
          "output_type": "stream",
          "text": [
            "Device set to use cpu\n"
          ]
        },
        {
          "metadata": {
            "tags": null
          },
          "name": "stdout",
          "output_type": "stream",
          "text": [
            "Contextual Summary: [{'summary_text': '\"A Quiet Place\" struggles to find its footing, criticized for its lack of clarity and lack of communication between the characters. While it showcases Samara Weaving\\'s presence, the film lacks clarity until the very last scene. The chase scenes are well done, but the characters communicate through whistling and heavy breathing. Despite attempts at menacing rituals, they look more like regrettable fetish outfits than scary. Ultimately, it falls short of being a classic horror film, leaving viewers with a sense of disappointment and hope for Weave\\'s recovery. Overall, it\\'s a disappointing attempt at a lesser-known horror genre, albeit one that fails to capture the essence of the storyline and the characters\\' emotions well-wishes and cult-like characters\\' voices. Regardless of its flaws, it remains a compelling and thought-provoking experience than the original.'}]\n",
            "Processing movie: Home Alone 2: Lost in New York\n",
            "IMDb ID: tt0104431\n",
            "Number of reviews: 26633\n"
          ]
        },
        {
          "metadata": {
            "tags": null
          },
          "name": "stderr",
          "output_type": "stream",
          "text": [
            "Device set to use cpu\n"
          ]
        },
        {
          "metadata": {
            "tags": null
          },
          "name": "stdout",
          "output_type": "stream",
          "text": [
            "Contextual Summary: [{'summary_text': '\"Home Alone 2: Lost in New York\" by Chris Colombus features a strong cast including Macaulay Culkin, Daniel Stern, Joe Pesci, Tim Curry, and Catherine O\\'Hara. While the plot may feel contrived, the sequel delivers funny gags, genuine laughs, and amusement. With a playful soundtrack and reminiscent of Golden Age Hollywood, it\\'s a seasonal classic that\\'s sure to resonate with families at Yule time. While some may find its cleverness and rebelliousness acceptable, others may find it a fun and memorable addition to the film\\'s memorable moments. Overall, \"LOST IN NEW YORK\" remains a lasting classic that will resonate with family and friends at Christmas time in the years to come. Despite its flaws, it remains an enjoyable and memorable sequel that will linger long after the credits roll a follow-up.'}]\n",
            "Processing movie: Sikandar Ka Muqaddar\n",
            "IMDb ID: tt31522415\n",
            "Number of reviews: 27067\n"
          ]
        },
        {
          "metadata": {
            "tags": null
          },
          "name": "stderr",
          "output_type": "stream",
          "text": [
            "Device set to use cpu\n"
          ]
        },
        {
          "metadata": {
            "tags": null
          },
          "name": "stdout",
          "output_type": "stream",
          "text": [
            "Contextual Summary: [{'summary_text': '\"Sikandar Ka Muqaddar (2024)\" by Neeraj Pandey fails to deliver on its promise of suspense and pacing, with unnecessary subplots and an overabundance of characters. While the performances are good, the narrative lacks coherence and fails to fully engage audience. Despite a strong script and Jimmy Shergil\\'s mature performance, the movie\\'s climax is difficult to predict, leaving viewers with a sense of disappointment. Overall, it\\'s not a worthwhile watch for those who enjoy mindbending thrillers with unexpected turns at every end, resulting in a forgettable and forgettable viewing experience, especially if you\\'re a fan of mindbending tales and thrills. Ultimately, it falls short of delivering a satisfying cinematic experience, leaving audiences wanting more from this disappointing cinematic endeavors, leaving a lasting impression.'}]\n",
            "Processing movie: The Lion King\n",
            "IMDb ID: tt0110357\n",
            "Number of reviews: 25650\n"
          ]
        },
        {
          "metadata": {
            "tags": null
          },
          "name": "stderr",
          "output_type": "stream",
          "text": [
            "Device set to use cpu\n"
          ]
        },
        {
          "metadata": {
            "tags": null
          },
          "name": "stdout",
          "output_type": "stream",
          "text": [
            "Contextual Summary: [{'summary_text': '\"Circle of Life\" is a delectable animated feature from Walt Disney Pictures, featuring James Earl Jones, Jeremy Irons, and Whoopi Goldberg. The film\\'s epic plot, intriguing characters, and hillarious moments make it a family classic that will endure through the ages. Cheech Marin, whoopi goldberg, and Jim Cummings had good chemistry, even if they didn\\'t have much screen time. The music by Hans Zimmer is outstanding, blending African chants with pure Hollywood, making it spirit rousing and a memorable viewing experience for both adults and children. Despite occasional hit and miss characters, the film remains a beloved family classic, enduring through the generations. Ultimately, it\\'s a timeless classic that\\'s sure to captivate audiences with its spirit-rousing performances and powerful performances. Regardless of who you may not be a fan of this cult classic,'}]\n",
            "Processing movie: Survive\n",
            "IMDb ID: tt11041046\n",
            "Number of reviews: 8656\n"
          ]
        },
        {
          "metadata": {
            "tags": null
          },
          "name": "stderr",
          "output_type": "stream",
          "text": [
            "Device set to use cpu\n"
          ]
        },
        {
          "metadata": {
            "tags": null
          },
          "name": "stdout",
          "output_type": "stream",
          "text": [
            "Contextual Summary: [{'summary_text': '\"Survive\" offers a mixed bag of reviews, praised for its focus on plane crash survivors but criticized for its inconsistencies. While some find it entertaining and entertaining, others criticize its cutscenes and lack of depth. Despite its flaws, the show\\'s commitment to storytelling and a solid cast keeps viewers on the edge of their seats, even if it occasionally feels like a television series. Overall, it\\'s a good series, though it may not resonate with everyone\\'s taste for teen content. Overall though, it falls short of its potential, making it a worthwhile watch for those who appreciate its solid storytelling and commitment to a new network. Regardless, it may be a promising start for the future of quibi\\'s future endeavors in the coming years. Ultimately, it might not reach its full potential, but overall, it could reach its potential in the near-term.'}]\n",
            "Processing movie: Solo Leveling -ReAwakening-\n",
            "IMDb ID: tt33428606\n",
            "Number of reviews: 12296\n"
          ]
        },
        {
          "metadata": {
            "tags": null
          },
          "name": "stderr",
          "output_type": "stream",
          "text": [
            "Device set to use cpu\n"
          ]
        },
        {
          "metadata": {
            "tags": null
          },
          "name": "stdout",
          "output_type": "stream",
          "text": [
            "Contextual Summary: [{'summary_text': '\"Solo Leveling\" offers an incredible journey from season 1 to the top, blending teen drama with angst. While it may appeal to younger viewers with its light exposition and impressive voice cast, it falls short of delivering a complete recap. Despite its flaws, it\\'s an excellent watch for fans of the series, especially for those new to the series. However, its focus on character development feels rushed and the plot lacks depth, making it a forgettable watch for those over 30s. Overall, \"Solidarity\" is a solid entry in the franchise, but it fails to deliver on its promise of a parallel storyline and a standalone movie with little more than a stepping stone to a deeper dive into the series\\'s broader picture. Regardless, it remains a compelling and thought-provoking exploration of human nature and the complexities of the storyline amidst its shortcomings.'}]\n",
            "Processing movie: Tuhog\n",
            "IMDb ID: tt3044782\n",
            "Number of reviews: 4679\n"
          ]
        },
        {
          "metadata": {
            "tags": null
          },
          "name": "stderr",
          "output_type": "stream",
          "text": [
            "Device set to use cpu\n"
          ]
        },
        {
          "metadata": {
            "tags": null
          },
          "name": "stdout",
          "output_type": "stream",
          "text": [
            "Contextual Summary: [{'summary_text': '\"Tuhog\" follows the tragic events of a major bus accident along Commonwealth Avenue, showcasing the lives of three victims. Leo Martinez shines in his comedic role, balancing humor with deep emotional depth. Fiesta (Enchong Dee) navigates a complicated relationship with her alcoholic father, despite occasional tonal shifts. While the film\\'s unconventional approach may not appeal to all audiences, its blend of humor and heartfelt storytelling adds depth to its narrative. Overall, it\\'s an enjoyable and thought-provoking cinematic experience that captivates with both a wide variety of genres with its unique blend of charm and poignant portrayal of life\\'s complexities, making it a must-watch for cinephiles who appreciate films that explore the complexities of life with wit and sensitivity apprehensions and societal societal issues it touches on. .'}]\n",
            "Processing movie: The Grinch\n",
            "IMDb ID: tt2709692\n",
            "Number of reviews: 21817\n"
          ]
        },
        {
          "metadata": {
            "tags": null
          },
          "name": "stderr",
          "output_type": "stream",
          "text": [
            "Device set to use cpu\n"
          ]
        },
        {
          "metadata": {
            "tags": null
          },
          "name": "stdout",
          "output_type": "stream",
          "text": [
            "Contextual Summary: [{'summary_text': '\"The Grinch\" receives mixed reviews, with some praising Benedict Cumberbatch\\'s portrayal of Grinch but criticized for its stretch out storyline and lack of originality. While some find it cute and fun, others feel it\\'s a forgettable adaptation of the classic cartoon. Despite some clever bits, the movie\\'s animation and the idea of a Santa Claus impersonator make it a fun and feel-good animated experience, even if it doesn\\'t reach the heights of its predecessors like \"Dr Seuss\" and \"Grinch\" remains a favorite among fans of the original. Ultimately, it may not reach the top of the animated genre, but it may appeal to some audiences who don\\'t like modern grinchy movies. Regardless, it\\'ll stand out in the animated classics for years to come, resulting in a memorable and enjoyable viewing experience worth watching.'}]\n",
            "Processing movie: We Live in Time\n",
            "IMDb ID: tt27131358\n",
            "Number of reviews: 22906\n"
          ]
        },
        {
          "metadata": {
            "tags": null
          },
          "name": "stderr",
          "output_type": "stream",
          "text": [
            "Device set to use cpu\n"
          ]
        },
        {
          "metadata": {
            "tags": null
          },
          "name": "stdout",
          "output_type": "stream",
          "text": [
            "Contextual Summary: [{'summary_text': '\"We Live in Time (2024)\" presents a simple romance story with strong performances from Andrew Garfield and Florence Pugh. While the back-and-forth timeline leaves an incomplete emotional journey, the film captures their raw performances. Despite its unpromising beginning, the pair develop a long-term relationship. While some find it disjointed, others appreciate its touching exploration of time and the struggles people face daily. Overall, it\\'s a poignant exploration of self-discovery, resonating with moments of quiet intimacy and heart-wrenching clarity. Garfield\\'s portrayal adds depth to the film, making it a must-watch for those seeking emotional depth and depth in a film that explores the complexities of living fully in time and a unique perspective on life\\'s challenges. Ultimately, it may not be groundbreaking, but it may leave a lasting impact on viewers.'}]\n",
            "Processing movie: Classified\n",
            "IMDb ID: tt27714840\n",
            "Number of reviews: 13859\n"
          ]
        },
        {
          "metadata": {
            "tags": null
          },
          "name": "stderr",
          "output_type": "stream",
          "text": [
            "Device set to use cpu\n"
          ]
        },
        {
          "metadata": {
            "tags": null
          },
          "name": "stdout",
          "output_type": "stream",
          "text": [
            "Contextual Summary: [{'summary_text': '\"Classified\" receives mixed reviews, with praise for Tim Roth\\'s performance but criticism for its lackluster action scenes. While some find it entertaining with twists and turns, others criticize its slow-motion plot and unrealistic action sequences. Aaron Eckhart\\'s portrayal of a hitman is praised, but the film\\'s pacing feels lethargic and the GPS tracking of the hitman\\'s movements isn\\'t explained. Despite its flaws, the film remains a forgettable addition to the action genre, even if it\\'s still a decent watch for fans of action flicks with a bad writing. Ultimately, it may be a missed opportunity for Eckhart to shine in action movies with better performances, but overall, it falls short of delivering a satisfying viewing experience if not a memorable one. Regardless of its shortcomings, watch it now and see it as a disappointment for those who appreciate it.'}]\n",
            "Processing movie: The Count of Monte Cristo\n",
            "IMDb ID: tt0245844\n",
            "Number of reviews: 38247\n"
          ]
        },
        {
          "metadata": {
            "tags": null
          },
          "name": "stderr",
          "output_type": "stream",
          "text": [
            "Device set to use cpu\n"
          ]
        },
        {
          "metadata": {
            "tags": null
          },
          "name": "stdout",
          "output_type": "stream",
          "text": [
            "Contextual Summary: [{'summary_text': '\"The Count of Monte Cristo,\" portrayed by Jim Caviezel, offers a riveting portrayal of Edmund Dantes, imprisoned on the island of Château d\\'If for 18 years, plots revenge against those who wronged him. While some criticize its suspense and lack of detail, the film\\'s portrayal and performances elevate it to a standout in the genre, showcasing Harris\\'s charisma and performance as Dantes. Despite its flaws, it\\'s a well-made and enjoyable retelling of the story, highlighting Dantes\\'s determination to return to his friends and seek revenge on those who betrayed him. Ultimately, it leaves a lasting impression as a compelling and thought-provoking cinematic experience that stands out in its genre for its enduring impact on the genre\\'s future endeavors. Regardless of its shortcomings, it remains a must-watch for fans of realism and action-packed performances.'}]\n",
            "Processing movie: Spellbound\n",
            "IMDb ID: tt0038109\n",
            "Number of reviews: 21994\n"
          ]
        },
        {
          "metadata": {
            "tags": null
          },
          "name": "stderr",
          "output_type": "stream",
          "text": [
            "Device set to use cpu\n"
          ]
        },
        {
          "metadata": {
            "tags": null
          },
          "name": "stdout",
          "output_type": "stream",
          "text": [
            "Contextual Summary: [{'summary_text': '\"Spellbound\" offers a mix of thriller, suspense, romance, and psychoanalysis, anchored by Ingrid Bergman and Gregory Peck. While it may not reach the heights of Hitchcock\\'s earlier films, it still captivates with its witty dialogue and attractive supporting cast. Despite its dated nature, the film\\'s exploration of paranoia and amnesiac impostor Dr. Edwardes\\'s reincarnation adds depth to the narrative, making it a must-watch for modern audiences, even if it falls short of the enduring legacy of his earlier films. Nevertheless, \"Petersburgh\" remains a compelling and thought-provoking exploration of psychoanalysis and adolescent era-appropriate cinematic tradition. Nonetheless, it\\'s not without its flaws, offering a fresh perspective on the era\\'s cinematic traditions.'}]\n",
            "Processing movie: Sonic the Hedgehog 2\n",
            "IMDb ID: tt12412888\n",
            "Number of reviews: 18974\n"
          ]
        },
        {
          "metadata": {
            "tags": null
          },
          "name": "stderr",
          "output_type": "stream",
          "text": [
            "Device set to use cpu\n"
          ]
        },
        {
          "metadata": {
            "tags": null
          },
          "name": "stdout",
          "output_type": "stream",
          "text": [
            "Contextual Summary: [{'summary_text': '\"Sonic 2\" receives mixed reviews, with some praising its action sequences and Jim Carrey\\'s portrayal of Sonic, but others find it lacking in depth and humor. While some find it fun and funny, others feel it falls short of the original, lacking the depth needed to stand out. Despite some strong performances, especially from Ben Schwartz and Colleen O\\'Shaughnessy, the film\\'s focus on the classic Sonic games feels off-putting. Overall, it\\'s a fun watch, even if not a fan of Sonic fans will find it disappointingly lacking in originality and originality, making it a forgettable addition to the franchise. Regardless, it may not be a compelling watch for Sonic fans. Ultimately, it could stand to gain momentum with a sequel, albeit with some flaws and a strong contender in Sonic\\'s quest for a new ally and villain.'}]\n",
            "Processing movie: Dear Santa\n",
            "IMDb ID: tt1893218\n",
            "Number of reviews: 17859\n"
          ]
        },
        {
          "metadata": {
            "tags": null
          },
          "name": "stderr",
          "output_type": "stream",
          "text": [
            "Device set to use cpu\n"
          ]
        },
        {
          "metadata": {
            "tags": null
          },
          "name": "stdout",
          "output_type": "stream",
          "text": [
            "Contextual Summary: [{'summary_text': '\"Dear Santa\" offers a decent portrayal of homeless man David Hayden-Jones, played by Amy Acker. While some criticize its heavy-handedness, others appreciate its growth and chemistry between the lead character and Amy\\'s performance. Despite its flaws, the film\\'s energetic rhythmic music and flashbacks to 80s romantic comedies make it enjoyable for young viewers. While it may not be suitable for children, it\\'s an entertaining romantic comedy with moments of cohesion and emotional depth, reminiscent of TV movie holiday films and melodramatic comedies with little or no loss of coherence or fidelity. Though not groundbreaking, the cast and Amy Adams\\'s performances make it a standout in the romantic genre, making it an enjoyable watch for adults and for older audiences alike. Ultimately, it remains a worthwhile watch for those interested in adolescent romance and coming of age movies.'}]\n",
            "Processing movie: Subservience\n",
            "IMDb ID: tt24871974\n",
            "Number of reviews: 15266\n"
          ]
        },
        {
          "metadata": {
            "tags": null
          },
          "name": "stderr",
          "output_type": "stream",
          "text": [
            "Device set to use cpu\n"
          ]
        },
        {
          "metadata": {
            "tags": null
          },
          "name": "stdout",
          "output_type": "stream",
          "text": [
            "Contextual Summary: [{'summary_text': '\"Subservience (2024)\" receives mixed reviews, with some praising Megan Fox\\'s performance but others deeming it a M3GAN ripoff. Despite its flaws, it tackles themes of AI-driven labor replacement and fractured human connections. While some find it entertaining and provocative, others see it as a tame and almost sanitized horror movie that falls short of delivering the edge-of-your-seat thriller it aims for. Overall, it\\'s a decent sci-fi riff on automation and human connections, but it falls short in delivering on its potential and addressing its shortcomings with a lack of depth and depth. Ultimately, it may not reach its full potential, but its shortcomings may detracting from its potential realism and focusing on the complexities of human connections and the future of human connection versus robots.'}]\n",
            "Processing movie: Pídeme lo que quieras\n",
            "IMDb ID: tt31723358\n",
            "Number of reviews: 0\n"
          ]
        },
        {
          "metadata": {
            "tags": null
          },
          "name": "stderr",
          "output_type": "stream",
          "text": [
            "Device set to use cpu\n",
            "Your max_length is set to 300, but your input_length is only 3. Since this is a summarization task, where outputs shorter than the input are typically wanted, you might consider decreasing max_length manually, e.g. summarizer('...', max_length=1)\n"
          ]
        },
        {
          "metadata": {
            "tags": null
          },
          "name": "stdout",
          "output_type": "stream",
          "text": [
            "Contextual Summary: [{'summary_text': '. - (IT) - 0 - 1 - 2 - 3 - 4 - 5 - 6 - 7 - 8 - 9 - 10 - 11 - 12 - 13 - 14 - 15 - 16 - 18 - 19 - 20 - 21 - 23 - 24 - 25 - 26 - 28 - 30 - 40 - 50 - 60 - 70 - 80 - 90 - 100 - 150 - 140 - 120 - 130 -140 - 45 - 34 - 35 - 44 -35 - 38 -34 - 41 - 39 - 42 - 43 - 64 - 36 - 33 - 31 - 32 - 46 - 49 - 54 --41 -46 -49 -48 -44 -'}]\n",
            "Processing movie: Japanese Mom\n",
            "IMDb ID tidak ditemukan untuk film Japanese Mom\n",
            "Processing movie: Juror #2\n",
            "IMDb ID tidak ditemukan untuk film Juror #2\n",
            "Processing movie: Hunting With Tigers\n",
            "IMDb ID: tt28639058\n",
            "Number of reviews: 1121\n"
          ]
        },
        {
          "metadata": {
            "tags": null
          },
          "name": "stderr",
          "output_type": "stream",
          "text": [
            "Device set to use cpu\n"
          ]
        },
        {
          "metadata": {
            "tags": null
          },
          "name": "stdout",
          "output_type": "stream",
          "text": [
            "Contextual Summary: [{'summary_text': '\"French HEAT\" receives mixed reviews, with some praising its action scenes and action sequences, but others criticize its lousy ending and lack of gritty atmosphere. Director Jeremy Guez\\'s handling of the film\\'s plot and cast disappoints, resulting in a film that falls short of a masterpiece like \"HEAT.\" Despite its flaws, Reda Kated\\'s performance and the QUIET ONES\\' release have raised expectations, making it a disappointment for fans of the series BRI\\'s production, but criticize the movie\\'s lack of professionalism and a lack of depth in action scenes, but ultimately, it\\'s not a bad cinematic experience, even amidst its shortcomings, leaving viewers with a mixed bag of disappointments like \"KANUN\" and \"THE QUIT ONES\" expected to be released next year\\'s release, too.'}]\n",
            "Processing movie: The Moor\n",
            "IMDb ID: tt14922882\n",
            "Number of reviews: 21535\n"
          ]
        },
        {
          "metadata": {
            "tags": null
          },
          "name": "stderr",
          "output_type": "stream",
          "text": [
            "Device set to use cpu\n"
          ]
        },
        {
          "metadata": {
            "tags": null
          },
          "name": "stdout",
          "output_type": "stream",
          "text": [
            "Contextual Summary: [{'summary_text': '\"Eleanor\" receives mixed reviews, with some praising its performances, while others find it lacking in depth. Despite its flaws, Elizabeth Dormer-Phillip shines as Eleanor, delivering a standout performance as the titular character. While some find it entertaining, others see it as a low-budget chiller set in Lancashire. Ultimately, it\\'s a solid film, with moments of chills and camerawork that linger long after the credits roll. Overall, the film delivers instant chills as the jumps and bumps sync with some lovely camera work, making it a worthwhile watch for fans of monster/exorcism flicks like \"Millie Suggett\" and \"Mia Vore\" as the story of the missing child\\'s disappearance and the arc of a heightened sense of urgency and a compelling exploration of the moors.'}]\n",
            "Processing movie: The Crow\n",
            "IMDb ID: tt0109506\n",
            "Number of reviews: 31192\n"
          ]
        },
        {
          "metadata": {
            "tags": null
          },
          "name": "stderr",
          "output_type": "stream",
          "text": [
            "Device set to use cpu\n"
          ]
        },
        {
          "metadata": {
            "tags": null
          },
          "name": "stdout",
          "output_type": "stream",
          "text": [
            "Contextual Summary: [{'summary_text': '\"The Crow\" stands out as a dark and heartwarming cinematic experience, despite some strange moments caused by lack of footage. Brandon Lee delivers an Oscar-worthy performance, blending action, horror, and true emotions. Michael Wincott delivers a mesmerizing performance, but the film\\'s reliance on heavy blacks and dense dialogue detracts from its potential. Despite its flaws, the film delivers zingers and a compelling premise, making it a standout in its genre. While not groundbreaking, it\\'s still a heart warming tale with plenty of gore and action, a testament to Lee\\'s legacy and the power of storytelling. Regardless, it remains a must-watch for fans of relationship films and those who appreciate its dark storytelling and satirical storytelling amidst a bleak dialogue and oversaturated cinematic spectacle. Ultimately, it falls short of its potential, leaving a lasting impact on viewers.'}]\n",
            "Processing movie: Bad Boys: Ride or Die\n",
            "IMDb ID: tt4919268\n",
            "Number of reviews: 26767\n"
          ]
        },
        {
          "metadata": {
            "tags": null
          },
          "name": "stderr",
          "output_type": "stream",
          "text": [
            "Device set to use cpu\n"
          ]
        },
        {
          "metadata": {
            "tags": null
          },
          "name": "stdout",
          "output_type": "stream",
          "text": [
            "Contextual Summary: [{'summary_text': '\"Bad Boys: Ride or Die\" offers a mixed bag of reviews, with some praising its cinematography and strong performances, while others find it lacking in depth and originality. Will Smith and Marcus Burnett play wisecracking Miami cops on a dangerous mission when he\\'s linked to drug cartels. While some find it reminiscent of a ego-shooter game, others see it more like an ensemble piece with more fleshed out characters. Despite its flaws, the film\\'s use of chaotic digital art exhibition shootouts and uninspired action scenes leave a lasting impression. Overall, it\\'s a disappointing entry in the series, especially for fans of Bayism and the action genre. Regardless, it may not be a memorable addition to the franchise, but it may appeal to fans of intense violence and immersive violence fans, making it a forgettable watch for those who appreciate it.'}]\n",
            "Processing movie: Cash Out\n",
            "IMDb ID: tt24131288\n",
            "Number of reviews: 16285\n"
          ]
        },
        {
          "metadata": {
            "tags": null
          },
          "name": "stderr",
          "output_type": "stream",
          "text": [
            "Device set to use cpu\n"
          ]
        },
        {
          "metadata": {
            "tags": null
          },
          "name": "stdout",
          "output_type": "stream",
          "text": [
            "Contextual Summary: [{'summary_text': '\"Cash Out\" struggles to find its footing in the heist film genre, criticized for its uneven execution and lack of chemistry between John Travolta and Kristin Davis. While the cast delivers their best, the film falls short in delivering on its promise of escapism. Despite its flaws, it offers moments of entertainment, especially for fans of the genre\\'s fast FPV footage. However, some reviewers find it forgettable, with some deeming it mediocre or forgettable. Overall, it\\'s praised for its portrayal of the criminal mastermind\\'s struggles, but it falls short of its potential for a more serious role in a B-movie like \"Inside Man\" or \"Dog Day Afternnon. Regardless of whether or not, it remains a worthwhile watch for those with spare 90mins of spare time and a sense of humbly entertaining moments.'}]\n",
            "Processing movie: Pimpinero: Blood and Oil\n",
            "IMDb ID: tt27660061\n",
            "Number of reviews: 3481\n"
          ]
        },
        {
          "metadata": {
            "tags": null
          },
          "name": "stderr",
          "output_type": "stream",
          "text": [
            "Device set to use cpu\n"
          ]
        },
        {
          "metadata": {
            "tags": null
          },
          "name": "stdout",
          "output_type": "stream",
          "text": [
            "Contextual Summary: [{'summary_text': '\"Pimpinero: Blood and Oil\" is a tense thriller set on the Colombian border between Venezuela and Colombia. Directed by Andrés Baiz, it follows three brothers as they navigate corruption, betrayal, and dark secrets amidst the chaos. While some moments are exhilarating, the film lacks extra umph. Baiz\\'s exploration of superpowers like teleportation, being invisible, and exploring the hidden Colombia resonates deeply. With strong characters and subtle ideas, it\\'s a must-watch for those seeking a different take on the organized crime world and the wayuu culture in the face of corruption and moral chaos. \"Piminero\" stands as one of the best films in South America, offering a unique glimpse into the world of organized crime and human rights abuses in the darkest corners of the human rights crags and secrecy.'}]\n",
            "Processing movie: The Garfield Movie\n",
            "IMDb ID: tt5779228\n",
            "Number of reviews: 22264\n"
          ]
        },
        {
          "metadata": {
            "tags": null
          },
          "name": "stderr",
          "output_type": "stream",
          "text": [
            "Device set to use cpu\n"
          ]
        },
        {
          "metadata": {
            "tags": null
          },
          "name": "stdout",
          "output_type": "stream",
          "text": [
            "Contextual Summary: [{'summary_text': '\"Garfield 2024\" disappoints with its reliance on slapstick comedy and tired clichés, resulting in a disappointing experience. While it delivers sharp jokes and charming characters, the film\\'s modernization of Garfield\\'s look left him distant and unrelatable. Despite some good moments, it falls short of the original comic strip charm, leaving viewers with a beautiful message. Ultimately, it\\'s time for a Garfield movie like this, with solid animation and cute character designs. However, commercialism and repetitive set pieces detract from potential enjoyment, leaving audiences with little time to fully fully immerse in the story and enjoy the characters\\' personalities. Overall, it should become a cult classic like Bill Murray\\'s iconic comic strip legacy, though it may not reach the heights of its potential in the near future, making it a disappointment for fans of the iconic character\\'s storytelling and storytelling.'}]\n",
            "Processing movie: Bagman\n",
            "IMDb ID: tt21201300\n",
            "Number of reviews: 22394\n"
          ]
        },
        {
          "metadata": {
            "tags": null
          },
          "name": "stderr",
          "output_type": "stream",
          "text": [
            "Device set to use cpu\n"
          ]
        },
        {
          "metadata": {
            "tags": null
          },
          "name": "stdout",
          "output_type": "stream",
          "text": [
            "Contextual Summary: [{'summary_text': '\"Bagman\" fails to deliver on its promise of horror, relying heavily on familiar tropes and lacking depth. While the atmosphere was chilling and some unsettling scenes kept viewers on edge, the film\\'s execution falls short, resulting in a monotonous viewing experience. Despite some interesting ideas, it falls short of delivering anything truly scary or thrilling. Overall, it\\'s a disappointing attempt at a new direction for the genre, especially for those seeking originality or a nuanced exploration of fear within the context of the characters\\' anxiety. Ultimately, \"The Bagman\" is a spooky villain with a dark and eerie atmosphere that\\'s hard to resist. Regardless of its flaws, overall, its lack of originality and lack of excitement may deter some viewers. \\'Baddies\\' may find it underwhelming, but overall, overall praise for its originality.'}]\n",
            "Processing movie: Flow\n",
            "IMDb ID: tt4772188\n",
            "Number of reviews: 23880\n"
          ]
        },
        {
          "metadata": {
            "tags": null
          },
          "name": "stderr",
          "output_type": "stream",
          "text": [
            "Device set to use cpu\n"
          ]
        },
        {
          "metadata": {
            "tags": null
          },
          "name": "stdout",
          "output_type": "stream",
          "text": [
            "Contextual Summary: [{'summary_text': '\"Flow / Straume\" is a visually stunning and innovative animated film that blends natural elements with graphic artistry. Zilbalodis\\'s stylized animation creates a meditative and visually hypnotic experience, allowing for palpable tension and curiosity. Despite no dialogue, the film\\'s tension and drama shine through, making it an emotional and visual odyssey that transcends cultural and language barriers. With its original plot and playful interactions, \"Flow\" leaves a lasting impression, offering a profound sense of hope for earth\\'s future, a masterpiece of adolescent and adults alike. \"Flow/Strause\" remains a visual and emotional journey that will leave lasting impression for generations to come, leaving an unforgettable experience that will last a lifetime to come. Ultimately, it\\'s an original and unforgettable cinematic experience that\\'s sure to resonate with viewers.'}]\n",
            "Processing movie: The Soul Eater\n",
            "IMDb ID: tt28821588\n",
            "Number of reviews: 17831\n"
          ]
        },
        {
          "metadata": {
            "tags": null
          },
          "name": "stderr",
          "output_type": "stream",
          "text": [
            "Device set to use cpu\n"
          ]
        },
        {
          "metadata": {
            "tags": null
          },
          "name": "stdout",
          "output_type": "stream",
          "text": [
            "Contextual Summary: [{'summary_text': '\"Le Mangeur d\\'mes\" (aka \"The Soul Eater\") is hailed as one of the most forceful, shocking, and astounding horror flicks ever made. While it may not be a masterpiece, it offers a compelling and unsettling thriller with depth and suspense. Initially suspicious of a sanatorium, \"Franck\" and \"Elisabeth\" discover they may be linked to a mysterious case. As the plot develops, it lacks chemistry between the leads, resulting in gruesome deaths and strange happenings. Despite some predictability, the film\\'s brutal aftereffects add depth to the storyline, making it a worthwhile watch for those seeking a gripping horror thriller with a twist and a sense of mystery-solving experience for those willing to risk their own safety. Ultimately, it\\'s a must-watch for fans of tense thrillers like \"Doctor Sleep.\"'}]\n",
            "Processing movie: Disaster Holiday\n",
            "IMDb ID: tt34608980\n",
            "Number of reviews: 5342\n"
          ]
        },
        {
          "metadata": {
            "tags": null
          },
          "name": "stderr",
          "output_type": "stream",
          "text": [
            "Device set to use cpu\n"
          ]
        },
        {
          "metadata": {
            "tags": null
          },
          "name": "stdout",
          "output_type": "stream",
          "text": [
            "Contextual Summary: [{'summary_text': '\"Vacation\" offers a cozy family movie night, blending comedy with meaningful messages. Director Ramaphakela\\'s direction is polished, but the antagonist is annoying. His family\\'s plans are changed, and he tries to keep everyone in the dark about it. While it may not break new ground, the film\\'s comedic nuance and direction keep viewers engaged. Despite some clichés, it\\'s a gem, delivering laughs from start to finish and deserves more recognition for its feel-good comedy style, making it a must-watch for all ages, offering both laughs and touching moments. Overall, \"Vacauté 2015\" is a standout in the genre, showcasing the power of family drama and a memorable family drama. Regardless of its origins, the movie\\'s appeal is undeniable, despite its lackluster direction and satirical tone, offering a wholesome experience for all audiences.'}]\n",
            "Processing movie: Skin. Like. Sun.\n",
            "IMDb ID: tt1852099\n",
            "Number of reviews: 4682\n"
          ]
        },
        {
          "metadata": {
            "tags": null
          },
          "name": "stderr",
          "output_type": "stream",
          "text": [
            "Device set to use cpu\n"
          ]
        },
        {
          "metadata": {
            "tags": null
          },
          "name": "stdout",
          "output_type": "stream",
          "text": [
            "Contextual Summary: [{'summary_text': '\"Not porn\" offers a unique portrayal of a real-life couple having sex in a sun-washed room in Antwerp, Belgium. While some find it boring and lacking chemistry, others praise its sensual scenes and intimate moments. Director Jennifer Lyon Bell and lingerie designer Murielle Scherre create a film that reflects the essence of time and intimacy. The film\\'s focus on foreplay and focus on chemistry adds depth to the storyline, making it a memorable viewing experience for those who appreciate the beauty and intimacy it creates. Despite its shortcomings, \"Des Jours Plus Belles Que La Nuit\" remains a must-watch for those seeking artistic porn films and adolescent ones. Ultimately, it\\'s a thought-provoking exploration of realism and societal norms in sexuality and sexuality in the 21st century.'}]\n",
            "Processing movie: Joker: Folie à Deux\n",
            "IMDb ID: tt11315808\n",
            "Number of reviews: 24326\n"
          ]
        },
        {
          "metadata": {
            "tags": null
          },
          "name": "stderr",
          "output_type": "stream",
          "text": [
            "Device set to use cpu\n"
          ]
        },
        {
          "metadata": {
            "tags": null
          },
          "name": "stdout",
          "output_type": "stream",
          "text": [
            "Contextual Summary: [{'summary_text': '\"Joker 2\" offers a gritty exploration of mental illness and societal breakdown, but falls short of its potential. Lady Gaga\\'s performance and Joaquin Phoenix\\'s chemistry add depth, but the film feels more like a continuation of its predecessor. While some find it entertaining, others criticize its disjointed plot and lack of direction. Despite its flaws, the film\\'s exploration of psychological struggles and the consequences of its actions resonates deeply, making it a forgettable watch for fans of the batman and joker franchises. Overall, it\\'s an enjoyable and thought-provoking exploration of the human condition and the societal implications of such amidst societal dysfunctionality. Ultimately, it may not reach its full potential, but it may be a worthwhile watch for those who appreciate its impact on the genre\\'s future endeavors apprehension of adversity.'}]\n",
            "Processing movie: Dominique\n",
            "IMDb ID: tt14972766\n",
            "Number of reviews: 11484\n"
          ]
        },
        {
          "metadata": {
            "tags": null
          },
          "name": "stderr",
          "output_type": "stream",
          "text": [
            "Device set to use cpu\n"
          ]
        },
        {
          "metadata": {
            "tags": null
          },
          "name": "stdout",
          "output_type": "stream",
          "text": [
            "Contextual Summary: [{'summary_text': '\"Dominique\" is a gripping action thriller set in Colombia, showcasing Dominique Orlan\\'s captivating performance. The film\\'s relentless action, coupled with stunning cinematography and well-choreographed fight scenes, creates a visually stunning experience. While some critics find it lacking in execution, others praise its slick filmmaking and Alanna De La Rossa\\'s performance. Director Michael Ojeda crafts a captivating character with heart-pounding excitement and emotional resonance, making it a must-watch for action genre lovers and those who love good storytelling. Despite its micro-budget constraints, the film delivers a satisfying story with thrilling action scenes and a compelling female lead that adds complexity and intrigue. Overall, it\\'s an exceptional action thriller worth watching for action enthusiasts seeking thrills and thrills alike amidst its twisted plot and captivating performances. Ultimately, it leaves a lasting impact on viewers.'}]\n",
            "Processing movie: The Platform 2\n",
            "IMDb ID: tt27729779\n",
            "Number of reviews: 12558\n"
          ]
        },
        {
          "metadata": {
            "tags": null
          },
          "name": "stderr",
          "output_type": "stream",
          "text": [
            "Device set to use cpu\n"
          ]
        },
        {
          "metadata": {
            "tags": null
          },
          "name": "stdout",
          "output_type": "stream",
          "text": [
            "Contextual Summary: [{'summary_text': '\"The Dark Knight Rises\" receives mixed reviews, with some praising its thought-provoking themes and metaphors for life but others find it disjointed and unanswered. While some appreciate its acting and plot, others feel it falls short of the first installment. Despite its flaws, the film delivers on its promise of suspense and a satisfying ending, leaving viewers with a sense of disappointment. Overall, it\\'s a poor art house film that fails to deliver on its promises, leaving audiences with lingering memories of the previous installments, making it a pitiful and unnecessary sequel that ultimately ends up feeling like a forgettable entry in the genre. Regardless of who you watch, this film may not appeal to everyone, even if you\\'re not a fan of science fiction and sci-fi classics like \"silly imagination\" and \"science fiction classics that resonate with you.'}]\n",
            "Processing movie: Project Silence\n",
            "IMDb ID: tt25808194\n",
            "Number of reviews: 8135\n"
          ]
        },
        {
          "metadata": {
            "tags": null
          },
          "name": "stderr",
          "output_type": "stream",
          "text": [
            "Device set to use cpu\n"
          ]
        },
        {
          "metadata": {
            "tags": null
          },
          "name": "stdout",
          "output_type": "stream",
          "text": [
            "Contextual Summary: [{'summary_text': '\"Talchul: Project Silence\" presents a mixed bag of reviews, with criticisms ranging from lackluster special effects to shallow writing. While some appreciate its tension and action sequences, others find it predictable and lacking in creativity. Despite its flaws, the film\\'s unique characters and pacing make it a satisfying watch, especially for fans of Korean cinema. However, its transition from family drama to horror is uneven, with some scenes that defy logic. Overall, it\\'s a disappointing entry in the genre, criticized for its lackluster CGI and lack of character development compared to its predecessors like Train To Busan and other Korean cinematic excellence in South Korea. Nonetheless, it remains a solid and enjoyable sci-fi thriller with some memorable moments that resonate with viewers. Nevertheless, it may not break new ground in Korean cinema, but it may leave viewers wanting more from this cinematic endeavors.'}]\n",
            "Processing movie: OVERLORD: The Sacred Kingdom\n",
            "IMDb ID: tt14603848\n",
            "Number of reviews: 12303\n"
          ]
        },
        {
          "metadata": {
            "tags": null
          },
          "name": "stderr",
          "output_type": "stream",
          "text": [
            "Device set to use cpu\n"
          ]
        },
        {
          "metadata": {
            "tags": null
          },
          "name": "stdout",
          "output_type": "stream",
          "text": [
            "Contextual Summary: [{'summary_text': '\"Overlord: The Sacred Kingdom\" presents a mixed bag of reviews, with some praising its gore and action sequences, while others criticize its cutscenes and lack of depth. While some find it entertaining for fans of the series, others see it as a sequel with a cliffhanger. Despite its flaws, it\\'s a must-watch for long-time fans, especially those who\\'ve read the novels. Overall, I enjoyed the arc, especially Neia\\'s eyes and Shizu\\'s lines, though some may find it overshadowed by some viewers\\' understanding of the lore and characters\\' caristics, making it a worthwhile watch for those who appreciate its big screen gore. Nonetheless, it may not appeal to newcomers with its lackluster plot and lackluster acting. Regardless, it remains a compelling and enjoyable watch for fans who\\''}]\n",
            "Processing movie: Pleasure\n",
            "IMDb ID: tt8550054\n",
            "Number of reviews: 24963\n"
          ]
        },
        {
          "metadata": {
            "tags": null
          },
          "name": "stderr",
          "output_type": "stream",
          "text": [
            "Device set to use cpu\n"
          ]
        },
        {
          "metadata": {
            "tags": null
          },
          "name": "stdout",
          "output_type": "stream",
          "text": [
            "Contextual Summary: [{'summary_text': '\"A24\" presents a true portrayal of the Los Angeles porn industry, featuring Evelyn Claire in an upcoming A24 film. While some find it clichéd, others appreciate its nuanced portrayal and lack of Hollywood moments. Despite its flaws, the film\\'s exploration of loneliness and exploitation shines through, making it a compelling watch. Sofia Kappel\\'s performance adds depth to the story, even if it feels like a run-of-the-mill day at work. Overall, it\\'s a refreshing departure from hardcore porn, offering a glimpse into the world of women\\'s struggles and societal norms in the sex industry. Nonetheless, it falls short of its potential, leaving viewers with a hollow tale of loneliness, loneliness, and a sense of self-discovery amidst the complexities of a genre that may not resonate with all viewers.'}]\n",
            "Processing movie: Conclave\n",
            "IMDb ID: tt20215234\n",
            "Number of reviews: 30455\n"
          ]
        },
        {
          "metadata": {
            "tags": null
          },
          "name": "stderr",
          "output_type": "stream",
          "text": [
            "Device set to use cpu\n"
          ]
        },
        {
          "metadata": {
            "tags": null
          },
          "name": "stdout",
          "output_type": "stream",
          "text": [
            "Contextual Summary: [{'summary_text': 'Stanley Tucci delivers a standout performance as Ralph Fiennes in \"Conclave,\" delivering a mesmerizing performance alongside Bryan F O\\'Byrne. While the film tackles social and religious issues with gravitas, its unrealistic ending threatens to destroy the narrative. Despite its twists and turns, it remains a compelling and relevant watch, especially for those interested in contemporary leadership and elections in our modern world. Overall, it\\'s a captivating and thought-provoking watch, albeit one that may garner some Oscar consideration for its impactful portrayal of women and leadership in a timely and relevant role. Ultimately, it serves as a must-watch for anyone interested in political and social issues in the 21st century, making it a worthwhile watch for those willing to engage in debates and debates in the midst of uncertainty and uncertainty in the face of societal norms and politics.'}]\n",
            "Processing movie: Interstellar\n",
            "IMDb ID: tt0816692\n",
            "Number of reviews: 35867\n"
          ]
        },
        {
          "metadata": {
            "tags": null
          },
          "name": "stderr",
          "output_type": "stream",
          "text": [
            "Device set to use cpu\n"
          ]
        },
        {
          "metadata": {
            "tags": null
          },
          "name": "stdout",
          "output_type": "stream",
          "text": [
            "Contextual Summary: [{'summary_text': '\"Interstellar\" is a science-fiction masterpiece, influenced by films like \"2001: A Space Odyssey\" and \"Apollo 13.\" While some find it unique in its portrayal of blight, others criticize its overuse of sentimentalism and lack of coherence. Despite its flaws, the film\\'s focus on science and its impact on the hearing impaired make it a disappointing watch. While it may not reach Christopher Nolan anytime soon, it\\'s a testament to Nolan\\'s dedication to science and exploration, despite criticisms of its lack of congruence and inconsistencies. Overall, it feels like a cinematic masterpiece, even if it falls short of delivering a satisfying viewing experience for those who appreciate its enduring impact on humanity and the future of our planet\\'s future. Regardless of its potential, it remains a compelling and thought-provoking exploration of the universe\\'s potential.'}]\n",
            "Processing movie: Beetlejuice Beetlejuice\n",
            "IMDb ID: tt2049403\n",
            "Number of reviews: 19448\n"
          ]
        },
        {
          "metadata": {
            "tags": null
          },
          "name": "stderr",
          "output_type": "stream",
          "text": [
            "Device set to use cpu\n"
          ]
        },
        {
          "metadata": {
            "tags": null
          },
          "name": "stdout",
          "output_type": "stream",
          "text": [
            "Contextual Summary: [{'summary_text': '\"Beetlejuice 2\" receives mixed reviews, with some praising its tribute to the original and Michael Keaton\\'s return, while others see it as a sequel that honors the spirit of the story. While some find it nostalgic and enjoyable, others feel it lacks the energy or witty humor of its predecessor. Despite some memorable performances, especially from Jenna Ortega, the movie ultimately fails to fully flesh out its main characters, leaving it feeling like an afterthought. Overall, it\\'s a mixed bag of nostalgia and senseless horror, making it a forgettable addition to the franchise, even if it fails to live up to its potential, leaving viewers with a lasting impression of the original\\'s future. Regardless, it remains a must-watch for fans of the franchise and those willing to wait until the next installment, despite its lackluster storytelling and lack of original characters.'}]\n",
            "Processing movie: Whisper of the Witch\n",
            "IMDb ID: tt13358904\n",
            "Number of reviews: 749\n"
          ]
        },
        {
          "metadata": {
            "tags": null
          },
          "name": "stderr",
          "output_type": "stream",
          "text": [
            "Device set to use cpu\n",
            "Your max_length is set to 300, but your input_length is only 196. Since this is a summarization task, where outputs shorter than the input are typically wanted, you might consider decreasing max_length manually, e.g. summarizer('...', max_length=98)\n"
          ]
        },
        {
          "metadata": {
            "tags": null
          },
          "name": "stdout",
          "output_type": "stream",
          "text": [
            "Contextual Summary: [{'summary_text': '\"Get out the way Witch\" is a horror movie aimed at fans of the genre, but it\\'s not for everyone. While some may find it predictable, others will enjoy it if they watch it a lot. The dubbed version of the film is available only in English, so the translation may get lost in translation. However, for those who enjoy the mood and the atmosphere, it may not be the best horror movie for everyone, but for those with a good sense of humor and horror, it should be a watch if you\\'re into the genre a bit more intense horror movie, especially horror movies with varying degrees of horror fans. Regardless, it might not have been a better horror movie with some horror fans\\' eyes. Nevertheless, it remains a must-watch for horror fans and those who appreciate it for those willing to invest in a few hours of their lives and a little bit of horror enthusiasts\\'s worth watching.'}]\n",
            "Processing movie: IF\n",
            "IMDb ID: tt11152168\n",
            "Number of reviews: 21374\n"
          ]
        },
        {
          "metadata": {
            "tags": null
          },
          "name": "stderr",
          "output_type": "stream",
          "text": [
            "Device set to use cpu\n"
          ]
        },
        {
          "metadata": {
            "tags": null
          },
          "name": "stdout",
          "output_type": "stream",
          "text": [
            "Contextual Summary: [{'summary_text': '\"IF\" receives mixed reviews, with some praising Ryan Reynolds\\'s performance but others criticized for its lack of originality and disjointed storytelling. While some find it entertaining for younger audiences, others see it as a light-hearted exploration of Bereavement and how to cope with it. Director John Krasinski\\'s focus on the side characters could have been more substantive, but overall, the film resonates with its message of \"don\\'t ever lose your inner child\" and will resonate with educators and educators alike. Overall, it\\'s a heartfelt and magical film that will stay with you forever, especially for educators and therapists who appreciate its unique approach to social emotional learning and emotional growth. Despite its flaws, it remains a compelling and thought-provoking watch for those seeking a fresh perspective on life\\'s challenges and societal impact on the future. Ultimately, it may not resonate with'}]\n",
            "Processing movie: Sing: Thriller\n",
            "IMDb ID: tt33999453\n",
            "Number of reviews: 13085\n"
          ]
        },
        {
          "metadata": {
            "tags": null
          },
          "name": "stderr",
          "output_type": "stream",
          "text": [
            "Device set to use cpu\n"
          ]
        },
        {
          "metadata": {
            "tags": null
          },
          "name": "stdout",
          "output_type": "stream",
          "text": [
            "Contextual Summary: [{'summary_text': '\"Sing: Thriller\" offers an imaginative reimagining of \"Thriller,\" featuring the animated cast of Sing. Directed by Garth Jennings, it features Scarlett Johansson and Matthew McConaughey, the short film follows the characters as they prepare a Halloween-themed play. After encountering a strange ooze that transforms them into zombies, the storyline ends with a lively song and dance to the tune of Michael Jackson\\'s song \\'Thriller\\'. While not a Netflix exclusive, it packs in a lot of fun, especially if you\\'re a fan of the franchise\\'s animated films. Overall, it\\'s a great addition to Illumination\\'s Halloween shorts, even if it falls short of the original cast members\\' voices. Despite its flaws, its inclusion makes it a must-watch for fans of the series\\'s longer stories.'}]\n",
            "Processing movie: Venom\n",
            "IMDb ID: tt1270797\n",
            "Number of reviews: 16864\n"
          ]
        },
        {
          "metadata": {
            "tags": null
          },
          "name": "stderr",
          "output_type": "stream",
          "text": [
            "Device set to use cpu\n"
          ]
        },
        {
          "metadata": {
            "tags": null
          },
          "name": "stdout",
          "output_type": "stream",
          "text": [
            "Contextual Summary: [{'summary_text': '\"Venom\" receives mixed reviews, with some praising its dark comedy and Riz Ahmed\\'s portrayal of the superhero. While some find it amusing and enjoyable, others criticize its lack of a true dark tone. Tom Hardy\\'s performance is commendable, but some find the plot lacking and the action sequences lacking depth. Despite its flaws, fans of the genre will enjoy it, especially if they enjoy the genre\\'s laughs and laughs. Ultimately, it\\'s a must-watch for fans of comic book lore and action movies, even if it falls short of its potential. Regardless, it remains a standout in the Marvel genre, despite its shortcomings in depth and depth in action footage. Nevertheless, it may not be a contender in the future, but it may well be contender in its own right adolescent charm and suspenseful moments.'}]\n",
            "Processing movie: Kung Fu Panda 4\n",
            "IMDb ID: tt21692408\n",
            "Number of reviews: 27382\n"
          ]
        },
        {
          "metadata": {
            "tags": null
          },
          "name": "stderr",
          "output_type": "stream",
          "text": [
            "Device set to use cpu\n"
          ]
        },
        {
          "metadata": {
            "tags": null
          },
          "name": "stdout",
          "output_type": "stream",
          "text": [
            "Contextual Summary: [{'summary_text': '\"Kung Fu Panda Four \\'\\' returns with Po maturing and ready for new adventures,\" praised for its visuals and fun combats but criticized for its shaky storyline. While some find it entertaining for children and adults, others may find it repetitive and lacking in depth. Viola Davis\\'s performance adds depth, but the film\\'s twists and twists may not appeal to all audiences. Overall, it\\'s a fun and enjoyable addition to the franchise, especially for those with a love for the franchise. However, some criticize its lack of originality and lack of depth, despite Po\\'s exploration of dragon warriors and the upcoming adventures. Despite its flaws, the film deserves praise for its humor and performances, even if it falls short of delivering a memorable contribution to the Kung fu panda fandom and fandom alike alike, making it a worthwhile watch for all viewers.'}]\n",
            "Processing movie: Dune: Part Two\n",
            "IMDb ID: tt15239678\n",
            "Number of reviews: 15287\n"
          ]
        },
        {
          "metadata": {
            "tags": null
          },
          "name": "stderr",
          "output_type": "stream",
          "text": [
            "Device set to use cpu\n"
          ]
        },
        {
          "metadata": {
            "tags": null
          },
          "name": "stdout",
          "output_type": "stream",
          "text": [
            "Contextual Summary: [{'summary_text': '\"Dune: Part 2\" is a monumental piece of epic-Fantasy/Sci-Fi cinema, showcasing Dennis Villeneauve\\'s mastery of storytelling and action sequences. While some find it visually stunning and thought-provoking, others criticize its overlong runtime and lack of substance. Villenue\\'s direction shines, but the final fight scene feels short and unfulfilling. Despite its flaws, the film\\'s cinematography and worldbuilding make it a cinematic masterpiece, reaffirming Villeneuve\\'s status as a master of the genre and a must-watch for fans of sci-fi cinema and action cinema. Ultimately, it\\'s a timeless classic that deserves recognition for its cinematic excellence and enduring impact in the genre\\'s long-term success in future adaptations like \"DUNE: Messiah\" in 2020.'}]\n",
            "Processing movie: Knox Goes Away\n",
            "IMDb ID: tt20115766\n",
            "Number of reviews: 23013\n"
          ]
        },
        {
          "metadata": {
            "tags": null
          },
          "name": "stderr",
          "output_type": "stream",
          "text": [
            "Device set to use cpu\n"
          ]
        },
        {
          "metadata": {
            "tags": null
          },
          "name": "stdout",
          "output_type": "stream",
          "text": [
            "Contextual Summary: [{'summary_text': '\"Knox Goes Away\" receives mixed reviews, with praise for Michael Keaton\\'s performance and James Marsden\\'s portrayal of his son, Miles, and the film\\'s emotional depth. While some find it slow-paced, others appreciate its strong third act and satisfying ending. Despite its flaws, the film offers glimpses of early directorial effort, particularly in its exploration of a conflicted character\\'s past. Marcia Gay Harden shines in a small role, while Pacino delivers a sentimental bad guy. Overall, it\\'s a solid effort that\\'s worth a watch if you\\'re in the mood for serious action movies amidst its lack of suspense and pacing issues, making it a worthwhile watch for fans of upcoming directorial endeavors like \"Memento\" and \"The Merry Gentleman\" as well as other contenders.'}]\n",
            "Processing movie: Kingdom of the Planet of the Apes\n",
            "IMDb ID: tt11389872\n",
            "Number of reviews: 27799\n"
          ]
        },
        {
          "metadata": {
            "tags": null
          },
          "name": "stderr",
          "output_type": "stream",
          "text": [
            "Device set to use cpu\n"
          ]
        },
        {
          "metadata": {
            "tags": null
          },
          "name": "stdout",
          "output_type": "stream",
          "text": [
            "Contextual Summary: [{'summary_text': '\"Kingdom\" receives mixed reviews, with some finding it bland and lacking depth in character development. However, others appreciate its drama and Freya Allan\\'s performance. While some find it interesting, others see it as a drama with a more intense conflict between Noah and Mae. The visual effects are spectacular, bringing to life a world where apes rule with stunning realism. Despite its flaws, the movie offers thrilling action sequences and thought-provoking themes, making it a must-watch for fans of franchise-building and storytelling, especially in the form of a cinematic experience. Overall, it\\'s a disappointing entry in the cult classic, albeit one that falls short of delivering a satisfying viewing experience on a big screen viewing experience. Regardless of its shortcomings, it remains a standout in the franchise\\'s storytelling and cgi and storytelling.'}]\n",
            "Processing movie: Gladiator\n",
            "IMDb ID: tt0172495\n",
            "Number of reviews: 25000\n"
          ]
        },
        {
          "metadata": {
            "tags": null
          },
          "name": "stderr",
          "output_type": "stream",
          "text": [
            "Device set to use cpu\n"
          ]
        },
        {
          "metadata": {
            "tags": null
          },
          "name": "stdout",
          "output_type": "stream",
          "text": [
            "Contextual Summary: [{'summary_text': '\"Gladiator\" offers a refreshing take on the swords and sandals genre, showcasing the talents of Russel Crowe and Oliver Reed. While some critics find it irritating, others praise its reinvigoration of a stagnant genre. The dialogue is literate and poetic, delivering iconic speeches and dynamic combat styles. Despite some graphic elements, Crowe\\'s portrayal of Maximus\\'s vulnerability shines through, making him a standout in the genre. Overall, it\\'s a compelling watch for those seeking insight into the Roman Empire\\'s darkest era, resonating with audiences with its epic narrative and memorable performances amidst its flaws in storytelling and storytelling. \"Fall Of The Roman Empire\" stands as a testament to cinema\\'s potential for a new era of epic storytelling and memorable cinematic experiences for the era\\'s long-term success.'}]\n",
            "Processing movie: Wake Up\n",
            "IMDb ID: tt28662887\n",
            "Number of reviews: 10453\n"
          ]
        },
        {
          "metadata": {
            "tags": null
          },
          "name": "stderr",
          "output_type": "stream",
          "text": [
            "Device set to use cpu\n"
          ]
        },
        {
          "output_type": "stream",
          "name": "stdout",
          "text": [
            "Contextual Summary: [{'summary_text': '\"Wake Up\" follows a group of eco-warriors who raid an IKEA to protest deforestation, resulting in a nightmare involving a hunting-obsessed night guard. The film\\'s brilliance keeps viewers engaged from start to finish, mocking corporate greed and eco-activism while keeping things bloody entertaining. While some find it serious, others appreciate its humor and lighthearted approach. Despite its predictable premise, the film offers moments of suspense and tension, making it a good slasher horror film that lingers long after the credits roll. Overall, it\\'s a satisfying watch for fans of the genre, recommending it to friends and family who appreciate its satirical tone and satire of the characters. Regardless, it remains a compelling and thought-provoking exploration of morality and morality in the face of adversity.'}]\n",
            "Processing movie: Young Hearts\n",
            "IMDb ID: tt15245268\n",
            "Number of reviews: 21965\n"
          ]
        },
        {
          "output_type": "stream",
          "name": "stderr",
          "text": [
            "Device set to use cpu\n"
          ]
        },
        {
          "output_type": "stream",
          "name": "stdout",
          "text": [
            "Contextual Summary: [{'summary_text': '\"Young Hearts\" is a visually stunning coming-of-age film that captures the essence of youth, love, and self-discovery. While some scenes feel underwhelming, the performances, especially by Lou Goossens, elevate the film. The film\\'s tension adds depth to the story, making it a reminder of the importance of embracing who we are. Despite some plot holes and inconsistencies, it remains a compelling and relatable exploration of love and identity. Ultimately, it\\'s a must-watch for anyone interested in exploring the complexities of love, youth, and love in a meaningful way, a testament to the power of storytelling and a positive impact on a person\\'s perceptions of their own life and the world around them. Regardless, it deserves a place in the hearts of those who watch it as a memorable and thought-provoking cinematic experience.'}]\n",
            "Processing movie: The Killer's Game\n",
            "IMDb ID: tt0327785\n",
            "Number of reviews: 34371\n"
          ]
        },
        {
          "output_type": "stream",
          "name": "stderr",
          "text": [
            "Device set to use cpu\n"
          ]
        },
        {
          "output_type": "stream",
          "name": "stdout",
          "text": [
            "Contextual Summary: [{'summary_text': '\"The Killer\\'s Game\" features Scott Adkins and Terry Crews in a fun action-comedy role, despite some changes in development and post-production. While the film\\'s action sequences are violent, the performances of Ben Kingsley and Alex Kingston, consummate professionals, shine. Despite some jarring camerawork, the film celebrates the importance of stunt people in filmmaking. While not groundbreaking, it\\'s a good example of never giving up on your life too soon, with a mix of Batman type villains and brutally fun action scenes. Overall, I enjoyed the movie\\'s brutal combat sequences and edgy combat, even if it falls short of spectacular directing and lackluster chemistry between Bautista and Boutella, making it a forgettable addition to the action genre and a must-watch for fans of action flicks like \"The Fall Guy.\"'}]\n",
            "Processing movie: Canary Black\n",
            "IMDb ID: tt20048582\n",
            "Number of reviews: 19669\n"
          ]
        },
        {
          "output_type": "stream",
          "name": "stderr",
          "text": [
            "Device set to use cpu\n"
          ]
        },
        {
          "output_type": "stream",
          "name": "stdout",
          "text": [
            "Contextual Summary: [{'summary_text': '\"Canary Black\" is a mixed bag of action dramas, praised for Kate Beckinsale\\'s performance but criticized for its shortcomings. Despite its flaws, the film offers moments of adrenaline and entertainment, particularly Kate\\'s portrayal of CIA agent Avery Graves. The film\\'s messy plot and lack of believable characters make it a forgettable watch, especially for those willing to look beyond its shortcomings and explore its potential as a futuristic spy thriller. Overall, it\\'s a fun, adrenaline-fueled ride, despite its shortcomings compared to other action flicks, offering moments of genuine emotion and potential for a bigger role in the 007 franchises, making it an easy watch for fans willing to embrace the genre\\'s challenges. Ultimately, it may not be a memorable and memorable watch, but it may offer a different perspective on the action genres.'}]\n",
            "Processing movie: Transmorphers: Mech Beasts\n",
            "IMDb ID: tt28096092\n",
            "Number of reviews: 10831\n"
          ]
        },
        {
          "output_type": "stream",
          "name": "stderr",
          "text": [
            "Device set to use cpu\n"
          ]
        },
        {
          "output_type": "stream",
          "name": "stdout",
          "text": [
            "Contextual Summary: [{'summary_text': '\"Transmorphers: Mech Beasts\" offers a preposterous, shallow, and unconvincing sci-fi experience, despite mixed expectations. While it boasts decent production values and decent dialogue, the movie\\'s pacing and lack of substance leave it feeling less than stellar. Despite some workable story ideas and scene writing, the overall experience falls short of its predecessors, leaving audiences with little hope for the sequel\\'s potential. Ultimately, it\\'s worth a watch if you\\'re looking for a family night out, even if it fails to deliver on its promise of a successful sequel. Regardless of its flaws, \"Mech beasts\" remains a disappointing entry in the saga, leaving viewers disappointed with its lackluster execution and lackluster production values, making it a forgettable addition to the franchise\\'s legacy in the genre\\'s history. \\'Transmorpher\\' standing out as a worthy contender in the series.'}]\n",
            "Processing movie: An Almost Christmas Story\n",
            "IMDb ID: tt33395815\n",
            "Number of reviews: 7972\n"
          ]
        },
        {
          "output_type": "stream",
          "name": "stderr",
          "text": [
            "Device set to use cpu\n"
          ]
        },
        {
          "output_type": "stream",
          "name": "stdout",
          "text": [
            "Contextual Summary: [{'summary_text': '\"An Almost Christmas Story\" offers a heartfelt portrayal of a young owl trapped in a Christmas tree in Rockefeller Plaza. Through heartwarming storytelling and engaging animation, the film celebrates friendship, courage, and the power of home. Cary Christopher delivers a lively voice, while Estella Madrigal adds warmth and earnestness. John C. Reilly\\'s performances add a charming musical touch, enhancing the festive atmosphere. While it may not appeal to all audiences, it\\'s a tender celebration of togetherness, despite its lack of CGI in the film. Overall, it remains a must-watch that resonates with audiences of all ages, making it a worthwhile watch for those seeking a reminder of love and connection in the face of challenges afflicted by uncertainty. Despite its shortcomings, it serves as a poignant and thought-provoking portrayal'}]\n",
            "Processing movie: Fast X\n",
            "IMDb ID: tt5433140\n",
            "Number of reviews: 32671\n"
          ]
        },
        {
          "output_type": "stream",
          "name": "stderr",
          "text": [
            "Device set to use cpu\n"
          ]
        },
        {
          "output_type": "stream",
          "name": "stdout",
          "text": [
            "Contextual Summary: [{'summary_text': '\"Fast & Furious 9\" disappoints with its high-budget plot and lackluster characters, particularly Jason Momoa\\'s portrayal of Dante. While some may find it tasteless and lacking in depth, others appreciate its blend of comedy, action, and memorable villain. Despite its flaws, it\\'s a must-watch for fans of the franchise, especially those who enjoy Looney Tunes\\'s superior performances. Ultimately, it falls short of delivering the craziness of previous entries, leaving audiences disappointed with its tasteless execution and lack of originality. Overall, \"F&F 9\" fails to deliver on its promise of a memorable villain and a lackluster series with little to no redeeming qualities. Regardless, it fails to live up to its potential, leaving viewers disappointed by its lackluster execution and tasteless storytelling. Nevertheless, it still stands as a promising franchise with potential.'}]\n",
            "Processing movie: Furiosa: A Mad Max Saga\n",
            "IMDb ID: tt12037194\n",
            "Number of reviews: 27485\n"
          ]
        },
        {
          "output_type": "stream",
          "name": "stderr",
          "text": [
            "Device set to use cpu\n"
          ]
        },
        {
          "output_type": "stream",
          "name": "stdout",
          "text": [
            "Contextual Summary: [{'summary_text': '\"Furiosa\" is a stunning addition to the Mad Max franchise, blending intense action with breathtaking visuals. While some find it exhilarating compared to its predecessor, it lacks the sweeping action sequences of \"Fury Road.\" Chris Hemsworth\\'s portrayal of the villainous Dementus adds depth to Furiosa\\'s heroism. However, the film\\'s lack of CGI and lack of originality hinder its impact, making it feel more like a cookie-cutter action movie than a standout in action filmmaking. Overall, it\\'s a minor step down from the action genre, despite its flaws and lackluster CGI in storytelling and storytelling. Despite its shortcomings, it still delivers on its potential, delivering a compelling and memorable experience that will leave a lasting impression with its potential for a sequel in the future.'}]\n",
            "Processing movie: Remnant\n",
            "IMDb ID: tt2069896\n",
            "Number of reviews: 0\n"
          ]
        },
        {
          "output_type": "stream",
          "name": "stderr",
          "text": [
            "Device set to use cpu\n",
            "Your max_length is set to 300, but your input_length is only 3. Since this is a summarization task, where outputs shorter than the input are typically wanted, you might consider decreasing max_length manually, e.g. summarizer('...', max_length=1)\n"
          ]
        },
        {
          "output_type": "stream",
          "name": "stdout",
          "text": [
            "Contextual Summary: [{'summary_text': '. - (IT) - 0 - 1 - 2 - 3 - 4 - 5 - 6 - 7 - 8 - 9 - 10 - 11 - 12 - 13 - 14 - 15 - 16 - 18 - 19 - 20 - 21 - 23 - 24 - 25 - 26 - 28 - 30 - 40 - 50 - 60 - 70 - 80 - 90 - 100 - 150 - 140 - 120 - 130 -140 - 45 - 34 - 35 - 44 -35 - 38 -34 - 41 - 39 - 42 - 43 - 64 - 36 - 33 - 31 - 32 - 46 - 49 - 54 --41 -46 -49 -48 -44 -'}]\n",
            "Processing movie: The Lion King\n",
            "IMDb ID: tt0110357\n",
            "Number of reviews: 25650\n"
          ]
        },
        {
          "output_type": "stream",
          "name": "stderr",
          "text": [
            "Device set to use cpu\n"
          ]
        },
        {
          "output_type": "stream",
          "name": "stdout",
          "text": [
            "Contextual Summary: [{'summary_text': '\"Circle of Life\" is a delectable animated feature from Walt Disney Pictures, featuring James Earl Jones, Jeremy Irons, and Whoopi Goldberg. The film\\'s epic plot, intriguing characters, and hillarious moments make it a family classic that will endure through the ages. Cheech Marin, whoopi goldberg, and Jim Cummings had good chemistry, even if they didn\\'t have much screen time. The music by Hans Zimmer is outstanding, blending African chants with pure Hollywood, making it spirit rousing and a memorable viewing experience for both adults and children. Despite occasional hit and miss characters, the film remains a beloved family classic, enduring through the generations. Ultimately, it\\'s a timeless classic that\\'s sure to captivate audiences with its spirit-rousing performances and powerful performances. Regardless of who you may not be a fan of this cult classic,'}]\n",
            "Processing movie: Spider-Man: Across the Spider-Verse\n",
            "IMDb ID: tt9362722\n",
            "Number of reviews: 28539\n"
          ]
        },
        {
          "output_type": "stream",
          "name": "stderr",
          "text": [
            "Device set to use cpu\n"
          ]
        },
        {
          "output_type": "stream",
          "name": "stdout",
          "text": [
            "Contextual Summary: [{'summary_text': '\"Into The Spider-verse\" delivers a visually stunning experience, showcasing Gwen\\'s story expanded and Shea Whigham\\'s Captain Stacy\\'s performance shines. While some scenes feel repetitive, the film\\'s strong talent and visuals elevate it, making it a must-watch for fans of the iconic character. Despite its short runtime, it remains entertaining from start to finish, keeping viewers wanting more. While not without flaws, it\\'s a masterpiece that deserves recognition for its homage to the iconic Spider-Man tropes, offering a unique take on the iconic superhero genre and a fresh perspective on the genre\\'s future in 2024. Ultimately, \"Spider-Man\" remains a standout in the comics genre, bringing new twists and surprises to a memorable cinematic experience that captivates audiences with its visuals and action sequences that leave a lasting impression on viewers.'}]\n",
            "Processing movie: Top Gun: Maverick\n",
            "IMDb ID: tt1745960\n",
            "Number of reviews: 21794\n"
          ]
        },
        {
          "output_type": "stream",
          "name": "stderr",
          "text": [
            "Device set to use cpu\n"
          ]
        },
        {
          "output_type": "stream",
          "name": "stdout",
          "text": [
            "Contextual Summary: [{'summary_text': '\"Maverick\" offers a compelling journey into becoming a fighter pilot, blending classic tropes with newer faces. While some find it clichéd, others appreciate Jennifer Connelly\\'s portrayal of Maverick. Despite its age-worn clichés, the film\\'s fresh take on the role adds depth to the story. Tom Cruise\\'s performance is praised, though the movie may not reach the heights of its predecessors. Overall, it\\'s a great watch for fans of the genre, offering a unique take on a near-impossible mission with a twist of moments that resonate with audiences beyond the cinematic experience. \"Top Gun\" is a must-watch for fans wanting to quit their job and pursue a new passion for flying a different kind of flying experience. Regardless of its origins, it remains a memorable and thought-provoking exploration of the action genre.'}]\n",
            "Processing movie: The Lord of the Rings: The War of the Rohirrim\n",
            "IMDb ID: tt14824600\n",
            "Number of reviews: 24338\n"
          ]
        },
        {
          "output_type": "stream",
          "name": "stderr",
          "text": [
            "Device set to use cpu\n"
          ]
        },
        {
          "output_type": "stream",
          "name": "stdout",
          "text": [
            "Contextual Summary: [{'summary_text': '\"Lord of the Rings\" offers a unique take on Tolkien\\'s universe, blending traditional animation with modern cinematic techniques. While some find it generic and lacking substance, Cox\\'s portrayal of a badass is outstanding. The film\\'s action sequences and immersive narrative keep audiences engaged for over two hours, despite some shortcomings in production. Despite its simplistic style, it maintains a sense of nostalgia for the original trilogy and hints at future projects like \"Arcane.\" Overall, it\\'s worth a watch for fans of LOTR and its emphasis on feminism and action-packed narratives, offering a visually engaging viewing experience without overshadowing its potential for a future project like \"Mary Sue\" and \"Gangora\" atop the overall experience amidst a lackluster production and lackluster animation. Nonetheless, it falls short of its potential.'}]\n",
            "Processing movie: My Hero Academia: You're Next\n",
            "IMDb ID: tt32176689\n",
            "Number of reviews: 13191\n"
          ]
        },
        {
          "output_type": "stream",
          "name": "stderr",
          "text": [
            "Device set to use cpu\n"
          ]
        },
        {
          "output_type": "stream",
          "name": "stdout",
          "text": [
            "Contextual Summary: [{'summary_text': '\"My Hero Academia: Your Next\" delivers a high-octane adventure for fans of the series, blending action, compelling characters, and a thought-provoking story. Despite some underdeveloped characters, the film\\'s animation quality is mind-blowing, making it a must-watch for diehard fans. While not as filler as other MHA movies, it\\'s a memorable ride filled with action and romance in a special way, even if it falls short of the original cast\\'s development. Overall, this film stands as a standout in the anime genre, offering a unique take on the series\\' cult classics like \"JJK\" and \"Torino\" with a fresh take on villains and villains. Regardless of its flaws, it remains a compelling watch for anime fans and an entertaining addition to the series fans who love anime fans.'}]\n",
            "Processing movie: Harry Potter and the Philosopher's Stone\n",
            "IMDb ID: tt14149634\n",
            "Number of reviews: 0\n"
          ]
        },
        {
          "output_type": "stream",
          "name": "stderr",
          "text": [
            "Device set to use cpu\n",
            "Your max_length is set to 300, but your input_length is only 3. Since this is a summarization task, where outputs shorter than the input are typically wanted, you might consider decreasing max_length manually, e.g. summarizer('...', max_length=1)\n"
          ]
        },
        {
          "output_type": "stream",
          "name": "stdout",
          "text": [
            "Contextual Summary: [{'summary_text': '. - (IT) - 0 - 1 - 2 - 3 - 4 - 5 - 6 - 7 - 8 - 9 - 10 - 11 - 12 - 13 - 14 - 15 - 16 - 18 - 19 - 20 - 21 - 23 - 24 - 25 - 26 - 28 - 30 - 40 - 50 - 60 - 70 - 80 - 90 - 100 - 150 - 140 - 120 - 130 -140 - 45 - 34 - 35 - 44 -35 - 38 -34 - 41 - 39 - 42 - 43 - 64 - 36 - 33 - 31 - 32 - 46 - 49 - 54 --41 -46 -49 -48 -44 -'}]\n",
            "Processing movie: Borderlands\n",
            "IMDb ID: tt4978420\n",
            "Number of reviews: 23008\n"
          ]
        },
        {
          "output_type": "stream",
          "name": "stderr",
          "text": [
            "Device set to use cpu\n"
          ]
        },
        {
          "output_type": "stream",
          "name": "stdout",
          "text": [
            "Contextual Summary: [{'summary_text': '\"Borderlands\" receives mixed reviews, with praise for its world-building and action sequences but criticism for its lack of depth and lack of originality. While it may appeal to fans of the video game series, others find it formulaic and lacking in artistic vision. Despite references to the games, the movie lacks depth and a PG-13 rating, making it a forgettable addition to the action comedy genre. Kevin Hart\\'s absence adds to the overall experience, but overall, it\\'s deemed mediocre, with a lack of organic or enjoyable banter missing the mark for its attempt at a kid-friendly action comedy amidst its flaws. Ultimately, it remains a decent and enjoyable watch, even if it falls short of delivering entertaining entertainment value, leaving viewers wanting more from the overall viewing experience adversity in the long-term impact of a sequel to the series.'}]\n",
            "Processing movie: Pushpa 2 - The Rule\n",
            "IMDb ID tidak ditemukan untuk film Pushpa 2 - The Rule\n",
            "Processing movie: Spider-Man: No Way Home\n",
            "IMDb ID: tt10872600\n",
            "Number of reviews: 10762\n"
          ]
        },
        {
          "output_type": "stream",
          "name": "stderr",
          "text": [
            "Device set to use cpu\n"
          ]
        },
        {
          "output_type": "stream",
          "name": "stdout",
          "text": [
            "Contextual Summary: [{'summary_text': '\"Spider-Man: No Way Home\" is a phenomenal conclusion to the MCU trilogy, featuring Tom Holland\\'s standout performance as Spidey. While some find its plot points unclear, others praise its epic storytelling and emotional depth. The film\\'s pacing and homage to the previous iterations add depth, making it a must-watch for fans and fans alike. Despite some disappointments, it remains a dream come true for fans of the franchise, offering a thrilling ride with moments of excitement and excitement. Overall, it\\'s an incredible experience that will last a lifetime, a testament to the Marvel Cinematic Universe and the future of superheroes in a memorable cinematic experience that captivates audiences for years to come. Regardless of its shortcomings, \"Spiked-up\" stands as a milestone in the franchise\\'s development and a standout in the superhero fan base.'}]\n",
            "Processing movie: Sonic the Hedgehog\n",
            "IMDb ID: tt3794354\n",
            "Number of reviews: 20788\n"
          ]
        },
        {
          "output_type": "stream",
          "name": "stderr",
          "text": [
            "Device set to use cpu\n"
          ]
        },
        {
          "output_type": "stream",
          "name": "stdout",
          "text": [
            "Contextual Summary: [{'summary_text': '\"Sonic the Hedgehog\" garners mixed reviews, with some praising its fun and enjoyable plot, while others find it simpler and enjoyable. Despite its similarities to \"Pokemon Detective Pikachu,\" it\\'s praised for its fun relationship between Sonic and James Marsden. Jim Carrey shines in his role, capturing Sonic\\'s loneliness and longing for true friendship. While some may find it lacking in originality, others will appreciate its references to the Sonic games and potential for sequels. Overall, it remains a solid entry in the video game genre, even if it falls short of delivering a satisfying viewing experience for fans of the franchise and Sonic fans alike. Regardless, it\\'ll be hailed as a standout in the genre and a worthwhile watch for those with an interest in the Sonic game genre and Sonic fandom. Ultimately, it will be a must-watch for collectors and fans alike alike.'}]\n",
            "Processing movie: Transformers: Rise of the Beasts\n",
            "IMDb ID: tt5090568\n",
            "Number of reviews: 22760\n"
          ]
        },
        {
          "output_type": "stream",
          "name": "stderr",
          "text": [
            "Device set to use cpu\n"
          ]
        },
        {
          "output_type": "stream",
          "name": "stdout",
          "text": [
            "Contextual Summary: [{'summary_text': '\"Transformers: Primal\" receives mixed reviews, with some praising its visuals and action sequences, while others find it lacking in depth and depth. Despite some improvements, the film\\'s balance between realistic details and animated flourishes feels lacking. While some find it entertaining, others see it as a superficial introduction to the Transformers franchise. Ultimately, it\\'s a disappointing entry in the reboot universe, lacking the depth needed to stand out in the genre. Overall, it may appeal to fans of Transformers: Beast Wars fans, but not everyone finds it a worthwhile watch for those with a taste for Transformers fans and a deeper exploration of the franchise\\'s core story. Regardless, it might not be a memorable addition to the reboot genre, especially if you\\'re into Transformers-themed storytelling and visual effects-focused storytelling instead of a standout in its own genre genre storytelling and story-driven storytelling.'}]\n",
            "Processing movie: A Quiet Place: Day One\n",
            "IMDb ID: tt13433802\n",
            "Number of reviews: 12329\n"
          ]
        },
        {
          "output_type": "stream",
          "name": "stderr",
          "text": [
            "Device set to use cpu\n"
          ]
        },
        {
          "output_type": "stream",
          "name": "stdout",
          "text": [
            "Contextual Summary: [{'summary_text': '\"A Quiet Place: Day One\" receives mixed reviews, with some praising its chemistry between Lupita Nyong\\'o and Joseph Quinn, while others find it formulaic and lacking in depth. While some scenes feature heart-pounding tension and a touching note written by Samira, others feel underwhelmed. Despite its flaws, the film offers glimpses of familiar faces from previous installments, making it skippable if you have time. Overall, it\\'s a decent sci-fi horror with some enjoyable cinematic experience, though some may find it lacking depth and depth in its portrayal of the events surrounding the events around it. However, others may not fully grasp the mystery of the origins of its origins, leaving viewers to make it a worthwhile watch for those willing to dive deeper into the depths of the previous installment. Regardless, it remains a compelling and thought-provoking experience worth a watch.'}]\n",
            "Processing movie: Harry Potter and the Chamber of Secrets\n",
            "IMDb ID: tt0295297\n",
            "Number of reviews: 36880\n"
          ]
        },
        {
          "output_type": "stream",
          "name": "stderr",
          "text": [
            "Device set to use cpu\n"
          ]
        },
        {
          "output_type": "stream",
          "name": "stdout",
          "text": [
            "Contextual Summary: [{'summary_text': 'Kenneth Branagh delivers a standout performance as Gildaroy Lockhart, despite some convoluted scenes. While Branagh\\'s portrayal stood out, the plot felt convolute a bit. Richard Harris\\'s return as Dumbledore adds depth to the magical tale, making it a must-see for fans of the Harry Potter franchise. Despite its flaws, it\\'s a solid and enjoyable watch, albeit slightly less enjoyable than the first installment. Overall, \"The Chamber of Secrets\" remains a well-rounded magical movie with a strong cast including Maggie Smith, Alan Rickman, and Robbie Coltrane\\'s performances, ensuring a memorable viewing experience with your mother\\'s busy schedules. Regardless, it remains an enjoyable and underrated entry in the series, showcasing the magic of the wizarding genre and the enduring legacy of the franchise\\'s beloved franchise.'}]\n",
            "Processing movie: Godzilla x Kong: The New Empire\n",
            "IMDb ID: tt14539740\n",
            "Number of reviews: 26016\n"
          ]
        },
        {
          "output_type": "stream",
          "name": "stderr",
          "text": [
            "Device set to use cpu\n"
          ]
        },
        {
          "output_type": "stream",
          "name": "stdout",
          "text": [
            "Contextual Summary: [{'summary_text': '\"G X K\" offers a mixed bag of entertainment, with some praising its battle scenes and Kaiju terror, while others criticize its watered-down characters and lack of dialogue. Despite its flaws, the film\\'s direction by Adam Wingard delivers a solid performance, especially in the Kaiju scenes. While some may find it entertaining for 2 hours, others may not appreciate its water tight plot and engaging human stories. Overall, it\\'s a must-watch for fans of kaiju and a few big reasons, including its visuals and cinematic cinematic moments, making it an enjoyable watch for those who appreciate its immersive storytelling and engaging storyline. Ultimately, \"Godzilla vs Kong\" is a compelling and thought-provoking exploration of ancient civilizations and the human experience in a unique way of seeing them unfolding amidst the chaos and dangers of the film itself.'}]\n",
            "Processing movie: It Ends with Us\n",
            "IMDb ID: tt10655524\n",
            "Number of reviews: 17158\n"
          ]
        },
        {
          "output_type": "stream",
          "name": "stderr",
          "text": [
            "Device set to use cpu\n"
          ]
        },
        {
          "output_type": "stream",
          "name": "stdout",
          "text": [
            "Contextual Summary: [{'summary_text': '\"It Ends With Us\" fails to fully engage viewers, despite Ryle Kincaid\\'s stellar performance. While the film educates on relationship dynamics, it falls short of its potential. With its 2-hour runtime, it feels repetitive and unconvincing. Despite its flaws, it serves as a reminder that not all popular novels translate well to the big screen. Lily Bloom\\'s performance felt cringe-worthy, while the rest of the cast could have done better. Overall, it\\'s a waste of time and disappointment for those who appreciate the film\\'s impact on their lives. Ultimately, it could have been a better adaptation of a beloved book turned into a disaster, resulting in a disappointing and disappointing viewing experience for those willing to invest in the process. Regardless of whether or not, \"it ends with us\" remains a worthwhile watch for those interested in relationship dynamics and emotional depth.'}]\n",
            "Processing movie: Don't Move\n",
            "IMDb ID: tt24807110\n",
            "Number of reviews: 15197\n"
          ]
        },
        {
          "output_type": "stream",
          "name": "stderr",
          "text": [
            "Device set to use cpu\n"
          ]
        },
        {
          "output_type": "stream",
          "name": "stdout",
          "text": [
            "Contextual Summary: [{'summary_text': '\"Don\\'t Move\" is a Netflix thriller directed by Adam Schindler and Brian Netto and produced by Sam Raimi. Despite its challenges, the film offers a solid thrill ride with moments of tension and surprises. While some may find it predictable and lacking in creativity, others appreciate its logical storyline and realistic ending. The main killer, Richard Treadwell, is praised for his toughness but criticized for its lack of depth and unanswered questions. Overall, it\\'s a good watch for fans of horror, especially if you\\'re looking for an immersive scares and a thriller with a heart-pounding thrill ride. Nonetheless, it falls short of its potential, leaving viewers on the edge of their seats for its solid thrills and suspenseful moments. Regardless of its flaws, it remains a must-watch for those seeking a thrill ride worth watching for those looking for a gripping thriller.'}]\n",
            "Processing movie: BLUE LOCK THE MOVIE -EPISODE NAGI-\n",
            "IMDb ID tidak ditemukan untuk film BLUE LOCK THE MOVIE -EPISODE NAGI-\n",
            "Processing movie: Do Not Enter\n",
            "IMDb ID: tt27155283\n",
            "Number of reviews: 5922\n"
          ]
        },
        {
          "output_type": "stream",
          "name": "stderr",
          "text": [
            "Device set to use cpu\n"
          ]
        },
        {
          "output_type": "stream",
          "name": "stdout",
          "text": [
            "Contextual Summary: [{'summary_text': '\"Do Not Enter\" offers a simple yet effective approach to horror, focusing on two YouTubers who decide to spend a night in a haunted house. While the plot may feel clichéd, the film\\'s tense atmosphere and efficient soundtrack create a chilling atmosphere. However, its opening scene features verbal homophobic comments, detracting from the overall impact. Hugo Cardozo\\'s direction and Hernán Moyano\\'s production provide some redeeming qualities, but the film falls short in delivering on its promise of a low-budget horror film. Overall, it\\'s an enjoyable watch for fans of low budget horror films with plenty of scares and a strong supporting cast to add to the horror genre\\'s overall impact, making it a must-watch for horror fans and fans of the genre. Ultimately, \"Do not Enter\" is a worthwhile watch for those seeking '}]\n",
            "Processing movie: Civil War\n",
            "IMDb ID: tt17279496\n",
            "Number of reviews: 21720\n"
          ]
        },
        {
          "output_type": "stream",
          "name": "stderr",
          "text": [
            "Device set to use cpu\n"
          ]
        },
        {
          "output_type": "stream",
          "name": "stdout",
          "text": [
            "Contextual Summary: [{'summary_text': '\"This film\" uses a grossly undeveloped political scenario as an excuse to show us routine violence and contrived relationships in modern America. In it, Texas and California join forces to overthrow the president of the United States, creating a strange political bedfellow. While realistic, the final battle scene in Iraq left me tear-up, highlighting the dangerous divisions within American partisan politics. It immunizes against accusations of partisanship and cultural favortism, yet it also beckons us to imagine what kind of national crisis might bring. Overall, it\\'s a terrible and unsettling watch, especially if you\\'re expecting to see a Civil War in the US. Despite its flaws, it serves as a powerful reminder of the partisan divide in American politics in the 21st century, exposing the polarizing nature of policing in the face of nationalism.'}]\n",
            "Processing movie: 365 Days: This Day\n",
            "IMDb ID: tt12996154\n",
            "Number of reviews: 8107\n"
          ]
        },
        {
          "output_type": "stream",
          "name": "stderr",
          "text": [
            "Device set to use cpu\n"
          ]
        },
        {
          "output_type": "stream",
          "name": "stdout",
          "text": [
            "Contextual Summary: [{'summary_text': '\"50 shades of grey\" fails to deliver on its promise of a good time, with a mediocre plot and a lackluster cast. Despite its flaws, the main actors lack chemistry, and the film\\'s short runtime leaves viewers with little to enjoy. Michele Morrone shines in the lead role, but the movie falls short of the expectations set by the first one, leaving viewers wanting more. Overall, it\\'s a forgettable addition to the genre, with no originality and no romance, leaving audiences with little time to enjoy the movie\\'s absurd runtime and lackluster acting, leaving it feeling like a missed opportunity for viewers to fully appreciate the premise of the originality of the first two movies, even if it doesn\\'t break the mold set by previous ones, making it a disappointing and uninspired cinematic experience on netflix and not acclaim for its originality.'}]\n",
            "Processing movie: SpongeBob Squarepants: Kreepaway Kamp\n",
            "IMDb ID tidak ditemukan untuk film SpongeBob Squarepants: Kreepaway Kamp\n",
            "Processing movie: My Grandfather's Demons\n",
            "IMDb ID tidak ditemukan untuk film My Grandfather's Demons\n",
            "Processing movie: The Polar Express\n",
            "IMDb ID: tt0338348\n",
            "Number of reviews: 38319\n"
          ]
        },
        {
          "output_type": "stream",
          "name": "stderr",
          "text": [
            "Device set to use cpu\n"
          ]
        },
        {
          "output_type": "stream",
          "name": "stdout",
          "text": [
            "Contextual Summary: [{'summary_text': '\"The Polar Express\" is a visually stunning Christmas classic, showcasing pioneering work like CGI characters and advanced special effects technology. While some may find it boring, the movie\\'s rich winter landscapes and artistic detail make it a must-watch for those with younger children in your family. Despite its technical shortcomings, it\\'s a marvel of cinema, capturing the essence of Christmas with vivid visuals and a unique storyline. It\\'s an enjoyable addition to the holiday tradition, especially if you\\'re a younger generation enjoys its fun-loving characters and rich winter scenery amidst a blustery snowstorms and snowfalls. Nevertheless, it may not break new standards, but its enduring tradition will stand out as a Christmas classic in the coming years to come, making it an enjoyable and memorable watch for all ages and audiences alike. \"Ppolar Express\" remains a timeless classic that will remain a beloved favorite in the holiday spirit.'}]\n",
            "Processing movie: Buffalo Kids\n",
            "IMDb ID: tt26530493\n",
            "Number of reviews: 7930\n"
          ]
        },
        {
          "output_type": "stream",
          "name": "stderr",
          "text": [
            "Device set to use cpu\n"
          ]
        },
        {
          "output_type": "stream",
          "name": "stdout",
          "text": [
            "Contextual Summary: [{'summary_text': '\"Nick\" offers a unique take on life and death heroics, blending orphans with travelling children on a train to be adopted by pioneers of the Wild West. While some footage may have been cut to reduce the runtime, the film\\'s fast-paced action and engaging big-eyed animation make it a standout in the animated genre. Despite its flaws, it\\'s praised for its representation of a disabled child and its originality, particularly in its humor and action sequences. Overall, it stands out for its inventiveness and originality in animation, especially for those working with disabled children and fans of animated action movies. Regardless, it may not be a must-watch for fans of action-packed action-rich animations. Nonetheless, it remains a compelling and thought-provoking exploration of the wild west and its enduring impact on children and adults alike. overall, it represents a poignant tribute'}]\n",
            "Processing movie: Avengers: Infinity War\n",
            "IMDb ID: tt4154756\n",
            "Number of reviews: 13716\n"
          ]
        },
        {
          "output_type": "stream",
          "name": "stderr",
          "text": [
            "Device set to use cpu\n"
          ]
        },
        {
          "output_type": "stream",
          "name": "stdout",
          "text": [
            "Contextual Summary: [{'summary_text': '\"Avengers: Infinity War\" blends 25+ popular characters into a cohesive narrative, surpassing all previous Marvel movies. While the villain\\'s storyline nuances are kept intact, the film\\'s structure and pacing kept the narrative grounded. The performances, action sequences, and a cliffhanger at the end, make it an entertaining but average viewing experience. While it may not break new ground, it\\'s a masterful blend of action, comedy, and moral questions, making it a must-watch for fans of Marvel fans and those who love the superhero genre. Overall, \"AVENGERS: INFINITY WAR\" is a well-crafted and thought-provoking cinematic symphony that captivates audiences with its emotional depth and satirical atmosphere. Despite its lack of originality, it remains a standout in the genre, showcasing the power of love and sacrifice.'}]\n",
            "Processing movie: Battle for the Western Front\n",
            "IMDb ID: tt11585506\n",
            "Number of reviews: 2441\n"
          ]
        },
        {
          "output_type": "stream",
          "name": "stderr",
          "text": [
            "Device set to use cpu\n"
          ]
        },
        {
          "output_type": "stream",
          "name": "stdout",
          "text": [
            "Contextual Summary: [{'summary_text': '\"This film\" receives mixed reviews, with some praising its historical accuracy and realism, while others criticize its lack of cuff insignia and inaccurate uniforms. Despite attempts at recoiling, the trenches are poorly built, and a Sergeant wears webbing only issued to COs. The film\\'s lack of modern studio spotlights and poor acting leave a lasting impression, leaving viewers with a sense of regret for watching it again, even if it doesn\\'t reach its goal of achieving a better job in their garden with no funding. Ultimately, it\\'s a dreadful and ultimately uninspired cinematic experience that ultimately leaves viewers wanting more to see it again and again, leaving a legacy of the past and future films to come. Regardless of whether or not, it remains a must-watch for fans of historical fiction and historical dramas to come and go.'}]\n",
            "Processing movie: Twisters\n",
            "IMDb ID: tt12584954\n",
            "Number of reviews: 19498\n"
          ]
        },
        {
          "output_type": "stream",
          "name": "stderr",
          "text": [
            "Device set to use cpu\n"
          ]
        },
        {
          "output_type": "stream",
          "name": "stdout",
          "text": [
            "Contextual Summary: [{'summary_text': '\"Twisters\" offers a mixed bag of reviews, with some praising Glen Powell and Daisy Edgar-Jones, while others find it predictable and lacking in character depth. While some find it entertaining and entertaining, others see it as a sequel to the original. Despite its flaws, the film offers creative tornado sequences and visual memorable moments, but it falls short of the original\\'s potential. Ultimately, it\\'s a disappointment that fails to deliver on its promise of a disaster-themed experience, especially if you\\'re looking for a more authentic portrayal of characters and moments of character development in a film like \"Toronto\" in the first half of the year. Nonetheless, it may not be a good sequel, but overall, it might not be the most memorable movie in the sequel\\'s success in the long-term goals of its potential, even if it fails to live up to its potential.'}]\n",
            "Processing movie: Mary\n",
            "IMDb ID: tt5834854\n",
            "Number of reviews: 8710\n"
          ]
        },
        {
          "output_type": "stream",
          "name": "stderr",
          "text": [
            "Device set to use cpu\n"
          ]
        },
        {
          "output_type": "stream",
          "name": "stdout",
          "text": [
            "Contextual Summary: [{'summary_text': '\"Mary\" (2019) is a disappointing horror flick, starring Gary Oldman and Emily Mortimer but falls short in execution. Directed by Michael Goi, the film relies heavily on hackneyed techniques, relying too heavily on supernatural jump scares. Despite some creepy vibes, it falls short of delivering a truly terrifying experience, leaving viewers with little to explore beyond its amateurish premise and lackluster character development. Overall, it\\'s a decent film for fans of ghost stories and well-produced horror films, but overall, it fails to deliver on its promise of being a scary story altogether. Ultimately, it ultimately leaves viewers with a mixed bag of horror-thrillers and ultimately, ultimately, failing to engage viewers beyond its bleakness and lack of originality. Regardless of its shortcomings, \"Ghost Ship\" remains a must-watch for horror enthusiasts.'}]\n",
            "Processing movie: Prey\n",
            "IMDb ID: tt11866324\n",
            "Number of reviews: 20586\n"
          ]
        },
        {
          "output_type": "stream",
          "name": "stderr",
          "text": [
            "Device set to use cpu\n"
          ]
        },
        {
          "output_type": "stream",
          "name": "stdout",
          "text": [
            "Contextual Summary: [{'summary_text': '\"Predator 2\" receives mixed reviews, with some praising its performances and Sigourney weaver\\'s portrayal of the iconic character. Despite its flaws, Midthunder\\'s performance and Dakota Beavers\\' performance elevate the film, making it a standout in the franchise. Dan Trachtenberg\\'s direction shines in this sequel, but some critics find it lacking in depth and emotional depth. Overall, it\\'s an ok one-time watch if you\\'re a fan of the franchise, even if it falls short of delivering the punches of \"Prey 2022\" and others who see it as a worthy contender for a sequel or a spin-off contender. Regardless, it remains a worthwhile investment despite its lack of originality and a lack of depth in the characters\\' portrayal. Ultimately, it may not be a memorable sequel, despite some fans of the series\\' reputation.'}]\n",
            "Processing movie: Maria\n",
            "IMDb ID: tt7594584\n",
            "Number of reviews: 18233\n"
          ]
        },
        {
          "output_type": "stream",
          "name": "stderr",
          "text": [
            "Device set to use cpu\n"
          ]
        },
        {
          "output_type": "stream",
          "name": "stdout",
          "text": [
            "Contextual Summary: [{'summary_text': '\"Buji Lorenzana\\'s \"Maria\" (Christine Reyes) steals the show with her assassination attempt, leading to a fierce gun battle with her intended targets. Despite some disappointing action scenes, the film\\'s motivation for revenge is justified. However, the special effects were poor, with too much blood spray in every scene. Overall, it\\'s a decent action film, though it may not break new ground in Filipino cinema. Overall though, it was a good addition to the action genre, despite some clichéd action scenes and over-exaggerated stunts. Nevertheless, it still stands as a standout in Tagalog cinema, offering action-rich action-packed action-filled moments with excellent choreography and a memorable storyline that captivates viewers with its satirical tone and overall overall, overall, making it a worthwhile watch for fans of bad action movies.'}]\n",
            "Processing movie: Venom: Let There Be Carnage\n",
            "IMDb ID: tt7097896\n",
            "Number of reviews: 21362\n"
          ]
        },
        {
          "output_type": "stream",
          "name": "stderr",
          "text": [
            "Device set to use cpu\n"
          ]
        },
        {
          "output_type": "stream",
          "name": "stdout",
          "text": [
            "Contextual Summary: [{'summary_text': '\"Venom: Let There Be Carnage\" lacks a coherent style and vision, resulting in a mess with no intimate moments. While Tom Hardy delivers a standout performance, some scenes feel weird, like \"Ghost Rider (2007).\" The film\\'s lack of substance and lack of coherence hinder its potential. Despite attempts at comedy and action, it falls short of delivering the symbiote\\'s potential. Overall, it feels like a failed attempt at dark storytelling, lacking the depth needed to deliver a dark tale. Woody Harrelson\\'s performance and Woody Hardy\\'s performances make it a forgettable watch for fans of venom\\'s cult classics like \"Star Wars: The X-movie\" but ultimately, it leaves a lasting impression of a lesser-known villain in this franchise. Regardless, it\\'s still a satisfying and enjoyable experience worth a watch.'}]\n",
            "Processing movie: Migration\n",
            "IMDb ID: tt6495056\n",
            "Number of reviews: 25439\n"
          ]
        },
        {
          "output_type": "stream",
          "name": "stderr",
          "text": [
            "Device set to use cpu\n"
          ]
        },
        {
          "output_type": "stream",
          "name": "stdout",
          "text": [
            "Contextual Summary: [{'summary_text': '\"Migration\" offers a simple yet entertaining family adventure, anchored by Kumail Nanjiani\\'s portrayal of a duck dad migrating to his new home. While it may not break new ground in the genre, its visuals and vibrant color palette make it a fun watch for both adults and children. Despite some familiar moments, it\\'s a lighthearted adventure that appeals to all audiences, even if it falls short of the standards set by previous Illumination films. Overall, it offers entertaining moments and a visual feast for both children and adults alike, making it an enjoyable watch for younger audiences with its lighthearted escapism and laughs it takes away from the familiar tropes of action-y PG movies like Bolt and Monsters Inc. while some criticize its effectiveness, others find it lacking in substance and entertainment value in its genre genre genre films like \"movie genres.\"'}]\n",
            "Processing movie: Hijack 1971\n",
            "IMDb ID: tt31624258\n",
            "Number of reviews: 9473\n"
          ]
        },
        {
          "output_type": "stream",
          "name": "stderr",
          "text": [
            "Device set to use cpu\n"
          ]
        },
        {
          "output_type": "stream",
          "name": "stdout",
          "text": [
            "Contextual Summary: [{'summary_text': '\"Sk Cimes\" is hailed as one of the best Korean movies, praised for its balance of comedy and tragedy, but criticized for its lack of hype. Despite some positive reviews, it\\'s seen as a standout in the genre, showcasing the courage of its characters despite their flaws. While it may not break new ground, the movie\\'s tightly packed storyline and emotional depth make it a must-watch for fans of Korean cinema, especially if you\\'re a fan of Korean films with a balance of drama and comedy. Overall, it stands as one among the best movies in the world, even if it falls short of its rivals in terms of quality and quality in genres like \"maverick\" and \"mamerick\" in the makings for a memorable cinematic experience and a great movie worth watching ah-choice in storytelling and storytelling.'}]\n",
            "Processing movie: Take Cover\n",
            "IMDb ID: tt28129054\n",
            "Number of reviews: 15857\n"
          ]
        },
        {
          "output_type": "stream",
          "name": "stderr",
          "text": [
            "Device set to use cpu\n"
          ]
        },
        {
          "output_type": "stream",
          "name": "stdout",
          "text": [
            "Contextual Summary: [{'summary_text': '\"Take Cover:Scott Adkins\" receives mixed reviews, with some praising its acting and action sequences, while others criticize its pointless dialogue and lackluster screenplay. While some appreciate Madalina Bellariu Ion\\'s performance, others find it lacking in substance and plot holes. Despite its flaws, Adkins\\' performance shines, especially in the lead role, adding depth to the action. While the film may not break new ground, it\\'s a fine entry in the action genre, despite its low budget, making it a worthwhile watch for fans of action flicks and those who appreciate the high-profile director\\'s work and his dedication to action-packed moments. Overall, I\\'m not a disappointment in this film, especially if you\\'re a big fan of action movies and adkins\\'s talent. Regardless, a B movie with a wide berth for fans and fans of the genre.'}]\n",
            "Processing movie: Le clitoris\n",
            "IMDb ID: tt7103560\n",
            "Number of reviews: 701\n"
          ]
        },
        {
          "output_type": "stream",
          "name": "stderr",
          "text": [
            "Device set to use cpu\n",
            "Your max_length is set to 300, but your input_length is only 172. Since this is a summarization task, where outputs shorter than the input are typically wanted, you might consider decreasing max_length manually, e.g. summarizer('...', max_length=86)\n"
          ]
        },
        {
          "output_type": "stream",
          "name": "stdout",
          "text": [
            "Contextual Summary: [{'summary_text': '\"Le Clitoris\" is a well-made and informative documentary that manages to get its message across with adorable animation. Director Lori Malépart-Traversy uses pink, black and white to tell the story, making the clitoris freaking adorable. While not exactly a how-to guide, it emphasizes the importance of sex. It\\'s a short you really should see, especially for teens, as it\\'s an excellent introduction to sexes and a must-watch for all. Despite its flaws, the film\\'s simplicity and technique make it a worthwhile watch for teens. Ultimately, the story of a young couple\\'s quest for happiness is one of the most important aspect of sexuality. Regardless of age, this documentary offers a fascinating and informative guide to a woman\\'s journey through a man\\'s pursuit of happiness and sexuality in general.'}]\n",
            "Processing movie: The Best Christmas Pageant Ever\n",
            "IMDb ID: tt2347285\n",
            "Number of reviews: 22439\n"
          ]
        },
        {
          "output_type": "stream",
          "name": "stderr",
          "text": [
            "Device set to use cpu\n"
          ]
        },
        {
          "output_type": "stream",
          "name": "stdout",
          "text": [
            "Contextual Summary: [{'summary_text': '\"It\\'s a Wonderful Life\" receives mixed reviews, with some praising its family-friendly approach and realistic overtones. While others find it forgettable and lacking in originality, others appreciate its authenticity and impact. Director Dallas Jenkins crafts one of the best Christmas movies in recent memory, blending family dynamics with realistic characters. Despite some \"LIFETIME Movie\" moments, it\\'s not for everyone who wants to indoctrinate their kids with religious stupidity, making it a must-watch for those who appreciate its originality and impactful storytelling. Overall, the film\\'s simplistic storytelling and realistic characters make it an enjoyable watch for those with a deeper understanding of the holiday spirit and the holidays. Regardless, it may not be for everyone, but it may be a timeless story worth revisiting for those seeking something more memorable and memorable viewing experience for those willing to invest in faith-based films like \"home-time'}]\n",
            "Processing movie: Haunted Heart\n",
            "IMDb ID: tt21881904\n",
            "Number of reviews: 3619\n"
          ]
        },
        {
          "output_type": "stream",
          "name": "stderr",
          "text": [
            "Device set to use cpu\n"
          ]
        },
        {
          "output_type": "stream",
          "name": "stdout",
          "text": [
            "Contextual Summary: [{'summary_text': '\"Haunted Heart\" directed by Fernando Trueba receives mixed reviews, with criticism centered on its predictable plot and lackluster characters. While some find it entertaining, others see it as a letdown due to its predictable narrative and lack of depth. Despite its flaws, the film offers clear examples of red flags in relationships, particularly in relationships with strangers. Aida Folch shines in her role, but the material lacks depth and the dialogue lacks meaning. Overall, it\\'s a forgettable and disappointing viewing experience, especially for those willing to pay attention to the film\\'s impact on their own. Ultimately, \"Hautred Heart\" remains a disappointing entry in the genre, offering a fresh perspective on relationships and relationships in relational relationships with its lack of originality and a lackluster narrative. Regardless of its shortcomings, it may not be a compelling and thought-provoking cinematic experiences.'}]\n",
            "Processing movie: Krampus\n",
            "IMDb ID: tt3850590\n",
            "Number of reviews: 18018\n"
          ]
        },
        {
          "output_type": "stream",
          "name": "stderr",
          "text": [
            "Device set to use cpu\n"
          ]
        },
        {
          "output_type": "stream",
          "name": "stdout",
          "text": [
            "Contextual Summary: [{'summary_text': '\"Krampus\" offers a mix of holiday comedy and horror, featuring strong performances from David Koechner and Conchata Ferrell. Directed by Michael Dougherty, the film follows a suburban family whose family is falling apart just in time for Christmas. While some find it lighthearted and funny, others find it more of a comedy than a horror classic. Despite its flaws, it\\'s a memorable addition to the Yuletide genre, offering moderate scares and memorable monster fun for those who struggle with seasonal cheeriness and nostalgia. Overall, it may not break new ground in the horror genre, but it may offer a fresh perspective on the genre\\'s most beloved classics like \"Night of the Living Dead\" and \"Gremlins\" in the genre. Regardless, it remains a must-watch for horror fans seeking a unique take on the holiday spirit with skill and depth.'}]\n",
            "Processing movie: The Haunting of the Immaculate Nurse\n",
            "IMDb ID tidak ditemukan untuk film The Haunting of the Immaculate Nurse\n",
            "Processing movie: xXx\n",
            "IMDb ID: tt0295701\n",
            "Number of reviews: 19383\n"
          ]
        },
        {
          "output_type": "stream",
          "name": "stderr",
          "text": [
            "Device set to use cpu\n"
          ]
        },
        {
          "output_type": "stream",
          "name": "stdout",
          "text": [
            "Contextual Summary: [{'summary_text': '\"The Man\" is a fast-paced action flick directed by Rob Cohen, featuring Vin Diesel as an \"extreme protester\" recruited to accomplish a vague mission. While some find it shallow and lacking depth, others appreciate its high-energy action, noisy thrills, struggles, and spectacular scenes. Diesel\\'s portrayal of Xander Cage, a macho-man with natural athletic abilities, is laughably bad, while Samuel L. Jackson\\'s inclusion adds depth to the film\\'s visual appeal. Despite its shortcomings, it\\'s a visually stunning blockbuster with real stunts and memorable music, making it a must-watch for fans of extreme sports and action genre movies. Overall, it may not have been a forgettable entry in the genre in 2002, but overall, it deserves recognition for its lack of respect for Bond\\'s originality and a sense of humor, even amidst its flaws.'}]\n",
            "Processing movie: The Aunts\n",
            "IMDb ID tidak ditemukan untuk film The Aunts\n",
            "Processing movie: Strange Darling\n",
            "IMDb ID: tt22375054\n",
            "Number of reviews: 15894\n"
          ]
        },
        {
          "output_type": "stream",
          "name": "stderr",
          "text": [
            "Device set to use cpu\n"
          ]
        },
        {
          "output_type": "stream",
          "name": "stdout",
          "text": [
            "Contextual Summary: [{'summary_text': '\"Strange Darling\" is a visually stunning indie horror thriller that keeps viewers guessing from beginning to end. While JT Mollner\\'s direction and cinematography shine, the film\\'s disjointed structure leaves it predictable and lacking in surprises. Despite its flaws, it\\'s a must-watch for fans of indie cinema, offering lengthy and brutal scenes that keep viewers on edge. Kyle Gallner\\' characterization and Christopher Nolan vibes elevate the film, making it a standout in the genre, even if it falls short of delivering a theatrical release. Overall, \"Standard\" stands out for its pacing and execution, despite its short runtime and lackluster performances. Nonetheless, it still leaves a lasting impression on those into indie films with positive reviews and a solid foundation for future endeavors indie genre fans. Regardless of its shortcomings, it remains a compelling entry in the horror genre.'}]\n",
            "Processing movie: John Wick: Chapter 4\n",
            "IMDb ID: tt10366206\n",
            "Number of reviews: 19082\n"
          ]
        },
        {
          "output_type": "stream",
          "name": "stderr",
          "text": [
            "Device set to use cpu\n"
          ]
        },
        {
          "output_type": "stream",
          "name": "stdout",
          "text": [
            "Contextual Summary: [{'summary_text': '\"John Wick: Chapter 4\" delivers action-packed action, blending Hollywood action with Marvel\\'s greater demand. While the movie\\'s vibrant colors and locations provide a feast for the eyes, the storyline remains unclear. Despite its flaws, the fight scenes are fast-paced and clear, making it a must-watch for fans of video games. While some find it ridiculous, others appreciate Wick\\'s versatility in fighting scenes. The end credits scene adds depth to the overall experience, but overall, the movie falls short of its potential, leaving a lasting impression on fans of the franchise\\'s action franchises. Overall, it\\'s a great addition to the action genre, even if it falls short in its overall impact. Ultimately, it may not be a masterpiece in action genres, but it may be worth a watch if not acclaim for action-comedy genre fans and aficionados.'}]\n",
            "Processing movie: The Godfather\n",
            "IMDb ID: tt0068646\n",
            "Number of reviews: 18426\n"
          ]
        },
        {
          "output_type": "stream",
          "name": "stderr",
          "text": [
            "Device set to use cpu\n"
          ]
        },
        {
          "output_type": "stream",
          "name": "stdout",
          "text": [
            "Contextual Summary: [{'summary_text': '\"The Godfather\" is hailed as one of the greatest films of all time, praised for its subtlety and ensemble cast, particularly Marlon Brando\\'s portrayal of Don Vito. While some find it slow-moving and the plot takes some time to unfold, the film\\'s complexity and depth make it a standout in the genre. Despite its flaws, the ensemble cast delivers outstanding performances, particularly from John Cazale and Richard Castellano. Ultimately, it\\'s a testament to Coppola\\'s ability to set apart evil in a complex society\\'s darkest corners. Overall, it stands as a must-watch for those seeking depth and depth in its portrayal and storytelling. Regardless of whether or not, it remains a compelling watch for those who appreciate its enduring impact on the world around it and its impact on humanity and humanity\\'s overall impact on others.'}]\n",
            "Processing movie: TOGEFILM - Mei Mei\n",
            "IMDb ID tidak ditemukan untuk film TOGEFILM - Mei Mei\n",
            "Processing movie: Homo Eroticus\n",
            "IMDb ID tidak ditemukan untuk film Homo Eroticus\n",
            "Processing movie: The Chronicles of Narnia: The Lion, the Witch and the Wardrobe\n",
            "IMDb ID: tt0363771\n",
            "Number of reviews: 27697\n"
          ]
        },
        {
          "output_type": "stream",
          "name": "stderr",
          "text": [
            "Device set to use cpu\n"
          ]
        },
        {
          "output_type": "stream",
          "name": "stdout",
          "text": [
            "Contextual Summary: [{'summary_text': '\"Narnia\" delivers a magical journey through the magical land of Narnia, starring Tina Swinton and Liam Neeson. The film\\'s visuals are stunning, capturing the wonder of Lewis\\'s writings in a timeless manner. While some scenes feel uneven, the performances, particularly by the lead actress, shine. The cast lacks depth, and the cinematography feels like a made-for-TV movie. Overall, it\\'s a captivating cinematic experience that resonates with audiences of all ages, making it a must-see for all audiences. Despite its flaws, it remains a compelling and thought-provoking exploration of human nature and human nature in the world of the ages of humankind in the 21st century. Ultimately, it deserves recognition for its timeless message and its impact on the world we live in today\\'s modern day cinemas around the world.'}]\n",
            "Processing movie: Brothers\n",
            "IMDb ID: tt0765010\n",
            "Number of reviews: 26063\n"
          ]
        },
        {
          "output_type": "stream",
          "name": "stderr",
          "text": [
            "Device set to use cpu\n"
          ]
        },
        {
          "output_type": "stream",
          "name": "stdout",
          "text": [
            "Contextual Summary: [{'summary_text': '\"Brothers\" features Tobey Maguire as a marine who goes to Afghanistan and is portrayed by Jake Gyllenhaal and Natalie Portman. While the film offers solid performances from the trio, particularly from Toby Maguire, his portrayal of Tommy Cahill feels intentionally diminished. Despite this, the film\\'s attempt to tackle the subject of war falls short, resulting in a forgettable experience for fans of the original. While some find it compelling, others criticize its age and lack of emotional depth. Overall, it\\'s a throw-away film with solid performances and a compelling storyline that appeals to fans of comic books and comic books fans alike. Nevertheless, it falls short of its potential, leaving viewers wanting more from the film. Nonetheless, it may not reach its full potential, but it may be a worthwhile watch if it fails to deliver a satisfying cinematic experience with its enduring appeal.'}]\n",
            "Processing movie: The Bad Guys: Haunted Heist\n",
            "IMDb ID: tt33130902\n",
            "Number of reviews: 2017\n"
          ]
        },
        {
          "output_type": "stream",
          "name": "stderr",
          "text": [
            "Device set to use cpu\n"
          ]
        },
        {
          "output_type": "stream",
          "name": "stdout",
          "text": [
            "Contextual Summary: [{'summary_text': '\"The Bad Guys: Haunted Heist (2024)\" receives mixed reviews, with some praising its Halloween twist and the new cast\\'s performances. While some find it enjoyable for fans of the franchise, others see it as a cash grab from Netflix. The film\\'s focus on supernatural elements and the spooky season may not resonate with all viewers, but it offers a simple and enjoyable adventure for fans seeking a different take on the characters. Overall, it\\'s a good TV Special for the Halloween season and can be enjoyed with the family, especially for those who appreciate its lighthearted storytelling and character-driven storytelling. However, it may not reach the top tier status for this franchise, though it may be worth a watch for fans looking for a fun and memorable experience for those interested in a Halloween heist-themed TV special for the holiday season. Nonetheless, it remains a memorable and enjoyable treat for those seeking '}]\n",
            "Processing movie: Nutcrackers\n",
            "IMDb ID: tt30144381\n",
            "Number of reviews: 21322\n"
          ]
        },
        {
          "output_type": "stream",
          "name": "stderr",
          "text": [
            "Device set to use cpu\n"
          ]
        },
        {
          "output_type": "stream",
          "name": "stdout",
          "text": [
            "Contextual Summary: [{'summary_text': '\"Nutcrackers (2024)\" fails to deliver on its promise of humor and heartwarming moments, with characters obnoxious and unsympathetic. The film\\'s attempt at comedy falls short, resulting in a jagged, unsatisfying mess. While it attempted to deliver holiday magic, it ultimately felt meaningless. Linda Carellini\\'s presence adds to the bore, but overall, the movie falls short of its potential, leaving audiences wanting more. Overall, it\\'s a forgettable entry in 2024, starring Ben Stiller\\'s career, leaving viewers with a mixed bag of laughs and a dull and forgettable viewing experience. Despite its flaws, the film remains a disappointing and ultimately forgettable addition to the holiday season. Regardless of its effectiveness, it could serve as a refreshing departure from classics like \"Tom adolescent\"'}]\n",
            "Processing movie: Harry Potter and the Prisoner of Azkaban\n",
            "IMDb ID: tt0304141\n",
            "Number of reviews: 38028\n"
          ]
        },
        {
          "output_type": "stream",
          "name": "stderr",
          "text": [
            "Device set to use cpu\n"
          ]
        },
        {
          "output_type": "stream",
          "name": "stdout",
          "text": [
            "Contextual Summary: [{'summary_text': '\"Harry Potter\" offers a refreshing take on the classic storyline, with no despicable villain to hate. Instead, the film follows Harry\\'s adventures with fun special effects and 5.1 surround sound. Alan Rickman\\'s performance as Professor Snape shines, while Emma Thompson shines as an eccentric tea-leaf reader. The film explores the underlying concepts in an intelligent manner, with less Quidditch matches and more menace. While some may find it hard to understand, others will appreciate its introspectiveness and cerebral wonder that makes life worth living. Overall, it\\'s a compelling and enjoyable watch for fans of Harry Potter and the wizardry genre, offering a unique and memorable viewing experience for those who appreciate its unique approach to storytelling and storytelling. Despite its flaws, it remains a captivating and thought-provoking exploration of the complexities of the source material and its impact on viewers\\' perceptions and perceptions.'}]\n",
            "Processing movie: Cuerpo escombro\n",
            "IMDb ID: tt30244989\n",
            "Number of reviews: 730\n"
          ]
        },
        {
          "output_type": "stream",
          "name": "stderr",
          "text": [
            "Device set to use cpu\n",
            "Your max_length is set to 300, but your input_length is only 163. Since this is a summarization task, where outputs shorter than the input are typically wanted, you might consider decreasing max_length manually, e.g. summarizer('...', max_length=81)\n"
          ]
        },
        {
          "output_type": "stream",
          "name": "stdout",
          "text": [
            "Contextual Summary: [{'summary_text': '\"The Movie\" is a series of degrading clichés about people with disabilities, lacking a middle ground. Despite criticisms, the film hired disabled actors to weather the storm, but they decided to move forward anyway. While it may be forgotten, it cost money that could have been spent on something worthwhile. Overall, it\\'s a shameful portrayal of disabled people, despite its flaws in portrayal and execution. Ultimately, it won\\'t be remembered, and it\\'ll cost more to watch than it could\\'ve spent on a worthwhile film. Regardless, it may not be worth paying for a ticket, but it may well be forgotten for those who can\\'t afford to watch it amidst its negative impact on the disabled person\\'s future. Nevertheless, it remains a worthy viewing experience for those willing to invest in the process of ad hoc and worthwhile viewing experience that ends up costing more money.'}]\n",
            "Processing movie: Harry Potter and the Goblet of Fire\n",
            "IMDb ID: tt0330373\n",
            "Number of reviews: 21834\n"
          ]
        },
        {
          "output_type": "stream",
          "name": "stderr",
          "text": [
            "Device set to use cpu\n"
          ]
        },
        {
          "output_type": "stream",
          "name": "stdout",
          "text": [
            "Contextual Summary: [{'summary_text': '\"Harry Potter\" is the fourth installment in the J.K. Rowling saga, featuring Harry, Ron, and Hermione at Hogwarts. While some find it long, others appreciate its portrayal of Dumbledore and Maggie Smith. Michael Gambon delivers an excellent performance, though some may find it too intense. Despite its length, the film offers moments of adventure, heartache, and ultimately, hope, making it a dazzling tapestry woven from threads of adventure and hope. With breathtaking musical score and breathtaking visuals, it\\'s a must-watch for Harry and Emma Watson fans and fans of the era to enjoy this cult classic era of Harry and Harry\\'s journey. Gambon\\'s portrayal is a testament to the power of storytelling in the face of adolescence and the ages to be a timeless tale of redemption and redemption.'}]\n",
            "Processing movie: Below Her Mouth\n",
            "IMDb ID: tt5073620\n",
            "Number of reviews: 12584\n"
          ]
        },
        {
          "output_type": "stream",
          "name": "stderr",
          "text": [
            "Device set to use cpu\n"
          ]
        },
        {
          "output_type": "stream",
          "name": "stdout",
          "text": [
            "Contextual Summary: [{'summary_text': '\"Behind Her Mouth\" offers a mixed bag of reviews, with praise for Natalie Krill and Erika Linder\\'s chemistry but criticism for its sex scenes and lack of depth. While some find it melodramatic and reminiscent of \"Blue is the Warmest Color,\" others see it as a forgettable entry in the genre. Despite its flaws, the film\\'s portrayal of love and betrayal resonates deeply, making it a compelling watch for lesbians seeking happiness and self-discovery. Overall, it\\'s considered a disappointing and uninspired romantic film, despite its lack of realism and a lack of substance behind its shortcomings. Regardless, it may not be a memorable addition to the genre, but it may offer a fresh perspective on sexuality and sexuality in cinema. Ultimately, it could stand to gain acclaim for female performances and romantic drama.'}]\n",
            "Processing movie: The Shawshank Redemption\n",
            "IMDb ID: tt0111161\n",
            "Number of reviews: 24411\n"
          ]
        },
        {
          "output_type": "stream",
          "name": "stderr",
          "text": [
            "Device set to use cpu\n"
          ]
        },
        {
          "output_type": "stream",
          "name": "stdout",
          "text": [
            "Contextual Summary: [{'summary_text': '\"The Shawshank Redemption\" showcases Tim Robbins\\' performance as Andy Dufresne, a man wrongfully convicted of murdering his wife and lover. Frank Darabont outdoes himself with the phenomenal adaptation of Stephen King\\'s novella, Rita Hayworth. Despite no real action, Morgan Freeman\\'s humanity is contagious and inspiring, making it a must-watch for fans of crime and punishment movies. With great performances and a deeply emotional climax, it stands as a standout in the genre, even if it\\'s still a long time to come. Regardless of whether or not, \"Shahank\" remains a timeless classic, offering a unique and unforgettable viewing experience that lingers long after the credits roll, leaving a lasting impression with its emotional impact and emotional depth amidst its enduring legacy of greatness.'}]\n",
            "Processing movie: Freedom\n",
            "IMDb ID: tt2584018\n",
            "Number of reviews: 17078\n"
          ]
        },
        {
          "output_type": "stream",
          "name": "stderr",
          "text": [
            "Device set to use cpu\n"
          ]
        },
        {
          "output_type": "stream",
          "name": "stdout",
          "text": [
            "Contextual Summary: [{'summary_text': '\"Freedom\" is a mixed bag, with some critics praising its historical portrayal of slavery and the complexities of its characters. While some use hymns and spirituals, others feel like it\\'s trying to be a musical. The movie\\'s production, art direction, and cinematography are top-notch, but some find it overly modern and lacking in CGI. Despite its flaws, it deserves recognition for its portrayal and historical accuracy, though it may not fully capture the essence of its subject matter. Overall, it\\'ll be viewed as a good watch for those interested in historical documenting slavery and its impact on the film\\'s impact on societal norms. Ultimately, \"Follow\" deserves praise for its storytelling and production, but it may be criticized for its lack of attention to detail and lack of historical context. Regardless of its shortcomings, \"Free\" remains a must-watch for those concerned about racial stereotypes and storytelling.'}]\n",
            "Processing movie: The Shadow Strays\n",
            "IMDb ID: tt28349451\n",
            "Number of reviews: 17585\n"
          ]
        },
        {
          "output_type": "stream",
          "name": "stderr",
          "text": [
            "Device set to use cpu\n"
          ]
        },
        {
          "output_type": "stream",
          "name": "stdout",
          "text": [
            "Contextual Summary: [{'summary_text': '\"The Shadow Strays\" offers a hypnotic opera of blood and action, though its finale feels silly. The film\\'s gore and unrestrained violence are predictable, but it lacks depth. The lead actress, Hana malasan, shines in her role, though she\\'s inexperienced. Despite its flaws, the film offers moments of thrills and suspense, making it a must-watch for fans of action movies with a flair for extreme gore. Overall, it\\'s a good watch for those who appreciate the thrills but also its lack of depth in storytelling and action scenes, leaving viewers wanting more depth in this action-packed film. Regardless, it may not be a contender in the genre, especially if you\\'re a fan of action-comedy action films with an unpredictability and a sense of urgency in the making it an enjoyable watch.'}]\n",
            "Processing movie: The Super Mario Bros. Movie\n",
            "IMDb ID: tt6718170\n",
            "Number of reviews: 21459\n"
          ]
        },
        {
          "output_type": "stream",
          "name": "stderr",
          "text": [
            "Device set to use cpu\n"
          ]
        },
        {
          "output_type": "stream",
          "name": "stdout",
          "text": [
            "Contextual Summary: [{'summary_text': '\"Super Mario: The Gathering\" offers a mixed bag of reviews, with some praising its entertaining approach and Mario-centric elements, while others find it lacking in depth and filler. While some find it entertaining for kids and adults, others feel it falls short of delivering the Mario-themed experience. Despite its flaws, it\\'s praised for its fast-paced storytelling and engaging characters. However, it feels like it missed the mark on the franchise, lacking the emotional depth expected from Illumination. Overall, the movie\\'s overall rating isn\\'t a bad watch, despite some positives and some negatives. Regardless of whether you\\'re a fan of the franchise or disliking it, overall, it doesn\\'t quite match the Mario fancier version of the original franchise\\'s original franchise-inspired storytelling or cult classic franchise-style storytelling. Ultimately, it still feels like a missed opportunity to celebrate Mario\\'s legacy with this film.'}]\n",
            "Processing movie: The Beekeeper\n",
            "IMDb ID: tt15314262\n",
            "Number of reviews: 13749\n"
          ]
        },
        {
          "output_type": "stream",
          "name": "stderr",
          "text": [
            "Device set to use cpu\n"
          ]
        },
        {
          "output_type": "stream",
          "name": "stdout",
          "text": [
            "Contextual Summary: [{'summary_text': '\"The Beekeeper\" receives mixed reviews, with praise for Jason Statham\\'s portrayal of a retired beekeeper but criticism for its rushed plot and lack of sympathy for villains. While some find it entertaining and entertaining, others see it as a plain revenge film with commentary on avarice and political dirty dealings. Despite its flaws, the film offers compelling action sequences and a gripping tale of vengeance that transcends personal vendettas to impact a nation. Statham and Jeremy Irons\\' performances shine through, making it a worthwhile watch for fans of action movies with a sense of belief in its potential, even if it falls short of its potential. Overall, it\\'s a compelling but flawed action thriller with potential for a sequel in the future. Regardless, it remains a must-watch for those seeking immersive experiences and memorable cinematic experience worth experiencing amidst its shortcomings.'}]\n",
            "Processing movie: Avatar: The Way of Water\n",
            "IMDb ID: tt1630029\n",
            "Number of reviews: 25545\n"
          ]
        },
        {
          "output_type": "stream",
          "name": "stderr",
          "text": [
            "Device set to use cpu\n"
          ]
        },
        {
          "output_type": "stream",
          "name": "stdout",
          "text": [
            "Contextual Summary: [{'summary_text': '\"Avatar: The Way of Water\" is a visually stunning blockbuster from Jams Cameroon, praised for its captivating visuals and painstaking CGI execution. While some find its storyline lacking depth, others praise its ingenious message about protecting loved ones. The film\\'s CG effects are outstanding, with a buzzing atmosphere that lingers long after viewing. Despite some lagging moments, the movie\\'s emotional depth and action sequences make it a must-see for fans of video game-like action movies, especially those who enjoy a bit more immersive experience than any other blockbusters. Overall, it\\'s an unforgettable experience worth seeing for those who appreciate its CG-energetic storytelling and awe-inspiring visuals amidst its crowded plot and lackluster visuals. Regardless of its origins, it still stands as a standout in recent years.'}]\n",
            "Processing movie: Harry Potter and the Deathly Hallows: Part 1\n",
            "IMDb ID: tt0926084\n",
            "Number of reviews: 40665\n"
          ]
        },
        {
          "output_type": "stream",
          "name": "stderr",
          "text": [
            "Device set to use cpu\n"
          ]
        },
        {
          "output_type": "stream",
          "name": "stdout",
          "text": [
            "Contextual Summary: [{'summary_text': '\"Deathly Hallows: Part I\" delivers a tense and thrilling experience, blending tension with mature storytelling. Ralph Fiennes\\'s return to the role of Voldemort adds depth to the series, though some may find it repetitive. Despite its dark tone, it\\'s a strong build-up to the bittersweet finale, reminiscent of previous installments. While not without its flaws, the film\\'s stunning animation and strong performances make it a satisfying watch, especially for fans of HP6 and its enduring legacy of cinematic storytelling. Overall, \"Hallows\" stands as a testament to Yates\\'s ability to craft a dark and unforgettable cinematic experience that will leave a lasting impression on those who haven\\'t read the series\\'s legacy for a long time to come. Regardless of its shortcomings, it remains a must-watch for those who enjoy'}]\n",
            "Processing movie: Rise of the Guardians\n",
            "IMDb ID: tt1446192\n",
            "Number of reviews: 28728\n"
          ]
        },
        {
          "output_type": "stream",
          "name": "stderr",
          "text": [
            "Device set to use cpu\n"
          ]
        },
        {
          "output_type": "stream",
          "name": "stdout",
          "text": [
            "Contextual Summary: [{'summary_text': '\"Rise of the Guardians\" offers a whimsically magical start to the festive season, featuring Jack Frost as a childhood guardian. Alec Baldwin\\'s portrayal of Santa is captivating, as is Jude Law\\'s menacing voice-work. While some may find it too scary for children, the film\\'s focus on overcoming fear and overcoming fears resonates deeply. Despite its flaws, it\\'s still a heartwarming and enjoyable watch, especially for those who truly allow themselves to feel the characters and their motivations, making it a must-watch for those willing to embrace its unique approach to storytelling and storytelling. Overall, \"RISE OF THE GUARDIANS\" remains a worthwhile watch for those with a sense of humour and awe-inspiring character in the midst of adversity and societal expectations make it an enjoyable watch for all audiences.'}]\n",
            "Processing movie: Crayon Shinchan the Movie: Our Dinosaur Diary\n",
            "IMDb ID tidak ditemukan untuk film Crayon Shinchan the Movie: Our Dinosaur Diary\n",
            "Processing movie: The Silent Hour\n",
            "IMDb ID: tt22874848\n",
            "Number of reviews: 27583\n"
          ]
        },
        {
          "output_type": "stream",
          "name": "stderr",
          "text": [
            "Device set to use cpu\n"
          ]
        },
        {
          "output_type": "stream",
          "name": "stdout",
          "text": [
            "Contextual Summary: [{'summary_text': '\"The Silent Hour\" follows homicide detective Frank Shaw (Joel Kinnaman) as he investigates the murder of two drug pushers in Boston. While his former partner Detective Doug Slater (Mark Strong) enlists Shaw\\'s help in interviewing a deaf witness, Ava Fremont (Sandra Mae Frank). While the film\\'s script doesn\\'t do much wrong, it offers moments of originality and tension. Director Brad Anderson delivers a film that is entertaining but lacking in originality. Overall, it\\'s a strong portrayal of a disabled hero, albeit with some moments of intense scenes that kept viewers wanting more. Despite its flaws, \"Silent Night\" remains a must-watch for fans of crime thrillers and the genre\\'s depth and authenticity in their portrayal and storytelling. Regardless, it remains tense and memorable, making it a worthwhile watch.'}]\n",
            "Processing movie: The Children's Train\n",
            "IMDb ID: tt29242846\n",
            "Number of reviews: 20056\n"
          ]
        },
        {
          "output_type": "stream",
          "name": "stderr",
          "text": [
            "Device set to use cpu\n"
          ]
        },
        {
          "output_type": "stream",
          "name": "stdout",
          "text": [
            "Contextual Summary: [{'summary_text': '\"Il Treno dei Bambini - The Children\\'s Train\" offers a poignant portrayal of young Italian children who were temporarily moved to the north to live with loving families. Christian Cervone\\'s performance as Amerigo, portrayed by Serena Rossi and Barbara Ronchi, captures the essence of post-war Italy. While the film\\'s simple script may not be original, its authenticity and emotional depth leave a lasting impression, making it a must-watch for those who appreciate intimate, character-driven stories with significant emotional depth and social commentary. Cervoni\\'s portrayal and the film resonates deeply, leaving an indelible mark on the heartfelt memories of a forgotten event in Italy\\'s history. Despite its shortcomings, it\\'s a memorable and thought-provoking cinematic experience worth seeing for cinephiles and those interested in intimate, historical narratives.'}]\n",
            "Processing movie: An Ideal Father\n",
            "IMDb ID tidak ditemukan untuk film An Ideal Father\n",
            "Processing movie: Oddity\n",
            "IMDb ID: tt26470109\n",
            "Number of reviews: 17789\n"
          ]
        },
        {
          "output_type": "stream",
          "name": "stderr",
          "text": [
            "Device set to use cpu\n"
          ]
        },
        {
          "output_type": "stream",
          "name": "stdout",
          "text": [
            "Contextual Summary: [{'summary_text': '\"Ted Timmis\" stands as one of the scariest and original indie horror films to come out in 2024, praised for its originality and visual appeal. While some critics find it lacking in plot holes and lackluster jump scares, others appreciate its comedic relief and audience POV. Caroline Menton\\'s performance as widower Ted is a comfort throughout, adding depth to the role. Despite its flaws, the film remains a standout in the genre, offering a refreshing take on hollywood horror with a fresh perspective on life\\'s fate. Overall, it\\'s worth a watch, despite its lack of suspense and lack of originality make it a forgettable addition to the horror genre\\'s scare genre indie thrill genres like \"The X-Fiction\" indie scare tropes that leave a lasting impression on viewers. Ultimately, it remains an original and thought-provoking watch for horror enthusiasts seeking a different genre of horror.'}]\n",
            "Processing movie: Mickey and the Very Many Christmases\n",
            "IMDb ID: tt34614991\n",
            "Number of reviews: 776\n"
          ]
        },
        {
          "output_type": "stream",
          "name": "stderr",
          "text": [
            "Device set to use cpu\n",
            "Your max_length is set to 300, but your input_length is only 198. Since this is a summarization task, where outputs shorter than the input are typically wanted, you might consider decreasing max_length manually, e.g. summarizer('...', max_length=99)\n"
          ]
        },
        {
          "output_type": "stream",
          "name": "stdout",
          "text": [
            "Contextual Summary: [{'summary_text': '\"Mickey\\'s Once Upon a Christmas\" is a Disney magic movie that inspired the first segment of the movie, focused on Huey, Dewey, and Louie Duck\\'s wish for Christmas to stay forever. The animation is at a perfect pace for Mickey\\'s character\\'s expression, and the story plot is amazing. Minnie\\'s girlfriend, Daisy\\'s voice of reasons, and Pluto\\'s Best Friend shine, making it a must-watch for fans of the animated classic. Overall, it\\'s a great holiday spirit movie that captivates with its Disney magic and the characters\\' expression. Despite its flaws, the movie remains a standout in the Disney magic of the past, capturing the holiday spirit and the magic of Disney magic in a modern day classic, making this a memorable holiday movie that will last a long time in the coming year in Disney magic.'}]\n",
            "Processing movie: Titanic\n",
            "IMDb ID: tt0120338\n",
            "Number of reviews: 24816\n"
          ]
        },
        {
          "output_type": "stream",
          "name": "stderr",
          "text": [
            "Device set to use cpu\n"
          ]
        },
        {
          "output_type": "stream",
          "name": "stdout",
          "text": [
            "Contextual Summary: [{'summary_text': '\"Titanic\" offers a sweet and endearing love story, though it may feel gushy in parts. Despite its flaws, the film\\'s human characters and practical effects make it feel real. Leonardo DiCaprio and Kate Winslet\\'s portrayal of the ship\\'s fate resonates deeply, making it a must-watch for those interested in the ship. While some find it tedious and distracting, others praise its humanity and visual effects. Overall, it\\'s a compelling and thought-provoking watch for those who appreciate its unique approach to history and poster boy imagery amidst its shortcomings. Nevertheless, it may not be a perfect film, but its humanity shines through in its portrayal and awe-inspiring experience. Regardless of its shortcomings, it remains a worthwhile watch for fans of history and storytelling. .. \"Tiptonic\"'}]\n",
            "Processing movie: Operation Black Ops\n",
            "IMDb ID: tt27635178\n",
            "Number of reviews: 4203\n"
          ]
        },
        {
          "output_type": "stream",
          "name": "stderr",
          "text": [
            "Device set to use cpu\n"
          ]
        },
        {
          "output_type": "stream",
          "name": "stdout",
          "text": [
            "Contextual Summary: [{'summary_text': '\"Tito Ortiz\" is a terrible UFC fighter with a shoestring budget and a lackluster production. Despite Tito\\'s flaws, the movie lacks substance and lacks action. The cheesy fire effect and awkward pauses make it a forgettable watch. The director needs to stop directing and the script feels out of touch with reality. Overall, it\\'s a so bad, its good movie that\\'s worth watching if you\\'re looking for action and laugh out loud. However, the film\\'s lack of humor and lack of substance make it an enjoyable watch for fans of UFC legends and action figures alike. Ultimately, it may not be a stepping stone for Tito to get paid a bit more than a fair share of money laundering scams, but overall, it remains a bad, bad movie that may not a great one.'}]\n",
            "Processing movie: National Lampoon's Christmas Vacation\n",
            "IMDb ID: tt0097958\n",
            "Number of reviews: 31821\n"
          ]
        },
        {
          "output_type": "stream",
          "name": "stderr",
          "text": [
            "Device set to use cpu\n"
          ]
        },
        {
          "output_type": "stream",
          "name": "stdout",
          "text": [
            "Contextual Summary: [{'summary_text': '\"Christmas Vacation\" presents a mixed bag of reviews, with praise for Chevy Chase\\'s performance and National Lampoon\\'s portrayal of Clark Griswold\\'s family\\'s holiday rituals but criticism for its lack of humor and slapstick comedy. Despite some laughs, including Randy Quaid\\'s standout performance as Cousin Eddie, the film lacks depth and a concrete storyline, relying heavily on clichés and witty dialogue. While it may not deliver all the laughs expected from its portrayal, others may find it lacking the intelligence to make it a worthwhile watch for fans of holiday movies and satirical storytelling. Overall, it\\'s a fun and thought-provoking holiday movie with some of the funniest moments in its storytelling and storytelling. Regardless of its flaws, overall, it remains a forgettable and entertaining holiday movie without a lasting impact on viewers.'}]\n",
            "Processing movie: Fifty Shades of Grey\n",
            "IMDb ID: tt2322441\n",
            "Number of reviews: 33358\n"
          ]
        },
        {
          "output_type": "stream",
          "name": "stderr",
          "text": [
            "Device set to use cpu\n"
          ]
        },
        {
          "output_type": "stream",
          "name": "stdout",
          "text": [
            "Contextual Summary: [{'summary_text': '\"Fifty Shades of Grey\" receives mixed reviews, with some praising its humor and portrayal of domestic violence but criticized for its lackluster direction and tense sex scenes. While some find it entertaining, others criticize its lack of originality and lack of depth in storytelling. Director Sam Taylor-Johnson\\'s direction falls short, resulting in a forgettable viewing experience. Despite its flaws, it\\'s a compelling exploration of human relationships and the complexities of relationships, making it a must-watch for fans of R-rated films, especially those with a sense of humor and a positive outlook on the subject matter. Ultimately, it falls short of its potential, leaving audiences wanting more out of the narrative and focusing on the characters rather than the storyline, leaving a lasting impression of the film\\'s impact on the viewer\\'s perception of its impact on its impact and ultimately, leaving viewers wanting more.'}]\n",
            "Processing movie: Frozen\n",
            "IMDb ID: tt2294629\n",
            "Number of reviews: 22243\n"
          ]
        },
        {
          "output_type": "stream",
          "name": "stderr",
          "text": [
            "Device set to use cpu\n"
          ]
        },
        {
          "output_type": "stream",
          "name": "stdout",
          "text": [
            "Contextual Summary: [{'summary_text': '\"Let it go\" is a visually stunning Disney film that showcases love and emotion, though some find it lacking in storytelling. Despite its flaws, such as Elsa\\'s isolation and lack of dialogue, the film\\'s songs and musical sequences shine, making it an unspeakably beautiful display of Disney and Norwegian style. With some of the best spontaneous singing in Disney, it\\'s a must-watch for Disney fans and young girls, offering a musical experience that captivates even teenagers with its darkest moments, despite its lackluster storytelling and unremarkable storytelling. However, it falls short of its potential, leaving a lasting impression on its viewers and a worthwhile watch for those who enjoy its musical storytelling and musical storytelling aficionados of all facets of Disney cinematic excellence. Regardless of its shortcomings, it remains a timeless masterpiece, showcasing the power of storytelling and storytelling facets.'}]\n",
            "Processing movie: Megalopolis\n",
            "IMDb ID: tt10128846\n",
            "Number of reviews: 48915\n"
          ]
        },
        {
          "output_type": "stream",
          "name": "stderr",
          "text": [
            "Device set to use cpu\n"
          ]
        },
        {
          "output_type": "stream",
          "name": "stdout",
          "text": [
            "Contextual Summary: [{'summary_text': '\"Megalopolis\" is a disaster of epic proportions, a train wreck that careens off the tracks, crashes, and then sets itself on fire. Martin Scorsese considered making \"Gangs of New York,\" while Terry Gilliam nearly 30 years later completed \"The Man Who Killed Don Quixote.\" Despite its visual splendor, the film\\'s narrative shortcomings and lack of focus hinder its impact. Laurence Fishburne\\'s performance and Jon Voight\\'s overused portrayal of Cesar Catalina\\'s degenerate character make it a forgettable addition to American cinema, leaving audiences with little to appreciate the filmmaker\\'s visionary spirit. Overall, it\\'s a forgotten gem of cinema, despite its flaws and a lack of originality that detracts from its impact on the viewer\\'s perception of its potential. Ultimately, it may not be a masterpiece, but it may stand as a testament to Coppola\\'s legacy.'}]\n",
            "Processing movie: Longlegs\n",
            "IMDb ID: tt23468450\n",
            "Number of reviews: 18400\n"
          ]
        },
        {
          "output_type": "stream",
          "name": "stderr",
          "text": [
            "Device set to use cpu\n"
          ]
        },
        {
          "output_type": "stream",
          "name": "stdout",
          "text": [
            "Contextual Summary: [{'summary_text': '\"Long Legs\" receives mixed reviews, with praise for Nicolas Cage\\'s terrifying performance but criticism for its over-the-top hype and abrupt ending. While some praise his uncannyness, others find it overshadowed and lacking in depth. The film\\'s atmospheric visuals and pacing add depth, but overall, it falls short of delivering the horror expected from a horror film. Despite its flaws, it\\'s a disturbing and miserably sad experience, reminiscent of similar horror films like \"Late Night with the Devil\" and \"Terrifier 2\" but ultimately falling short of its potential, leaving viewers disappointed with its lack of originality and lack of depth in character development compared to its predecessors like \"Se7en\" and other horror genres. Ultimately, it may not reach the heights of a lesser-known horror genre, resulting in a disappointing viewing experience.'}]\n",
            "Processing movie: The Outrun\n",
            "IMDb ID: tt11687002\n",
            "Number of reviews: 30264\n"
          ]
        },
        {
          "output_type": "stream",
          "name": "stderr",
          "text": [
            "Device set to use cpu\n"
          ]
        },
        {
          "output_type": "stream",
          "name": "stdout",
          "text": [
            "Contextual Summary: [{'summary_text': '\"The Outrun\" offers a poignant portrayal of a young woman struggling with alcoholism, set against the backdrop of the Orkney Islands. While some scenes feel forced, Ronan\\'s performance shines, capturing her character\\'s inner struggles. Andrew Dillane\\'s portrayal adds depth to her character, though the narrative occasionally feels narratively driven. Despite its flaws, the film\\'s emotional depth and poignant moments resonate deeply, making it a worthwhile watch for those seeking a deeper understanding of addiction and sobriety. Overall, it\\'s a compelling and thought-provoking cinematic experience that resonates long after the credits roll, leaving a lasting impression with its poignant and evocative portrayal and compelling characters it portrayal. \"2024\" opens in theaters on friday, kicking off the year with a tense and emotional rollercoaster of emotions and emotions.'}]\n",
            "Processing movie: Defying Gravity: The Curtain Rises on Wicked\n",
            "IMDb ID: tt32339450\n",
            "Number of reviews: 0\n"
          ]
        },
        {
          "output_type": "stream",
          "name": "stderr",
          "text": [
            "Device set to use cpu\n",
            "Your max_length is set to 300, but your input_length is only 3. Since this is a summarization task, where outputs shorter than the input are typically wanted, you might consider decreasing max_length manually, e.g. summarizer('...', max_length=1)\n"
          ]
        },
        {
          "output_type": "stream",
          "name": "stdout",
          "text": [
            "Contextual Summary: [{'summary_text': '. - (IT) - 0 - 1 - 2 - 3 - 4 - 5 - 6 - 7 - 8 - 9 - 10 - 11 - 12 - 13 - 14 - 15 - 16 - 18 - 19 - 20 - 21 - 23 - 24 - 25 - 26 - 28 - 30 - 40 - 50 - 60 - 70 - 80 - 90 - 100 - 150 - 140 - 120 - 130 -140 - 45 - 34 - 35 - 44 -35 - 38 -34 - 41 - 39 - 42 - 43 - 64 - 36 - 33 - 31 - 32 - 46 - 49 - 54 --41 -46 -49 -48 -44 -'}]\n",
            "Processing movie: 1978\n",
            "IMDb ID: tt33304396\n",
            "Number of reviews: 746\n"
          ]
        },
        {
          "output_type": "stream",
          "name": "stderr",
          "text": [
            "Device set to use cpu\n",
            "Your max_length is set to 300, but your input_length is only 190. Since this is a summarization task, where outputs shorter than the input are typically wanted, you might consider decreasing max_length manually, e.g. summarizer('...', max_length=95)\n"
          ]
        },
        {
          "output_type": "stream",
          "name": "stdout",
          "text": [
            "Contextual Summary: [{'summary_text': '\"A Fulci-Inspired Descent into Political Terror and Macabre Madness\" by Luciano and Nicolás Onetti conjures a nightmarish world that weaves political and supernatural horrors into a captivating and disturbing experience. The Onetti brothers masterfully conjure a world that echoes Lucio Fulcis\\'s apocalyptic cinema while weaving in real-life political unrest from Argentina\\'s \"Dirty War.\" It effectively generates discomfort, fear and genuine horror, transforming a literal hell, resulting in an impeccable aesthetic that surprises viewers from beginning to end, making it a must-see for cinephiles seeking a cinematic experience that captivates audiences with its unique blend of horror and awe-inspiring cinematic journey. Ultimately, it remains a cult classic in the genre.'}]\n",
            "Processing movie: 28 Days Later\n",
            "IMDb ID: tt0289043\n",
            "Number of reviews: 25791\n"
          ]
        },
        {
          "output_type": "stream",
          "name": "stderr",
          "text": [
            "Device set to use cpu\n"
          ]
        },
        {
          "output_type": "stream",
          "name": "stdout",
          "text": [
            "Contextual Summary: [{'summary_text': '\"28 Days Later\" is a gripping sci-fi horror film directed by Danny Boyle. While some may find it gory and lacking in originality, the film\\'s gory action sequences and heavy music elevate it to a standout status. Boyle\\'s direction creates an authentic atmosphere, even if the antagonists look real. While it may not appeal to all horror fans, its exploration of survival and the threat posed by mankind\\'s destruction resonates deeply. Overall, it\\'s a compelling and thought-provoking cinematic experience worth watching for experienced horror enthusiasts. Overall it\\'ll resonate with horror fans who may not be too impressed by its execution and visual appeal. \"28 Day Later\" stands as a pioneer in the horror genre, offering a unique take on zombies and a new era of horror cinema with authenticity and depth. Despite its shortcomings, it remains a promising new genre of horror fans seeking thrills.'}]\n",
            "Processing movie: Speak No Evil\n",
            "IMDb ID: tt27534307\n",
            "Number of reviews: 20872\n"
          ]
        },
        {
          "output_type": "stream",
          "name": "stderr",
          "text": [
            "Device set to use cpu\n"
          ]
        },
        {
          "output_type": "stream",
          "name": "stdout",
          "text": [
            "Contextual Summary: [{'summary_text': '\"Speak No Evil\" receives mixed reviews, with praise for James Mcavoy\\'s performance and the film\\'s suspenseful plot. While some find it boring and lacking in action, others praise its masterful setup and uncanny villainry. Despite its flaws, James\\' performance adds clarity and dread to the dark tone, making it a must-watch for fans of scary movies. Overall, it\\'s a good thriller worth watching, especially if you\\'re a fan of American remakes and needs to offer something superior from its original. Hopefully, this remake will be a standout in the horror genre, showcasing Hollywood\\'s ability to remaking foreign films with superior storytelling and a more compelling ending for those who enjoy a unique cinematic experience amidst the creepy snarlings and ghoulish atmosphere a reality in the genre.'}]\n",
            "Processing movie: Never Let Go\n",
            "IMDb ID: tt14415204\n",
            "Number of reviews: 23252\n"
          ]
        },
        {
          "output_type": "stream",
          "name": "stderr",
          "text": [
            "Device set to use cpu\n"
          ]
        },
        {
          "output_type": "stream",
          "name": "stdout",
          "text": [
            "Contextual Summary: [{'summary_text': '\"Never Let Go\" offers a different take on the horror genre, blending CGI with spooky elements. While Halle Berry shines in her momma role, the film struggles with a lackluster cliff hanger. Percy Daggs IV and Anthony B. Jenkins shine in their roles, but the film\\'s plot lacks gripping moments and predictable plot elements. Despite its flaws, it\\'s a good watch for mature horror fans, especially those who appreciate the visuals and storytelling, even if it falls short of the expectations set by other horror genres like \"Hello, Hello, Hello\" and \"Young Boys.\" Overall, it may not reach the heights of its potential, but it may appeal to newcomers seeking a fresh perspective on the genre\\'s future in the coming years. Regardless, it might not appeal to all fans of the genre in the future.'}]\n",
            "Processing movie: Barbie\n",
            "IMDb ID: tt1517268\n",
            "Number of reviews: 15551\n"
          ]
        },
        {
          "output_type": "stream",
          "name": "stderr",
          "text": [
            "Device set to use cpu\n"
          ]
        },
        {
          "output_type": "stream",
          "name": "stdout",
          "text": [
            "Contextual Summary: [{'summary_text': '\"Margot Robbie\" presents a quirky satire with homages to other movies, but critics find it mediocre and preachy. While some find it engaging and engaging, others criticize its preachy portrayal of men and women. The film\\'s creative design and visuals, along with its musical numbers, make it a must-watch for those who enjoy having fun with their friends and family. Ryan Gossling shines in her role, but the storyline feels corny and lacking depth. Overall, \"Barbie\" offers a colorful and colorful world, but overall, it\\'s a fun and engaging viewing experience that will leave a lasting impression on viewers. Despite its flaws, the movie\\'s focus on female empowerment and social justice, makes it an entertaining and thought-provoking watch for those willing to embrace its message of self-discovery and self-doing movies, even if it falls short of its potential.'}]\n",
            "Processing movie: Dune\n",
            "IMDb ID: tt0087182\n",
            "Number of reviews: 41264\n"
          ]
        },
        {
          "output_type": "stream",
          "name": "stderr",
          "text": [
            "Device set to use cpu\n"
          ]
        },
        {
          "output_type": "stream",
          "name": "stdout",
          "text": [
            "Contextual Summary: [{'summary_text': '\"Dune\" receives mixed reviews, with some praising its charm, while others criticize its lack of emotional involvement and incoherent storytelling. While some find it enjoyable, others see it as a forgettable adaptation of Frank Herbert\\'s classic novel. Despite its flaws, the film offers a unique style of storytelling, especially for fans of Science-Fiction. It\\'s a must-watch for fans who haven\\'t yet read the original, but it\\'s worth a second look if you\\'re a fan of science fiction enthusiasts looking for a different take on a new perspective. Ultimately, \"Dune\" remains a forgotten gem in the genre, offering a fresh take on the era\\'s history. Regardless of its shortcomings, \"Duke\" stands out for its unique style and originality, making it a standout in science fiction fans and fans of the genre.'}]\n",
            "Processing movie: Winnie-the-Pooh: Blood and Honey 2\n",
            "IMDb ID: tt23330554\n",
            "Number of reviews: 25693\n"
          ]
        },
        {
          "output_type": "stream",
          "name": "stderr",
          "text": [
            "Device set to use cpu\n"
          ]
        },
        {
          "output_type": "stream",
          "name": "stdout",
          "text": [
            "Contextual Summary: [{'summary_text': '\"Winnie-the-Pooh: Blood and Honey II\" receives mixed reviews, with some praising its improvement over the first but others deeming it worse than its predecessor. While some find it entertaining and entertaining, others see it as a slasher horror film that fails to take itself seriously. The new Christopher Robin and Simon Callow add depth to the cast, but overall, it\\'s criticized as boring and lacking in suspense. Despite its flaws, the film\\'s story and cinematography make it a disappointing addition to the horror genre, leaving viewers with mixed feelings about its lackluster execution and lackluster performances. Ultimately, \"Wikipedia is a must-watch for horror fans everywhere,\" say criticizing its overall rating and a shameless attempt at adversity and lack of depth in its portrayal of the characters\\' societal norms of the genre.'}]\n",
            "Processing movie: The Maze Runner\n",
            "IMDb ID: tt1790864\n",
            "Number of reviews: 22988\n"
          ]
        },
        {
          "output_type": "stream",
          "name": "stderr",
          "text": [
            "Device set to use cpu\n"
          ]
        },
        {
          "output_type": "stream",
          "name": "stdout",
          "text": [
            "Contextual Summary: [{'summary_text': '\"The Maze Runner\" presents a fresh take on the post-apocalyptic world of the Glade, blending tension and intense storytelling with a relatively unknown cast. While some moments fall into clichés, the film\\'s exploration of ethical dilemmas and action sequences adds depth. Despite its flaws, it remains an impressive debut for Ball, offering electric tension and moody drama. While not groundbreaking, its portrayal of youth questioning authority and standing up for what\\'s right resonates. Overall, it\\'s a pleasant, enjoyable and enjoyable watch, despite its relative lack of mature writing and plot design. However, it falls into familiar tropes, leaving a lasting impression of a promising future in young adult novels and movies with potential for a new generation of filmmakers to follow. Ultimately, \"Edge OF Tomorrow\" remains an exciting and thought-provoking cinematic experience worth revisiting.'}]\n",
            "Processing movie: The Convert\n",
            "IMDb ID: tt20113412\n",
            "Number of reviews: 26601\n"
          ]
        },
        {
          "output_type": "stream",
          "name": "stderr",
          "text": [
            "Device set to use cpu\n"
          ]
        },
        {
          "output_type": "stream",
          "name": "stdout",
          "text": [
            "Contextual Summary: [{'summary_text': '\"The Convert\" is a compelling historical drama set in 1830s New Zealand, led by Guy Pearce and Tioreore Ngatai-Melbourne. Directed by Lee Tamahori, it follows a British preacher as he navigates a tribal conflict and rescues Rangimai, a fierce Maori warrior. While the film\\'s pacing may feel slow at first, it offers exciting scenes towards the end, highlighting the survival of the fittest in New Zealand history. Despite its flaws, it\\'s considered a masterpiece in Maori storytelling, despite its reputation as a seasoned veteran in the genre\\'s production company drawer for a few years before it was acquired at Cannes. Overall, it remains an honorable mention in the history of New Zealand cinema, showcasing the enduring impact of its characters and their resilience in the face of historical conflict.'}]\n",
            "Processing movie: Shrek\n",
            "IMDb ID: tt0126029\n",
            "Number of reviews: 25685\n"
          ]
        },
        {
          "output_type": "stream",
          "name": "stderr",
          "text": [
            "Device set to use cpu\n"
          ]
        },
        {
          "output_type": "stream",
          "name": "stdout",
          "text": [
            "Contextual Summary: [{'summary_text': '\"Shrek\" is a hilarious action adventure film that blends Disney humor with adult humor. Diaz shines as a feisty princess, while Lithgow\\'s Farquaad delivers a stellar performance. While it may not appeal to all audiences, it offers surprises and emotional moments. Despite its flaws, it\\'s a delightful and funny action adventure with hidden messages. Those who haven\\'t seen it, or are wary of Disney\\'s animated films, should give it a try. Regardless of its shortcomings, it serves as an entertaining and eye-opening experience for those who appreciate its spoofing on fairy tales and fairy tale tropes. Ultimately, it may appeal to those who\\'s fans of action adventure and action adventure alike, but overall, its lack of redeeming qualities makes it an entertaining watch for those with a sense of humor and a positive outlook on life.'}]\n",
            "Processing movie: Leggings Mania\n",
            "IMDb ID tidak ditemukan untuk film Leggings Mania\n",
            "Processing movie: The Dark Knight\n",
            "IMDb ID: tt0468569\n",
            "Number of reviews: 15902\n"
          ]
        },
        {
          "output_type": "stream",
          "name": "stderr",
          "text": [
            "Device set to use cpu\n"
          ]
        },
        {
          "output_type": "stream",
          "name": "stdout",
          "text": [
            "Contextual Summary: [{'summary_text': '\"The Dark Knight\" is hailed as the best Batman movie charachter, praised for Heath Ledger\\'s career-defining performance and Oscar-worthy performances. With impressive action sequences and a complex storyline, along with fresh faces like Aaron Eckhart and Maggie Gyllenhaal, TDK stands as one of the best movies I have ever seen. While some criticize its long runtime and lack of predictable plot holes, others appreciate its unpredictability and chemistry between the Joker and Jack Nicholson\\'s portrayal. Overall, \"Dark Knight\" stands as a standout in the comic book genre, offering a unique and unforgettable cinematic experience for fans of dark gloomy Gotham and the dark atmosphere of the Dark Knight. The film\\'s visuals and sound make it a must-watch for fans eager to embrace its dark and brooding villains alike.'}]\n",
            "Processing movie: Big Hero 6\n",
            "IMDb ID: tt2245084\n",
            "Number of reviews: 33258\n"
          ]
        },
        {
          "output_type": "stream",
          "name": "stderr",
          "text": [
            "Device set to use cpu\n"
          ]
        },
        {
          "output_type": "stream",
          "name": "stdout",
          "text": [
            "Contextual Summary: [{'summary_text': '\"Big Hero 6\" offers a unique take on the superhero genre, featuring Baymax as one of Disney\\'s most adorable characters. While some find it lacking in all the Best Animated Feature nominees, others appreciate its comedy and depth. The film\\'s focus on grief and the resilience of its characters adds depth to the storyline. While it may not break new ground, it\\'s a must-watch for fans of Pixar\\'s superhero films, offering a fresh perspective on the genre. With its mix of drama and comedy, it remains a standout in the genre, showcasing the characters\\' maturity and resilience. Despite its flaws, it still stands as a compelling and thought-provoking addition to the superhero universe. .. ... and a memorable viewing experience worth exploring for those willing to invest in a superhero film. .\"bighero 6\" stands out for its unique approach to storytelling and storytelling, making it an unforgettable experience worth experiencing'}]\n",
            "Processing movie: Species: The Awakening\n",
            "IMDb ID: tt0844894\n",
            "Number of reviews: 28170\n"
          ]
        },
        {
          "output_type": "stream",
          "name": "stderr",
          "text": [
            "Device set to use cpu\n"
          ]
        },
        {
          "output_type": "stream",
          "name": "stdout",
          "text": [
            "Contextual Summary: [{'summary_text': '\"Species\" receives mixed reviews, with praise for Ben Kinsley and Helena Mattsson\\'s performances, but criticism for its cash grab and lack of depth. While some appreciate its entertaining storyline and practical effects, others find it meandering and lacking credibility. Despite attempts at nudity, the film\\'s portrayal of a misguided scientist hero falls flat, leaving audiences with little hope for a fresh start in the series. Ultimately, it\\'s a forgettable addition to the series, with criticisms of its lack of credibility and lackluster acting. Overall, it may not be a worthwhile watch for fans of Sci-fi movies, but it may be reassess its place among fans of the series\\'s many fans. Regardless, it might not be an enjoyable watch for those who appreciate it as a long-term impact on viewership and impact on viewers\\' perceptions about its effectiveness.'}]\n",
            "Processing movie: My Fault: London\n",
            "IMDb ID: tt32434379\n",
            "Number of reviews: 0\n"
          ]
        },
        {
          "output_type": "stream",
          "name": "stderr",
          "text": [
            "Device set to use cpu\n",
            "Your max_length is set to 300, but your input_length is only 3. Since this is a summarization task, where outputs shorter than the input are typically wanted, you might consider decreasing max_length manually, e.g. summarizer('...', max_length=1)\n"
          ]
        },
        {
          "output_type": "stream",
          "name": "stdout",
          "text": [
            "Contextual Summary: [{'summary_text': '. - (IT) - 0 - 1 - 2 - 3 - 4 - 5 - 6 - 7 - 8 - 9 - 10 - 11 - 12 - 13 - 14 - 15 - 16 - 18 - 19 - 20 - 21 - 23 - 24 - 25 - 26 - 28 - 30 - 40 - 50 - 60 - 70 - 80 - 90 - 100 - 150 - 140 - 120 - 130 -140 - 45 - 34 - 35 - 44 -35 - 38 -34 - 41 - 39 - 42 - 43 - 64 - 36 - 33 - 31 - 32 - 46 - 49 - 54 --41 -46 -49 -48 -44 -'}]\n",
            "Processing movie: A Christmas Carol\n",
            "IMDb ID: tt1067106\n",
            "Number of reviews: 38482\n"
          ]
        },
        {
          "output_type": "stream",
          "name": "stderr",
          "text": [
            "Device set to use cpu\n"
          ]
        },
        {
          "output_type": "stream",
          "name": "stdout",
          "text": [
            "Contextual Summary: [{'summary_text': '\"The Ghost of Christmas Present\" is a beloved adaptation of Charles Dickens\\' novel, featuring Jim Carrey as Ebenezer Scrooge. While some may find it too scary for young children, others appreciate its focus on emotion rather than laughs. Despite its flaws, the film\\'s cinematography and Jom Carey\\'s performance elevate it to a must-see for fans of the holiday season. Whether you\\'re a fan of the story or not, it\\'s a testament to Zemeckis\\'s mastery in stop-motion animation, offering a unique take on the ghostly three spirits and the spirit of Christmas present. However, it falls short of becoming a true holiday classic, leaving audiences with a lasting impression of this timeless tale and its potential impact on viewers\\' minds. Regardless of its shortcomings, it remains a standout in the holiday classics and must-watch for all fans of 3-D animation.'}]\n",
            "Processing movie: Harry Potter and the Deathly Hallows: Part 2\n",
            "IMDb ID: tt1201607\n",
            "Number of reviews: 19087\n"
          ]
        },
        {
          "output_type": "stream",
          "name": "stderr",
          "text": [
            "Device set to use cpu\n"
          ]
        },
        {
          "output_type": "stream",
          "name": "stdout",
          "text": [
            "Contextual Summary: [{'summary_text': '\"Deathly Hallows part 2\" wraps up the Harry Potter series with tremendous grace with a beautifully orchestrated climax. While some moments feel missing, the film seamlessly balances excitement and drama towards a satisfying conclusion. Daniel Radcliffe\\'s performance shines alongside Emma Watson and Rupert Grint. Alan Rickman stands out as a standout in this finale, making it a must-watch for fans of the series. Despite some scepticism about the film\\'s conversion to 3D, it\\'s a good watch for those who enjoy the magic of the Potter books and the final journey to a new chapter in the wizard wizard\\'s final chapter. Overall, this film leaves a lasting impression, recommending it to anyone who loves Harry Potter fans and fans of all ages to enjoy this timeless tale of magic and magic amidst the complexities of a cinematic experience. Regardless of'}]\n",
            "Processing movie: Inside Out\n",
            "IMDb ID: tt2096673\n",
            "Number of reviews: 36527\n"
          ]
        },
        {
          "output_type": "stream",
          "name": "stderr",
          "text": [
            "Device set to use cpu\n"
          ]
        },
        {
          "output_type": "stream",
          "name": "stdout",
          "text": [
            "Contextual Summary: [{'summary_text': '\"Inside Out\" offers a realistic portrayal of a young girl\\'s struggle with depression, Joy, and Sadness. While some find it effective and relatable, others criticize its inconsistencies and short runtime. Amy Poehler shines as Riley, portrayed with vivacity and vicariousness. The film acknowledges the power of Sadness, showing that we can\\'t always make good choices. Despite its flaws, it\\'s a thought-provoking exploration of life\\'s challenges, making it a must-watch for all ages, even if it may not reach its full potential in a sequel to \"Up\" in the coming years. Ultimately, it may leave a lasting impact on its overall rating, but overall, it remains a beloved classic of all-time best-single-mindedness and emotional resilience in the face of societal challenges in life.'}]\n",
            "Processing movie: Kalikot\n",
            "IMDb ID: tt31539969\n",
            "Number of reviews: 611\n"
          ]
        },
        {
          "output_type": "stream",
          "name": "stderr",
          "text": [
            "Device set to use cpu\n",
            "Your max_length is set to 300, but your input_length is only 140. Since this is a summarization task, where outputs shorter than the input are typically wanted, you might consider decreasing max_length manually, e.g. summarizer('...', max_length=70)\n"
          ]
        },
        {
          "output_type": "stream",
          "name": "stdout",
          "text": [
            "Contextual Summary: [{'summary_text': 'i\\'m not seeing the drama, but a friend\\'s told me this drama is quite nice then i also watched . I will review the experience about the drama i think story line is more interested.i just see just trailer how to explain this much it\\'s disappointed. I\\'m also waiting for watch this because what type of content and storyline is end like, mostly waiting for drama watching people experience this is my review,is very simple but, I can\\'t watch full drama so, this review is my summary only a few minutes after the start of the episode, it\\'ll be interesting to see if the drama will be a little bit of a bit of an interesting to me, if not the drama (as a cctv-sequencially-as-a-drama-scenario--it--is a drama--and-what--of--criterion--comics---\"comics\"'}]\n",
            "Processing movie: Pirates of the Caribbean: The Curse of the Black Pearl\n",
            "IMDb ID: tt0325980\n",
            "Number of reviews: 29241\n"
          ]
        },
        {
          "output_type": "stream",
          "name": "stderr",
          "text": [
            "Device set to use cpu\n"
          ]
        },
        {
          "output_type": "stream",
          "name": "stdout",
          "text": [
            "Contextual Summary: [{'summary_text': '\"Captain Jack Sparrow\" (Johnny Depp) shines in this swashbuckler adventure, anchored by Kiera Knightley\\'s portrayal of a kidnapped pirate led by Orlando Bloom. While the film\\'s concept may seem clichéd, Depp\\'s performance shines, delivering a charming and likable rogue role. Despite occasional overacting, the movie\\'s lavish cinematography and realistic sets make it a must-watch for fans of period dramas and classics alike. Overall, it\\'s a marvel of cinema, praised for its wit and fantasy, despite occasional flaws like its predecessors like \"Flynn and Fairbanks\" and \"Gore Verbinsky\\'s.\" Overall, \"Swapping\" is hailed as a standout in the genre\\'s overall praise for its cinematic style and performances.'}]\n",
            "Processing movie: The Equalizer\n",
            "IMDb ID: tt0455944\n",
            "Number of reviews: 28715\n"
          ]
        },
        {
          "output_type": "stream",
          "name": "stderr",
          "text": [
            "Device set to use cpu\n"
          ]
        },
        {
          "output_type": "stream",
          "name": "stdout",
          "text": [
            "Contextual Summary: [{'summary_text': '\"The Equalizer\" offers a graceful and entertaining viewing experience, praised for Denzel Washington\\'s performance as Robert McCall in the titular role. While the plot may feel familiar, the film\\'s ambition is to portray McCall as a grittier action hero. Despite some hokey moments, McCall\\'s moral compass and strong sense of justice shine through, making him a standout in the action genre. While some critics find it lacking in depth and pacing, others appreciate its slow pace and dopey music, making it a worthwhile watch despite its mess of tones and uneven execution. Overall, it\\'s a gripping thriller with moments of gripping moments and a memorable portrayal of ordinary people in trouble by crime amidst the mafia\\'s turmoil. Regardless of its flaws, it remains a compelling and enjoyable watch for fans of action genres.'}]\n",
            "Processing movie: Hellboy: The Crooked Man\n",
            "IMDb ID: tt26757462\n",
            "Number of reviews: 24591\n"
          ]
        },
        {
          "output_type": "stream",
          "name": "stderr",
          "text": [
            "Device set to use cpu\n"
          ]
        },
        {
          "output_type": "stream",
          "name": "stdout",
          "text": [
            "Contextual Summary: [{'summary_text': '\"Hellboy\" receives mixed reviews, with some appreciating its dark and twisted vibe but others deeming it mediocre. While some appreciate its characters and scenes, others see it as lacking depth and coherence. The creature special effects could use polishing, but overall, the film falls short of its potential, relying heavily on cheap jump scares and a lackluster direction. Despite its flaws, it\\'s a forgettable entry in the hellboy genre, lacking the depth of its predecessor, leaving viewers with a mixed impression of its lackluster execution and lackluster performances. Ultimately, \"Hallboy\" is a shame for fans of witchcraft and horror fans alike, despite its potential for a sequel and lacking the requisite depth of character development. Regardless of its success, it falls short in its execution and execution. Nonetheless, it ultimately remains a disappointing cinematic experience that ultimately leaves viewers with mixed'}]\n",
            "Processing movie: Small Things Like These\n",
            "IMDb ID: tt27196021\n",
            "Number of reviews: 28414\n"
          ]
        },
        {
          "output_type": "stream",
          "name": "stderr",
          "text": [
            "Device set to use cpu\n"
          ]
        },
        {
          "output_type": "stream",
          "name": "stdout",
          "text": [
            "Contextual Summary: [{'summary_text': '\"Bill\" is a heartfelt exploration of the injustices faced by women and girls in Ireland\\'s Magdalene Institutions. Cillian Murphy\\'s portrayal of a troubled man confronts the abuse at a local convent. While some criticize its lack of dialogue and intense looks, the film\\'s narrative depth is lacking. Despite its flaws, it\\'s a compelling exploration of moral dilemmas and the impact of institutional abuse on women\\'s lives. Emily Watson\\'s performance adds depth to the film, though some scenes with zero dialogue contribute to its impact on the overall experience. Overall, \"Billy Furlong\" offers a poignant portrayal that resonates with audiences beyond its visual appeal and emotional depth, making it a must-watch for anyone interested in religious activism in the 21st century contexts of the era\\'s cultural impact on society\\'s impact on humanity.'}]\n",
            "Processing movie: Dragonkeeper\n",
            "IMDb ID: tt7093904\n",
            "Number of reviews: 12592\n"
          ]
        },
        {
          "output_type": "stream",
          "name": "stderr",
          "text": [
            "Device set to use cpu\n"
          ]
        },
        {
          "output_type": "stream",
          "name": "stdout",
          "text": [
            "Contextual Summary: [{'summary_text': '\"Dragonkeeper\" receives mixed reviews, with some praising its colorful visuals and dark tone, while others find it childish and lacking in originality. Despite some positive messages and a lively musical score, the film lacks originality or originality, leaving a lot of questions unanswered. While it may appeal to younger audiences, it may not reach the heights of its predecessors. Overall, it\\'s recommended for ages 5-12, with a recommendation of 8/10 for those interested in ancient China, dragons and Necromancers. However, criticizing its lack of originality and lackluster dubbing may detract from its potential for a sequel, despite its appeal to older audiences and its potential to make it a standout in the genre\\'s future. Regardless, \"Drangekeeper\" remains a must-watch for those willing to embrace its dark and grim themes it explores.'}]\n",
            "Processing movie: Miranda's Victim\n",
            "IMDb ID: tt14866108\n",
            "Number of reviews: 25654\n"
          ]
        },
        {
          "output_type": "stream",
          "name": "stderr",
          "text": [
            "Device set to use cpu\n"
          ]
        },
        {
          "output_type": "stream",
          "name": "stdout",
          "text": [
            "Contextual Summary: [{'summary_text': '\"Trish\" stars Abigail Breslin and Sebastian Quinn in a riveting portrayal of the true story of Miranda Rights. Based on a true story, it dramatizes the stoic bravery of a young woman who had to go through the unsympathetic court system. While some find it hard to follow, the film\\'s message about women\\'s rights and the impact of their reporting on their experiences resonates deeply.Mireille Enos delivers an outstanding performance in her role, making it a must-watch for all, especially in the era of Roe v Wade activism. Miranda Rights is a pivotal chapter in the justice system\\'s impact on the nation\\'s perceptions of women and their rights, making this a powerful reminder of the importance of reporting and reporting on sexuality in the legal system. Ultimately, it\\'s a poignant and important contribution to justice for all.'}]\n",
            "Processing movie: The Christmas Chronicles\n",
            "IMDb ID: tt2990140\n",
            "Number of reviews: 15203\n"
          ]
        },
        {
          "output_type": "stream",
          "name": "stderr",
          "text": [
            "Device set to use cpu\n"
          ]
        },
        {
          "output_type": "stream",
          "name": "stdout",
          "text": [
            "Contextual Summary: [{'summary_text': '\"The Christmas Chronicles\" features Kurt Russell in his stellar performance as Santa, bringing the story to life. While some critics find it sappy and lacking in originality, Russell\\'s energetic performance and warm Christmas scenes make it a must-watch for those in a festive mood. Despite its fantasy nature, the film\\'s realistic portrayal of Santa\\'s adventures resonates, making him a standout in the role. While not without flaws, it\\'s a great holiday movie with lots of child friendly moments and cute elves, making it an enjoyable watch for those who appreciate the uplifting atmosphere and a fun watch for older adults alike. Russell and Goldie\\'s performances add to the overall experience, making this holiday movie a memorable and memorable watch for all involved in the holiday spirit and character development. Regardless, it may not be a holiday classic without its own set of characters and characters.'}]\n",
            "Processing movie: Nosferatu\n",
            "IMDb ID: tt0100270\n",
            "Number of reviews: 0\n"
          ]
        },
        {
          "output_type": "stream",
          "name": "stderr",
          "text": [
            "Device set to use cpu\n",
            "Your max_length is set to 300, but your input_length is only 3. Since this is a summarization task, where outputs shorter than the input are typically wanted, you might consider decreasing max_length manually, e.g. summarizer('...', max_length=1)\n"
          ]
        },
        {
          "output_type": "stream",
          "name": "stdout",
          "text": [
            "Contextual Summary: [{'summary_text': '. - (IT) - 0 - 1 - 2 - 3 - 4 - 5 - 6 - 7 - 8 - 9 - 10 - 11 - 12 - 13 - 14 - 15 - 16 - 18 - 19 - 20 - 21 - 23 - 24 - 25 - 26 - 28 - 30 - 40 - 50 - 60 - 70 - 80 - 90 - 100 - 150 - 140 - 120 - 130 -140 - 45 - 34 - 35 - 44 -35 - 38 -34 - 41 - 39 - 42 - 43 - 64 - 36 - 33 - 31 - 32 - 46 - 49 - 54 --41 -46 -49 -48 -44 -'}]\n",
            "Processing movie: The Voyeur\n",
            "IMDb ID: tt0111573\n",
            "Number of reviews: 6822\n"
          ]
        },
        {
          "output_type": "stream",
          "name": "stderr",
          "text": [
            "Device set to use cpu\n"
          ]
        },
        {
          "output_type": "stream",
          "name": "stdout",
          "text": [
            "Contextual Summary: [{'summary_text': '\"Tinto Brass\" offers a unique blend of campy erotica with character study and a statement about human nature. Director L\\'uomo che guarda cleverly balances explicit sex scenes with a message about voyeurism in human sexuality. Katarina Vasilissa delivers a captivating performance, though the film\\'s humor may not resonate with all viewers. Despite its flaws, it\\'s a compelling watch for those interested in rounded buttocks and hairy vaginas, making it a worthwhile watch for fans of tall blonds and those seeking a bit of a deeper exploration of femininity and sexuality in a mainstream cinematic context. Overall, \"Tinko\" stands out in the genre, offering a refreshing take on asexuality and the complexities of sexuality and eroticism in mainstream cinema.'}]\n",
            "Processing movie: Camp Crasher\n",
            "IMDb ID: tt29368988\n",
            "Number of reviews: 612\n"
          ]
        },
        {
          "output_type": "stream",
          "name": "stderr",
          "text": [
            "Device set to use cpu\n",
            "Your max_length is set to 300, but your input_length is only 144. Since this is a summarization task, where outputs shorter than the input are typically wanted, you might consider decreasing max_length manually, e.g. summarizer('...', max_length=72)\n"
          ]
        },
        {
          "output_type": "stream",
          "name": "stdout",
          "text": [
            "Contextual Summary: [{'summary_text': '\"This is an awesome little story, very well scripted and filmed. The cast is awesome, works well together, and Natalia Oreiro captures worrying mother so well. The movie has fun, but also very tender moments. It\\'s a must-watch for all, not only for parents. The young actors are very natural and look like they enjoyed time together at the camp. The script is not full of clichés, as we could expect, and it really surprised me in a positive way, recommending it to everyone, not just for parents, as it\\'s known for good quality production in Argentine cinema. \"It\\'s an amazing little story that has a very special kind of movie that has such a unique and unique take on parenting.\". .................................................................. ...................................................................................................................................................................................................................'}]\n",
            "Processing movie: Coraline\n",
            "IMDb ID: tt0327597\n",
            "Number of reviews: 27171\n"
          ]
        },
        {
          "output_type": "stream",
          "name": "stderr",
          "text": [
            "Device set to use cpu\n"
          ]
        },
        {
          "output_type": "stream",
          "name": "stdout",
          "text": [
            "Contextual Summary: [{'summary_text': '\"Coraline\" is a visually stunning animated film starring Dakota Fanning and Teri Hatcher. While some scenes feel choppy in animation, the film\\'s captivating visuals and scary moments keep viewers engaged. Adapted from Neil Gaiman\\'s book, it\\'s a must-watch for all ages, especially for those who appreciate great artwork and creativity. While not for everyone, \"Coroline\" offers a unique take on the classic storyline, making it a compelling watch for adults and a memorable experience for young children. Despite occasional moments of pacing issues, the movie\\'s imaginative storytelling and engaging characters make it an enjoyable watch for younger audiences. Ultimately, it may not appeal to everyone, but it may appeal to younger audiences with its unique approach to storytelling and storytelling in the animated realms it serves as a great cinematic experience for older audiences alike. Regardless of age,'}]\n",
            "Processing movie: Amityville: Where the Echo Lives\n",
            "IMDb ID: tt10071550\n",
            "Number of reviews: 4974\n"
          ]
        },
        {
          "output_type": "stream",
          "name": "stderr",
          "text": [
            "Device set to use cpu\n"
          ]
        },
        {
          "output_type": "stream",
          "name": "stdout",
          "text": [
            "Contextual Summary: [{'summary_text': '\"Amityville: Where the Echo Lives\" is a low-budget horror movie directed by Carlos Ayala, with a monotonous narrative and shallow script. Despite its attempts at horror, it falls short of its potential, resulting in a forgettable viewing experience. The pacing is unbearably slow, making it hard to stay engaged. The cast lacks depth, and the movie\\'s production value falls short, leaving it with fewer than ten stars. Overall, it\\'s a disappointing attempt at acting for beginners and/or students, despite its potential for a horror PPV, leaving viewers with little to gain from its lackluster production value, leaving a lasting impression on the overall experience. Ultimately, it may not be a worthwhile watch for horror enthusiasts, but its lack of originality and mediocrity make it a disappointment for horror fans. Regardless, it remains a promising entry in the genre.'}]\n",
            "Processing movie: Harry Potter and the Half-Blood Prince\n",
            "IMDb ID: tt0417741\n",
            "Number of reviews: 29367\n"
          ]
        },
        {
          "output_type": "stream",
          "name": "stderr",
          "text": [
            "Device set to use cpu\n"
          ]
        },
        {
          "output_type": "stream",
          "name": "stdout",
          "text": [
            "Contextual Summary: [{'summary_text': '\"Half-Blood Prince\" delivers a heart-wrenching glimpse into the world of Harry Potter, though it may not reach adulthood yet. Daniel Radcliffe\\'s portrayal of Dumbledore remains challenging, as are Michael Gambon\\'s performances. Despite some overdoses, the film\\'s emotional impact is felt, with each scene evoking both nostalgia and impending doom. While some criticize their short-term effectiveness, others praise their performances, especially Tom Felton\\'s comedic chops. Overall, \"Deathly Hallows\" remains a spectacular cinematic experience, despite its shortcomings in storytelling and directing style. Nevertheless, overall, it\\'s a memorable and enjoyable viewing experience that\\'s sure to leave a lasting impression with its enduring impact on viewers and fans of the series apologies for its lackluster performances and lackluster storytelling.'}]\n",
            "Processing movie: Wish\n",
            "IMDb ID: tt11304740\n",
            "Number of reviews: 23446\n"
          ]
        },
        {
          "output_type": "stream",
          "name": "stderr",
          "text": [
            "Device set to use cpu\n"
          ]
        },
        {
          "output_type": "stream",
          "name": "stdout",
          "text": [
            "Contextual Summary: [{'summary_text': '\"Wish\" receives mixed reviews, with some praising its animation but others criticized for its rushed plot and lack of innovation. While some appreciate its references to Disney classics, others find it boring and lacking in character development. Despite some cute moments, it\\'s a forgettable addition to Disney\\'s successful catalog, leaving audiences with a hollow and predictable narrative. Overall, it falls short of delivering a truly memorable Disney experience, leaving viewers with little choice but to watch it again if you\\'re in the mood for a Disney movie with some fun and memorable moments to captivate and engage audiences with their deep wishes and moments of magic in the mix of characters and emotions. Regardless, \"WISHE\" remains a disappointing entry in the Disney franchise. Ultimately, it may not be a memorable Disney movie, but it may be worth a watch if not adversity for Disney fans and fans of Disney fans.'}]\n",
            "Processing movie: Wolfs\n",
            "IMDb ID: tt14257582\n",
            "Number of reviews: 19189\n"
          ]
        },
        {
          "output_type": "stream",
          "name": "stderr",
          "text": [
            "Device set to use cpu\n"
          ]
        },
        {
          "output_type": "stream",
          "name": "stdout",
          "text": [
            "Contextual Summary: [{'summary_text': '\"This movie\" offers a mix of comedy and action, featuring George Clooney and Brad Pitt as hitman-like characters. While some scenes feel off-kilter, others feel rushed and lacking originality. Despite its flaws, it\\'s a fun crime thriller that could have been remembered for its light humor and unpredictability. However, it fails to deliver on its promise of serious action, lacking the raw edge of \"The Penguin.\" Overall, \"This is a decent hitman comedy that\\'s worth a watch for action fans and those who enjoy its action-oriented approach to action-action-oriented action-threats. Nonetheless, its lack of originality may not leave a lasting impression, making it a forgettable watch for those who appreciate its satire and action-orientated approach to crime-trillers like \"Amy Ryan\" and \"Potterlike moments.'}]\n",
            "Processing movie: The Avengers\n",
            "IMDb ID: tt0848228\n",
            "Number of reviews: 40503\n"
          ]
        },
        {
          "output_type": "stream",
          "name": "stderr",
          "text": [
            "Device set to use cpu\n"
          ]
        },
        {
          "output_type": "stream",
          "name": "stdout",
          "text": [
            "Contextual Summary: [{'summary_text': '\"The Avengers\" delivers a punch for hardcore fans of comics, showcasing Joss Whedon\\'s care for the characters. While Robert Downey Jr. shines in his solo role, Thor\\'s battle scenes and Chris Hemsworth\\'s Asgardian god Thor add depth. The film\\'s chemistry and cinematography make it a standout among the MCU superhero films, though some find it overrated by die-hard fans. Overall, it\\'s an entertaining and entertaining watch, offering a unique perspective on each Avenger\\'s journey and their unique backgrounds. Despite some flaws, the cast\\'s portrayal and chemistry shine through, resulting in a memorable cinematic experience that\\'s worth a watch for die hard fans who appreciate the diversity of the characters and their storytelling. Regardless, it remains a must-watch for fans who value authenticity in the genre.'}]\n",
            "Processing movie: Spider-Man\n",
            "IMDb ID: tt0145487\n",
            "Number of reviews: 22701\n"
          ]
        },
        {
          "output_type": "stream",
          "name": "stderr",
          "text": [
            "Device set to use cpu\n"
          ]
        },
        {
          "output_type": "stream",
          "name": "stdout",
          "text": [
            "Contextual Summary: [{'summary_text': '\"Spider-Man: The Amazing Spider-Man\" follows the origin story of Peter Parker, portrayed by Tobey Maguire, as he recovers from being bit by a radioactive spider. However, Willem Dafoe\\'s portrayal of the deadly Green Goblin feels miscast, more like drama than action. While J.K. Simmons\\'s performance as newspaper publisher J. Jonah Jameson is memorable, the film\\'s pacing and dialogue make it a standout in the comic book genre, despite its disappointments. Overall, \"Peter-Man 2\" stands as a testament to the power of storytelling and storytelling in narrating the origin of spider-man and the origins of the character. Despite its flaws, the movie stands as one of the best adaptations in comic book history, showcasing the talent of its characters and their talent in the genre.'}]\n",
            "Processing movie: Toy Story\n",
            "IMDb ID: tt0114709\n",
            "Number of reviews: 24936\n"
          ]
        },
        {
          "output_type": "stream",
          "name": "stderr",
          "text": [
            "Device set to use cpu\n"
          ]
        },
        {
          "output_type": "stream",
          "name": "stdout",
          "text": [
            "Contextual Summary: [{'summary_text': '\"Toy Story\" stands as a milestone in Disney animation, showcasing the talents of Tom Hanks and Tim Allen. Directed by John Lasseter, it follows Buzz Lightyear, a space ranger, who struggles to find his way to his favorite toy. Despite Disney\\'s influence, the film\\'s heartfelt messages and emotional moments shine through, making it a standout in the animated genre. While not without flaws, it\\'s a testament to Pixar\\'s commitment to creating a memorable and enjoyable watch, despite its tyrannical umbrella overshadowing its success. Overall, it represents a new height in animation, offering a unique and memorable viewing experience for children and adults alike. Whether you\\'re a fan of the film or a cult classic, you\\'ll find it to be a must-watch for those who appreciate it for its unique approach to creating memorable films.'}]\n",
            "Processing movie: Puss in Boots: The Last Wish\n",
            "IMDb ID: tt3915174\n",
            "Number of reviews: 16043\n"
          ]
        },
        {
          "output_type": "stream",
          "name": "stderr",
          "text": [
            "Device set to use cpu\n"
          ]
        },
        {
          "output_type": "stream",
          "name": "stdout",
          "text": [
            "Contextual Summary: [{'summary_text': '\"Puss in Boots: The Last Wish\" delivers lighthearted fun for families with kids, blending humor and emotional depth. While it may not reach the heights of other animated films, its message of selflessness and teamwork resonates. Despite some tired scenes and predictable scripting, the film\\'s message on personal relationships stands out. It\\'s a standout feature of 2022, showcasing studio\\'s new style of animation and emotional storytelling. \"Spider-Man: Into the Spider-Verse\" stands out for its bold approach to storytelling and storytelling, offering a unique and memorable viewing experience for both families and children alike. Overall, it\\'s an enjoyable watch with a strong moral message on narcissism and personal relationships, making it a memorable addition to the animated genre in the coming years. Regardless of its shortcomings, it stands out in 2022 as a promising start in animation and storytelling.'}]\n",
            "Processing movie: Kill 'em All 2\n",
            "IMDb ID: tt6549510\n",
            "Number of reviews: 8211\n"
          ]
        },
        {
          "output_type": "stream",
          "name": "stderr",
          "text": [
            "Device set to use cpu\n"
          ]
        },
        {
          "output_type": "stream",
          "name": "stdout",
          "text": [
            "Contextual Summary: [{'summary_text': '\"Jean-Claude Van Damme\\'s Martial Arts action sequences were okay, especially when he\\'s older. While not groundbreaking, his martial arts inspired him to take it up. The film follows a retired CIA spy and his daughter, Vanessa, who is living off grid in an Italian village. Philip decides to end the mess and teams up with ex Agent Holman to hit Vlad where it hurts the most. Despite its basic storyline, \"Revenge\" is a good movie for JCVD Fans, especially if they\\'re not a slug forgivable sequel. Overall, it\\'s a memorable and enjoyable watch for those with smaller budgets and a sense of camaraderie and fun watching. Regardless of its execution, \"Renge\" remains a must-watch for those interested in martial arts action and sexism in the world around him.'}]\n",
            "Processing movie: Wrath of Man\n",
            "IMDb ID: tt11083552\n",
            "Number of reviews: 21960\n"
          ]
        },
        {
          "output_type": "stream",
          "name": "stderr",
          "text": [
            "Device set to use cpu\n"
          ]
        },
        {
          "output_type": "stream",
          "name": "stdout",
          "text": [
            "Contextual Summary: [{'summary_text': '\"Wrath of Man\" by Guy Ritchie is praised for its gripping action sequences and Jason Statham\\'s performance but criticized for its one-dimensional portrayal. While some find it passable, others appreciate its diverse cast and unforced storytelling. Ritchie\\'s direction, coupled with clever humor, creates a compelling yet unnerving cinematic experience. Despite its flaws, the film\\'s twists and twists make it a standout in the genre, especially for fans of the legendary Sherlock Holmes. Statham delivers a memorable performance, even if it falls short of delivering a high-level thriller. Overall, it\\'s an average thriller with little to recommend for those who appreciate its risky approach to storytelling and storytelling. Regardless of its shortcomings, it remains a promising start for Ritchie and his ambitious vision for a successful cinematic endeavor. Ultimately, it will be a solid'}]\n",
            "Processing movie: The Nightmare Before Christmas\n",
            "IMDb ID: tt0107688\n",
            "Number of reviews: 45254\n"
          ]
        },
        {
          "output_type": "stream",
          "name": "stderr",
          "text": [
            "Device set to use cpu\n"
          ]
        },
        {
          "output_type": "stream",
          "name": "stdout",
          "text": [
            "Contextual Summary: [{'summary_text': '\"The Nightmare Before Christmas\" creates a world of its own, showcasing unforgettable characters and events that should be shared with generations. Tim Burton\\'s animation is masterfully executed, with each moment carefully scripted and produced. While not a big Tim Burton fan, the film offers a tale of horror and happiness, focusing on Jack Skellington\\'s role as Halloween-town\\'s mayor. Despite some linear moments, Oogie Boogie\\'s presence shines, making for a fantastically gothic feel that resonates with children\\'s fear and understanding of the horrors he faces, making it a must-watch for fans of classic horrors and the enduring power of resiliency and courage in trying new things. Regardless of its genre, it\\'s still a compelling and memorable cinematic experience that stands out in its own way for audiences of all ages and genres.'}]\n",
            "Processing movie: Hot Frosty\n",
            "IMDb ID: tt32359447\n",
            "Number of reviews: 17255\n"
          ]
        },
        {
          "output_type": "stream",
          "name": "stderr",
          "text": [
            "Device set to use cpu\n"
          ]
        },
        {
          "output_type": "stream",
          "name": "stdout",
          "text": [
            "Contextual Summary: [{'summary_text': '\"Hot Frosty\" offers a cozy, fun, and slightly absurd holiday magic, despite its predictable plot and caricature characters. Lacey Chabert shines as the lead, adding charm to her character. While some scenes feel cheesy, the film\\'s believable portrayal of her falling in love with him is believable. Despite some predictable moments, it stands out as a heartwarming addition to the holiday genre, making it a must-watch for fans of cheap TV movies and feelgood Christmas movies. Overall, it\\'s an enjoyable and enjoyable watch for those who love Christmas movies and those who enjoy the classic parodic twists and quirky characters. Regardless, it may not be a cult classic in its own right, but it may appeal to fans of holiday romance and romantic comedy. Ultimately, it might not be for everyone who loves Christmas movies as well as those who appreciate it for its sweet charm and heartfelt moments.'}]\n",
            "Processing movie: Avatar\n",
            "IMDb ID: tt0499549\n",
            "Number of reviews: 31087\n"
          ]
        },
        {
          "output_type": "stream",
          "name": "stderr",
          "text": [
            "Device set to use cpu\n"
          ]
        },
        {
          "output_type": "stream",
          "name": "stdout",
          "text": [
            "Contextual Summary: [{'summary_text': '\"Avatar\" stands as a magnificent work of art, showcasing James Cameron\\'s passion for this ambitious project. Sam Worthington shines as Jake Sully, while Sigourney Weaver shines in her role. The film\\'s visual effects and sound effects make every scene look real, making it as close as cinema can get to a real alien world. While some scenes may drag at times, others praise its artistic prowess and enduring appeal. Whether it\\'ll pay off monetarily remains a testament to its artistic triumph, despite some critics cautioning against its derivative plot and lackluster sound effects. Overall, it\\'s a compelling and thought-provoking cinematic endeavor that\\'s worth watching for fans of the genre and those who appreciate its ambitious ambitions and visionary endeavors envisioned in \"Return of the King\" and \"Patronics\" can\\'t.'}]\n",
            "Processing movie: Pulp Fiction\n",
            "IMDb ID: tt0110912\n",
            "Number of reviews: 19302\n"
          ]
        },
        {
          "output_type": "stream",
          "name": "stderr",
          "text": [
            "Device set to use cpu\n"
          ]
        },
        {
          "output_type": "stream",
          "name": "stdout",
          "text": [
            "Contextual Summary: [{'summary_text': '\"This film\" by Quentin Tarantino is hailed as a masterpiece, praised for its originality and humor. While some find it overrated, others praise its comedy and action elements, especially Vincent\\'s portrayal of power. Despite its flaws, the film\\'s performances, particularly from John Travolta and Bruce Willis, elevate it to 8.9 stars. It\\'s a great crime flick with moments of humor and suspense, making it a must-watch for fans of crime and action movies alike, especially if you\\'re looking for something different and intriguing. Overall, it\\'s considered a classic crime flick worth watching for its enduring impact and a memorable cinematic experience worth checking out for its outstanding performances. Regardless, it may not be a true masterpiece, but overall, it remains a standout in the crime genre. Ultimately, it might not be for everyone, but it may stand out in the genre.'}]\n",
            "Processing movie: The Next 365 Days\n",
            "IMDb ID: tt21106646\n",
            "Number of reviews: 6768\n"
          ]
        },
        {
          "output_type": "stream",
          "name": "stderr",
          "text": [
            "Device set to use cpu\n"
          ]
        },
        {
          "output_type": "stream",
          "name": "stdout",
          "text": [
            "Contextual Summary: [{'summary_text': '\"Massimo\" receives mixed reviews, with some praising its cinematography, locations, and action sequences, while others criticize its basic storyline and lack of explanation. While some appreciate its chemistry between the characters, others see it as a waste of time and won\\'t see a fourth installment made. Despite its flaws, it\\'s worth watching, especially if you\\'re a fan of mainstream tv dramas like \"Smut\" and \"Italian Love\" with its lackluster storytelling and pathetic fake intimate scenes, making it a missed opportunity to see the film\\'s potential for a 4th installment, even if it falls short of its potential. Ultimately, \"Massimo\" fails to live up to its potential, leaving a lasting impression on the streaming service\\'s future success it may not reach a year or two from the series\\' adversity.'}]\n",
            "Processing movie: Terrifier 2\n",
            "IMDb ID: tt10403420\n",
            "Number of reviews: 19503\n"
          ]
        },
        {
          "output_type": "stream",
          "name": "stderr",
          "text": [
            "Device set to use cpu\n"
          ]
        },
        {
          "output_type": "stream",
          "name": "stdout",
          "text": [
            "Contextual Summary: [{'summary_text': '\"Terrifier 2\" delivers extreme gore and 80\\'s horror throwbacks with its gory kills and gnarly kill scenes. However, the sequel\\'s secondary character dialogue feels awkward and lacking attention. Despite its shortcomings, the film delivers on its promise, offering more of what audiences expect from a slasher thriller. While it may not deliver the same thrills as its predecessor, it remains ambitious and stays true to its roots, making it a must-watch for fans of extreme horror and suspenseful thrills and surrealism. Overall, it\\'s a satisfying and enjoyable experience for those seeking extreme horror horror thrillers with a twist on the classic genre and a new generation of horror horror fans in mindless death and absurdity amidst the craziness and realism that captivated audiences with its brutality and sexism in character development as well as its execution.'}]\n",
            "Processing movie: After\n",
            "IMDb ID: tt4126476\n",
            "Number of reviews: 9445\n"
          ]
        },
        {
          "output_type": "stream",
          "name": "stderr",
          "text": [
            "Device set to use cpu\n"
          ]
        },
        {
          "output_type": "stream",
          "name": "stdout",
          "text": [
            "Contextual Summary: [{'summary_text': '\"After\" is a college romance that fails to deliver on its promise of love, lust, and heartbreak. While some praise its romantic vibes and chemistry between Tessa and Hardin, others find it predictable and predictable. The film\\'s reliance on Nicolas Sparks\\' novel could have been condensed into a minute long, and the dialogue was forced. Despite its flaws, Langford and Tiffin\\'s performances shine, keeping the next-door image intact. Overall, it\\'s the kind of college romance everyone hopes for, despite some criticize its superficial portrayal of the characters\\' dysfunctional families and broken marriages. Regardless, \"AFTER\" is seen as a waste of money and a forgettable viewing experience for those who\\'ll appreciate it\\'ll find it to be a must-watch for fans of Nicholas Sparks and others who can\\'t stand out in the genre.'}]\n",
            "Processing movie: Abigail\n",
            "IMDb ID: tt27489557\n",
            "Number of reviews: 10641\n"
          ]
        },
        {
          "output_type": "stream",
          "name": "stderr",
          "text": [
            "Device set to use cpu\n"
          ]
        },
        {
          "output_type": "stream",
          "name": "stdout",
          "text": [
            "Contextual Summary: [{'summary_text': '\"Abigail\" is a comedic horror film that delivers on its promise of comedic elements with a solid cast including Melissa Barrera, Kathryn Newton, and Kevin Durand. While the trailer may not reveal the plot\\'s twist, the film\\'s solid performances, particularly from Alisha Weir, make it a crowd-pleaser. Despite its flaws, it\\'s a standout in the genre, showcasing Hollywood\\'s appreciation for good movies. With a decent budget and a stellar cast, including standout performances like Angus Cloud, \"Ready or Not\" and Durand, making it an unexpectedly good addition to the horror genre\\'s already stellar lineup of horror films. Overall, \"Agileil\" stands out as a compelling and memorable entry in the horror franchises of 2024. Regardless of its shortcomings, it remains a promising entry into the genre.'}]\n",
            "Processing movie: Harry Potter and the Order of the Phoenix\n",
            "IMDb ID: tt0373889\n",
            "Number of reviews: 29871\n"
          ]
        },
        {
          "output_type": "stream",
          "name": "stderr",
          "text": [
            "Device set to use cpu\n"
          ]
        },
        {
          "output_type": "stream",
          "name": "stdout",
          "text": [
            "Contextual Summary: [{'summary_text': '\"Dumbledore\" receives mixed reviews, with some praising Gambon\\'s performance but others criticizing its lack of depth in character development and dialogue. While some scenes work great, others feel rushed or lacking depth. Despite a faithful rendering of the book, some find it boring and lacking intrigue. However, Helena Bonham Carter shines as Belatrix, delivering a bonkers performance despite a lackluster first half. Overall, it\\'s a mixed bag of performances, particularly Emma Thompson\\'s comedic timing and Emma Watson\\'s standout performances. Nevertheless, others see the film as a major step backwards, resulting in a disappointing viewing experience for many viewers who may find it lacking depth for others. Nonetheless, it remains a must-watch for fans of the classic tales of human cruelty and human cruelty in the making of the film\\'s impact. Regardless, it may not be a complete failure in storytelling and direction.'}]\n",
            "Processing movie: Our Little Secret\n",
            "IMDb ID: tt5359928\n",
            "Number of reviews: 0\n"
          ]
        },
        {
          "output_type": "stream",
          "name": "stderr",
          "text": [
            "Device set to use cpu\n",
            "Your max_length is set to 300, but your input_length is only 3. Since this is a summarization task, where outputs shorter than the input are typically wanted, you might consider decreasing max_length manually, e.g. summarizer('...', max_length=1)\n"
          ]
        },
        {
          "output_type": "stream",
          "name": "stdout",
          "text": [
            "Contextual Summary: [{'summary_text': '. - (IT) - 0 - 1 - 2 - 3 - 4 - 5 - 6 - 7 - 8 - 9 - 10 - 11 - 12 - 13 - 14 - 15 - 16 - 18 - 19 - 20 - 21 - 23 - 24 - 25 - 26 - 28 - 30 - 40 - 50 - 60 - 70 - 80 - 90 - 100 - 150 - 140 - 120 - 130 -140 - 45 - 34 - 35 - 44 -35 - 38 -34 - 41 - 39 - 42 - 43 - 64 - 36 - 33 - 31 - 32 - 46 - 49 - 54 --41 -46 -49 -48 -44 -'}]\n",
            "Processing movie: Diabolik - Who Are You?\n",
            "IMDb ID: tt15307234\n",
            "Number of reviews: 10632\n"
          ]
        },
        {
          "output_type": "stream",
          "name": "stderr",
          "text": [
            "Device set to use cpu\n"
          ]
        },
        {
          "output_type": "stream",
          "name": "stdout",
          "text": [
            "Contextual Summary: [{'summary_text': '\"Diabolik: Ginko Attacks\" follows the titular hero Diabolik, a professional thief captured by a ruthless criminal gang, as he and Inspector Ginco struggle to escape. Giacomo Gianniotti shines in the titular role, portraying the titular character\\'s extraordinary powers. While the film\\'s retro aesthetic emulates Mario Bava\\'s adaptation, it offers thrills, action, phantasmagoria, and pop art elements. Despite some naiveties, it\\'s a nostalgic journey, evoking cherished memories of the 70s in a realistic manner, capturing the essence of the era\\'s action and psychedelic era in the comics. Overall, \"Diabolik\" is a charming and enjoyable cinematic experience, reminiscent of a classic comic book hero\\'s portrayal.'}]\n",
            "Processing movie: Descendants: The Rise of Red\n",
            "IMDb ID: tt20202136\n",
            "Number of reviews: 11075\n"
          ]
        },
        {
          "output_type": "stream",
          "name": "stderr",
          "text": [
            "Device set to use cpu\n"
          ]
        },
        {
          "output_type": "stream",
          "name": "stdout",
          "text": [
            "Contextual Summary: [{'summary_text': '\"Rise of Red\" receives mixed reviews, with some praising its fun cast and the songs but others feel it\\'s overshadowed and lacking in plot progression. While some liked the original Descendants movies, others felt it needed more work on the plot. Rita Ora\\'s performance is disappointing, but the film\\'s lack of depth and lack of originality make it a forgettable addition to the franchise. Despite its flaws, the sequel should feel complete and not set up a 3rd installment, though some criticize its lack of impact on the franchise\\'s overall quality and the overall experience. Overall, this film should be seen as a good watch for younger audiences and should be rewatching the originals instead of a sequel altogether, offering a different take on the descendants franchise and a fresh perspective on a new perspective on the future of cinematic content. Ultimately, it may not be worth watching.'}]\n",
            "Processing movie: Oppenheimer\n",
            "IMDb ID: tt15398776\n",
            "Number of reviews: 30542\n"
          ]
        },
        {
          "output_type": "stream",
          "name": "stderr",
          "text": [
            "Device set to use cpu\n"
          ]
        },
        {
          "output_type": "stream",
          "name": "stdout",
          "text": [
            "Contextual Summary: [{'summary_text': '\"Oppenheimer\" is a Christopher Nolan biopic that offers an intricately structured exploration of J. Robert Oppenheimer\\'s legacy. While some find its pacing issues and extended run time problematic, others praise its cinematography and sound design. Robert Downey Jr. delivers an impressive performance, capping off a career that changed the world in more ways than one. Despite its short runtime, the film remains an essential viewing experience, showcasing Nolan\\'s cinematic genius and impact on history. Overall, it\\'s a technical masterpiece that stands as a testament to cinematic history and the impact it has on the world around us. Regardless of its shortcomings, it remains a must-watch for cinephiles and historians alike, making it a standout in Nolan-era cinematic excellence. Nevertheless, it may not break new ground in the biopic genre, but it remains an important contribution to cinema.'}]\n",
            "Processing movie: Private Collections\n",
            "IMDb ID: tt33404631\n",
            "Number of reviews: 0\n"
          ]
        },
        {
          "output_type": "stream",
          "name": "stderr",
          "text": [
            "Device set to use cpu\n",
            "Your max_length is set to 300, but your input_length is only 3. Since this is a summarization task, where outputs shorter than the input are typically wanted, you might consider decreasing max_length manually, e.g. summarizer('...', max_length=1)\n"
          ]
        },
        {
          "output_type": "stream",
          "name": "stdout",
          "text": [
            "Contextual Summary: [{'summary_text': '. - (IT) - 0 - 1 - 2 - 3 - 4 - 5 - 6 - 7 - 8 - 9 - 10 - 11 - 12 - 13 - 14 - 15 - 16 - 18 - 19 - 20 - 21 - 23 - 24 - 25 - 26 - 28 - 30 - 40 - 50 - 60 - 70 - 80 - 90 - 100 - 150 - 140 - 120 - 130 -140 - 45 - 34 - 35 - 44 -35 - 38 -34 - 41 - 39 - 42 - 43 - 64 - 36 - 33 - 31 - 32 - 46 - 49 - 54 --41 -46 -49 -48 -44 -'}]\n",
            "Processing movie: The Lord of the Rings: The Fellowship of the Ring\n",
            "IMDb ID: tt0120737\n",
            "Number of reviews: 35013\n"
          ]
        },
        {
          "output_type": "stream",
          "name": "stderr",
          "text": [
            "Device set to use cpu\n"
          ]
        },
        {
          "output_type": "stream",
          "name": "stdout",
          "text": [
            "Contextual Summary: [{'summary_text': '\"Middle Earth\" is a masterful epic fantasy film, showcasing Tolkien\\'s vision for the world of Frodo and his bold companions. Directed by Peter Jackson, it spans 2 hours and 30 minutes, leaving audiences wanting more. With jaw-dropping scenes and a cliffhanger at the end, it\\'s a timeless classic that stands as a standout in cinema history. While some may find it lully-free, the film\\'s action sequences and superb acting elevate it, making it a must-watch for fans of epic fantasy cinema. Despite its lack of female roles, it remains a beloved classic that will endure for generations to come, a testament to Jackson\\'s legacy and the legacy of Tolkin\\'s original work in epic fantasy films. Regardless of its length, \"It\\'s an instant classic that transcends genre boundaries in cinema forever.\"'}]\n",
            "Processing movie: The First Omen\n",
            "IMDb ID: tt5672290\n",
            "Number of reviews: 22035\n"
          ]
        },
        {
          "output_type": "stream",
          "name": "stderr",
          "text": [
            "Device set to use cpu\n"
          ]
        },
        {
          "output_type": "stream",
          "name": "stdout",
          "text": [
            "Contextual Summary: [{'summary_text': '\"The First Omen\" is a prequel to Richard Donner\\'s \"Omen\" from 1976, blending suspense with psychological horror elements. Despite some cheap jump scares, it offers solid chills for fans of old-school horror. Ralph Ineson delivers a standout performance, while Arkasha Stevenson\\'s debut imbues the film with rich texture and slow-burn pace. While not groundbreaking, it\\'s a captivating journey of survival and self-discovery infused with chilling horror, reminiscent of \"Immaculate.\" Despite its predictable plot and lack of originality, it remains a compelling and enjoyable horror experience, even if it falls short of classics like \"Maria Caballero\\'s\" success, making it a memorable and memorable addition to the genre\\'s classics list. Regardless of its shortcomings, it still stands as a promising entry in the horror genre.'}]\n",
            "Processing movie: Twilight of the Warriors: Walled In\n",
            "IMDb ID: tt20316748\n",
            "Number of reviews: 28666\n"
          ]
        },
        {
          "output_type": "stream",
          "name": "stderr",
          "text": [
            "Device set to use cpu\n"
          ]
        },
        {
          "output_type": "stream",
          "name": "stdout",
          "text": [
            "Contextual Summary: [{'summary_text': '\"Kung Fu\" presents a mixed bag of action and romance, with Philip Ng delivering a rare villainous performance. While some find it entertaining for kung fu fans and those interested in Hong Kong martial arts, others criticize its predictable storyline and lack of character development. Despite its flaws, the film\\'s cinematography and colorful character design add excitement to the action scene, making it a must-watch for fans of Hong Kong action cinema. However, some critics find it overly complicated and veering into dress-up pantomime territory. Overall, it\\'s a refreshing departure from the classic action genre, offering a unique take on the iconic Kowloon walled city and its enduring impact on Hong Kong cinema. Regardless, it remains a compelling and memorable cinematic experience worth exploring. Ultimately, it leaves a lasting impression on fans of action cinema enthusiasts.'}]\n",
            "Processing movie: Smugglers\n",
            "IMDb ID: tt28106766\n",
            "Number of reviews: 9278\n"
          ]
        },
        {
          "output_type": "stream",
          "name": "stderr",
          "text": [
            "Device set to use cpu\n"
          ]
        },
        {
          "output_type": "stream",
          "name": "stdout",
          "text": [
            "Contextual Summary: [{'summary_text': '\"Smugglers\" offers a unique portrayal of smuggling in South Korea, focusing on ordinary people finding ways to share the profits. While some find it captivating and well-made, others criticize its over-the-top structure and lack of substance. Director Ryoo Seung-wan\\'s direction feels overly structured, resulting in a film that falls short of delivering a satisfying storyline. Despite its flaws, the cast delivers solid performances, particularly from Kim Hye-Soo and Yum Jung-ah. Overall, it\\'s a good example of women empowerment in Korean cinema, but it may not reach the heights of a Korean cinema in the coming years. Ultimately, it might not reach its potential for a sequel, but overall, it may leave a lasting impression on some viewers who appreciate its satirical approach to storytelling and storylines, making it a forgettable entry in the genre.'}]\n",
            "Processing movie: The Hobbit: The Battle of the Five Armies\n",
            "IMDb ID: tt2310332\n",
            "Number of reviews: 30958\n"
          ]
        },
        {
          "output_type": "stream",
          "name": "stderr",
          "text": [
            "Device set to use cpu\n"
          ]
        },
        {
          "output_type": "stream",
          "name": "stdout",
          "text": [
            "Contextual Summary: [{'summary_text': '\"Home and Borders\" offers a compelling blend of home and borders themes, anchored by Martin Freeman\\'s portrayal of Bilbo at the end of \"AN UNEXPECTED JOURNEY.\" While the plot may feel bloated, the film\\'s thematic depth and emotional depth make it a satisfying watch. With Legolas\\' physics-defying fighting style and Billy Connolly\\'s presence, it\\'s a must-watch for fans of Peter Jackson\\'s Middle Earth trilogy, offering an emotionally powerful spectacle filled ending to the greatest fantasy cinematic series of all time. Despite its flaws, \"Tolkien\" remains a timeless classic, even if it falls short of achieving a breakthrough in the genre\\'s epic battle for supremacy and humanity\\'s quest for redemption and redemption. Regardless, it may not be the most compelling addition to the franchise\\'s legacy, but it may leave a lasting impact on viewers.'}]\n",
            "Processing movie: Jingle All the Way\n",
            "IMDb ID: tt0116705\n",
            "Number of reviews: 25655\n"
          ]
        },
        {
          "output_type": "stream",
          "name": "stderr",
          "text": [
            "Device set to use cpu\n"
          ]
        },
        {
          "output_type": "stream",
          "name": "stdout",
          "text": [
            "Contextual Summary: [{'summary_text': '\"Jingle All The Way\" offers a familiar holiday experience, starring Arnold Schwarzenegger and Jake Lloyd. While some find it entertaining with its misadventures and slapstick humor, others criticize its lack of humor and character moments. Despite its flaws, the film\\'s absurdity and over-the-top moments make it a standout in the holiday genre. Arnold\\'s portrayal of a dumb dad and a zany Postman adds depth to the character\\'s journey, but overall, it\\'s a fun and hilarious watch, even if it falls short of delivering the promised toy he\\'s missing the mark on the movie\\'s impact on viewers. Regardless, it stands as a classic holiday classic, despite its shortcomings in quality and overall, its overall impact on viewer engagement aplenty of moments of fun for all viewers, especially those who enjoy it.'}]\n",
            "Processing movie: Blade Runner 2049\n",
            "IMDb ID: tt1856101\n",
            "Number of reviews: 30206\n"
          ]
        },
        {
          "output_type": "stream",
          "name": "stderr",
          "text": [
            "Device set to use cpu\n"
          ]
        },
        {
          "output_type": "stream",
          "name": "stdout",
          "text": [
            "Contextual Summary: [{'summary_text': '\"Blade Runner 2049\" is a visually stunning sequel that treats its predecessor with respect, including thoughtful nods to its score and philosophical elements. While it may not reach the same force as its predecessor, it offers an immersive and philosophical exploration of human nature. The performances of Jared Leto, Ana De Armas, and Harrison Ford elevate the film\\'s visual grandeur, making it a timeless sci-fi masterpiece that stands on its own as a cult classic and a testament to Denis Villeneuve\\'s legacy and the enduring impact it has on audiences. Despite its short runtime, it remains a compelling and thought-provoking exploration of the human spirit and the universe\\'s enduring relevance to the genre\\'s future endeavors akin to \"The Continent\" and \"The Origin\" adolescent enigmatic and enduring resonating with humanity\\'s transcendent cinematic experience.'}]\n",
            "Processing movie: Emilia Pérez\n",
            "IMDb ID: tt20221436\n",
            "Number of reviews: 29107\n"
          ]
        },
        {
          "output_type": "stream",
          "name": "stderr",
          "text": [
            "Device set to use cpu\n"
          ]
        },
        {
          "output_type": "stream",
          "name": "stdout",
          "text": [
            "Contextual Summary: [{'summary_text': '\"Emilia Perez\" tackles a range of themes but struggles to fully explore them. Zoe Saldana delivers a standout performance, capturing Emilia\\'s natural emotions. While some musical numbers feel jarring at times, the film\\'s cinematography and surreal elements evoke tension and emotion. Despite some standout moments, the movie\\'s inability to fully commit to its main premise left some viewers unsatisfied. Overall, it feels like a movie where everything happens all at once, focusing on three women who seek purpose in life and their version of happiness, making it a memorable and thought-provoking exploration of gender affirmation and societal norms in the process of societal change. Ultimately, it\\'s worth a watch for anyone interested in crime dramas and a compelling cinematic experience worth pursuing amidst its shortcomings. Regardless, it remains a must-watch for those who appreciate'}]\n",
            "Processing movie: The Matrix\n",
            "IMDb ID: tt0133093\n",
            "Number of reviews: 27095\n"
          ]
        },
        {
          "output_type": "stream",
          "name": "stderr",
          "text": [
            "Device set to use cpu\n"
          ]
        },
        {
          "output_type": "stream",
          "name": "stdout",
          "text": [
            "Contextual Summary: [{'summary_text': '\"The Matrix\" is a visually stunning sci-fi film that stands out as a philosophical masterpiece, showcasing Laurence Fishbourne\\'s portrayal of Neo\\'s mentor Morpheus. While some critics praise its suspenseful narrative and Hugo Weaving\\'s performance as Agent Smith adds depth to the character. Despite a runtime of 2 and a half hours, it remains an entertaining and thought-provoking watch, making it a standout in the Sci-Fi genre, offering a unique perspective on the future of science fiction cinema. Overall, it\\'s a must-watch for fans of philosophical films and the future that will inspire them to come. Whether you\\'re a fan or not, \"Matrix\" remains a compelling and memorable cinematic experience that will leave a lasting impression on your friends and fans of the genre in the coming years to come, whether you\\'ll enjoy it or not.'}]\n",
            "Processing movie: Saving Bikini Bottom: The Sandy Cheeks Movie\n",
            "IMDb ID: tt23063732\n",
            "Number of reviews: 19778\n"
          ]
        },
        {
          "output_type": "stream",
          "name": "stderr",
          "text": [
            "Device set to use cpu\n"
          ]
        },
        {
          "output_type": "stream",
          "name": "stdout",
          "text": [
            "Contextual Summary: [{'summary_text': '\"SpongeBob: The Sandy Cheeks Movie\" receives mixed reviews, with some praising its colorful animation and endearing characters, while others find it lacking in originality. Nickelodeon\\'s attempts at live action and animation fail to capture the essence of the original series, resulting in a forgettable experience for many viewers. While some find it entertaining and entertaining, others criticize its lack of emotion and lack of creativity. Despite its flaws, it\\'s a great spin off for Nickelodeson, offering a unique spin off of the Spongebob SquarePants franchise, albeit with a different take on the original story and a new perspective on the franchise\\'s future, leaving a lasting impact on viewers. Ultimately, it may not be a memorable sequel, but it may well be worth a watch for fans of spongebob squarepants fans as well as those who enjoy it.'}]\n",
            "Processing movie: The Conjuring\n",
            "IMDb ID: tt1457767\n",
            "Number of reviews: 37503\n"
          ]
        },
        {
          "output_type": "stream",
          "name": "stderr",
          "text": [
            "Device set to use cpu\n"
          ]
        },
        {
          "output_type": "stream",
          "name": "stdout",
          "text": [
            "Contextual Summary: [{'summary_text': '\"The Conjuring\" is a modern supernatural horror film directed by James Wan, featuring a pair of paranormal investigators dealing with a suspected supernatural visitation. While some find its style eclipses its scares, others praise its artful storytelling and technical prowess. Despite its clichés, the film delivers palpable dread and a satisfying arc, reminiscent of \"Sinister.\" It\\'s a throwback to Wan\\'s earlier work, blending \\'70s haunted house movies with the human element, making it a standout among R-rated horror genres like \"Saw  and \"Hannah . Overall, it\\'s an enjoyable and memorable cinematic experience that captivates audiences with its unique blend of horror and horror genre genres that appeal to audiences beyond its clichéd horror films like \"Insidious\" as well as a unique take on the genre\\'s more recent work in recent years.'}]\n",
            "Processing movie: Elf\n",
            "IMDb ID: tt0319343\n",
            "Number of reviews: 24590\n"
          ]
        },
        {
          "output_type": "stream",
          "name": "stderr",
          "text": [
            "Device set to use cpu\n"
          ]
        },
        {
          "output_type": "stream",
          "name": "stdout",
          "text": [
            "Contextual Summary: [{'summary_text': '\"Elf\" is a charming Christmas comedy about a boy raised by elves in the North Pole who travels to N.Y.C. Will Ferrell\\'s enthusiasm as he plays Buddy the Elf contagious, despite some finding the ending cheesy. Director Jon Favreau crafts a crowd pleasing film, though some may find the climactic moments literal. James Caan\\'s believable performance adds depth to the role, making it a timeless classic that will be seen on television for the rest of our lives, even if it falls short of achieving its lofty lofty status. Overall, it\\'s an entertaining and enjoyable addition to the Christmas classic, though its pacing may not reach the heights of other Christmas classics, leaving audiences wanting more from this classic farewell to this classic cult classics like \"Dinner For 5\" and \"Dinosaurs.\"'}]\n",
            "Processing movie: It's a Wonderful Life\n",
            "IMDb ID: tt0038650\n",
            "Number of reviews: 29159\n"
          ]
        },
        {
          "output_type": "stream",
          "name": "stderr",
          "text": [
            "Device set to use cpu\n"
          ]
        },
        {
          "output_type": "stream",
          "name": "stdout",
          "text": [
            "Contextual Summary: [{'summary_text': '\"It\\'s A Wonderful Life\" is hailed as one of the greatest Christmas movies ever made, praised for its powerful story of self-worth and destiny. Jimmy Stewart\\'s portrayal of Peter Bailey adds depth to the role, making him a standout in the film. While not without flaws, the film\\'s thoughtful cinematography captures the ambiance of Bedford Falls, showcasing Capra\\'s visionary direction. Despite occasional financial failures, it remains a powerful and emotionally resonant tale of destiny and self-discovery, making it a must-watch for fans of timeless cinematic storytelling and memorable quotes, especially amidst adversity and enduring impact. Regardless, it\\'s a timeless classic that stands as a testament to the power of storytelling and storytelling in the 21st century cinematic endeavors and the enduring legacy of its legacy.'}]\n",
            "Processing movie: Late Night with the Devil\n",
            "IMDb ID: tt14966898\n",
            "Number of reviews: 27893\n"
          ]
        },
        {
          "output_type": "stream",
          "name": "stderr",
          "text": [
            "Device set to use cpu\n"
          ]
        },
        {
          "output_type": "stream",
          "name": "stdout",
          "text": [
            "Contextual Summary: [{'summary_text': '\"Late Night with the Devil\" offers a unique take on the late night talk show genre, blending homage to the genre with compelling performances. While some may find it overhyped, others appreciate its unique portrayal of Jack Delroy\\'s ambition and chemistry. Despite some moments of pacing issues, the film\\'s authenticity and deep appreciation for the period make it a worthwhile watch, especially for horror enthusiasts who appreciate the genre\\'s rich history. Overall, it\\'s not a bad movie, but one that\\'s worth a watch for fans of horror genre genre genre films and a deeper appreciation for its uniqueness and characterization. Nonetheless, it may not capture the essence of the era\\'s scares and schlock films, offering a fresh perspective on the horror genre in the 21st century horrors and horrors in the 20th century horror genres a memorable viewing experience.'}]\n",
            "Processing movie: Kill the Jockey\n",
            "IMDb ID tidak ditemukan untuk film Kill the Jockey\n",
            "Processing movie: Frozen II\n",
            "IMDb ID: tt4520988\n",
            "Number of reviews: 15246\n"
          ]
        },
        {
          "output_type": "stream",
          "name": "stderr",
          "text": [
            "Device set to use cpu\n"
          ]
        },
        {
          "output_type": "stream",
          "name": "stdout",
          "text": [
            "Contextual Summary: [{'summary_text': '\"Frozen 2\" offers a mixed bag of reviews, with some praising its humor and animation, while others find it lacking in depth and depth. While some find it entertaining and enjoyable, others see it as a pointless and average sequel that fails to deliver on its promise. Despite attempts at spellbinding animation, the film\\'s musical numbers and lack of originality detract from its overall impact, making it a forgettable addition to the franchise. Overall, it\\'s a passable attempt that falls short of its potential, even if it fails to recapture the magic of its predecessor\\'s originality and a lackluster storyline despite its attempts at adolescent charm. Regardless, it may not be worth the 6-year wait for a sequel with its lackluster animation and lackluster premise and mediocre storyline and overall impression. Ultimately, it could leave a lasting impression of a memorable and forgettable entry in the animated genre.'}]\n",
            "Processing movie: Jurassic World Dominion\n",
            "IMDb ID: tt8041270\n",
            "Number of reviews: 31079\n"
          ]
        },
        {
          "output_type": "stream",
          "name": "stderr",
          "text": [
            "Device set to use cpu\n"
          ]
        },
        {
          "output_type": "stream",
          "name": "stdout",
          "text": [
            "Contextual Summary: [{'summary_text': '\"Jurassic World: Dominion\" struggles to find its footing, despite attempts at humor and suspense. Director Colin Trevorrow\\'s criticism of the film\\'s disjointed narrative and pointless dinosaur fights makes it feel like a garbage waste. Despite its flaws, the film offers a refreshing take on the classic saga, offering a sly critique of capitalism and modern capitalism. While it may not be groundbreaking, it\\'s a worthwhile watch for fans of the franchise\\'s epic conclusion, albeit one that falls short of delivering on its potential and deserves recognition for its lackluster storytelling and storytelling. Ultimately, it fails to deliver on its promise of Jurassic Park and Fallen Kingdom, leaving audiences with a mixed bag of spoilers and a forgettable entry in the scumbaggers and spoilers. Regardless of its shortcomings, it remains an enjoyable and thought-provoking exploration of modern capitalism and morality.'}]\n",
            "Processing movie: Spider-Man: Into the Spider-Verse\n",
            "IMDb ID: tt4633694\n",
            "Number of reviews: 20663\n"
          ]
        },
        {
          "output_type": "stream",
          "name": "stderr",
          "text": [
            "Device set to use cpu\n"
          ]
        },
        {
          "output_type": "stream",
          "name": "stdout",
          "text": [
            "Contextual Summary: [{'summary_text': '\"Into The Spider-Verse\" offers a unique take on the extended superhero universe, with Miles Morales leading the charge. While some critics may find it convoluted and lacking visuals, others praise its storytelling and Peter Parker\\'s portrayal. The film\\'s use of motion blur and blur-like artifacts adds depth, but some find it confusing. Despite its flaws, it\\'s a moving and humane exploration of the character\\'s cultural significance, making it a must-watch for fans of cartoons and comics enthusiasts alike. Overall, \"Pearl\" stands as a promising coming-of-age film with a strong narrative and a compelling narrative that captivates audiences with its originality and originality, even if it lacks the originality of its predecessors like Superman and Superman. However, others criticize its lack of visuals and lack of originality.'}]\n",
            "Processing movie: The Canterville Ghost\n",
            "IMDb ID: tt0036696\n",
            "Number of reviews: 23839\n"
          ]
        },
        {
          "output_type": "stream",
          "name": "stderr",
          "text": [
            "Device set to use cpu\n"
          ]
        },
        {
          "output_type": "stream",
          "name": "stdout",
          "text": [
            "Contextual Summary: [{'summary_text': '\"The Canterville Ghost\" is a loosely based on a short story by Oscar Wilde, starring Charles Laughton and Margaret O\\'Brien. Set in World War II, the film follows a distant descendant of Sir Simon de Cantervilla, whose family owns a castle which is being used by American soldiers. Despite a reportedly troubled production, the cast, led by Robert Young, glides smoothly through the film, delivering a memorable performance as Simon\\'s spirit. While not without flaws, it remains a charming bit of 1940s Hollywood fluff, reminiscent of \"woogie boogie\" and \"the canterville ghost\" with its charming portrayal of a young girl\\'s heroic deed. Nevertheless, it falls short of its potential, despite its lack of originality and a lackluster production. Overall, it\\'s still a compelling comedic gem that deserves recognition for its comedic genius and originality.'}]\n",
            "Processing movie: Terrifier\n",
            "IMDb ID: tt4281724\n",
            "Number of reviews: 21146\n"
          ]
        },
        {
          "output_type": "stream",
          "name": "stderr",
          "text": [
            "Device set to use cpu\n"
          ]
        },
        {
          "output_type": "stream",
          "name": "stdout",
          "text": [
            "Contextual Summary: [{'summary_text': '\"Terrifier\" offers a generic slasher experience, featuring Art the Clown\\'s terrifying performance. While some find it predictable and lacking surprises, others appreciate its gory brutality and competent direction. Despite some choppy moments, the film\\'s execution and eerie atmosphere make it a must-watch for fans of seventies and eighties horror. However, it\\'s criticized for its lack of originality and lack of depth in storytelling, leaving viewers with little hope for a more rounded experience with more depth in dialogue and dialogue. Overall, it may be a disturbing and disturbing horror franchise, but overall, it falls short of delivering a truly disturbing and enduring impact on the viewer\\'s mentality and perception of its villainy amidst the rest of the film. Regardless, it still stands as a standout in the horror genre, despite its low budget and lackluster performances.'}]\n",
            "Processing movie: Christmas Is Cancelled\n",
            "IMDb ID: tt5292708\n",
            "Number of reviews: 0\n"
          ]
        },
        {
          "output_type": "stream",
          "name": "stderr",
          "text": [
            "Device set to use cpu\n",
            "Your max_length is set to 300, but your input_length is only 3. Since this is a summarization task, where outputs shorter than the input are typically wanted, you might consider decreasing max_length manually, e.g. summarizer('...', max_length=1)\n"
          ]
        },
        {
          "output_type": "stream",
          "name": "stdout",
          "text": [
            "Contextual Summary: [{'summary_text': '. - (IT) - 0 - 1 - 2 - 3 - 4 - 5 - 6 - 7 - 8 - 9 - 10 - 11 - 12 - 13 - 14 - 15 - 16 - 18 - 19 - 20 - 21 - 23 - 24 - 25 - 26 - 28 - 30 - 40 - 50 - 60 - 70 - 80 - 90 - 100 - 150 - 140 - 120 - 130 -140 - 45 - 34 - 35 - 44 -35 - 38 -34 - 41 - 39 - 42 - 43 - 64 - 36 - 33 - 31 - 32 - 46 - 49 - 54 --41 -46 -49 -48 -44 -'}]\n",
            "Processing movie: The Batman\n",
            "IMDb ID: tt1877830\n",
            "Number of reviews: 21090\n"
          ]
        },
        {
          "output_type": "stream",
          "name": "stderr",
          "text": [
            "Device set to use cpu\n"
          ]
        },
        {
          "output_type": "stream",
          "name": "stdout",
          "text": [
            "Contextual Summary: [{'summary_text': '\"The Batman (2022)\" delivers a gloomy, gritty, visceral tone, anchored by Robert Pattinson\\'s impressive performance. While some critics find it lacking in depth and pacing, others praise its mature portrayal of Batman and Bruce Wayne. Despite some loopholes and bad acting, the film\\'s dark tone and social commentary make it an A+, praised for its epic reimagining of the Batman\\'s role but criticized for its long runtime and lack of detail. Overall, it\\'s a well-crafted and enjoyable watch, albeit one that falls short of delivering on its potential and deserves recognition for its dark and gritty portrayal and cinematic excellence. Nonetheless, it still leaves a lasting impression as a compelling and thought-provoking cinematic experience that deserves acclaim for its enduring impact on cinema. \\'60s nostalgia for the \\'70s horror genre.'}]\n",
            "Processing movie: Miraculous World: Paris, Tales of Shadybug and Claw Noir\n",
            "IMDb ID tidak ditemukan untuk film Miraculous World: Paris, Tales of Shadybug and Claw Noir\n",
            "Processing movie: The Fall Guy\n",
            "IMDb ID: tt1684562\n",
            "Number of reviews: 24029\n"
          ]
        },
        {
          "output_type": "stream",
          "name": "stderr",
          "text": [
            "Device set to use cpu\n"
          ]
        },
        {
          "output_type": "stream",
          "name": "stdout",
          "text": [
            "Contextual Summary: [{'summary_text': '\"The Fall Guy\" starring Ryan Gosling and Emily Blunt is a blockbuster that delights action fans with its dedication to stuntmen. While it falls short in delivering comedy, its commentary on their dedication shines through. Despite its convoluted plot and references to Taylor Swift, the film\\'s first act shines with interesting commentary. It\\'s a fun, feel-good movie that delivers on its promise of comedy, showcasing stuntmen\\'s value. While some find it boring and lacking in humor, others appreciate its endearing homage to the unsung heroes and their dedication to action-packed scenes. Overall, it\\'s an enjoyable, if somewhat forgettable, blockbusters with a sense of humor and a worthwhile watch for action-loving fans of action-oriented films. Regardless, it remains a must-watch for those who appreciate it for its unique approach to storytelling and storytelling.'}]\n",
            "Processing movie: Bangkok Breaking: Heaven and Hell\n",
            "IMDb ID: tt31158592\n",
            "Number of reviews: 10574\n"
          ]
        },
        {
          "output_type": "stream",
          "name": "stderr",
          "text": [
            "Device set to use cpu\n"
          ]
        },
        {
          "output_type": "stream",
          "name": "stdout",
          "text": [
            "Contextual Summary: [{'summary_text': '\"Bangkok Breaking\" offers brutality and scares, but the real story begins after few minutes. The hero gets caught up in a kidnapping situation and struggles to escape, relying heavily on subplots and characters. Despite its length, the film maintains tension and suspense, offering a thrilling ride despite some plot twists. While not without its flaws, it\\'s a must-watch for fans of action, thriller, and sus suspensy, despite its potential and lackluster writing. Overall, it offers a unique glimpse into foreign subcultures, albeit with some minor characters\\' acting lacking depth and character arcs that make it a compelling watch for those seeking a thrill in action thrillers and thrillers. Nevertheless, it falls short of its potential, leaving viewers with a memorable and thought-provoking watch for cinephiles looking for a different take on crime cinema.'}]\n",
            "Processing movie: My Old Ass\n",
            "IMDb ID: tt18559464\n",
            "Number of reviews: 28697\n"
          ]
        },
        {
          "output_type": "stream",
          "name": "stderr",
          "text": [
            "Device set to use cpu\n"
          ]
        },
        {
          "output_type": "stream",
          "name": "stdout",
          "text": [
            "Contextual Summary: [{'summary_text': '\"My Old Ass\" offers a breezily entertaining portrayal of a young girl\\'s journey as she prepares to leave home for college. While Percy Hynes White delivers a disarmingly charming performance, the film\\'s pacing sometimes feels slow, lacking depth. Aubrey Plaza\\'s portrayal adds warmth to the character, though some scenes feel drawn out. Despite its flaws, the movie\\'s visual style and composition offer creative choices, making it a pleasant watch for those seeking a different take on aging and aging in a unique way. Overall, it\\'s an enjoyable parable that resonates with its target teenage audience, offering a refreshing take on life\\'s quirks and challenges of aging with a fresh perspective on life and a new perspective on a brand new perspective in the teen years to come. but others may find it lacking in depth and depth.'}]\n",
            "Processing movie: Guardians of the Galaxy Vol. 3\n",
            "IMDb ID: tt6791350\n",
            "Number of reviews: 25916\n"
          ]
        },
        {
          "output_type": "stream",
          "name": "stderr",
          "text": [
            "Device set to use cpu\n"
          ]
        },
        {
          "output_type": "stream",
          "name": "stdout",
          "text": [
            "Contextual Summary: [{'summary_text': '\"Guardians\" is a breath of fresh air after a disappointing phase 4 release, praised for its incredible voice acting and likable characters. While the backstory may feel dark and sad at times, the film\\'s concise portrayal of the supervillains leaves a bittersweet taste in your mouth. Despite its lengthy runtime, it\\'s a satisfying end to an amazing saga, with Rocket, Gamora, and Adam Warlock delivering memorable performances. With modern filming techniques and a conflicted arc, \"Guitants\" stands as a testament to the power of storytelling and storytelling in a cinematic experience. Ultimately, \"Grants\" ends a beloved franchise that has entertained millions of fans around the world for decades to come. Regardless of its shortcomings, it remains a must-watch for fans and cult classics like \"The Avengers.\" for fans.'}]\n",
            "Processing movie: Elemental\n",
            "IMDb ID: tt15789038\n",
            "Number of reviews: 28505\n"
          ]
        },
        {
          "output_type": "stream",
          "name": "stderr",
          "text": [
            "Device set to use cpu\n"
          ]
        },
        {
          "output_type": "stream",
          "name": "stdout",
          "text": [
            "Contextual Summary: [{'summary_text': '\"Elemental\" offers a mixed bag of reviews, with some praising its romance and diversity, while others find it lacking in depth. While the main character, Ember, is well written and explored, the film\\'s themes of racial prejudice, systemic segregation, and parental expectations are explored. Pixar\\'s inventiveness and attention to detail shine through, though some critics find it bland or lacking in character depth. Overall, it\\'s a great family movie if you\\'re looking for a family movie with young kids and a fun family-friendly experience. Overall it\\'ll stand out in the coming years, even if it may not break new ground in Disney/Pixar territory, making it a worthwhile watch for those willing to embrace diversity and diversity in the face of adversity and love storylines amidst diversity and societal norms in the midst of diversity.'}]\n",
            "Processing movie: Through My Window\n",
            "IMDb ID: tt14463484\n",
            "Number of reviews: 10225\n"
          ]
        },
        {
          "output_type": "stream",
          "name": "stderr",
          "text": [
            "Device set to use cpu\n"
          ]
        },
        {
          "output_type": "stream",
          "name": "stdout",
          "text": [
            "Contextual Summary: [{'summary_text': '\"A Través De Mi Ventana\" manages to squeeze a 405-page book into a 2 hour movie, praised for Julio Pea\\'s portrayal of Ares, who plays Ares with a \"Ducky\" friend, Yoshi, in every 10 minutes. While some find the nudity entertaining, others criticize its lack of depth in the plot and sex scenes. Raquel\\'s alter ego changes Ares\\'s life, making her a pivotal figure in her life. Overall, it\\'s a cute, but not for everyone audience, focusing on toxic romances and the desires of teenage girls, not a masterpiece, but a compelling exploration of sexual desires and the societal norms of teen romanticism and sexuality in the real world. Despite its flaws, the movie remains an enjoyable watch, even if it may not be for everyone.'}]\n",
            "Processing movie: Fury\n",
            "IMDb ID: tt2713180\n",
            "Number of reviews: 23079\n"
          ]
        },
        {
          "output_type": "stream",
          "name": "stderr",
          "text": [
            "Device set to use cpu\n"
          ]
        },
        {
          "output_type": "stream",
          "name": "stdout",
          "text": [
            "Contextual Summary: [{'summary_text': '\"Fury\" receives mixed reviews, with criticisms ranging from inaccuracies to pacing issues, but overall, it\\'s a fine war film, praised for its accuracy and portrayal of bravery during World War II. While some find it contained and claustrophobic, others praise its strong performances, particularly from Norman Ellison. Shia LaBeouf\\'s portrayal adds depth to the role, making the harrowing violence even more effective. The film\\'s dark tones and brutality leave a lasting impression, making it a must-watch for those seeking a gripping portrayal and appreciation for its dark tonal tone and awe-inspiring portrayal. Despite its flaws, it remains a compelling and thought-provoking cinematic experience, albeit one that falls short of a true masterpiece in wartime cinematic storytelling.'}]\n",
            "Processing movie: Wonka\n",
            "IMDb ID: tt6166392\n",
            "Number of reviews: 28139\n"
          ]
        },
        {
          "output_type": "stream",
          "name": "stderr",
          "text": [
            "Device set to use cpu\n"
          ]
        },
        {
          "output_type": "stream",
          "name": "stdout",
          "text": [
            "Contextual Summary: [{'summary_text': '\"Wonka\" receives mixed reviews, with some praising Timothee Chalamet\\'s performance as Willy Wonka, while others find it underwhelming and lacking in magic. While some appreciate its colourful character interactions and witty songs, others feel it lacks originality and artistic heart. Director Paul King crafts a charming and imaginative ride that appeals to fans of the original but falls short of delivering groundbreaking new messages. Despite its flaws, the film\\'s charm and imaginative approach make it a memorable and enjoyable family-friendly experience, even if it may not reach the heights of its predecessors. Overall, it\\'s a fun and imaginative take on a beloved character that deserves recognition for its timeless charm and memorable cinematic excellence in the 21st century cinematic tradition. Regardless of its shortcomings, it remains a must-watch for fans of family friendly cinematic experiences.'}]\n",
            "Processing movie: Fast & Furious Presents: Hobbs & Shaw\n",
            "IMDb ID: tt0232500\n",
            "Number of reviews: 23578\n"
          ]
        },
        {
          "output_type": "stream",
          "name": "stderr",
          "text": [
            "Device set to use cpu\n"
          ]
        },
        {
          "output_type": "stream",
          "name": "stdout",
          "text": [
            "Contextual Summary: [{'summary_text': '\"Street Racers\" offers intense action and intense dialogue, starring Vin Diesel and Paul Walker as undercover police officer Brian O\\'Conner. The film takes viewers into a world where Honda\\'s are souped up and junkyard scraps rebuilt. Diesel\\'s grandiose turn as Riddick in \"Pitch Black\" adds depth to the role, making it a compelling watch despite its clichés. Despite some basic plot elements, the film\\'s portrayal of loyalty and betrayal add depth, resulting in a memorable viewing experience for fans of loud, fast action movies. Overall, it\\'s a fun, if somewhat clichéd, cinematic experience worth a watch for those who enjoy thrills and action-packed action-filled action-cinema enthusiasts. Regardless of whether you\\'re a fan of street racing, this is a must-watch for those seeking adrenaline-fueled action-thriller.'}]\n",
            "Processing movie: The Red Virgin\n",
            "IMDb ID: tt1948190\n",
            "Number of reviews: 0\n"
          ]
        },
        {
          "output_type": "stream",
          "name": "stderr",
          "text": [
            "Device set to use cpu\n",
            "Your max_length is set to 300, but your input_length is only 3. Since this is a summarization task, where outputs shorter than the input are typically wanted, you might consider decreasing max_length manually, e.g. summarizer('...', max_length=1)\n"
          ]
        },
        {
          "output_type": "stream",
          "name": "stdout",
          "text": [
            "Contextual Summary: [{'summary_text': '. - (IT) - 0 - 1 - 2 - 3 - 4 - 5 - 6 - 7 - 8 - 9 - 10 - 11 - 12 - 13 - 14 - 15 - 16 - 18 - 19 - 20 - 21 - 23 - 24 - 25 - 26 - 28 - 30 - 40 - 50 - 60 - 70 - 80 - 90 - 100 - 150 - 140 - 120 - 130 -140 - 45 - 34 - 35 - 44 -35 - 38 -34 - 41 - 39 - 42 - 43 - 64 - 36 - 33 - 31 - 32 - 46 - 49 - 54 --41 -46 -49 -48 -44 -'}]\n",
            "Processing movie: Uprising\n",
            "IMDb ID: tt0250798\n",
            "Number of reviews: 26676\n"
          ]
        },
        {
          "output_type": "stream",
          "name": "stderr",
          "text": [
            "Device set to use cpu\n"
          ]
        },
        {
          "output_type": "stream",
          "name": "stdout",
          "text": [
            "Contextual Summary: [{'summary_text': '\"Uprising\" is a compact, credible piece of little-known history regarding the Warsaw ghetto uprising, starring Leelee Sobieski and Cary Elwes. While the series occasionally uses stereotypical accents and lacks historical accuracy, its portrayal of Jewish resistance fighters and the Poles\\' attitude toward Jews makes it a compelling watch. Despite its flaws, the film offers valuable insights into World War II and the Holocaust, especially for those new to the genre. However, its lack of historical accuracy and lack of depth may deter some audiences, especially those with limited time to fully grasp the historical context of the era\\'s unfolding. Nevertheless, it may not be a must-watch for those interested in Holocaust-related history and the broader context of a historical context. Nonetheless, it\\'s a worthwhile watch for those who have limited access to historical context in the future.'}]\n",
            "Processing movie: Mr. Blake At Your Service!\n",
            "IMDb ID tidak ditemukan untuk film Mr. Blake At Your Service!\n",
            "Processing movie: The Lord of the Rings: The Return of the King\n",
            "IMDb ID: tt0167260\n",
            "Number of reviews: 28320\n"
          ]
        },
        {
          "output_type": "stream",
          "name": "stderr",
          "text": [
            "Device set to use cpu\n"
          ]
        },
        {
          "output_type": "stream",
          "name": "stdout",
          "text": [
            "Contextual Summary: [{'summary_text': '\"ROTK\" stands as a marvel of epic filmmaking, showcasing Tolkien\\'s legacy with seamless animation and epic storytelling. While some critics may find its plot changes and interpretations unrealistic, others praise its portrayal of friendship, loyalty, and sacrifice against evil. Despite its long running time, the film\\'s focus on the battle of Minas Tirith offers unforgettable moments, making it a contender for the greatest film of all time. While it may not reach the heights of its predecessors, \"Two Towers\" remains a testament to the cinematic revolution and the power of epic cinema, despite criticisms of Hollywood\\'s overdone performances and production quality criticized for its lack of gripping narratives and lack of originality in storytelling. Nevertheless, it\\'s a must-watch for cinephiles and a product of cinema, worthy of recognition for its impact on cinema.'}]\n",
            "Processing movie: Outside\n",
            "IMDb ID: tt32643879\n",
            "Number of reviews: 19498\n"
          ]
        },
        {
          "output_type": "stream",
          "name": "stderr",
          "text": [
            "Device set to use cpu\n"
          ]
        },
        {
          "output_type": "stream",
          "name": "stdout",
          "text": [
            "Contextual Summary: [{'summary_text': '\"Outside\" (2024) is a psychological horror that delves deep into the human psyche, offering a gripping storyline and complex characters. While it may not appeal to all zombie fans, its 142-minute runtime and drawn-out scenes add little to the overall narrative. Despite attempts to build suspense or drama, it ultimately falls short, relying heavily on clichéd horror tropes rather than offering anything new or innovative. Sid Lucero\\'s performance as Francis is notable, but overall, overall, it\\'s a disappointing psychological thriller that fails to deliver on its potential, resulting in a frustrating and ultimately forgettable viewing experience for zombie fans and zombie enthusiasts alike. Overall, \"Outdoor\" (2022)\" scores highly, despite its overall rating of 2/10, making it a forgettable addition to the zombie genre\\'s overall buzz and excitement. Regardless of its length,'}]\n",
            "Processing movie: Kill\n",
            "IMDb ID: tt28259207\n",
            "Number of reviews: 20030\n"
          ]
        },
        {
          "output_type": "stream",
          "name": "stderr",
          "text": [
            "Device set to use cpu\n"
          ]
        },
        {
          "output_type": "stream",
          "name": "stdout",
          "text": [
            "Contextual Summary: [{'summary_text': '\"Kill\" delivers a relentless, high-octane action experience that keeps you on the edge of your seat from start to finish, blending old-school action with modern music and visuals. While some scenes feel repetitive and choreographed, the film\\'s solid performances and claustrophobic combat scenes make it a standout in Indian cinema. Despite its flaws, it\\'s a must-watch for fans of Bruce Lee-style quick action scenes and violent horror films, setting a new standard for bloodbath cinema, aiming for audiences in the West. Overall, \"KILL\" is a refreshing departure from traditional action cinema, offering a modern take on the brutality of a train ride with incredible visuals and music to keep viewers on their edge of their seats throughout the entire experience from start-to-finish thrill-packed action-packed thrill-filled action-filled thrills.'}]\n",
            "Processing movie: Coco\n",
            "IMDb ID: tt2380307\n",
            "Number of reviews: 24142\n"
          ]
        },
        {
          "output_type": "stream",
          "name": "stderr",
          "text": [
            "Device set to use cpu\n"
          ]
        },
        {
          "output_type": "stream",
          "name": "stdout",
          "text": [
            "Contextual Summary: [{'summary_text': '\"Coco\" offers a heart-warming journey through Mexico\\'s fictitious town, exploring themes of family, passion, and redemption with humor & real emotion. While some may find it simplistic and lacking in depth, others appreciate its colorful portrayal of life in a small town. Despite its flaws, the film\\'s exploration of self value, bravery, and family history resonates deeply, making it a must-watch for those seeking a more complex take on life\\'s values. Ultimately, it may leave viewers wanting more in return, but overall, it\\'s an enjoyable watch for those who appreciate its quirky storytelling and awe-inspiring storytelling. Nevertheless, it might not be for everyone, offering a different perspective on the dead and the joys and sorrows of life after death amidst the chaos of adversity and societal norms of human connection to the dead.'}]\n",
            "Processing movie: Pirates of the Caribbean: Dead Man's Chest\n",
            "IMDb ID: tt0383574\n",
            "Number of reviews: 23777\n"
          ]
        },
        {
          "output_type": "stream",
          "name": "stderr",
          "text": [
            "Device set to use cpu\n"
          ]
        },
        {
          "output_type": "stream",
          "name": "stdout",
          "text": [
            "Contextual Summary: [{'summary_text': '\"Dead Man\\'s Chest\" is a visually stunning sequel to \"Pirates,\" featuring Johnny Depp\\'s Oscar-winning performance as Captain Jack Sparrow. While some find it more violent and gory than the first installment, others praise its sharp action sequences and Orlando Bloom\\'s charming performance. Despite its flaws, the film\\'s two and a half hours in the dark keep viewers thrilled, even if they struggle with attention span limitations. Overall, it\\'s a splendid entertainer with more than you could ask for in a sequel like \"Kennedy Skarsgrd\" and \"Da Vinci\\'s\" franchise\\'s comedic prowess, making it a standout in the genre\\'s genre genre franchises like \"Bootstrap\" and the Pirates\\' slayers\\' tales standout performances standout moments stand out.'}]\n",
            "Processing movie: Joker\n",
            "IMDb ID: tt7286456\n",
            "Number of reviews: 12104\n"
          ]
        },
        {
          "output_type": "stream",
          "name": "stderr",
          "text": [
            "Device set to use cpu\n"
          ]
        },
        {
          "output_type": "stream",
          "name": "stdout",
          "text": [
            "Contextual Summary: [{'summary_text': '\"Joker\" is a psychological thriller/drama with the single best character development I have ever seen. While some may find it emotional, others appreciate its psychological depth and emotional depth. Joaquin Phoenix\\'s portrayal stands out, surpassing that of \"The Dark Knight\\'s Clown Prince of Crime.\" Despite some plot holes, the film\\'s focus on the psyche of the main character and the pressures of society make it a compelling cinematic experience. Despite its flaws, it\\'s a must-watch for those seeking a better persona and respect for its villainy, not a blockbuster movie or entertainer, making it worth a watch for those who appreciate its emotional rollercoaster rider movie amidst its controversies and controversy. Regardless, it may not be the best of the year, but it\\'ll stand out in the box office in 2019 and beyond.'}]\n",
            "Processing movie: Toy Story 2\n",
            "IMDb ID: tt0120363\n",
            "Number of reviews: 19705\n"
          ]
        },
        {
          "output_type": "stream",
          "name": "stderr",
          "text": [
            "Device set to use cpu\n"
          ]
        },
        {
          "output_type": "stream",
          "name": "stdout",
          "text": [
            "Contextual Summary: [{'summary_text': '\"Toy Story 2\" is hailed as a masterpiece animated film, exploiting its fast-paced storyline to its full potential. While some critics find it lacking originality, others praise its improvement over its predecessor. Despite its flaws, the film\\'s blending of animation artistry and voice acting continues, making it a must-see for fans of action-packed films. While it may not reach the heights of its predecessors, it remains a standout in the animated genre, showcasing Pixar\\'s continued advancements in computer animation and its potential for a sequel in the making. Overall, it\\'s an outstanding entry in the genre, offering a glimpse into the future of children\\'s animated entertainment and action-comedy-themed films with a sense of awe and a memorable experience. Regardless, it deserves a place on the genre\\'s future.'}]\n",
            "Processing movie: The Lion King II: Simba's Pride\n",
            "IMDb ID tidak ditemukan untuk film The Lion King II: Simba's Pride\n",
            "Processing movie: Monsters, Inc.\n",
            "IMDb ID: tt0198781\n",
            "Number of reviews: 35153\n"
          ]
        },
        {
          "output_type": "stream",
          "name": "stderr",
          "text": [
            "Device set to use cpu\n"
          ]
        },
        {
          "output_type": "stream",
          "name": "stdout",
          "text": [
            "Contextual Summary: [{'summary_text': '\"Monsters, Inc.\" receives mixed reviews, with praise for John Goodman and Billy Crystal\\'s performances, particularly for their warm portrayal of Boo. While some find the film entertaining and entertaining, others praise its exploration of childhood fear and the power of monsters in closets. Despite its flaws, the film\\'s villains, such as Mike and Sulley, deliver moments of amusement and charm. Goodman\\'s portrayal adds depth to the character, making her a standout in the animation genre. Overall, it\\'s a well-rounded and entertaining watch that\\'s sure to leave a lasting impression for fans of Pixar\\'s animation and its commitment to scares, especially for older audiences. Regardless of its shortcomings, \"Monstropolis\" remains a timeless classic that stands out for its unique blend of humor and charm, making it a must-watch for fans and fans alike.'}]\n",
            "Processing movie: How to Train Your Dragon 2\n",
            "IMDb ID: tt1646971\n",
            "Number of reviews: 30723\n"
          ]
        },
        {
          "output_type": "stream",
          "name": "stderr",
          "text": [
            "Device set to use cpu\n"
          ]
        },
        {
          "output_type": "stream",
          "name": "stdout",
          "text": [
            "Contextual Summary: [{'summary_text': '\"How To Train Your Dragon 2\" delivers an epic adventure with Cate Blanchett delivering warmth as Hiccup, a Viking teenager who befriends the titular dragon Toothless. While it crosses generational boundaries, it maintains its own roots with more characterization and emotional depth. John Powell\\'s score and Jónsi\\'s song enhance the film\\'s power, making it feel more like Pixar quality. DeBlois delivers a captivating performance, delivering terrifyingly exhilarating sequences and genuine emotional heft. Overall, it\\'s a great addition to Disney\\'s animated films, offering a unique take on the role and the dragon-racing experience, even if it falls short of its predecessor\\'s potential. Despite flaws, it still stands as a standout in the animated genre, showcasing the power of storytelling and storytelling in a compelling and memorable cinematic experience.'}]\n",
            "Processing movie: Cruella\n",
            "IMDb ID: tt3228774\n",
            "Number of reviews: 20862\n"
          ]
        },
        {
          "output_type": "stream",
          "name": "stderr",
          "text": [
            "Device set to use cpu\n"
          ]
        },
        {
          "output_type": "stream",
          "name": "stdout",
          "text": [
            "Contextual Summary: [{'summary_text': '\"Cruella\" receives mixed reviews, with praise for Emma Stone\\'s performance but criticism for its climactic moments and lack of engagement. While some appreciate its portrayal of a Dalmatian hero, others find it illogical and boring. Despite attempts at sympathetic storytelling, the film\\'s attempt to cash in on nostalgia may not resonate with all audiences. However, despite its flaws, it\\'s a worthwhile addition to Disney\\'s live-action lineup, offering a dark and mature exploration of death and murder. Overall, \"Crucella\" is a memorable period piece worth watching for fans of the Disney villains and cult classics alike. Ultimately, it may not reach the heights of its rivals, but overall, it should reach the oscar-worthy recognition for its dark origins story and memorable performances but not for all audiences, making it a forgettable entry in the franchise.'}]\n",
            "Processing movie: Mad Max: Fury Road\n",
            "IMDb ID: tt1392190\n",
            "Number of reviews: 35685\n"
          ]
        },
        {
          "output_type": "stream",
          "name": "stderr",
          "text": [
            "Device set to use cpu\n"
          ]
        },
        {
          "output_type": "stream",
          "name": "stdout",
          "text": [
            "Contextual Summary: [{'summary_text': '\"Fury Road\" feels like an 80\\'s action movie, with a grossly inflated budget and CGI effects. Charlize Theron shines in her role, while Nicholas Hoult delivers a standout performance. Despite this, the film offers tons of suspense, great fight scenes, and incredible spectacle. While it may not break new ground, it sets a precedent for years to come, delivering action, high explosive action, and Tom Hardy\\'s portrayal of \"Mad Max\" in this crazy 2hr bonkers extravaganza, despite criticisms of underdeveloped characters and underdeveloped plot points. Overall, it\\'s a GLORIOUS, if not groundbreaking, action-packed, cinematic experience that will stand out in the future, even if it falls short of achieving the heights of its predecessors like \"Madd 2: The Roots.\"'}]\n",
            "Processing movie: Shrek 2\n",
            "IMDb ID: tt0298148\n",
            "Number of reviews: 26530\n"
          ]
        },
        {
          "output_type": "stream",
          "name": "stderr",
          "text": [
            "Device set to use cpu\n"
          ]
        },
        {
          "output_type": "stream",
          "name": "stdout",
          "text": [
            "Contextual Summary: [{'summary_text': '\"Shrek 2\" introduces new characters, including Puss In Boots, voiced by Antonio Banderas. Fiona and Shrek are forced into a new adventure when they discover they\\'ve married the wrong man. While the plot may feel disjointed, the film offers warm-hearted family fare, despite occasional Disney references. John Cleese, Julie Andrews, Rupert Everett, and Jenniffer Saunders add their voices, making it an enjoyable, if somewhat forgettable, viewing experience for both children and adults alike. Overall, it\\'s a masterpiece of cinematic excellence, showcasing the power of complex fun for both adults and children alike, even if it falls short of delivering memorable moments like \"The Gingerbread Man\" and \"The Cat\" in particular. Diaz\\'s presence adds depth to the film\\'s overall impact.'}]\n",
            "Processing movie: Smile\n",
            "IMDb ID: tt15474916\n",
            "Number of reviews: 20161\n"
          ]
        },
        {
          "output_type": "stream",
          "name": "stderr",
          "text": [
            "Device set to use cpu\n"
          ]
        },
        {
          "output_type": "stream",
          "name": "stdout",
          "text": [
            "Contextual Summary: [{'summary_text': '\"Rose\" is a suspenseful psychological horror film that blends Lights Out with \"It Follows,\" offering a mix of paranoia and horror with solid jump scares. While some find it generic and lacking in depth, the film\\'s directing and cinematography deliver solid performances, particularly from Sosie Bacon. Cristobal Tapia de Veer\\'s score adds to the dissonant atmosphere, creating a stark, cold world for Rose. While not without its flaws, \"River\" remains a compelling and thought-provoking watch, despite its lack of originality and lack of depth. Overall, it\\'s an enjoyable watch with some cons, including extended background information making it a little more memorable viewing experience than a typical horror movie. Regardless, it may not be a classic horror, especially if not so much as a new genre horror.'}]\n",
            "Processing movie: The Hangover\n",
            "IMDb ID: tt1119646\n",
            "Number of reviews: 26521\n"
          ]
        },
        {
          "output_type": "stream",
          "name": "stderr",
          "text": [
            "Device set to use cpu\n"
          ]
        },
        {
          "output_type": "stream",
          "name": "stdout",
          "text": [
            "Contextual Summary: [{'summary_text': '\"The Hangover\" is a sleeper comedy that follows a Las Vegas bachelor party gone horribly awry, featuring Bradley Cooper, Ed Helms, and Zach Galifianakis as the trio wake up in a hotel room with no memory of what happened the night before. While the film\\'s screenplay is flawless, it takes viewers into a mystery and delivers hilarious laughs, especially as the groom disappears and Mike Tyson wants his tiger back. Despite its flaws, it\\'s destined to become a cult classic in the coming years, with Cooper, Helms\\' portrayal and Rob Riggle\\'s performance making it a standout in the comedy genre. Overall, \"Hangover\" remains a memorable and thought-provoking watch for fans of out-of-control laughter and a must-watch for those seeking a laugh-filled night in the life of a childishness.'}]\n",
            "Processing movie: The Green Mile\n",
            "IMDb ID: tt0120689\n",
            "Number of reviews: 21907\n"
          ]
        },
        {
          "output_type": "stream",
          "name": "stderr",
          "text": [
            "Device set to use cpu\n"
          ]
        },
        {
          "output_type": "stream",
          "name": "stdout",
          "text": [
            "Contextual Summary: [{'summary_text': '\"The Green Mile\" is a captivating adaptation of Stephen King\\'s \"Shawshank Redemption,\" featuring Michael Clarke Duncan\\'s portrayal of a prisoner sentenced to execution. While it\\'s 3 hours long, it features grisly scenes and impressive performances, particularly from Doug Hutchison. The film\\'s characters are drawn as cartoons, lacking nuance, but Hanks\\' portrayal adds depth to his character. Despite its flaws, it remains a moving and thought-provoking cinematic experience, especially for those interested in creative, intriguing, and life-enhancing experiences. Regardless of its length, it\\'ll remain a must-watch for anyone interested in a classic horror story and the power of kindness and compassion for those willing to embrace its darkest moments, making it a standout in the genre\\'s era of modern horrors, akin to classic horrors.'}]\n",
            "Processing movie: The Tomorrow War\n",
            "IMDb ID: tt9777666\n",
            "Number of reviews: 15405\n"
          ]
        },
        {
          "output_type": "stream",
          "name": "stderr",
          "text": [
            "Device set to use cpu\n"
          ]
        },
        {
          "output_type": "stream",
          "name": "stdout",
          "text": [
            "Contextual Summary: [{'summary_text': '\"The Tomorrow War\" offers a decent and fun sci-fi summer blockbuster, despite some plot holes and occasional odd dialogue moments. J. K. Simmons delivers a standout performance as Pratt, delivering a heartwarming performance. While it may not break new ground, it offers action and monsters that captivate audiences. Despite its lack of social issues, it remains an enjoyable and enjoyable watch, especially if you\\'re a fan of action-packed movies. Overall, it\\'s an enjoyable action flick with heart and self-aware humor, making it a must-watch for those who appreciate the thrills it offers. Whether you\\'ll enjoy it or just enjoy it, it still offers plenty of entertainment for those with a passion for sci-fiction writing and action-action cinematic genres like \"Starship Troopers\" and \"District 9 fans alike alike alike. Regardless'}]\n",
            "Processing movie: Monster Summer\n",
            "IMDb ID: tt3954936\n",
            "Number of reviews: 22539\n"
          ]
        },
        {
          "output_type": "stream",
          "name": "stderr",
          "text": [
            "Device set to use cpu\n"
          ]
        },
        {
          "output_type": "stream",
          "name": "stdout",
          "text": [
            "Contextual Summary: [{'summary_text': '\"Monster Summer\" offers spooky season popcorn fun for both adults and kids, with a twist that plays out like a 90s episode of \"Greedybumps.\" While it may not appeal to everyone\\'s age, it offers plenty of thrills and jump scares for both tweens and up. Director David Henrie\\'s focus on treats and not tricks makes it a great movie for those seeking Halloween-themed fun. Despite its flaws, it\\'s a family-friendly option that\\'s suitable for both the family and adults alike, offering a mix of scary moments and thrilling thrills that thrill both teens and older audiences alike. Overall, the movie\\'s message about protecting children from \"monsters\" remains a must-watch for adults and young audiences alike, leaving a lasting impression on its overall impact on the overall viewing experience and the overall experience it offers.'}]\n",
            "Processing movie: Die Hard\n",
            "IMDb ID: tt0095016\n",
            "Number of reviews: 39538\n"
          ]
        },
        {
          "output_type": "stream",
          "name": "stderr",
          "text": [
            "Device set to use cpu\n"
          ]
        },
        {
          "output_type": "stream",
          "name": "stdout",
          "text": [
            "Contextual Summary: [{'summary_text': '\"DIE HARD\" features Bruce Willis in his iconic role, playing Lt. John McClane, a New York police officer who is confronted by terrorists at an after-hours Christmas party. While the film boasts intense gunfights, explosions, and a stellar performance from Bonnie Bedelia, the gore levels are graphic and the action sequences keep viewers strapped to their seats. Rickman\\'s portrayal of McClane\\'s disbelief makes him believable, reminiscent of Indiana Jones in \"Die Hard.\" Despite some forgettable acting, the film remains a must-watch for action classics, offering a unique and memorable cinematic experience for cinephiles seeking thrills and thrills. Overall, it\\'s a standout in the action genre, showcasing Rickman as a villain in a believable and relatable character in action heroes in action movies with a lasting impact on viewers.'}]\n",
            "Processing movie: Spider-Man: Homecoming\n",
            "IMDb ID: tt2250912\n",
            "Number of reviews: 19562\n"
          ]
        },
        {
          "output_type": "stream",
          "name": "stderr",
          "text": [
            "Device set to use cpu\n"
          ]
        },
        {
          "output_type": "stream",
          "name": "stdout",
          "text": [
            "Contextual Summary: [{'summary_text': '\"Spider-Man: Homecoming\" receives mixed reviews, with some praising Tom Holland\\'s portrayal of Peter Parker, while others find the casting ridiculous. While some appreciate the depth of the origin story, others may find it lacking in depth. Despite Peter\\'s charm, the film hinges on his role as a hero despite some high school drama. Tom Holland and Michael Keaton deliver excellent performances, especially in Peter Parker\\'s role. Overall, it\\'s a nice addition to the Marvel MCU with lots of humor and action scenes, though it may not break new ground for Peter Parker in the MCU. Nonetheless, overall, it remains a fun and engaging viewing experience for fans of the Marvel Cinematic Universe and Spider-Man in the Marvel Studios. Regardless of its shortcomings, it still delivers a memorable and enjoyable viewing experience that stands out in the genre. Ultimately, it should leave a lasting impression on viewers.'}]\n",
            "Processing movie: Godzilla Minus One\n",
            "IMDb ID: tt23289160\n",
            "Number of reviews: 24048\n"
          ]
        },
        {
          "output_type": "stream",
          "name": "stderr",
          "text": [
            "Device set to use cpu\n"
          ]
        },
        {
          "output_type": "stream",
          "name": "stdout",
          "text": [
            "Contextual Summary: [{'summary_text': '\"Godzilla vs Kong\" delivers thrilling monster action and compelling human drama, despite its cartoonish appearance. While some criticize its cgi and lack of originality, others appreciate its portrayal of post-World War II Japan and the aftermath of the monster\\'s destruction. Despite its shortcomings, the film\\'s captivating storyline and well-developed characters make it a worthwhile watch for fans of the iconic monster. Overall, it\\'s a good prequel to the original Godzilla movie, showcasing the human drama and human drama amidst post-WW2 Japan and its lack of crossover appeal may deter some viewers\\' desire for top-tier action drama and pacing drama, but overall, it remains a compelling and enjoyable watch for those who appreciate the thrills of the original creations and the enduring legacy of the franchises in general. Ultimately, \"godzilla\" stands out among others, offering a unique and memorable viewing experience.'}]\n",
            "Processing movie: Schindler's List\n",
            "IMDb ID: tt0108052\n",
            "Number of reviews: 18453\n"
          ]
        },
        {
          "output_type": "stream",
          "name": "stderr",
          "text": [
            "Device set to use cpu\n"
          ]
        },
        {
          "output_type": "stream",
          "name": "stdout",
          "text": [
            "Contextual Summary: [{'summary_text': '\"Schindler\\'s List\" is a visually stunning portrayal of World War II, showcasing Spielberg\\'s subtlety in developing the relationship between Oskar Schindler and Stern. Despite its dismal portrayal, it remains a poignant and important film to watch for those interested in this historic subject matter. The film\\'s use of English and German accents creates a sense of mild revulsion, reminiscent of a child\\'s depth, capturing the horrors of concentration camp life with tragic violin music and emaciated potential Holocaust victims portrayed by Ralph Fiennes\\' terrifying performance. Overall, it\\'s an important and important watch for anyone interested in historical subject matter and a beautiful work of art for cinephiles and film lovers alike. Ultimately, it leaves a lasting impact on viewers, leaving an impression of its enduring impact on children\\'s filmmakers and filmmakers alike.'}]\n",
            "Processing movie: Anyone But You\n",
            "IMDb ID: tt26047818\n",
            "Number of reviews: 17138\n"
          ]
        },
        {
          "output_type": "stream",
          "name": "stderr",
          "text": [
            "Device set to use cpu\n"
          ]
        },
        {
          "output_type": "stream",
          "name": "stdout",
          "text": [
            "Contextual Summary: [{'summary_text': '\"Anyone But You\" features a cast of attractive characters, including Glen Powell and Sydney Sweeny, with a formulaic rom-com feel. Powell and Sweeney shine in their roles, while the rest of the cast holds up their ends well. While it may not break new ground, it\\'s a fun watch that makes you smile and makes you feel good. Despite its cynical nature, the movie\\'s heartfelt romance and soundtrack make it a solid entry in the romantic comedy genre, even if it falls short of newcomers like Bryan Brown and Rachael Griffiths. Overall, it remains a satisfying watch, if not groundbreaking, entry into the era of late 90\\'s romantic comedies with plenty of nostalgia for romance and romance in the genre\\'s futuristic romcom genres like \"Much Ado About Nothing\" fans of \\'90s romantic comedy fans alike.'}]\n",
            "Processing movie: Inception\n",
            "IMDb ID: tt1375666\n",
            "Number of reviews: 25586\n"
          ]
        },
        {
          "output_type": "stream",
          "name": "stderr",
          "text": [
            "Device set to use cpu\n"
          ]
        },
        {
          "output_type": "stream",
          "name": "stdout",
          "text": [
            "Contextual Summary: [{'summary_text': '\"Inception\" by Christopher Nolan delivers a mesmerizing cinematic experience, blending Cobb and Mal\\'s direction with exceptional performances. While some critics find it overhyped, others praise its deep exploration of illusions and themes. Leo DiCaprio delivers an Oscar-worthy performance, reminiscent of his previous work \"Shutter Island.\" Nolan\\'s mastery behind the camera and Hans Zimmer\\'s score elevate the film, making it a must-watch for cinephiles seeking a mastermind plan that will leave a lasting impression for years to come. Despite its reliance on over-hype, the film remains a true masterpiece, a testament to the power of storytelling and storytelling in a cinematic journey that will keep viewers interested in the upcoming \"Dark Knight\" trilogy. Ultimately, it\\'s a cult classic that deserves to be remembered for its enduring impact on audiences.'}]\n",
            "Processing movie: Mission: Impossible - Dead Reckoning Part One\n",
            "IMDb ID: tt9603212\n",
            "Number of reviews: 18087\n"
          ]
        },
        {
          "output_type": "stream",
          "name": "stderr",
          "text": [
            "Device set to use cpu\n"
          ]
        },
        {
          "output_type": "stream",
          "name": "stdout",
          "text": [
            "Contextual Summary: [{'summary_text': '\"Mission: Impossible\" delivers an adrenaline rush with a sensational finale and homages to Back to the Future 3, MI:1 and Speed. Tom Cruise\\'s team of Ving Rhames and Simon Pegg shine, adding depth to the action sequences. The film\\'s pacing is impressive, making it feel like it\\'s in a perpetual third act from its first airport heist. However, by the end, it feels like a slam dunk that needs to be seen on the biggest screen, despite its lack of interest in the genre\\'s ultra-high-budget blockbusters. Overall, \"MISSION: IMPOSSIBLE\" is a must-see for fans of big action action movies and its enduring impact on audiences. Despite its flaws, \"Fallout\" remains a standout in the mission impossible franchises.'}]\n",
            "Processing movie: How to Train Your Dragon\n",
            "IMDb ID: tt0892769\n",
            "Number of reviews: 33579\n"
          ]
        },
        {
          "output_type": "stream",
          "name": "stderr",
          "text": [
            "Device set to use cpu\n"
          ]
        },
        {
          "output_type": "stream",
          "name": "stdout",
          "text": [
            "Contextual Summary: [{'summary_text': '\"How to Train Your Dragon\" is hailed as one of the best films in this prolific genre, praised for its passion-driven script and breathtaking animation. While it may not reach the heights of other animated films, the film\\'s talented directing team and imaginative storytelling make it a standout in the genre. Despite its flaws, it\\'s a visually stunning tale that captivates kids of all ages and appeals to fans of the books, making it an imaginative yet straightforward tale that\\'s both visually impressive and emotionally a must-watch for fans of \\'family\\' films. Overall, \"Dragon\" remains a moving picture with a heart-touching score and mature directing resonating with fans of this genre and for fans who appreciate its unique take on storytelling and storytelling. Nevertheless, it falls short of a worthy contender in this genre for its originality and enduring appeal.'}]\n",
            "Processing movie: Elyas\n",
            "IMDb ID: tt28336131\n",
            "Number of reviews: 3383\n"
          ]
        },
        {
          "output_type": "stream",
          "name": "stderr",
          "text": [
            "Device set to use cpu\n"
          ]
        },
        {
          "output_type": "stream",
          "name": "stdout",
          "text": [
            "Contextual Summary: [{'summary_text': '\"Elyas\" is a French action thriller film directed by Florent-Emilio Siri, starring Jamel Debbouze and Sami Bouajila. While some scenes may feel slow, the film\\'s pacing and suspenseful plot keep viewers on the edge of their seats. The action sequences are well-choreographed and exciting, especially from Deb Bouze. The film explores important themes of immigration, racism, and social injustice, making it a must-watch for fans of action thrillers and anyone interested in social justice issues. Despite some inconsistencies, it\\'s worth watching for those who enjoy a good action thriller with a social conscience and a fast-paced thriller with emotional depth and action scenes that will keep viewers engaged for a long time to come. Ultimately, the cast and director of \"ELYAS\" will make it an enjoyable watch for those interested in the action thriller genre.'}]\n",
            "Processing movie: The Equalizer 3\n",
            "IMDb ID: tt17024450\n",
            "Number of reviews: 34776\n"
          ]
        },
        {
          "output_type": "stream",
          "name": "stderr",
          "text": [
            "Device set to use cpu\n"
          ]
        },
        {
          "output_type": "stream",
          "name": "stdout",
          "text": [
            "Contextual Summary: [{'summary_text': '\"The Equalizer 3\" offers a satisfying action thriller experience, anchored by Robert McCall\\'s pivotal role in the film. While some may find it boring or lacking in action sequences, Washington\\'s portrayal adds depth to the character. The film\\'s atmospheric music and moving musical score elevate it, making it a must-watch for fans of Denzel Washington and the action genre. However, for those seeking more realism and depth in their dishes, it may not satisfy everyone\\'s expectations, but overall, it\\'s a good watch for those looking for more action and more depth in the action action genre, especially a film that\\'s not without its flaws in the series\\'s storytelling and acting. Despite its shortcomings, it remains a worthwhile watch for enthusiasts of action and action thrillers like the Edward Woodward series as well as the action thriller genres like \"equalizer\" fans of the series fans.'}]\n",
            "Processing movie: Hidden Face\n",
            "IMDb ID: tt34490115\n",
            "Number of reviews: 0\n"
          ]
        },
        {
          "output_type": "stream",
          "name": "stderr",
          "text": [
            "Device set to use cpu\n",
            "Your max_length is set to 300, but your input_length is only 3. Since this is a summarization task, where outputs shorter than the input are typically wanted, you might consider decreasing max_length manually, e.g. summarizer('...', max_length=1)\n"
          ]
        },
        {
          "output_type": "stream",
          "name": "stdout",
          "text": [
            "Contextual Summary: [{'summary_text': '. - (IT) - 0 - 1 - 2 - 3 - 4 - 5 - 6 - 7 - 8 - 9 - 10 - 11 - 12 - 13 - 14 - 15 - 16 - 18 - 19 - 20 - 21 - 23 - 24 - 25 - 26 - 28 - 30 - 40 - 50 - 60 - 70 - 80 - 90 - 100 - 150 - 140 - 120 - 130 -140 - 45 - 34 - 35 - 44 -35 - 38 -34 - 41 - 39 - 42 - 43 - 64 - 36 - 33 - 31 - 32 - 46 - 49 - 54 --41 -46 -49 -48 -44 -'}]\n",
            "Processing movie: Harold and the Purple Crayon\n",
            "IMDb ID: tt1609486\n",
            "Number of reviews: 21632\n"
          ]
        },
        {
          "output_type": "stream",
          "name": "stderr",
          "text": [
            "Device set to use cpu\n"
          ]
        },
        {
          "output_type": "stream",
          "name": "stdout",
          "text": [
            "Contextual Summary: [{'summary_text': '\"Harold and the Purple Crayon\" receives mixed reviews, with praise for Zachary Levi\\'s acting and the film\\'s visual effects. While some find it entertaining for the family, others criticize its bland plot and lack of emotional depth. Despite its flaws, it\\'s a fun and family-friendly movie, especially for the younger audience. However, it falls short of delivering the emotional depth expected from a cartoon character, leaving it feeling like a forgettable relic of 1980\\'s cartoon culture. Overall, the movie\\'s overall rating is 5/10, praised for its heartwarming story and memorable performances, but critics point out its shortcomings as a disappointment in terms of quality and value. Nonetheless, it remains a worthwhile watch for the whole family and a memorable cinematic experience for younger audiences. Ultimately, it may not reach the heights of a kid\\'s audience, leaving a lasting impression on viewers.'}]\n",
            "Processing movie: The Amazing Spider-Man\n",
            "IMDb ID: tt0948470\n",
            "Number of reviews: 36562\n"
          ]
        },
        {
          "output_type": "stream",
          "name": "stderr",
          "text": [
            "Device set to use cpu\n"
          ]
        },
        {
          "output_type": "stream",
          "name": "stdout",
          "text": [
            "Contextual Summary: [{'summary_text': '\"The Amazing Spider-Man\" presents Peter Parker as a young boy left in the care of his parents, who disappear without ever being heard from again. While Martin Sheen and Emma Stone shine as Uncle Ben, the film\\'s relationship with Gwen Stacy feels genuine. Emma Stone\\'s portrayal of Gwendoline Stacy adds depth to the character, while Dr. Curt Connors adds villainry. Despite some pacing issues, Garfield\\'s performance shines, making it a satisfying watch for fans of the comics. Overall, it\\'s a disappointing addition to the Marvel Cinematic Universe, albeit with some rushed moments and a lackluster action sequences that may not resonate with fans of Marvel\\'s previous installments like \"Spider-Man.\" Regardless of its merits, it remains a compelling and thought-provoking viewing experience with a fresh perspective on life\\'s future.'}]\n",
            "Processing movie: Snow Cookies\n",
            "IMDb ID tidak ditemukan untuk film Snow Cookies\n",
            "Processing movie: Kingmaker\n",
            "IMDb ID: tt17491616\n",
            "Number of reviews: 1721\n"
          ]
        },
        {
          "output_type": "stream",
          "name": "stderr",
          "text": [
            "Device set to use cpu\n"
          ]
        },
        {
          "output_type": "stream",
          "name": "stdout",
          "text": [
            "Contextual Summary: [{'summary_text': '\"King Maker\" is a political drama with Sol Kyung gu and Lee Sun-Kyun delivering outstanding performances. While some details are non-realistic, the film\\'s storytelling and production team can improve. It\\'s a people\\'s story about ultimatums, betrayals, and the unending struggle for power. Precision in all-round performances keep the story\\'s integrity intact, making it a must-watch for fans of political dramas and thrillers. Despite its flaws, the movie\\'s portrayal of corruption, bribery and the protagonist\\'s dilemmas is both debatable and enlightening. Overall, it\\'s still a noteworthy milestone in the political genre, offering 2 hours of pure entertainment for those interested in political movies with specific motifs and a clear picture of the challenges before the climax of the summit atop the summit.'}]\n",
            "Processing movie: The Godfather Part II\n",
            "IMDb ID: tt0071562\n",
            "Number of reviews: 30678\n"
          ]
        },
        {
          "output_type": "stream",
          "name": "stderr",
          "text": [
            "Device set to use cpu\n"
          ]
        },
        {
          "output_type": "stream",
          "name": "stdout",
          "text": [
            "Contextual Summary: [{'summary_text': '\"The Godfather Part II\" weaves together two compelling tales, following Michael Corleone as he expands his family\\'s business. While some find it familiar, others appreciate its depth and depth. Robert DeNiro and Al Pacino\\'s performances elevate the film, making it both a dual expansion of its predecessor and a masterpiece of juxtaposition. Despite some contrived stories, it remains a timeless classic, resonating with fans of the mafia and its potential as a prequel, offering a glimpse into the life of Michael\\'s empire and the complexities of the mob. Overall, it\\'s a compelling and thought-provoking cinematic experience that lingers long after the credits roll. Regardless of its merits, it still stands as an iconic cinematic masterpiece with enduring appeal and enduring enduring impact. ..and a must-watch for fans of classic cinema.'}]\n",
            "Processing movie: Charlie and the Chocolate Factory\n",
            "IMDb ID: tt0367594\n",
            "Number of reviews: 26011\n"
          ]
        },
        {
          "output_type": "stream",
          "name": "stderr",
          "text": [
            "Device set to use cpu\n"
          ]
        },
        {
          "output_type": "stream",
          "name": "stdout",
          "text": [
            "Contextual Summary: [{'summary_text': '\"Willy Wonka\" is a heartwarming adaptation of Roald Dahl\\'s magical tale, starring Julia Winter and Freddie Highmore. Tim Burton\\'s direction brings the character to life with a fresh take, though some critics find it reminiscent of candy. Depp\\'s portrayal of Willy and Violet\\'s mother adds depth to the role. While some find it sweet and delightful, others criticize its comparisons to candy. Despite its flaws, the movie\\'s 115 minutes of pure and delightful fun awaits, making it a must-see for fans of the original and those who cherish the story\\'s charm. Regardless of its shortcomings, \"Wonka and Grandpa Joe\" remains a standout in the franchise. Whether you\\'re a fan or a loyal fan, this adaptation will leave a lasting impression with its enduring appeal and a beloved classic.'}]\n",
            "Processing movie: Ladies' Doctor\n",
            "IMDb ID: tt6914934\n",
            "Number of reviews: 0\n"
          ]
        },
        {
          "output_type": "stream",
          "name": "stderr",
          "text": [
            "Device set to use cpu\n",
            "Your max_length is set to 300, but your input_length is only 3. Since this is a summarization task, where outputs shorter than the input are typically wanted, you might consider decreasing max_length manually, e.g. summarizer('...', max_length=1)\n"
          ]
        },
        {
          "output_type": "stream",
          "name": "stdout",
          "text": [
            "Contextual Summary: [{'summary_text': '. - (IT) - 0 - 1 - 2 - 3 - 4 - 5 - 6 - 7 - 8 - 9 - 10 - 11 - 12 - 13 - 14 - 15 - 16 - 18 - 19 - 20 - 21 - 23 - 24 - 25 - 26 - 28 - 30 - 40 - 50 - 60 - 70 - 80 - 90 - 100 - 150 - 140 - 120 - 130 -140 - 45 - 34 - 35 - 44 -35 - 38 -34 - 41 - 39 - 42 - 43 - 64 - 36 - 33 - 31 - 32 - 46 - 49 - 54 --41 -46 -49 -48 -44 -'}]\n",
            "Processing movie: The Flash\n",
            "IMDb ID: tt3107288\n",
            "Number of reviews: 18246\n"
          ]
        },
        {
          "output_type": "stream",
          "name": "stderr",
          "text": [
            "Device set to use cpu\n"
          ]
        },
        {
          "output_type": "stream",
          "name": "stdout",
          "text": [
            "Contextual Summary: [{'summary_text': '\"The Flash\" received mixed reviews, with some praising its first season and the excitement of seeing new metas and \\'team flash\\' developing abilities. While some found it enjoyable, others criticized its lack of commitment to the plot and character development. Despite its flaws, it\\'s a worthwhile watch for fans of superhero shows, especially if you\\'re a DC fan. However, the show\\'s continued decline over the last few seasons has left some fans dissatisfied with its portrayal of the Flash\\'s fight scenes and a lack of character development makes it a forgettable watch for those who appreciate the superhero\\'s unique perspective on the plot adolescent\\'s point of view. Nevertheless, it still stands as a standout in the superhero genre and deserves to be remembered for its satire of action shows and tv series fans. Regardless, \"Flash\" remains a fan of superheroes.'}]\n",
            "Processing movie: 10 Lives\n",
            "IMDb ID: tt7959138\n",
            "Number of reviews: 10103\n"
          ]
        },
        {
          "output_type": "stream",
          "name": "stderr",
          "text": [
            "Device set to use cpu\n"
          ]
        },
        {
          "output_type": "stream",
          "name": "stdout",
          "text": [
            "Contextual Summary: [{'summary_text': '\"10 Lives\" struggles to maintain momentum throughout its runtime, relying on tired clichés and slapstick gags that may elicit mild chuckles. While it offers moments of amusement, the film\\'s focus on reuniting with your loved one is limited. The idea of giving a cat extra lives in different animals works well, but the plot twist villain leads to predictable moments. Overall, it\\'s a decent animated feature that breaks down stereotypes about selfish creatures, making it an instrument of God in his grand plan. However, overall, it lacks momentum and engage viewers, resulting in a forgettable experience for both kids and adults alike. Despite its flaws, \"10 lives\" remains a worthwhile watch for those interested in existential exploration and emotional resonance in animated films like \"2022\". \\'2022 and \"10lives\\', offering a thought-provoking exploration of life and death.'}]\n",
            "Processing movie: Busty Girlfriend\n",
            "IMDb ID tidak ditemukan untuk film Busty Girlfriend\n",
            "Processing movie: The Inseparables\n",
            "IMDb ID: tt20221460\n",
            "Number of reviews: 5972\n"
          ]
        },
        {
          "output_type": "stream",
          "name": "stderr",
          "text": [
            "Device set to use cpu\n"
          ]
        },
        {
          "output_type": "stream",
          "name": "stdout",
          "text": [
            "Contextual Summary: [{'summary_text': '\"The Inseparables\" offers a simple yet engaging animated adventure for the whole family. While some find it generic and confusing, the imagination sequences and vivid painted style make it enjoyable. Despite some comparisons to \"Toy Story,\" it reinforces themes of team-playing, loyalty, and family bonding. The characters are well thought out and the storyline is engaging. While it may not appeal to all audiences, it\\'s a fun action film that\\'s worth watching with your family on a gray and boring evening with your friends. Overall, the film\\'s overall rating is 9/10, recommending it as a worthwhile watch for the entire family on an evening with a family friendly movie or a different kind of family friendly experience for older children and young adults alike, making it a must-watch for those who love cartoons. Regardless, it may appeal to younger audiences with its fun and engaging viewing experience.'}]\n",
            "Processing movie: Alien\n",
            "IMDb ID: tt0078748\n",
            "Number of reviews: 26507\n"
          ]
        },
        {
          "output_type": "stream",
          "name": "stderr",
          "text": [
            "Device set to use cpu\n"
          ]
        },
        {
          "output_type": "stream",
          "name": "stdout",
          "text": [
            "Contextual Summary: [{'summary_text': '\"Alien\" follows a seven-man crew on board the space freighter \"Nostromo\" as they battle true terror en-route to earth. The film\\'s dark, cold beauty will never be equaled, with critical praise for its realistic dialogue and realistic dialogue. Jerry Goldsmith\\'s soundtrack matches the images so perfectly, making it a classic in the sci-fi genre. Despite its flaws, the film remains an outstanding entry in the franchise, showcasing Scott\\'s direction and the foreboding before John Hurt\\'s revelations. Overall, it\\'s a phenomenal start to clear franchise material, leaving a lasting impression on fans and fans of the genre\\'s continued success in the coming years. Regardless of its shortcomings, it remains a timeless classic that stands as a testament to the power of science fiction films to its potential in the 21st century cinematic endeavors and horror genres.'}]\n",
            "Processing movie: The Tunnel to Summer, the Exit of Goodbyes\n",
            "IMDb ID: tt17382524\n",
            "Number of reviews: 24344\n"
          ]
        },
        {
          "output_type": "stream",
          "name": "stderr",
          "text": [
            "Device set to use cpu\n"
          ]
        },
        {
          "output_type": "stream",
          "name": "stdout",
          "text": [
            "Contextual Summary: [{'summary_text': '\"Tunnel to Summer\" offers strong emotional stories but falls short due to a somber tone and expressionless characters. While it offers captivating visuals and a poignant tale, the climax fails to engage emotionally. The film\\'s use of CG creates a breathtaking image, but the ending fails to deliver a tear-jerking experience. Despite its flaws, it\\'s regarded as one of the best 2023 anime candidates, offering a captivating experience even if it doesn\\'t fully capture the essence of romance and love in Japanese anime. However, it falls short of delivering a better ending, leaving viewers with a mixed impression of the movie\\'s impact on viewers\\' perceptions of its potential, making it a must-watch for fans of romantic fantasy and cult classics. Regardless of its shortcomings, it remains a compelling and thought-provoking cinematic experience worth considering'}]\n",
            "Processing movie: Violent Night\n",
            "IMDb ID: tt12003946\n",
            "Number of reviews: 20630\n"
          ]
        },
        {
          "output_type": "stream",
          "name": "stderr",
          "text": [
            "Device set to use cpu\n"
          ]
        },
        {
          "output_type": "stream",
          "name": "stdout",
          "text": [
            "Contextual Summary: [{'summary_text': '\"Violent Night\" offers a mix of Christmas action and horror, blending Abrahamic lunacy with European mythology. While some find it predictable, others appreciate its gory mayhem and creative use of Christmas songs. It\\'s a brilliant homage to the seasonal genre classics, showcasing David Harbour\\'s charisma and John Leguizamo\\'s entertaining villain. While it may not break new ground, it\\'s still a standout in the genre, offering a refreshing take on classics like \"Mother\\'s Day\" and \"Victoria\" to keep audiences engaged throughout the festive season, making it a must-watch for fans of edgy comedy and festive fun. Despite its predictable plot, it remains a memorable Christmas classic with plenty of laughs and memorable moments that will leave a lasting impression on viewers and fans of the genre\\'s timeless timeless classics such as \"Dirty.\"'}]\n",
            "Processing movie: Mean Girls\n",
            "IMDb ID: tt0377092\n",
            "Number of reviews: 36550\n"
          ]
        },
        {
          "output_type": "stream",
          "name": "stderr",
          "text": [
            "Device set to use cpu\n"
          ]
        },
        {
          "output_type": "stream",
          "name": "stdout",
          "text": [
            "Contextual Summary: [{'summary_text': '\"Mean Girls\" offers a comedic portrayal of high school life, starring Tina Fey and Lacey Chabert. While the screenplay may lack real depth for a teen film, the story follows Cady Heron, a 16-year-old home-schooled girl who finds herself sucked into a three-girl clique called the Plastics. Lindsay Lohan shines as Cady, portrayed by both Lizzy Caplan and Daniel Franzese, while Amy Poehler and Ana Gasteyer make it a standout in the genre, despite criticisms of teen comedies. Overall, it\\'s a fun and enjoyable watch, even if it may not break new ground in teen dramas like \"Cady\" in the \\'70s and \\'90s comedic cult-ish teen clique of outcasts.'}]\n",
            "Processing movie: Pirates of the Caribbean: On Stranger Tides\n",
            "IMDb ID: tt1298650\n",
            "Number of reviews: 48644\n"
          ]
        },
        {
          "output_type": "stream",
          "name": "stderr",
          "text": [
            "Device set to use cpu\n"
          ]
        },
        {
          "output_type": "stream",
          "name": "stdout",
          "text": [
            "Contextual Summary: [{'summary_text': '\"Pirates of the Caribbean: Navigating in Mysterious Water\" receives mixed reviews, with some praising Johnny Depp\\'s performance as Jack Sparrow and Ian McShane\\'s Blackbeard. While some find it convoluted and lacking depth, others appreciate its simplicity and pacing. Despite its flaws, Keira Knightly and Orlando Bloom shine, making it a great summer blockbuster, even if it falls short of the hype. Overall, it\\'s a solid representation of the classic Pirates series, despite criticisms of its overall quality and overall feel it deserves to be seen as a standout in the genre. However, others may find it lacking depth and depth, though overall, it still delivers a satisfying viewing experience for those who appreciate its fun-loving spirit and memorable performances. Regardless, it remains a must-watch for fans of the genre and a worthy addition to the franchise.'}]\n",
            "Processing movie: Green Book\n",
            "IMDb ID: tt6966692\n",
            "Number of reviews: 24019\n"
          ]
        },
        {
          "output_type": "stream",
          "name": "stderr",
          "text": [
            "Device set to use cpu\n"
          ]
        },
        {
          "output_type": "stream",
          "name": "stdout",
          "text": [
            "Contextual Summary: [{'summary_text': '\"Green Book\" offers a poignant portrayal of a difficult time in history, blending sensational performances with touching storytelling. Viggo Mortensen\\'s portrayal shines, as is Mahershala Ali\\'s performance. While some critics find it heavy-handed, others appreciate its honesty and humor. The film\\'s commercial payoff could be huge, with Dolores reading Tony\\'s letter to her cousins. Despite some nagging issues, it\\'s a compelling and thought-provoking cinematic triumph, highlighting the power of opposites and humanity\\'s humanity. Overall, \"Geogyny\" is a must-watch for fans of contemporary cinema and the enduring legacy of era\\'s richness and diversity. However, some criticize its lack of grit and lack of originality may detracting from its impact on viewers. Regardless, overall, it stands as a standout in the genre.'}]\n",
            "Processing movie: Star Wars\n",
            "IMDb ID: tt0076759\n",
            "Number of reviews: 38480\n"
          ]
        },
        {
          "output_type": "stream",
          "name": "stderr",
          "text": [
            "Device set to use cpu\n"
          ]
        },
        {
          "output_type": "stream",
          "name": "stdout",
          "text": [
            "Contextual Summary: [{'summary_text': '\"Episode IV-A New Hope\" is hailed as a cinematic masterpiece, showcasing Luke Skywalker\\'s bravery and audacity. Carrie Fisher delivers a captivating performance, capturing the essence of the hero\\'s journey, despite doubts and hopes. George Lucas\\'s dedication to the story, coupled with the film\\'s depth, made it a must-see for sci-fi enthusiasts, defining the cinema experience for a generation. While some find it entertaining, others criticize its lack of common sense and revisionism, leaving a lasting impression on those who witnessed it for the first time. Overall, it\\'s a masterpiece worth a watch for those who appreciate its exhilarating storytelling and cinematic experience that captivated audiences for decades to come. Despite its flaws, it remains a standout in the cinematic universe, resonating with fans and fans alike alike.'}]\n",
            "Processing movie: The Lost Children\n",
            "IMDb ID: tt34058121\n",
            "Number of reviews: 16114\n"
          ]
        },
        {
          "output_type": "stream",
          "name": "stderr",
          "text": [
            "Device set to use cpu\n"
          ]
        },
        {
          "output_type": "stream",
          "name": "stdout",
          "text": [
            "Contextual Summary: [{'summary_text': '\"The Lost Children\" is a compelling documentary that combines archival footage, interviews, and dramatic reenactments to craft a captivating narrative. It follows four children surviving a plane crash that killed all the adults including their mother. Through slick production and storytelling, it reminds viewers of the importance of survival in the jungle. Despite some unneccessary details, it\\'s a great story that makes you think about how huge and fascinating our world is. I\\'m sure it\\'ll be made into a Hollywood movie one day, highlighting the need for better education and human resilience in the face of adversity and survival in a global community. Ultimately, this documentary stands as a testament to the power of storytelling and resilience in this challenging situation. Regardless of its shortcomings, it remains a remarkable and thought-provoking documentary that inspires change in human beings around the world.'}]\n",
            "Processing movie: Road House\n",
            "IMDb ID: tt3359350\n",
            "Number of reviews: 21573\n"
          ]
        },
        {
          "output_type": "stream",
          "name": "stderr",
          "text": [
            "Device set to use cpu\n"
          ]
        },
        {
          "output_type": "stream",
          "name": "stdout",
          "text": [
            "Contextual Summary: [{'summary_text': '\"2024\\'s Road House\" offers a decent action movie with decent fight scenes and Conor McGregor\\'s presence. While some find it hit-and-miss with fake fighting scenes and bad cgi, others praise its entertaining atmosphere and adrenaline junkie vibe. Remakes often fail to deliver on what made the original work, resulting in a disappointing experience for newcomers. Jake Gyllenhaal\\'s performance stands out, as well as Joaquim De Almeida\\'s standout performances add to the overall experience, even if it falls short of delivering on its promise. Overall, it\\'s a good action movie worth watching for fans of the classic and those who appreciate its high-energy vibe and action action sequences. Despite its flaws, the film\\'s lack of originality makes it a forgettable addition to the action genre, albeit one that may not last forever.'}]\n",
            "Processing movie: A Nonsense Christmas with Sabrina Carpenter\n",
            "IMDb ID: tt33427273\n",
            "Number of reviews: 12937\n"
          ]
        },
        {
          "output_type": "stream",
          "name": "stderr",
          "text": [
            "Device set to use cpu\n"
          ]
        },
        {
          "output_type": "stream",
          "name": "stdout",
          "text": [
            "Contextual Summary: [{'summary_text': '\"Negatives for A Nonsense Christmas with Sabrina Carpenter\" offers a mix of seasonal tunes and fun guest appearances, despite some pacing issues. While some find it entertaining for younger audiences, others appreciate its warmth and charm. Sabrine Carpenter\\'s unique style, combined with comedy skits, makes it a feel-good holiday special. Despite its flaws, it\\'s a solid holiday special worth watching, especially if you\\'re a fan of her music and enjoy her unique way of looking and sounding trashy. Overall, it may not be for everyone, but its mix of charm and humor make it an enjoyable watch for adults and a must-watch for those who appreciate her unique style and unique style of acting and acting. Regardless, it could be a memorable addition to the holiday season, especially for those with an interest in music and holiday traditions alike, making it an entertaining and memorable experience worth watching'}]\n",
            "Processing movie: Immaculate\n",
            "IMDb ID: tt23137390\n",
            "Number of reviews: 17256\n"
          ]
        },
        {
          "output_type": "stream",
          "name": "stderr",
          "text": [
            "Device set to use cpu\n"
          ]
        },
        {
          "output_type": "stream",
          "name": "stdout",
          "text": [
            "Contextual Summary: [{'summary_text': '\"Immaculate\" receives mixed reviews, with some praising its portrayal of Cecilia, but others found it lacking in depth and character development. While Sydney Sweeney\\'s performance shines, the film\\'s attempt to blend science and religion falls short, resulting in a predictable and uneven viewing experience. Despite positive reviews, it\\'s criticized for its fake-out dream sequence and lack of depth in social commentary. However, others appreciate its attempt to explore themes of faith and subjugation, though some find it lacking depth and depth. Overall, \"Immaculate\" remains a promising entry in the horror genre, even if it falls short of delivering a coherent and engaging viewing experience amidst its flaws. Regardless, it may not be a must-watch for horror fans seeking a different kind of cinematic experience that resonates with audiences beyond the genre\\'s mainstream audiences.'}]\n",
            "Processing movie: Expend4bles\n",
            "IMDb ID tidak ditemukan untuk film Expend4bles\n",
            "Processing movie: Kung Fu Panda\n",
            "IMDb ID: tt0441773\n",
            "Number of reviews: 31947\n"
          ]
        },
        {
          "output_type": "stream",
          "name": "stderr",
          "text": [
            "Device set to use cpu\n"
          ]
        },
        {
          "output_type": "stream",
          "name": "stdout",
          "text": [
            "Contextual Summary: [{'summary_text': '\"Kung Fu Panda\" offers a unique take on kung fu, with Jack Black and Angelina Jolie delivering stellar performances. While some may find the story lacking in pop-culture references, the film\\'s genuine cinematic moments and real-life moments elevate it above Ratatouille. Despite limited roles, the voice cast delivers a stellar performance, particularly from Tai Lung, a highly trained juggernaut of rage. While not groundbreaking, it may resonate with younger audiences with its clean humor and emotional moments, making it a standout in computer-generated cinema. Overall, it\\'s a fun and thought-provoking experience that leaves a lasting impression on viewers. Ultimately, it might not be unique, but it may leave a positive impact on older viewers with its broader audience. Regardless, it remains a must-watch for fans of Kung-fu fans and fans of the genre.'}]\n",
            "Processing movie: The Ministry of Ungentlemanly Warfare\n",
            "IMDb ID: tt5177120\n",
            "Number of reviews: 27116\n"
          ]
        },
        {
          "output_type": "stream",
          "name": "stderr",
          "text": [
            "Device set to use cpu\n"
          ]
        },
        {
          "output_type": "stream",
          "name": "stdout",
          "text": [
            "Contextual Summary: [{'summary_text': '\"Ungentlemanly Warfare\" follows the true exploits of Britain\\'s Special Operations Executive (SOE) during World War II, set in 1942. While Henry Cavill delivers a memorable performance, the film\\'s attempt at gore feels a bit lacking. Alan Ritchson\\'s work shines, but Eiza Gonzalez\\'s ethnicity may offend some viewers. Ritchie\\'s direction and the ensemble cast make for an enjoyable watch, though some moments may not resonate with everyone. Overall, it\\'s an enjoyable ride based on a story not that well known of the war, albeit one that falls short of what it deserves to be seen in a sequel to Ian Fleming\\'s war record. Despite its flaws, it remains a worthwhile watch for fans of action-comedies and Ritchie-inspired narratives, even if it falls short in execution and plot-wise direction.'}]\n",
            "Processing movie: Spider-Man 3\n",
            "IMDb ID: tt0413300\n",
            "Number of reviews: 33856\n"
          ]
        },
        {
          "output_type": "stream",
          "name": "stderr",
          "text": [
            "Device set to use cpu\n"
          ]
        },
        {
          "output_type": "stream",
          "name": "stdout",
          "text": [
            "Contextual Summary: [{'summary_text': '\"Spider-Man 3\" manages to maintain a similar feel to the first two films, with Peter Parker and Spider-Man battling three villains in one film. While some find it enjoyable, others find it lacking in plot, characterisation, and pacing. Despite its flaws, the film\\'s fights and cameos are excellent, as is Mary Jane Watson\\'s adolescent crush on Pete. However, Tobey Maguire\\'s lack of substance may deter some viewers, but overall, it\\'s an enjoyable and enjoyable watch, even if it falls short of delivering on the promise of Pirates II. Overall, it should be seen as a worthwhile watch for fans of superheroes and a dark side to the franchise\\'s story arcs and characters in the making of a memorable and memorable experience for those who enjoy it. Regardless, it may not be a compelling and enjoyable viewing experience.'}]\n",
            "Processing movie: Ice Age\n",
            "IMDb ID: tt0268380\n",
            "Number of reviews: 17987\n"
          ]
        },
        {
          "output_type": "stream",
          "name": "stderr",
          "text": [
            "Device set to use cpu\n"
          ]
        },
        {
          "output_type": "stream",
          "name": "stdout",
          "text": [
            "Contextual Summary: [{'summary_text': '\"ICE AGE\" stands out as a well-crafted family film with a strong message about cooperation and friendship amidst a herd of creatures. With a relatively small budget, Fox Animation and Blue Sky Studios deliver an incredible animation experience, blending state-of-the-art digital animation with cast talents like Ray Romano, John Leguizamo, and Dennis Leary. While not intrusive, David Newman\\'s score elevates the action, creating an intensely coloured fantasy of snow, geysers, rocks and ice age, making it a refreshing change from Pixar\\'s style. Overall, it\\'s a great movie worth watching for both adults and children alike, offering a unique take on friendship and betrayal in a different kind of adolescent imagination and a fresh perspective on life\\'s evolving characters in the icy landscape. Despite some minor flaws'}]\n",
            "Processing movie: Meg 2: The Trench\n",
            "IMDb ID: tt9224104\n",
            "Number of reviews: 22435\n"
          ]
        },
        {
          "output_type": "stream",
          "name": "stderr",
          "text": [
            "Device set to use cpu\n"
          ]
        },
        {
          "output_type": "stream",
          "name": "stdout",
          "text": [
            "Contextual Summary: [{'summary_text': '\"Ain\\'t No Oppenheimer\" receives mixed reviews, with some praising Statham\\'s performance but others deeming it campy and implausible. While some appreciate its production value and Cliff Curtis\\' return as Mac, the film\\'s cgi looks like it came out of a PS2 game. Despite attempts at coherence, it ultimately falls short, leaving viewers with a sense of frustration over its plot and lack of suspense. Overall, it\\'s not a worthy contender for a razzie, despite its flaws and a lackluster sequels like \"Deep Blue Sea\" and \"The Shallows\" criticizing its lack of quality content and lackluster performances, the movie ultimately fails to deliver on its promise of excellence and mediocrity, making it a forgettable watch for fans of classic classics like John Woo\\'s.'}]\n",
            "Processing movie: The Hobbit: An Unexpected Journey\n",
            "IMDb ID: tt0903624\n",
            "Number of reviews: 38449\n"
          ]
        },
        {
          "output_type": "stream",
          "name": "stderr",
          "text": [
            "Device set to use cpu\n"
          ]
        },
        {
          "output_type": "stream",
          "name": "stdout",
          "text": [
            "Contextual Summary: [{'summary_text': '\"The Hobbit: An Unexpected Journey\" stars Martin Freeman, Ian McKellen, Richard Armitage, and James Nesbitt, despite its flaws. Directed by Peter Jackson, it navigates the fantastical world of Lord of the Rings with a blend of CGI and cinematography. While it may not reach the same level as the first installment, its exploration of the story and visuals is enjoyable, especially for fans of the franchise. Despite its shortcomings, Elijah Wood\\'s reprizement and the film\\'s reliance on CGI may deter some. Overall, it\\'s an enjoyable and enjoyable watch, even if it falls short of reaching the same levels of LOTR. Regardless, overall, it remains a satisfying and enjoyable experience for those who appreciate its exploration and exploration of mythology and mythology. Ultimately, it ultimately fails to reach its full potential, leaving audiences wanting more.'}]\n",
            "Processing movie: Descendants of Adultery\n",
            "IMDb ID tidak ditemukan untuk film Descendants of Adultery\n",
            "Processing movie: Klaus\n",
            "IMDb ID: tt4729430\n",
            "Number of reviews: 10279\n"
          ]
        },
        {
          "output_type": "stream",
          "name": "stderr",
          "text": [
            "Device set to use cpu\n"
          ]
        },
        {
          "output_type": "stream",
          "name": "stdout",
          "text": [
            "Contextual Summary: [{'summary_text': '\"Klaus\" is a visually stunning hand-drawn animated film that captures the essence of Christmas with its original storytelling. While some may find its characters lacking in diversity, the film\\'s heartwarming tale of Christmas spirit and endearing setting make it a must-watch for those seeking a different take on the tradition. Netflix\\'s inclusion of this art form in its streaming service has been a welcome addition to the animated film genre, offering a unique experience for viewers seeking to immerse themselves in the 21st century storytelling and meaningful messages. Overall, it\\'s a fun, fast-paced, and visually distinct Christmas tale that\\'s sure to leave a lasting impression on those seeking inspiration in animators and fans of traditional animation. Despite its shortcomings, it remains a worthwhile watch for fans of the art form and the enduring value of animation in its enduring impact on the viewer\\'s understanding of human kindness.'}]\n",
            "Processing movie: Fight Club\n",
            "IMDb ID: tt0137523\n",
            "Number of reviews: 19156\n"
          ]
        },
        {
          "output_type": "stream",
          "name": "stderr",
          "text": [
            "Device set to use cpu\n"
          ]
        },
        {
          "output_type": "stream",
          "name": "stdout",
          "text": [
            "Contextual Summary: [{'summary_text': '\"Fight Club\" offers a unique blend of aggressive, confrontational, and brutal satire, anchored by brilliant performances from Edward Norton, Brad Pitt, and Helena Bonham Carter. While some find it engaging and challenging, others criticize its lack of cohesiveness and anarchistic message. Despite its playful structure, the film\\'s deadpanned narration and engaging characters make it a compelling watch. Director David Fincher\\'s attention to detail adds depth to the narrative, but overall, it falls short of its potential, leaving viewers in a world of confusion and disbelief. Overall, it\\'s a thought-provoking exploration of societal breakdown, isolation, and the power of self-discovery in the face of adversity. Regardless, it remains a brilliant masterpiece worth a watch for those willing to embrace its unconventional storytelling and engaging storytelling amidst its flaws in storytelling and storytelling.'}]\n",
            "Processing movie: LEGO Marvel Avengers: Mission Demolition\n",
            "IMDb ID: tt33653255\n",
            "Number of reviews: 2270\n"
          ]
        },
        {
          "output_type": "stream",
          "name": "stderr",
          "text": [
            "Device set to use cpu\n"
          ]
        },
        {
          "output_type": "stream",
          "name": "stdout",
          "text": [
            "Contextual Summary: [{'summary_text': '\"Lego Marvel Avengers: Mission Demolition (2024)\" was a thoroughly entertaining mini-movie packed with references to the MCU and Marvel comics. While some found it childish, others appreciated its references and humor. The voice cameos were great, especially from Jason Mantzoukis, and the Lego versions of Daredevil and Moonknight. Overall, it\\'s a fun and entertaining movie that combines LEGO and the Marvel Cinematic Universe, making it a must-see for fans of LEGO enthusiasts and fans of the Marvel cinematic universe. Despite its flaws, the movie\\'s references to LEGO Avengers Code Red was incredibly funny and entertaining, even if it didn\\'t detracting from the overall experience. Regardless, it remains a worthwhile watch for fans and fangirlish characters like Wolverine and Daredevils, both of which contributed to its satire.'}]\n",
            "Processing movie: Parasite\n",
            "IMDb ID: tt6751668\n",
            "Number of reviews: 19054\n"
          ]
        },
        {
          "output_type": "stream",
          "name": "stderr",
          "text": [
            "Device set to use cpu\n"
          ]
        },
        {
          "output_type": "stream",
          "name": "stdout",
          "text": [
            "Contextual Summary: [{'summary_text': '\"Parasite\" is a visually stunning and emotionally resonant film that follows a South Korean family\\'s journey into the lives of an upper-class family. While some parts feel muddled or inconsistent, the film\\'s superb direction and enthralling performances make it a standout in the genre. Director Bong Joon-ho crafts a multi-layered narrative that resonates deeply with viewers, even if it may not appeal to all audiences. Despite its flaws, the movie\\'s accessible storytelling and familiar language make it an engaging and thought-provoking viewing experience that lingers long after the credits roll, making it an entertaining watch for those seeking a deeper understanding of poverty and the broader social implications of the era of modernity. Ultimately, it\\'s a must-watch for anyone interested in social commentary and a cinematic experience that transcends genre conventions with depth and depth.'}]\n",
            "Processing movie: Ratatouille\n",
            "IMDb ID: tt0382932\n",
            "Number of reviews: 33229\n"
          ]
        },
        {
          "output_type": "stream",
          "name": "stderr",
          "text": [
            "Device set to use cpu\n"
          ]
        },
        {
          "output_type": "stream",
          "name": "stdout",
          "text": [
            "Contextual Summary: [{'summary_text': '\"Ratatouille\" receives mixed reviews, with praise for its portrayal of Remy and Remy, but criticism for its lack of realistic animation. While some find it entertaining for older audiences, others see it as a great family film that reminds them of the dangers posed by humans. Despite its flaws, the film\\'s message is universal, even if it\\'s not for everyone. Ultimately, \"Monsters INC.\" is a must-see for those with strong emotions, surpassing \"Toy Story\" and \"Shrek III\" for its message of self-discovery and the power of storytelling. Overall, it\\'ll be a standout in the animation genre, offering a refreshing take on adolescence and the arts in the 21st century cinematic endeavors in the making of humanity\\'s imaginations and artistic talent in the form of creations.'}]\n",
            "Processing movie: Gunner\n",
            "IMDb ID: tt12598606\n",
            "Number of reviews: 14193\n"
          ]
        },
        {
          "output_type": "stream",
          "name": "stderr",
          "text": [
            "Device set to use cpu\n"
          ]
        },
        {
          "output_type": "stream",
          "name": "stdout",
          "text": [
            "Contextual Summary: [{'summary_text': '\"This is one of the most lackadaisical films I\\'ve ever seen,\" criticized for its lack of substance and focus on visual effects. While some find it literraly dark, others appreciate the lack of effort and continuity. The film\\'s lack of entertainment and lack of artistic value make it a forgettable experience. Morgan Freeman\\'s performance is praised, but the cgi and sound effects are lacking. With no redeeming qualities, it\\'s a film that\\'s best avoided, especially if you\\'re up-voting his bogus high reviews and not resembling the worst film ever seen. Despite its flaws, the film remains a must-watch for anyone interested in action movies and a true portrayal of violence amidst a forgottentastic storytelling is a shameful and ultimately forgettable watch for those willing to invest in a worthy role.'}]\n",
            "Processing movie: Ghosted\n",
            "IMDb ID: tt15326988\n",
            "Number of reviews: 14187\n"
          ]
        },
        {
          "output_type": "stream",
          "name": "stderr",
          "text": [
            "Device set to use cpu\n"
          ]
        },
        {
          "output_type": "stream",
          "name": "stdout",
          "text": [
            "Contextual Summary: [{'summary_text': '\"Ghosted\" directed by Danny Boyle offers a mix of action and comedy, with Chris Evans and Ana de Armas delivering outstanding performances. While it may not break new ground, the leads have great chemistry and scenes that don\\'t feel forced. Despite some over-the-top sequences, the film\\'s engaging story and the change of scenes in different countries make it a decent watch for fans of thriller horror. Overall, it\\'s a good action romantic comedy with some cameos that will surprise you, especially if you\\'re looking for Mission Impossible-style action movies like \"Gifted\" and \"Captain Needy\" akin to rom-com style action movies, making it an enjoyable watch for those who appreciate its original storytelling and mindless fun action movies with some memorable moments. \"Ghosted\" action sequences add depth to the overall experience, giving it an overall rating of 5 stars.'}]\n",
            "Processing movie: Justice League: Crisis on Infinite Earths Part Three\n",
            "IMDb ID: tt30150917\n",
            "Number of reviews: 22124\n"
          ]
        },
        {
          "output_type": "stream",
          "name": "stderr",
          "text": [
            "Device set to use cpu\n"
          ]
        },
        {
          "output_type": "stream",
          "name": "stdout",
          "text": [
            "Contextual Summary: [{'summary_text': '\"Justice League: Crisis on Infinite Earths\" receives mixed reviews, with some praising its expert pacing, stunning artwork, and poignant character moments. While some find it enjoyable and enjoyable, others criticize its lack of commentary and uninspired storytelling. Despite strong performances, especially from the voice actors, the film falls short of delivering a coherent storyline. Ultimately, it\\'s a forgettable addition to the DC universe, with reliance on previous entries resulting in an amalgamation that feels like a failed attempt at delivering original content. However, others find it boring and uninteresting, even if it doesn\\'t deliver on its promise of DC\\'s greatest heroism and enduring appeal. Regardless, it remains a timeless classic worth watching for fans of DC comics and adversity and nostalgia for its cult classics like Aquaman and Superman.'}]\n",
            "Processing movie: Bosomy Mom\n",
            "IMDb ID: tt12625176\n",
            "Number of reviews: 0\n"
          ]
        },
        {
          "output_type": "stream",
          "name": "stderr",
          "text": [
            "Device set to use cpu\n",
            "Your max_length is set to 300, but your input_length is only 3. Since this is a summarization task, where outputs shorter than the input are typically wanted, you might consider decreasing max_length manually, e.g. summarizer('...', max_length=1)\n"
          ]
        },
        {
          "output_type": "stream",
          "name": "stdout",
          "text": [
            "Contextual Summary: [{'summary_text': '. - (IT) - 0 - 1 - 2 - 3 - 4 - 5 - 6 - 7 - 8 - 9 - 10 - 11 - 12 - 13 - 14 - 15 - 16 - 18 - 19 - 20 - 21 - 23 - 24 - 25 - 26 - 28 - 30 - 40 - 50 - 60 - 70 - 80 - 90 - 100 - 150 - 140 - 120 - 130 -140 - 45 - 34 - 35 - 44 -35 - 38 -34 - 41 - 39 - 42 - 43 - 64 - 36 - 33 - 31 - 32 - 46 - 49 - 54 --41 -46 -49 -48 -44 -'}]\n",
            "Processing movie: Encanto\n",
            "IMDb ID: tt2953050\n",
            "Number of reviews: 30928\n"
          ]
        },
        {
          "output_type": "stream",
          "name": "stderr",
          "text": [
            "Device set to use cpu\n"
          ]
        },
        {
          "output_type": "stream",
          "name": "stdout",
          "text": [
            "Contextual Summary: [{'summary_text': '\"Encanto\" receives mixed reviews, with some praising its inventive animation and Mirabel\\'s lead character. While some find it magical and emotional, others find it lacking in depth. Despite positive word of mouth, others appreciate its inventiveness and dazzling animation. The film\\'s infectious songs and strong individual personalities elevate it, making it a must-watch for fans of Disney family films. While it may not reach the heights of other Disney films, it\\'s an entertaining and thought-provoking watch, despite its flaws. Overall, it offers a unique perspective on unexpected events and emotions, though some criticize its lack of suspense and lack of emotional depth in its plot points and overall, overall, positive reviews. Nonetheless, it remains a milestone Disney film with potential for greatness in its own uniqueness in storytelling and cinematic storytelling. Regardless of its shortcomings, it still stands as a promising start to the year-old tradition.'}]\n",
            "Processing movie: Through My Window 3: Looking at You\n",
            "IMDb ID tidak ditemukan untuk film Through My Window 3: Looking at You\n",
            "Processing movie: Black Panther: Wakanda Forever\n",
            "IMDb ID: tt9114286\n",
            "Number of reviews: 28166\n"
          ]
        },
        {
          "output_type": "stream",
          "name": "stderr",
          "text": [
            "Device set to use cpu\n"
          ]
        },
        {
          "output_type": "stream",
          "name": "stdout",
          "text": [
            "Contextual Summary: [{'summary_text': '\"Wakanda Forever\" offers a poignant tribute to Chadwick Boseman, highlighting his monumental contribution to the MCU. While some moments feel dragging in the middle, the film honors his memory and moves the story forward respectfully. Directed by Ryan Coogler, it\\'s praised for its emotional impact and portrayal of T\\'Challa\\'s sister, Letitia Wright, despite some overshadowing moments. Despite its flaws, it remains a powerful and thought-provoking exploration of human resilience in the wake of the untimely death of its lead actor\\'s legacy and the enduring impact of the franchise. Ultimately, I\\'m confident the film stands as a testament to the power of storytelling and storytelling in the face of adversity, albeit with some pacing issues and moments of emotional depth, making it a worthwhile watch for fans of the upcoming installments.'}]\n",
            "Processing movie: Aquaman and the Lost Kingdom\n",
            "IMDb ID: tt9663764\n",
            "Number of reviews: 33331\n"
          ]
        },
        {
          "output_type": "stream",
          "name": "stderr",
          "text": [
            "Device set to use cpu\n"
          ]
        },
        {
          "output_type": "stream",
          "name": "stdout",
          "text": [
            "Contextual Summary: [{'summary_text': '\"Aquaman and the Lost Kingdom\" receives mixed reviews, with praise for Jason Momoa and Patrick Wilson\\'s chemistry but criticism for the generic hero\\'s lack of depth. While some find it entertaining and memorable, others see it as a disappointment with lackluster special effects and a lackluster backstory. Despite attempts at dramatic effects, the film\\'s attempts at jokes and pacing fail to engage, leaving audiences with little hope for a sequel, leaving it feeling like a forgettable entry in the superhero genre adolescent film with little chance of making it into a lasting impact on audiences. Ultimately, it\\'s considered a disappointing and ultimately disappointing viewing experience, despite its potential for future sequels and disappointing cinematic experiences. Nonetheless, it may not reach its full potential in the DCEU\\'s superhero genre, resulting in a disjointed and disappointing effort that ultimately leaves audiences with a positive impression.'}]\n",
            "Processing movie: After We Fell\n",
            "IMDb ID: tt13069986\n",
            "Number of reviews: 14084\n"
          ]
        },
        {
          "output_type": "stream",
          "name": "stderr",
          "text": [
            "Device set to use cpu\n"
          ]
        },
        {
          "output_type": "stream",
          "name": "stdout",
          "text": [
            "Contextual Summary: [{'summary_text': '\"After We Fell\" is a disappointing sequel to the \"After\" franchise, featuring Tessa and Hardin in a tumultuous relationship. While the performances by Hero Tiffin and Josephine Langford are flawless, the film feels empty and lacking in drama and passion. It\\'s a joke with a lackluster script and lackluster love making scenes. The film\\'s lack of charisma and lack of genuine emotion make it a forgettable watch, especially for fans of the series\\' earlier installments. Overall, it\\'s an awful example of emotional abuse and manipulation in the face of adversity and a flawed storyline that\\'s unrelatable for those interested in the franchise\\'s future sequels. Despite its flaws, it remains a must-watch for those who enjoy drama and love drama in the future. Ultimately, it may not be a satisfying ending, but it may leave viewers wanting more.'}]\n",
            "Processing movie: Jurassic World: Fallen Kingdom\n",
            "IMDb ID: tt4881806\n",
            "Number of reviews: 24147\n"
          ]
        },
        {
          "output_type": "stream",
          "name": "stderr",
          "text": [
            "Device set to use cpu\n"
          ]
        },
        {
          "output_type": "stream",
          "name": "stdout",
          "text": [
            "Contextual Summary: [{'summary_text': '\"Jurassic Park 5\" receives mixed reviews, with some praising its action sequences and Maise Lockwood\\'s performance but others find it predictable and lacking depth. While some find it entertaining and entertaining, others criticize its predictable plot and lack of investment in developing the main characters\\' personalities. Ultimately, it\\'s time for creative writing that continues to offer something new and exciting, not just generic blockbuster films. Please stop rating these films so highly, and send a message to Hollywood about the dangers they pose to the dinosaurs\\' survival and the impact they have on the film\\'s success. Despite some elements, the movie\\'s overall rating isn\\'t enough to sustain the franchise\\'s future. Regardless, it may not be enough for everyone involved in making a lasting impact on the dinosaur\\'s legacy. \\'\\'J\\'\\'\\' and \"J\"\\'\\'s impact on viewers\\' perceptions.'}]\n",
            "Processing movie: The Amazing Spider-Man 2\n",
            "IMDb ID: tt1872181\n",
            "Number of reviews: 29156\n"
          ]
        },
        {
          "output_type": "stream",
          "name": "stderr",
          "text": [
            "Device set to use cpu\n"
          ]
        },
        {
          "output_type": "stream",
          "name": "stdout",
          "text": [
            "Contextual Summary: [{'summary_text': '\"The Amazing Spider-Man\" receives mixed reviews, with some praising its love story and chemistry with Dane DeHaan\\'s portrayal of Harry, while others find it bland and lacking in originality. Despite some nitpicky moments, the film\\'s originality and fidelity to source material make it a standout in the superhero genre. While it may not break new ground, its breathtaking sequences and believable villains keep viewers on the edge of their seats, making it an enjoyable watch for fans of comic-book nerd-geeks and those who appreciate its unique character and its unique approach to storytelling. Overall, it\\'s a compelling and thought-provoking viewing experience that captivates audiences with its blend of charm and scares that makes it an entertaining watch for cinephiles and fans of superheroes alike. \"Astounding\" is a worthy contender in its own right.'}]\n",
            "Processing movie: Big City Greens the Movie: Spacecation\n",
            "IMDb ID: tt22752312\n",
            "Number of reviews: 3192\n"
          ]
        },
        {
          "output_type": "stream",
          "name": "stderr",
          "text": [
            "Device set to use cpu\n"
          ]
        },
        {
          "output_type": "stream",
          "name": "stdout",
          "text": [
            "Contextual Summary: [{'summary_text': '\"Big City Greens: Spacecation\" receives mixed reviews, with some praising its simple yet enjoyable story, solid animation, and fun comedy. While some may find it lacking in original Disney Channel movies, others appreciate its fun humor and character development. Despite some disappointments, it\\'s a fun watch, especially for fans of the animated series. However, the movie\\'s lack of musical numbers may deter some viewers, but overall, I\\'d give it a try. Check it out on Disney+ on June 7th, recommending it for those who enjoy the series\\'s originality and fun action-packed action-comedy-ness, even if it falls short of a masterpiece based on a Disney animated film like \"Star Wars rip-off\" or \"Spacecation,\" fans will find it entertaining and a fan of the series fancier genre fans and fans of this genre fans alike.'}]\n",
            "Processing movie: Christmas with the Kranks\n",
            "IMDb ID: tt0388419\n",
            "Number of reviews: 20154\n"
          ]
        },
        {
          "output_type": "stream",
          "name": "stderr",
          "text": [
            "Device set to use cpu\n"
          ]
        },
        {
          "output_type": "stream",
          "name": "stdout",
          "text": [
            "Contextual Summary: [{'summary_text': '\"Luke Krank\" (Tim Allen) and Nora Krank (Jamie Lee Curtis) have a mixed reception, with some praising their chemistry and slapstick but others finding it lacking in depth. Tim Allen and Jamie Lee create a funny atmosphere, though the film occasionally feels dated. Despite some manipulation, the chemistry between the two leads makes it a memorable watch, even if it\\'s not without its flaws. Overall, it feels like a forgettable and forgettable Christmas movie, especially compared to other Christmas movies with its lackluster humor and lack of depth. Regardless, \"Luther\" is a fun, if not groundbreaking, viewing experience for those with thin senses of humor and a laughable, entertaining and entertaining viewing experience with little to no substance. Ultimately, \"Lethmar\" remains a disappointing and disappointing viewing experience that falls short of the original.'}]\n",
            "Processing movie: Shang-Chi and the Legend of the Ten Rings\n",
            "IMDb ID: tt9376612\n",
            "Number of reviews: 13873\n"
          ]
        },
        {
          "output_type": "stream",
          "name": "stderr",
          "text": [
            "Device set to use cpu\n"
          ]
        },
        {
          "output_type": "stream",
          "name": "stdout",
          "text": [
            "Contextual Summary: [{'summary_text': '\"Awkwafina\" delivers a comedic counterbalance to its serious moments, offering strong action sequences and charismatic lead performance. Black Panther\\'s soundtrack and traditional orchestrated sounds add depth, making it a standout in the MCU. Simu Liu\\'s performance as Shang-Chi shines, but the film lacks a solid origin story arc. Despite its flaws, the fight scenes and choreography are spectacular, and the film\\'s love and care for homage to old kung fu movies shines through, though it falls short of its potential. Overall, it\\'s worth watching, especially for fans of action flicks with a strong foundation for future installments with its strong performances and a memorable storyline. Nonetheless, it may not reach its full potential in its entirety, leaving a lasting impression in the long runtime. Ultimately, it remains a spectacle with potential for future MCU films with potential.'}]\n",
            "Processing movie: Zootopia\n",
            "IMDb ID: tt2948356\n",
            "Number of reviews: 26257\n"
          ]
        },
        {
          "output_type": "stream",
          "name": "stderr",
          "text": [
            "Device set to use cpu\n"
          ]
        },
        {
          "output_type": "stream",
          "name": "stdout",
          "text": [
            "Contextual Summary: [{'summary_text': '\"Zootopia\" stands out among non-Pixar Disney CGI films, praised for its funny scenes and Shakira\\'s song, but criticized for its shoe-horned character. Despite its flaws, the film offers a refreshing take on prejudice and stereotypes, with Ginnifer Goodwin delivering a bubbly performance. The 3D animation is top-notch, blending pop culture references with the narrative, making it a standout in Disney\\'s Revival era, marking a new creative high for the studio, offering a subversive exploration of prejudice & stereotypes and a unique take on a forgotten classic. Overall, it\\'s a compelling and thought-provoking exploration of anthropomorphic police officers and the complexities of adolescent cops in a zoo in the titular metropolis in the film\\'s character in the story.'}]\n",
            "Processing movie: Spirited Away\n",
            "IMDb ID: tt0245429\n",
            "Number of reviews: 39810\n"
          ]
        },
        {
          "output_type": "stream",
          "name": "stderr",
          "text": [
            "Device set to use cpu\n"
          ]
        },
        {
          "output_type": "stream",
          "name": "stdout",
          "text": [
            "Contextual Summary: [{'summary_text': '\"Spirited Away\" is a multi-award-winning masterpiece that showcases Miyazaki\\'s mastery of animation, blending humor, weirdness, and touching moments. The film\\'s subtleties are unlike anything you\\'ve seen from animation giants like Pixar, but the subtlety adds depth to the story. While some may find it confusing or lacking in depth, others appreciate its eye-catching animation and touching characters. Despite its flaws, the film remains a timeless masterpiece that inspires new generations with his latest wave of masterpieces, including \"Howl\\'s Moving Castle\" and \"Michael\" as well as other works of art and originality. Regardless of its merits, it\\'s a must-watch for fans of Japanese cinema and cult classics like \"Ice Age\" and others who appreciate its enduring impact on humanity and humanity.'}]\n",
            "Processing movie: A Quiet Place\n",
            "IMDb ID: tt6644200\n",
            "Number of reviews: 10826\n"
          ]
        },
        {
          "output_type": "stream",
          "name": "stderr",
          "text": [
            "Device set to use cpu\n"
          ]
        },
        {
          "output_type": "stream",
          "name": "stdout",
          "text": [
            "Contextual Summary: [{'summary_text': '\"A Quiet Place\" navigates a post-apocalyptic world rife with blindness, utilizing minimal exposition to create a dreadful atmosphere. While Emily Blunt shines in her role, the film\\'s minimal cast and minimal chemistry elevate it. John Kasinski\\'s directorial debut is praised for its tense storytelling and originality, though some find its runtime predictable. Despite its flaws, it remains a compelling horror experience for fans of gory in your face horror, offering a unique take on the era of silence and silence. Overall, it\\'s hailed as one of the best films in recent memory, showcasing Kasinksi\\'s potential as a filmmaker and a genre of horror that stands out in its own right versus horror genre genre genre tropes and characterization. Nonetheless, others may find it lacking depth and depth in execution.'}]\n",
            "Processing movie: The Wolf of Wall Street\n",
            "IMDb ID: tt0993846\n",
            "Number of reviews: 29934\n"
          ]
        },
        {
          "output_type": "stream",
          "name": "stderr",
          "text": [
            "Device set to use cpu\n"
          ]
        },
        {
          "output_type": "stream",
          "name": "stdout",
          "text": [
            "Contextual Summary: [{'summary_text': '\"The Wolf of Wall Street\" is a maddening cinematic experience, anchored by Jonah Hill\\'s portrayal of Jordan Belfort\\'s sidekick, Donnie Azoff. Margot Robbie delivers an alluring performance as Belfor\\'s wife, Naomi, in a captivating role. Martin Scorsese\\'s all-star cast holds the viewer amidst familiar faces and subtle references to other films. While it may not appeal to all audiences, its energy and sense of humor shine through, making it a full on adrenaline ride that never loses momentum, delivering an adrenaline-fueled ride with a variety of comedic timing and a diverse cast that captures the essence of corporate swindling and the corruption of the characters. Overall, it\\'s a compelling and thought-provoking exploration of corporate greed and corporate corruption in the makings of the making of it. Despite its flaw'}]\n",
            "Processing movie: Moana\n",
            "IMDb ID: tt3521164\n",
            "Number of reviews: 26366\n"
          ]
        },
        {
          "output_type": "stream",
          "name": "stderr",
          "text": [
            "Device set to use cpu\n"
          ]
        },
        {
          "output_type": "stream",
          "name": "stdout",
          "text": [
            "Contextual Summary: [{'summary_text': '\"Moana\" offers a fresh take on polynesian culture, though it lacks the engaging characters found in other Disney movies. While Dwayne Johnson shines in the lead role, Maui\\'s tattoos and Alan Tudyk\\'s presence add depth. Despite its flaws, the film\\'s visual beauty and entertainment value make it an enjoyable watch, even if it falls short of its potential. Overall, it\\'s a mixed bag of reviews, with some praising its strong performances, but others find it empty with its lack of freshness and lack of originality. Nonetheless, it still stands as a standout in the genre, despite some criticisms of its overall quality and overall overall, its portrayal of human nature and self-discovery in the form of a memorable character in a compelling cinematic form. Ultimately, it may not be without its shortcomings, but overall, it might not.'}]\n",
            "Processing movie: Love Actually\n",
            "IMDb ID: tt0314331\n",
            "Number of reviews: 25253\n"
          ]
        },
        {
          "output_type": "stream",
          "name": "stderr",
          "text": [
            "Device set to use cpu\n"
          ]
        },
        {
          "output_type": "stream",
          "name": "stdout",
          "text": [
            "Contextual Summary: [{'summary_text': '\"Love Actually\" offers a poignant portrayal of love and the human spirit, blending tragic moments with lighthearted comedic moments. While some critics find it shallow and lacking in depth, the film\\'s touching stories and memorable soundtrack elevate it. Keira Knightley and Chiwetel Ejiofor contribute to the talented cast, making it a beloved holiday favorite. Despite its flaws, it\\'s a solid feel-good movie that celebrates love, acceptance, and friendship, despite some sentimental criticisms. Overall, \"LOVE ACTIVITY\" is a classic romantic comedy with moments of genuine emotion and humor that leave a lasting impression on viewers. Regardless of its shortcomings, \"Love Aktectivity\" remains a must-watch for those seeking a holiday spirit and a memorable holiday tradition worth watching. Whether you\\'re looking for a romantic comedy or a timeless classic that\\'s sure to resonate with viewers.'}]\n",
            "Processing movie: Riviera Revenge\n",
            "IMDb ID tidak ditemukan untuk film Riviera Revenge\n",
            "Processing movie: Finding Nemo\n",
            "IMDb ID: tt0266543\n",
            "Number of reviews: 35370\n"
          ]
        },
        {
          "output_type": "stream",
          "name": "stderr",
          "text": [
            "Device set to use cpu\n"
          ]
        },
        {
          "output_type": "stream",
          "name": "stdout",
          "text": [
            "Contextual Summary: [{'summary_text': '\"Finding Nemo\" is a visually stunning animated adventure film created by Pixar Animation Studios. While some find its story structure disjointed and lacking depth, others appreciate its vibrant characters and likable characters. Marlin, a nervous clownfish, and Ellen DeGeneres deliver memorable moments, making it an irresistible family adventure. Despite its flaws, the film\\'s exploration of the undersea world and the battle against sharks make it an instant classic, bringing out the child in all of us. Overall, it\\'s a thought-provoking and enjoyable family-friendly cinematic experience that stands out as a worthy venture for Disney and Pixarossa and a worthwhile investment for the studio\\'s commitment to creating memorable animated films, even adolescent audiences. Nonetheless, it falls short of delivering laughs and memorable moments that make it a standout in animation.'}]\n",
            "Processing movie: Avengers: Endgame\n",
            "IMDb ID: tt4154796\n",
            "Number of reviews: 12853\n"
          ]
        },
        {
          "output_type": "stream",
          "name": "stderr",
          "text": [
            "Device set to use cpu\n"
          ]
        },
        {
          "output_type": "stream",
          "name": "stdout",
          "text": [
            "Contextual Summary: [{'summary_text': '\"Avengers: Endgame\" delivers an emotional rollercoaster with some of the coolest superhero plot lines ever drawn up. While it doesn\\'t end with a movie end scene, the film\\'s flow of story and emotional thrills leave a lasting impression. Despite some loops and inconsistencies, the story\\'s success is felt even after a certain point. While some characters get a good inning, the second half delivered solid scenes, though not groundbreaking. Overall, it\\'s a mixed bag of MCU films, offering a thrilling ride with some solid moments and a memorable ending that lingers long after the credits roll. Regardless, the overall rating is a must-watch for fans of the MCU genre and the upcoming sequels like Antman and Iron Man. Nevertheless, it falls short of perfect. Nonetheless, it remains a worthy contender in its own genre films like \"Answers.\"'}]\n",
            "Processing movie: Bag of Lies\n",
            "IMDb ID: tt27597410\n",
            "Number of reviews: 6387\n"
          ]
        },
        {
          "output_type": "stream",
          "name": "stderr",
          "text": [
            "Device set to use cpu\n"
          ]
        },
        {
          "output_type": "stream",
          "name": "stdout",
          "text": [
            "Contextual Summary: [{'summary_text': '\"Bag of Lies (2024)\" received mixed reviews, with some praising its likable storyline and sympathetic portrayal of the lead\\'s wife\\'s condition but others deeming it unoriginal and cheap. While some scenes feel repetitive and lacking in originality, the movie\\'s sympathetic storytelling and believable backstory make it a solid watch. Despite its flaws, it\\'s a decent entry in the horror genre, blending suspense and thrill with chill. Overall, it falls short of its potential, though some viewers may find it entertaining and a good watch for those on the fence about watching it. Regardless, it may not be a must-watch for fans of the genre, especially those who enjoy a bit of adversity and the ghoulish atmosphere. Nonetheless, it might not break new ground in the genre altogether, offering a fresh take on a more mature and thought-provoking viewing experience.'}]\n",
            "Processing movie: Blink Twice\n",
            "IMDb ID: tt14858658\n",
            "Number of reviews: 18811\n"
          ]
        },
        {
          "output_type": "stream",
          "name": "stderr",
          "text": [
            "Device set to use cpu\n"
          ]
        },
        {
          "output_type": "stream",
          "name": "stdout",
          "text": [
            "Contextual Summary: [{'summary_text': '\"Blink Twice\" offers a mixed bag of reviews, with some praising its pacing and charismatic performances, while others criticize its repetitive scenes and foreshadowing. While some find it entertaining, others find it repetitive and lacking in real-life action. Despite its flaws, the film\\'s humor and atmosphere make it a compelling watch, reminiscent of other thrillers like \"GLASS ONION\" and \"The MeNU.\" However, its reliance on gimmicky direction and lack of substance detracts from its potential, resulting in a forgettable watch for those who appreciate its originality and suspenseful storytelling. Overall, it\\'s a disappointing watch for fans of action-thrillers and thrillers with a sense of originality, especially for those willing to invest time and energy. Regardless, it may not be a satisfying viewing experience for those seeking a different kind of entertainment.'}]\n",
            "Processing movie: The Karate Kid\n",
            "IMDb ID: tt0087538\n",
            "Number of reviews: 25847\n"
          ]
        },
        {
          "output_type": "stream",
          "name": "stderr",
          "text": [
            "Device set to use cpu\n"
          ]
        },
        {
          "output_type": "stream",
          "name": "stdout",
          "text": [
            "Contextual Summary: [{'summary_text': '\"The Karate Kid\" stands as a classic underdog tale, showcasing Ralph Macchio\\'s convincing performance as Daniel, a black belt in karate and mentored by Mr. Miyagi. Despite some uncomfortable scenes, the film\\'s portrayal of the bond between Miyaga and Daniel is heartwarming. While it may not impart profound life lessons, it\\'s a timeless classic that resonates with fans of feel-good 80\\'s movies, especially its classic rock anthems and iconic characters. Morita delivers a solid performance as the mentor and Daniel, making it a must-watch for fans of martial arts films, especially those who appreciate its timeless appeal. Overall, \"Cobra Kai\" remains a standout in the martial arts genre, resonating with audiences with its timeless themes and memorable antagonists throughout the film amidst adversity and societal norms.'}]\n",
            "Processing movie: The Christmas Chronicles: Part Two\n",
            "IMDb ID: tt11057644\n",
            "Number of reviews: 10567\n"
          ]
        },
        {
          "output_type": "stream",
          "name": "stderr",
          "text": [
            "Device set to use cpu\n"
          ]
        },
        {
          "output_type": "stream",
          "name": "stdout",
          "text": [
            "Contextual Summary: [{'summary_text': '\"The Christmas Chronicles: Part Two\" receives mixed reviews, with some praising Kurt Russell\\'s performance as Santa Claus and Malcolm McDowell\\'s voice. While some find it entertaining and entertaining, others criticize its generic storyline and sloppy CGI romp through the North Pole. Ultimately, it\\'s a forgettable entry in the holiday movie genre, with a lame bad guy and a terrible bad guy. Despite its flaws, it remains a must-watch for fans of family-friendly movies and young children alike, rating it as a solid 6/10 for its entertaining family movie genre and iconic voice. Nonetheless, others find it lacking depth and depth in its portrayal of Santa Clause 2 and 3 and the rest of the storyline, making it a missed opportunity for younger audiences to appreciate it more than adversity in storytelling and storytelling. Nevertheless, it falls short of its potential for a sequel.'}]\n",
            "Processing movie: Toy Story 3\n",
            "IMDb ID: tt0435761\n",
            "Number of reviews: 47499\n"
          ]
        },
        {
          "output_type": "stream",
          "name": "stderr",
          "text": [
            "Device set to use cpu\n"
          ]
        },
        {
          "output_type": "stream",
          "name": "stdout",
          "text": [
            "Contextual Summary: [{'summary_text': '\"Toy Story 3\" is hailed as a close second to the Toy Story trilogy, praised for its emotional depth and light-hearted humor. While some may find it overcrowded with characters, the film\\'s blend of emotion and adventure keeps viewers guessing. Pixar\\'s talent for blending emotion and humor is evident, even if it may not reach the heights of previous installments. Despite its flaws, it\\'s a compelling reminder of youth\\'s triumphs, making it a must-watch for fans of Disney\\'s artifacts and enduring legacy of the franchise\\'s success. Ultimately, it leaves a lasting impression with its blend of charm and humor, resulting in a memorable and memorable cinematic experience that resonates with audiences long after the credits roll. Whether you\\'re a fan or a loyal fan of the series, this film stands out as one of the best in the genre\\'s greatest moments.'}]\n",
            "Processing movie: Home Alone 3\n",
            "IMDb ID: tt0119303\n",
            "Number of reviews: 24439\n"
          ]
        },
        {
          "output_type": "stream",
          "name": "stderr",
          "text": [
            "Device set to use cpu\n"
          ]
        },
        {
          "output_type": "stream",
          "name": "stdout",
          "text": [
            "Contextual Summary: [{'summary_text': '\"Home Alone 3\" stars young actor Alex Linz in a standout role, despite his annoying performance. While the crooks shine, especially David Thornton, add comedy to the holiday family film. Despite its flaws, Linz\\'s portrayal adds depth to the role, making it a must-watch for fans seeking a good holiday family movie with comedy. While some find it entertaining, others criticize its lack of originality and sentimentality. Overall, it\\'s a forgettable addition to the original series, especially if you\\'re looking for a fun holiday movie with a little bit of nostalgia for the teen actor\\'s role. Ultimately, it leaves a lasting impression with its portrayal of a child\\'s disappearance and the evil adult criminals\\' scumbagger\\'s existence in the family\\'s lives. Regardless of its shortcomings, it remains a beloved classic with enduring nostalgia and nostalgia for fans of \"Home'}]\n",
            "Processing movie: The Conjuring 2\n",
            "IMDb ID: tt3065204\n",
            "Number of reviews: 31383\n"
          ]
        },
        {
          "output_type": "stream",
          "name": "stderr",
          "text": [
            "Device set to use cpu\n"
          ]
        },
        {
          "output_type": "stream",
          "name": "stdout",
          "text": [
            "Contextual Summary: [{'summary_text': '\"The Conjuring 2\" uses familiar haunting tropes to mask the terrifying reality of Janet Hodgson\\'s haunted house. While some moments drag on longer than expected, James Wan\\'s performance shines, especially in its exploration of vision, belief, and faith. Patrick Wilson delivers a standout performance, even if the film\\'s budget may have been cut. Despite its flaws, it\\'s a well-executed haunting film that explores themes of faith, vision, and vision with a blend of realism, making it a must-watch for fans of horror directors like Christopher Nolan and Patrick Wilson\\'s performances. Overall, \"Conjuring of the Evil 2\" receives mixed reviews, with some pity and others praising its portrayal of adversity and amidst the horrors of its predecessors like Christopher nolan\\'s own.'}]\n",
            "Processing movie: World War Z\n",
            "IMDb ID: tt0816711\n",
            "Number of reviews: 36045\n"
          ]
        },
        {
          "output_type": "stream",
          "name": "stderr",
          "text": [
            "Device set to use cpu\n"
          ]
        },
        {
          "output_type": "stream",
          "name": "stdout",
          "text": [
            "Contextual Summary: [{'summary_text': '\"World War Z\" stars Brad Pitt as a former UN investigator traveling around the world with his family during a zombie attack in Philadelphia. While some find it forgettable and uneven, others praise its realism and in-camera effects. Despite its flaws, it\\'s a decent zombie movie that\\'s worth watching if you\\'re looking for mindless gore and violence disguised within a fragile plot. The film\\'s supporting cast includes Peter Capaldi, Pierfrancesco Favino, and Ruth Negga, making it a memorable watch despite its unevenness and forgettable performances. Overall, \"WWZ\" is a moderately good zombie movie worth your money and time invested in zombie movies like \"Franchise,\" if not a classic zombie movie with a twist on the genre\\'s approach to a more mature zombie genre approach to storytelling and action-oriented storytelling.'}]\n",
            "Processing movie: Female Teacher: In Front of the Students\n",
            "IMDb ID: tt0226259\n",
            "Number of reviews: 4079\n"
          ]
        },
        {
          "output_type": "stream",
          "name": "stderr",
          "text": [
            "Device set to use cpu\n"
          ]
        },
        {
          "output_type": "stream",
          "name": "stdout",
          "text": [
            "Contextual Summary: [{'summary_text': '\"Female Teacher:In Front of the Students\" is a Japanese \"pink\" film set in a peculiarly Japanese secondary school, where the titular \"teacher\" doesn\\'t look young enough to be in secondary school. While the sex scenes are hot and the story takes turns of revenge, the villain\\'s presence leads to a tepid finale. Despite its short runtime, the film pushes through modern-day conventions of \"political correctness\" with its steamy and raw storyline, making it a must-watch for fans of pinku eiga and those who appreciate its thought-provoking characters and a compelling watch for those who enjoy the genre\\'s perversion and sexual fantasies. Overall, it\\'s a great entry in the Pinku Eiga genre, despite its lack of originality and pacing issues that detracts from its appeal for fans.'}]\n",
            "Processing movie: Cold Blood\n",
            "IMDb ID: tt9082020\n",
            "Number of reviews: 8178\n"
          ]
        },
        {
          "output_type": "stream",
          "name": "stderr",
          "text": [
            "Device set to use cpu\n"
          ]
        },
        {
          "output_type": "stream",
          "name": "stdout",
          "text": [
            "Contextual Summary: [{'summary_text': '\"COLD BLOOD\" receives mixed reviews, with some praising Jean Reno\\'s performance but others deeming it mediocre and lacking in depth. While some find it suspenseful and well-told, others criticize its lack of characterization and lack of action. Reno is praised for his performance but the film\\'s screenplay is ordinary and lacks new elements. Overall, it\\'s a decent thriller worth a watch if you\\'re a fan of the genre but may not recommend it for those who appreciate its overall rating of 3/10 = ABANDON, indicating a lack of originality in storytelling and plot points may detracting from its overall impact on viewers. Despite its flaws, it still stands as a promising entry in the genre, even if it falls short of its potential adversity in plot depth and plot depth, making it a forgettable watch for those with apprehension'}]\n",
            "Processing movie: Joni pata de conejo\n",
            "IMDb ID: tt34136720\n",
            "Number of reviews: 0\n"
          ]
        },
        {
          "output_type": "stream",
          "name": "stderr",
          "text": [
            "Device set to use cpu\n",
            "Your max_length is set to 300, but your input_length is only 3. Since this is a summarization task, where outputs shorter than the input are typically wanted, you might consider decreasing max_length manually, e.g. summarizer('...', max_length=1)\n"
          ]
        },
        {
          "output_type": "stream",
          "name": "stdout",
          "text": [
            "Contextual Summary: [{'summary_text': '. - (IT) - 0 - 1 - 2 - 3 - 4 - 5 - 6 - 7 - 8 - 9 - 10 - 11 - 12 - 13 - 14 - 15 - 16 - 18 - 19 - 20 - 21 - 23 - 24 - 25 - 26 - 28 - 30 - 40 - 50 - 60 - 70 - 80 - 90 - 100 - 150 - 140 - 120 - 130 -140 - 45 - 34 - 35 - 44 -35 - 38 -34 - 41 - 39 - 42 - 43 - 64 - 36 - 33 - 31 - 32 - 46 - 49 - 54 --41 -46 -49 -48 -44 -'}]\n",
            "Processing movie: Trouble\n",
            "IMDb ID: tt30217143\n",
            "Number of reviews: 15161\n"
          ]
        },
        {
          "output_type": "stream",
          "name": "stderr",
          "text": [
            "Device set to use cpu\n"
          ]
        },
        {
          "output_type": "stream",
          "name": "stdout",
          "text": [
            "Contextual Summary: [{'summary_text': '\"Strul or trouble\" is a cozy crime thriller/comedy that keeps viewers on the edge of their seats with its exciting plot twists and action sequences. While it may lack depth in its plot, it manages to cover them up with humor and storytelling. Eva MELANDER\\'s performance in \"BORDER\" shines, but the film\\'s pace and inconsistencies make it a forgettable watch. Despite its flaws, it remains a masterpiece in Swedish comedies, showcasing Skifs\\'s comedic talent and cinematic prowess, leaving audiences with a mixed bag of laughs and a lack of value in this waste of time and creativity. Ultimately, it\\'s a must-watch for fans of crime thrillers and family comedy genres like \"STRUL\" and \"Trouble\" for those who appreciate its fast-paced humor and originality.'}]\n",
            "Processing movie: Under Paris\n",
            "IMDb ID: tt13964390\n",
            "Number of reviews: 16567\n"
          ]
        },
        {
          "output_type": "stream",
          "name": "stderr",
          "text": [
            "Device set to use cpu\n"
          ]
        },
        {
          "output_type": "stream",
          "name": "stdout",
          "text": [
            "Contextual Summary: [{'summary_text': '\"Under Paris\" offers a mix of eco-horror and sci-fi thriller, with over-the-top shark shenanigans and dramatic heft. While some find it entertaining, others criticize its clichés and lack of attachment to the characters. Despite its flaws, the performances, particularly by Berenice Bejo and Nassime Lyes, make it a must-watch for those with a spare time and a Netflix account. Overall, it\\'s a good watch for fans of the genre, especially if you\\'re looking for some action-packed thrills and action-filled sequences. However, others find it lacking depth and depth, resulting in a forgettable watch for those willing to invest in the material, especially in the form of \"The Asylum\" production. Regardless, it may not be a classic shark slasher, but it may leave a lasting impression.'}]\n",
            "Processing movie: Reunion Goals: The Beginning\n",
            "IMDb ID tidak ditemukan untuk film Reunion Goals: The Beginning\n",
            "Processing movie: Dakaichi: I'm Being Harassed by the Sexiest Man of the Year—The Movie: In Spain\n",
            "IMDb ID tidak ditemukan untuk film Dakaichi: I'm Being Harassed by the Sexiest Man of the Year—The Movie: In Spain\n",
            "Processing movie: The Notebook\n",
            "IMDb ID: tt0332280\n",
            "Number of reviews: 22123\n"
          ]
        },
        {
          "output_type": "stream",
          "name": "stderr",
          "text": [
            "Device set to use cpu\n"
          ]
        },
        {
          "output_type": "stream",
          "name": "stdout",
          "text": [
            "Contextual Summary: [{'summary_text': '\"Con Air\" offers a touching portrayal of love, led by Ryan Gosling, as Noah Calhoun meets heiress Allie Hamilton. While some may not cry at the end, the chemistry between the two charismatic personalities shines. Despite some predictable plot elements, the movie\\'s focus on young love resonates, making it a must-watch for fans of the romantic genre. While not without flaws, it\\'s a poignant and touching movie that captures the essence of love and friendship, even if it falls short of delivering a satisfying viewing experience. Overall, \"ConAir\" stands out for its charismatic characters and charismatic performances, despite some criticisms of Nicholas Sparks\\'s writing style and plot lines aplenty of characters and adversity and likable characters. Regardless of genre, it remains a romantic and touching viewing experience that resonates with cinephiles and lovers alike.'}]\n",
            "Processing movie: Terminator 2: Judgment Day\n",
            "IMDb ID: tt0103064\n",
            "Number of reviews: 45463\n"
          ]
        },
        {
          "output_type": "stream",
          "name": "stderr",
          "text": [
            "Device set to use cpu\n"
          ]
        },
        {
          "output_type": "stream",
          "name": "stdout",
          "text": [
            "Contextual Summary: [{'summary_text': '\"Termiantor II: Judgement Day\" offers a fresh take on the action genre, featuring Sarah Connor as a rebellious pre-teen who must evade a new Terminator sent to kill him. Linda Hamilton shines in her role, portraying both the sympathetic mother and future hero. While the pacing may feel uneven, the film\\'s vulnerability and Arnold Schwarzenegger\\'s presence add depth. Overall, it\\'s a must-see for fans of sci-fi action movies, offering a unique take on Connor\\'s journey through the apocalypse and the complexities of a human being in the face of an adolescent amidst a looming a terrifying ringing Terminator 2\\'s fate and a dangerous ringed with a deadly king king\\'s destiny shines through, making it a standout in the action realm.'}]\n",
            "Processing movie: Maze Runner: The Death Cure\n",
            "IMDb ID: tt4500922\n",
            "Number of reviews: 18238\n"
          ]
        },
        {
          "output_type": "stream",
          "name": "stderr",
          "text": [
            "Device set to use cpu\n"
          ]
        },
        {
          "output_type": "stream",
          "name": "stdout",
          "text": [
            "Contextual Summary: [{'summary_text': '\"The Death Cure\" receives mixed reviews, with some praising Dylan O\\'Brien\\'s performance and the film\\'s balance of heart and humor. While some find it entertaining and entertaining for fans of the series, others criticize its lack of originality and lack of attachment to the audience. O\\' Brien shines in his role, despite some cliches and a lackluster second act. Despite its flaws, it\\'s a satisfying watch, even if it falls short of delivering on the promise of The Maze Runner Saga, making it a worthwhile watch for fans and fans of YA adaptations alike. Overall, the film is a mixed bag of action movies with a few moments of brilliance but not enough to keep audiences interested in the series. Regardless, it may not be a must-watch for fans who appreciate a bit of depth and depth in storytelling.'}]\n",
            "Processing movie: Sing 2\n",
            "IMDb ID: tt6467266\n",
            "Number of reviews: 17170\n"
          ]
        },
        {
          "output_type": "stream",
          "name": "stderr",
          "text": [
            "Device set to use cpu\n"
          ]
        },
        {
          "output_type": "stream",
          "name": "stdout",
          "text": [
            "Contextual Summary: [{'summary_text': '\"Sing 2\" offers a fresh take on the Sing franchise, with richer character development and writing compared to the original. While Bobby Cannavale\\'s performance stands out, the film\\'s simplicity and lack of pointless characters make it an endearing musical experience. Bono\\'s debut as Buster Moon is a standout, delivering memorable performances as he navigates adversity. Despite its flaws, the movie\\'s visuals and original songs make it a must-watch for adults and for fans of U2 fans alike. Overall, it\\'s an incredible surprise to see a sequel and a fun and memorable experience worth watching for all viewers. \"Out of this world\" concludes the year with laughter and laughter, resonating with fans of the original characters and the classic songs to come. Regardless, it may not be a perfect end to the series, but it may leave a lasting impression on audiences.'}]\n",
            "Processing movie: Pirates of the Caribbean: At World's End\n",
            "IMDb ID: tt0449088\n",
            "Number of reviews: 37319\n"
          ]
        },
        {
          "output_type": "stream",
          "name": "stderr",
          "text": [
            "Device set to use cpu\n"
          ]
        },
        {
          "output_type": "stream",
          "name": "stdout",
          "text": [
            "Contextual Summary: [{'summary_text': '\"At World\\'s End\" receives mixed reviews, with praise for Keira Knightly and Stellan Skarsgrd\\'s portrayal of Bill Turner but criticism for its bloated length and lack of depth. While the special effects are impressive, the film\\'s convoluted plot and overly chatty sequences detract from its potential. Despite its flaws, it offers a visually stunning and emotionally resonant experience, especially for fans of summer spectacles like \"Dead Man\\'s Chest.\" Overall, it\\'s a great entry in the Pirates trilogy, though some find it lacking depth and emotional depth amidst its lack of resolution. Nonetheless, it still manages to deliver a satisfying summer spectacle, despite its shortcomings in storytelling and characters and a lack of emotional depth for some. Nevertheless, it may not be perfect, but it may provide a memorable viewing experience for those who appreciate the spectacle it provides.'}]\n",
            "Processing movie: Fifty Shades Freed\n",
            "IMDb ID: tt4477536\n",
            "Number of reviews: 15044\n"
          ]
        },
        {
          "output_type": "stream",
          "name": "stderr",
          "text": [
            "Device set to use cpu\n"
          ]
        },
        {
          "output_type": "stream",
          "name": "stdout",
          "text": [
            "Contextual Summary: [{'summary_text': '\"Farewell Fifty Shades of Nothing\" offers a mixed bag of reviews, with some praising its sexy romantic fantasy elements but others deeming it a waste of time and money. While some find it entertaining for fans of the books, others see it as fake and meaningless, with a lackluster plot and cheesy dialogue. The film\\'s portrayal of Christian Grey and Anastacia Steel\\'s relationship is disappointing, especially compared to the previous installments. Overall, it\\'s a shameful attempt to deceive viewers with its lackluster portrayal and lackluster performances. Despite its flaws, it remains a must-watch for die-hard fans who appreciate its attempt to love a difficult man in a romantic fantasy genre, even if it doesn\\'t stand out in the genre\\'s overall rating and a forgettable viewing experience for those willing to watch.'}]\n",
            "Processing movie: Grown Ups\n",
            "IMDb ID: tt1375670\n",
            "Number of reviews: 12181\n"
          ]
        },
        {
          "output_type": "stream",
          "name": "stderr",
          "text": [
            "Device set to use cpu\n"
          ]
        },
        {
          "output_type": "stream",
          "name": "stdout",
          "text": [
            "Contextual Summary: [{'summary_text': '\"Grown Ups\" is a comedy about former school basketball players who return to their home town for the funeral of someone close to them. While the entire cast, including Rob Schneider and Madison Riley, perform well, the plot lacks depth and the characters don\\'t mesh well. Despite mixed reviews, it\\'s a good watch, especially for those with low expectations. However, some find it lame and lacking in originality, making it a forgettable watch for those seeking laughs and a break from the grind of watching a newcomer\\'s film. Overall, it may not be the best comedy of all time, but overall, it falls short of the best comedic endeavors of recent years. Regardless, it remains a disappointing watch for fans of SNL-style comedies like \"Men in Black 3\" and others who find it lacking the laughs it seeks to make it into a cult classic fans.'}]\n",
            "Processing movie: Tangled\n",
            "IMDb ID: tt0398286\n",
            "Number of reviews: 34661\n"
          ]
        },
        {
          "output_type": "stream",
          "name": "stderr",
          "text": [
            "Device set to use cpu\n"
          ]
        },
        {
          "output_type": "stream",
          "name": "stdout",
          "text": [
            "Contextual Summary: [{'summary_text': '\"Tangled\" is hailed as the best Disney Animated feature, surpassing \"Aladdin\" and \"Snow White\" for its magical visuals and heartfelt message. While some may find it lacking in CGI animation, the iconic scene of the kingdom\\'s rebirth is magical. Flynn Ryder\\'s portrayal of the titular character adds depth to the story, making it a must-see for all Disney fans. With jaw-dropping graphics and a heart-filled adventure, it stands as a testament to Disney\\'s modernization without sacrificing originality. Overall, it\\'s an entertaining and thought-provoking entry in the magical world of fairy tales, showcasing the company\\'s commitment to awe inspiring storytelling. Despite its flaws, it remains a standout in the animated genre, resonating with fans of the genre and fans of Disney fans alike.'}]\n",
            "Processing movie: Talk to Me\n",
            "IMDb ID: tt10638522\n",
            "Number of reviews: 16881\n"
          ]
        },
        {
          "output_type": "stream",
          "name": "stderr",
          "text": [
            "Device set to use cpu\n"
          ]
        },
        {
          "output_type": "stream",
          "name": "stdout",
          "text": [
            "Contextual Summary: [{'summary_text': '\"Sophie Wilde\" is praised for her impressive performance but criticized for its conjuring sequels. Despite its basic plot, the film\\'s cinematography, direction, and originality make it a standout in Australian horror. While some find it graphic and lacking in depth, others praise its originality and memorable moments. The performances, particularly Sophie Wilde\\'s, elevate it above similar horrors like \"It Follows.\" Overall, it\\'s a solid entry in the genre, offering a unique take on paranormal forces and a dark and foreboding story. While not without flaws, it still stands out as one of the best horror films in 2023, despite its low-budget origins and lack of originality atop the genre\\'s trending horror genres such as \"Paranormal Activity\" cult classics like this one-liners that make it an unforgettable experience.'}]\n",
            "Processing movie: The Good, the Bad and the Ugly\n",
            "IMDb ID: tt0060196\n",
            "Number of reviews: 33976\n"
          ]
        },
        {
          "output_type": "stream",
          "name": "stderr",
          "text": [
            "Device set to use cpu\n"
          ]
        },
        {
          "output_type": "stream",
          "name": "stdout",
          "text": [
            "Contextual Summary: [{'summary_text': '\"GBU\" by Sergio Leone is a masterful Western film that transcends typical Western clichés with its masterful storytelling. Leone\\'s portrayal of the villain is sharply developed and poignant, transcending traditional morality. The film\\'s irreverent scene in which Tuco meets his brother, a sincere Priest, twists platitudes upside down. While some find its stylization and dubbing atrocious, others praise its exceptional performances and unforgettable score, making it a must-watch for fans of classic Westerns and cult classics, especially Clint Eastwood\\'s directorial output. \"For a Few Dollars More\" remains a standout in the genre\\'s history, even if it\\'s still a timeless classic in its own right. Despite its flaws, it still stands as a testament to its timeless charm and timeless charm, resonating with audiences in its enduring appeal.'}]\n",
            "Processing movie: No Way Up\n",
            "IMDb ID: tt16253418\n",
            "Number of reviews: 17256\n"
          ]
        },
        {
          "output_type": "stream",
          "name": "stderr",
          "text": [
            "Device set to use cpu\n"
          ]
        },
        {
          "output_type": "stream",
          "name": "stdout",
          "text": [
            "Contextual Summary: [{'summary_text': '\"The shark swimming down the aisle of an airplane\" receives mixed reviews, with some finding it unrealistic and others deeming it boring and uninspired. Despite some impressive action sequences and a good storyline, the film\\'s unrealistic climax and lack of suspense make it a waste of time and money. While it may appeal to fans of low-budget movies, others may find it cheesy and casual viewing. Ultimately, it\\'s a forgettable addition to the shark genre, despite its flaws and lackluster characters. Overall, the movie falls short of its potential, leaving viewers disappointed with its lackluster acting and lacklustre storytelling. Regardless, it may be a worthwhile watch for those seeking a thrill in a shark survival movie with a high-end feel-good movie with an unrealistic narrative and mediocre cinematic experience with little to no real value for money.'}]\n",
            "Processing movie: Dungeons & Dragons: Honor Among Thieves\n",
            "IMDb ID: tt2906216\n",
            "Number of reviews: 21480\n"
          ]
        },
        {
          "output_type": "stream",
          "name": "stderr",
          "text": [
            "Device set to use cpu\n"
          ]
        },
        {
          "output_type": "stream",
          "name": "stdout",
          "text": [
            "Contextual Summary: [{'summary_text': '\"Forge\" presents a mixed bag of laughs and disappointment, criticized for its predictable story beats and lack of character development. While some find it entertaining, others criticize its lack of originality and predictable narrative structure. Hugh Grant shines in a smarmy villainous role, while Paul Bazely shines as a magician. Despite its flaws, the film offers plenty of creative imagination and practical effects, making it a great Friday night movie for fans of fantasy videogames. However, it falls short of its potential, leaving audiences feeling underwhelmed with its predictable plot and predictable storybeats, though it\\'s a worthwhile watch if you\\'re looking for a more original and enjoyable addition to your gaming experience. Regardless, it may not be a missed opportunity for the film\\'s appeal. Nonetheless, it\\'ll leave a lasting impression with its satire and memorable performances.'}]\n",
            "Processing movie: The Snow Sister\n",
            "IMDb ID: tt11092178\n",
            "Number of reviews: 11946\n"
          ]
        },
        {
          "output_type": "stream",
          "name": "stderr",
          "text": [
            "Device set to use cpu\n"
          ]
        },
        {
          "output_type": "stream",
          "name": "stdout",
          "text": [
            "Contextual Summary: [{'summary_text': '\"Snssteren\" is a heartwarming holiday movie that captures the beauty of Norway\\'s fjords with sparkling Christmas snow icing. While some find it moody and sad, others appreciate its uplifting message and uplifting themes. The film\\'s dialogue feels like it was written by a troll bot, resulting in a forgettable experience. Despite its flaws, the film offers a warm and comforting contrast between loss and loneliness, resonating with the joy and inspiration in each other during this merry season, making it a worthwhile watch for those who appreciate the effort it takes to reach their full potential amidst the darkness of their darkest times. Ultimately, it\\'s an uplifting and heartfelt portrayal of love and hope in the face of adversity, despite its shortcomings and ultimately a sad storyline that falls short of its potential.'}]\n",
            "Processing movie: Ferry 2\n",
            "IMDb ID: tt30021427\n",
            "Number of reviews: 11188\n"
          ]
        },
        {
          "output_type": "stream",
          "name": "stderr",
          "text": [
            "Device set to use cpu\n"
          ]
        },
        {
          "output_type": "stream",
          "name": "stdout",
          "text": [
            "Contextual Summary: [{'summary_text': '\"Ferry 2\" receives mixed reviews, with praise for Jonas Smulders and Frank Lammers\\' portrayal of Ferry Bouman but criticism for its tattered plot and lack of depth. Despite solid performances, especially from Aiko Beemsterboer, the movie struggles to find its footing despite its flaws. Lammers brings his A-game to the role, portraying Ferry as a broken, sardonic has-been who fights for something lost in advance. Overall, it\\'s a dark and depressing crime movie with melodramatic moments and a lackluster cast. However, overall, it falls short of its potential, leaving viewers wanting more from this installment in the crime saga, resulting in a forgettable and ultimately forgettable viewing experience. Ultimately, it may not be a worthy contender in the genre, but it may be worth watching.'}]\n",
            "Processing movie: Deadpool\n",
            "IMDb ID: tt1431045\n",
            "Number of reviews: 29406\n"
          ]
        },
        {
          "output_type": "stream",
          "name": "stderr",
          "text": [
            "Device set to use cpu\n"
          ]
        },
        {
          "output_type": "stream",
          "name": "stdout",
          "text": [
            "Contextual Summary: [{'summary_text': '\"Deadpool\" receives mixed reviews, with some praising Ryan Reynolds\\' comedic prowess as the titular character. While some find it hysterical and lacking depth, others appreciate its mature subject matter. Despite its unconventional nature, the film\\'s comedic flair shines through, making it a future action movie classic. While it may not appeal to all audiences, its adult humor and nudity scenes make it an enjoyable watch, even if it falls short of its potential. Overall, it\\'s a pleasant surprise for fans of comic book movies, despite its flaws and lackluster cinematic style. Nevertheless, it remains a must-watch for fans and a classic in the comic book genre, showcasing the power of comedy in action movies and the enduring appeal of its characters. Regardless of its shortcomings, \"DEADPOULT\" stands as a standout in the genre\\'s genre.'}]\n",
            "Processing movie: Officer Black Belt\n",
            "IMDb ID: tt28494829\n",
            "Number of reviews: 18464\n"
          ]
        },
        {
          "output_type": "stream",
          "name": "stderr",
          "text": [
            "Device set to use cpu\n"
          ]
        },
        {
          "output_type": "stream",
          "name": "stdout",
          "text": [
            "Contextual Summary: [{'summary_text': '\"Officer Black Belt\" showcases Jason Kim\\'s martial arts prowess, offering a thrilling and visceral experience. While some fight scenes may feel inelegant, the film balances strong themes of community, society, and justice. Despite some swearing, the English voice cast delivers a solid performance, making it a must-watch for fans of the genre. While it may not break new ground, its focus on combating rape and the darker side of Korean culture shines through. Overall, it\\'s a fun, sometimes brutal, action masala that should entertain martial arts fans, despite some moments that may not delve deeper into darker themes. Nevertheless, it remains a standout in the martial arts genre in South Korea, showcasing Kim Woo-bin\\'s talent and the film\\'s ability to combat crime and crime-related crimes in a timely and thought-provoking watch.'}]\n",
            "Processing movie: Mantra Warrior: The Legend of The Eight Moons\n",
            "IMDb ID: tt28959712\n",
            "Number of reviews: 2924\n"
          ]
        },
        {
          "output_type": "stream",
          "name": "stderr",
          "text": [
            "Device set to use cpu\n"
          ]
        },
        {
          "output_type": "stream",
          "name": "stdout",
          "text": [
            "Contextual Summary: [{'summary_text': '\"Mantra Warrior: The Legend of the Eight Moons\" is a Thai adaptation of Ramakien, featuring CGI animation and animesque character designs. While the pacing and characterisation may not resonate with all viewers, the movie offers a decent but flawed experience. The sci-fi setting lends a lot to Thay cultural motifs and Hindu mythology, so if you\\'re into a fictional world with Southeast Asian cultures, you\\'ll enjoy it. Although it may not be perfect, the visual design and sound design are great, making it a must-watch for fans of 90\\'s japan anime fights cene and mind blowing fantasy vibes. Overall, it\\'s an enjoyable and enjoyable watch for those who appreciate the Thai animation and its unique take on the Ramayana in a different way. Despite its flaws, it remains a worthwhile viewing experience for cinephiles and fans of Thai cinema.'}]\n",
            "Processing movie: Love in 39 Degrees\n",
            "IMDb ID tidak ditemukan untuk film Love in 39 Degrees\n",
            "Processing movie: Transformers: Age of Extinction\n",
            "IMDb ID: tt2109248\n",
            "Number of reviews: 31438\n"
          ]
        },
        {
          "output_type": "stream",
          "name": "stderr",
          "text": [
            "Device set to use cpu\n"
          ]
        },
        {
          "output_type": "stream",
          "name": "stdout",
          "text": [
            "Contextual Summary: [{'summary_text': '\"Age of Extinction\" receives mixed reviews, with some praising its action sequences and strong performances, while others criticize its slow pace and lame dialogue. While some find it entertaining and enjoyable, others appreciate its clean visual style and uncluttered plot. Director Michael Bay\\'s approach to character development may not resonate with all viewers, but overall, it\\'s a great Transformers movie, especially if you\\'re a fan of Transformers. Despite its flaws, the film offers entertaining action scenes and interesting characters, though some viewers may find it exhausting at times. Overall, overall, the movie is a good action movie with a positive outlook on the future of the Transformers and the overall impact on the overall audience. Nonetheless, it may not reach its full potential, but it may resonate with some viewers as a whole lot of fans of transformers fans and fans of action movies with varying degrees of fandom.'}]\n",
            "Processing movie: xXx: Return of Xander Cage\n",
            "IMDb ID: tt1293847\n",
            "Number of reviews: 20656\n"
          ]
        },
        {
          "output_type": "stream",
          "name": "stderr",
          "text": [
            "Device set to use cpu\n"
          ]
        },
        {
          "output_type": "stream",
          "name": "stdout",
          "text": [
            "Contextual Summary: [{'summary_text': '\"xXx: Return of Xander Cage\" disappoints with its standard action sequences and lackluster characterization. While Deepika Padukone shines in her role, Samuel L. Jackson\\'s cameo adds to the tense atmosphere. The film\\'s cheesy show off time and lack of sophistication detract from its overall experience. Despite its flaws, it\\'s seen as a forgettable attempt at kung-fu action and fails to deliver on its promise of excellence, leaving viewers disappointed with its lackluster acting and a lackluster cast. Overall, the movie\\'s lackluster performances and mediocre performances make it a disappointing watch for fans of action-packed action movies like \"Da hood\" and \"Rory McCann\" as well as the overall experience, making it an enjoyable watch for those willing to invest in a good movie with a positive impact on viewers.'}]\n",
            "Processing movie: Last Night at Terrace Lanes\n",
            "IMDb ID: tt22750788\n",
            "Number of reviews: 10774\n"
          ]
        },
        {
          "output_type": "stream",
          "name": "stderr",
          "text": [
            "Device set to use cpu\n"
          ]
        },
        {
          "output_type": "stream",
          "name": "stdout",
          "text": [
            "Contextual Summary: [{'summary_text': '\"Last Night at Terrace Lanes\" fails to deliver on its promise of horror comedies, failing to engage or build suspense. Despite attempts to blend mystery and psychological drama, the film\\'s slow pacing and lackluster execution detract from its potential. While Francesca Capaldi is cute, the character\\'s lack of depth and lack of character development hinder its impact. Ultimately, it\\'s a disappointing watch, leaving viewers with more questions than answers about its origins and storyline. Overall, the movie\\'s attempt to blend psychological drama and psychological thriller genres fails to engage audiences effectively, leaving audiences disconnected and ultimately disinterested in its attempts to connect with its characters\\' potential amidst the overall impact it may have had a positive impact on the overall experience. Regardless of whether or not, it remains a worthwhile watch for fans of low-budget horror films with a lasting impact on audiences.'}]\n",
            "Processing movie: Corpse Bride\n",
            "IMDb ID: tt0121164\n",
            "Number of reviews: 25350\n"
          ]
        },
        {
          "output_type": "stream",
          "name": "stderr",
          "text": [
            "Device set to use cpu\n"
          ]
        },
        {
          "output_type": "stream",
          "name": "stdout",
          "text": [
            "Contextual Summary: [{'summary_text': '\"Corpse Bride\" is a new Tim Burton stop-motion animated masterpiece, featuring Johnny Depp and Helena Bonham Carter as the titular characters. While some find it enjoyable, others criticize its forgettable characters and lack of originality. Burton\\'s direction and Danny Elfman\\'s score add depth to the film\\'s dark atmosphere, making it a must-watch for fans of \\'Nightmare Before Christmas\\' and other Burton masterpieces. Overall, it\\'s a worthwhile watch, especially if you\\'re a fan of horror films with skeletons and maggots. Depp\\'s voice performances add depth, despite some criticize the movie\\'s lackluster animation and lackluster character development. Despite its flaws, it remains a standout in the genre\\'s horror genre and its blend of horror and horror genre genres. Regardless, it still stands out in Tim Burton fans and fans alike.'}]\n",
            "Processing movie: Black Adam\n",
            "IMDb ID: tt6443346\n",
            "Number of reviews: 31156\n"
          ]
        },
        {
          "output_type": "stream",
          "name": "stderr",
          "text": [
            "Device set to use cpu\n"
          ]
        },
        {
          "output_type": "stream",
          "name": "stdout",
          "text": [
            "Contextual Summary: [{'summary_text': '\"Black Adam\" presents a mixed bag of superhero elements, with some finding it overplayed and obnoxious, while others appreciate its exploration of morality and deeper meaning. Dwayne Johnson delivers a standout performance, but the film\\'s generic third act and unrealism detract from its potential. Despite its flaws, it\\'s a visually stunning and entertaining superhero movie, blending action violence with deep moral explorations. While it may not be a comedy, it offers moments of fun and enjoyable fights, though some criticize its lack of depth and lack of originality. Overall, the movie\\'s lack of a cohesiveness may deter some, but overall, it remains a must-watch for fans of the superhero genre and its enduring appeal to fans of comics alike. Regardless, it still stands as a compelling and thought-provoking cinematic experience with adversity and likable heroism.'}]\n",
            "Processing movie: Homestead\n",
            "IMDb ID: tt11766766\n",
            "Number of reviews: 14877\n"
          ]
        },
        {
          "output_type": "stream",
          "name": "stderr",
          "text": [
            "Device set to use cpu\n"
          ]
        },
        {
          "output_type": "stream",
          "name": "stdout",
          "text": [
            "Contextual Summary: [{'summary_text': '\"Little House on the Prairie\" offers a unique take on the Western genre, blending intense action with emotional depth. While some find it entertaining, others criticize its lack of originality and generic storytelling. Betsy Sligh shines as a feisty adolescent with a professed itch for dangerous adventure. Director Ehrland Hollingsworth\\'s attempt to improve on the genre falls short, resulting in a bland and generic experience. Despite its flaws, the film masterfully blends intense action and emotional depth, making it a must-see for fans of action-packed Westerns and stories of survival against all odds. Overall, it\\'s a compelling and thought-provoking exploration of morality and sacrifice in the face of a genre that resonates with audiences beyond its generic narrative. \"Homestead\" stands out in the genre\\'s overall impact.'}]\n",
            "Processing movie: Ted 2\n",
            "IMDb ID: tt2637276\n",
            "Number of reviews: 30334\n"
          ]
        },
        {
          "output_type": "stream",
          "name": "stderr",
          "text": [
            "Device set to use cpu\n"
          ]
        },
        {
          "output_type": "stream",
          "name": "stdout",
          "text": [
            "Contextual Summary: [{'summary_text': '\"Ted 2\" offers a mix of comedy and social commentary, with Seth MacFarlane delivering outrageous laughs with his talkative teddy bear. While it may not deliver the same surprise as the first one, Mark Wahlberg\\'s performance and Sam L. Jackson\\'s cameos add depth. Despite some flaws, the film\\'s reliance on pop culture references and references to celebrities makes it an enjoyable watch, even if it falls short of delivering the raunchy humor expected from a summer blockbuster like Macfarlane\\'s comedy. Overall, it\\'s an enjoyable and enjoyable watch with a mixed bag of laughs and a few moments of humor that make it a worthwhile watch for fans of comedy-comedy-thony and tenseness. Regardless of its shortcomings, it still stands as a standout in the comedy genre, especially when it comes to comedy.'}]\n",
            "Processing movie: Dreamin' Wild\n",
            "IMDb ID: tt10245106\n",
            "Number of reviews: 11314\n"
          ]
        },
        {
          "output_type": "stream",
          "name": "stderr",
          "text": [
            "Device set to use cpu\n"
          ]
        },
        {
          "output_type": "stream",
          "name": "stdout",
          "text": [
            "Contextual Summary: [{'summary_text': '\"Dreamin\\' Wild\" tells the true story of musical duo Donnie and Joe Emerson, whose music was hailed as a lost masterpiece after decades of obscurity. Zooey Deschanel shines, but Casey Affleck\\'s portrayal of their brooding dreams resonates deeply. The film\\'s wistful melancholy and profound love of music resonate deeply, reminiscent of the album \"Dreamin\\' Wild.\" Despite its slow pace, the film encourages perseverance and caring for family and self-discovery, making it a memorable and heartfelt watch for fans of small-town-life cinema and the enduring legacy of the era\\'s music. Ultimately, it\\'s an artful and lovingly wrought tale of a shattered dream and a lifetime of resonating with audiences and fans of music.'}]\n",
            "Processing movie: The Devil's Bath\n",
            "IMDb ID: tt29141112\n",
            "Number of reviews: 21529\n"
          ]
        },
        {
          "output_type": "stream",
          "name": "stderr",
          "text": [
            "Device set to use cpu\n"
          ]
        },
        {
          "output_type": "stream",
          "name": "stdout",
          "text": [
            "Contextual Summary: [{'summary_text': '\"Suicide by proxy\" offers a psychologically intense period piece that defies conventional horror tropes. While it may not be a bonafide horror, it\\'s a compelling historical exploration of depression and superstition. Anja Plaschg delivers a standout performance, portraying Agnes as she prepares for her wedding. The film\\'s slow pacing can leave viewers yawning, but its focus on minute details of how people lived back then is well-shot. Despite its flaws, \"Des Teufels Bad\" remains a must-watch for horror enthusiasts, offering a unique perspective on mental health issues and mental health in the 21st century perspective. Overall, the film is a thought-provoking and compelling cinematic experience that resonates long after the credits roll. Regardless of whether or not a horror fanatic or a fan of adversity, its impact on audiences is undeniably chilling.'}]\n",
            "Processing movie: Wicked Minds\n",
            "IMDb ID: tt0338556\n",
            "Number of reviews: 7232\n"
          ]
        },
        {
          "output_type": "stream",
          "name": "stderr",
          "text": [
            "Device set to use cpu\n"
          ]
        },
        {
          "output_type": "stream",
          "name": "stdout",
          "text": [
            "Contextual Summary: [{'summary_text': '\"The All American Guy\" offers a suspenseful thriller with too many plot twists, particularly in its portrayal of Holden Price, a recent Harvard graduate who returns home to visit his multi-millionaire father, Mason Price. While Holden and Lana (Angie Everhart) quickly bond, the relationship escalates into a murderous puzzle with potential suspects. Winston Rekert\\'s portrayal adds depth to the role, but the movie\\'s reliance on predictable tropes and lackluster acting make it a disappointing watch, especially for those who appreciate its mystery and crime film genre. Overall, it\\'s an enjoyable watch with a few minor gripping moments and angie Everhart\\'s performance a standout in \"The Secret Pact\" and \"The Assassination\" a must-watch for anyone interested in crime and crime genre. Despite its flaws, overall, the overall rating is a decent watch with some critics who find it lacking substance.'}]\n",
            "Processing movie: Shrek the Third\n",
            "IMDb ID: tt0413267\n",
            "Number of reviews: 25043\n"
          ]
        },
        {
          "output_type": "stream",
          "name": "stderr",
          "text": [
            "Device set to use cpu\n"
          ]
        },
        {
          "output_type": "stream",
          "name": "stdout",
          "text": [
            "Contextual Summary: [{'summary_text': '\"Shrek 2\" receives mixed reviews, with some praising its strong performances and Fiona\\'s relaxed personality. While some find it amusing compared to its predecessors, others praise its polished animation and Antonio Banderas\\'s performance. Despite criticisms of crudeness, the film\\'s attempt to humanize animated characters shines, even if it lacks the likability found in the first installment. Overall, it\\'s a mixed bag, with few outright belly-laughs and a lackluster sequels, especially for fans of fairytale princesses and Justin Timberlake\\'s portrayal of Shrek and his roaring ogre-like charm. However, others find it lacking in originality, despite its potential for a sequel in the near future, making it a forgettable entry in the franchise\\'s storyline and characters\\'s overall impact on viewers\\' perceptions.'}]\n",
            "Processing movie: The Idea of You\n",
            "IMDb ID: tt9466114\n",
            "Number of reviews: 21792\n"
          ]
        },
        {
          "output_type": "stream",
          "name": "stderr",
          "text": [
            "Device set to use cpu\n"
          ]
        },
        {
          "output_type": "stream",
          "name": "stdout",
          "text": [
            "Contextual Summary: [{'summary_text': '\"August Moon\" presents a sweet and emotional exploration of the relationship between Hayes Campbell and Solene Nicholas, portrayed by Anne Hathaway. While some find it enjoyable and emotional, others feel it\\'s overly complicated. Despite its flaws, the film\\'s chemistry between the two leads shines, especially between the couple\\'s teenage daughter and the lead singer of a popular boy band. However, it falls short of delivering the chemistry expected from a romance film, leaving viewers questioning whether the age gap was real. Overall, \"Althaway and Nicholas\" offers a nuanced portrayal of relationships and the power of social media. Ultimately, it\\'ll be a worthwhile viewing experience for those willing to embrace the societal norms amidst the era of millennials and the aging era in the 21st-century eras of males and females.'}]\n",
            "Processing movie: Twilight\n",
            "IMDb ID: tt1099212\n",
            "Number of reviews: 36782\n"
          ]
        },
        {
          "output_type": "stream",
          "name": "stderr",
          "text": [
            "Device set to use cpu\n"
          ]
        },
        {
          "output_type": "stream",
          "name": "stdout",
          "text": [
            "Contextual Summary: [{'summary_text': '\"Twilight\" receives mixed reviews, with some praising Robert Pattinson\\'s Edward Cullen\\'s brooding intensity and Kristen Stewart\\'s portrayal of the titular character. While some find it fitting for a young adult audience, others appreciate the cinematography and recognizable performances. Despite this, the film\\'s production occasionally struggles with contrivance, resulting in a lackluster film that fails to deliver on its promise of romance. Ultimately, it\\'s a mixed bag of performances, though some praise for Pattine\\'s performance and Tyler Lautner\\'s performances make it a standout in this genre, even if it falls short of delivering on the promise of a film with a similar quality. Overall, it may not reach the heights of its potential, but overall, it remains a worthwhile watch for fans of gothic romance and romantic suspenseful storytelling.'}]\n",
            "Processing movie: Alienoid\n",
            "IMDb ID: tt20168564\n",
            "Number of reviews: 19865\n"
          ]
        },
        {
          "output_type": "stream",
          "name": "stderr",
          "text": [
            "Device set to use cpu\n"
          ]
        },
        {
          "output_type": "stream",
          "name": "stdout",
          "text": [
            "Contextual Summary: [{'summary_text': '\"Alienoid\" offers a mix of high-octane action and character-driven comedy, with a star-studded cast crafting a deft mix of action and comedy that kept viewers on hold for more than two hours. While some scenes work well, others feel convoluted and lacking in resolution. The film\\'s production value, CGI, and acting are high quality, but its storyline feels slow and messy. Overall, it\\'s a good watch for fans of sci-fi genres, with some interesting characters and a great production value. However, it falls short of delivering a satisfying end to the film, leaving viewers wanting more to see it as a long way to finish it as it unfolds in 4D viewing for those who appreciate its visual spectacle and lack of originality amidst its inconsistencies aplenty of visual impact atop its overall impact.'}]\n",
            "Processing movie: The Little Mermaid\n",
            "IMDb ID: tt0097757\n",
            "Number of reviews: 15268\n"
          ]
        },
        {
          "output_type": "stream",
          "name": "stderr",
          "text": [
            "Device set to use cpu\n"
          ]
        },
        {
          "output_type": "stream",
          "name": "stdout",
          "text": [
            "Contextual Summary: [{'summary_text': '\"The Little Mermaid (1989)\" is a timeless Disney classic, showcasing a young mermaid princess\\'s quest for immortality amidst an evil sea witch\\'s evil plan. While some find it modern and lacking originality, others appreciate its charm and charming heroine, Ariel. The film serves as a blueprint for Disney musicals, establishing the studio\\'s \\'modern day\\' formula from its story structure to song choices. Jodi Benson delivers a standout performance, making it a great treasure of our time, capturing the essence of the era\\'s charm and charm of Disney animation. Despite its nostalgia, it remains a beloved classic that will endure for generations to come, resonating with audiences with its catchy songs and water-logged chuckle-worthy endings reminiscent of \"Pocahontas\" and \"Madith.\"'}]\n",
            "Processing movie: PAW Patrol: The Mighty Movie\n",
            "IMDb ID: tt15837338\n",
            "Number of reviews: 16285\n"
          ]
        },
        {
          "output_type": "stream",
          "name": "stderr",
          "text": [
            "Device set to use cpu\n"
          ]
        },
        {
          "output_type": "stream",
          "name": "stdout",
          "text": [
            "Contextual Summary: [{'summary_text': '\"Paw Patrol\" is a light-hearted movie that appeals to fans of the tv show but falls short for adults. While some moments may feel rushed, the return of familiar pups and a fresh take on the characters keep viewers engaged. Despite some rushed moments, the movie\\'s animation quality and simplistic dialogue make it a great watch for young families. While it may not fully satisfy all ages, it\\'s a fun watch for those with a sensitive disposition, especially if you\\'re a fan of the show\\'s brand new twist on the original series. Overall, the film\\'s light hearted nature and its fun storyline make it an entertaining watch for younger audiences, making it an enjoyable watch for families with young families with plenty of laughs and moments of genuine fun for older viewers alike. However, it falls short of satiation and lack of depth in its overall viewing experience for younger viewers.'}]\n",
            "Processing movie: The Santa Clause\n",
            "IMDb ID: tt0111070\n",
            "Number of reviews: 20857\n"
          ]
        },
        {
          "output_type": "stream",
          "name": "stderr",
          "text": [
            "Device set to use cpu\n"
          ]
        },
        {
          "output_type": "stream",
          "name": "stdout",
          "text": [
            "Contextual Summary: [{'summary_text': '\"The Santa Claus\" is a heartwarming holiday movie that blends adult humor with sentimental moments. Tim Allen\\'s portrayal of a divorced parent struggles to connect with his son on Christmas Eve. While some find his sarcasm sentimental, the film\\'s sweet optimism and memorable moments make it a memorable watch. Eric Lloyd delivers a standout performance as Charlie, keeping him positive despite conflicts. Despite some shallow subplots, it\\'s a well-balanced effort, offering a healthy dose of laughs, even if some find its reliance on typical Disney poo-poo humor and shallow humor. Overall, \"Home Improvement\" remains a fun and original holiday movie with moments of genuine charm and humor that captivate viewers for a variety of audiences. Regardless of whether or not, overall, the overall experience is both enjoyable and enjoyable for both adults and children alike, making it an enjoyable watch for adults alike.'}]\n",
            "Processing movie: Furious 7\n",
            "IMDb ID: tt2820852\n",
            "Number of reviews: 26691\n"
          ]
        },
        {
          "output_type": "stream",
          "name": "stderr",
          "text": [
            "Device set to use cpu\n"
          ]
        },
        {
          "output_type": "stream",
          "name": "stdout",
          "text": [
            "Contextual Summary: [{'summary_text': '\"Fast & Furious 6\" showcases Paul Walker\\'s performance as Brian O Conner, despite his character\\'s unfinished work. Director James Wan\\'s reliance on preposterous stunts damaged the film\\'s credibility, resulting in a disappointing viewing experience. While some praise its action sequences and suspense, others criticize its lack of substance and lack of realism. Despite its flaws, the film offers moments of entertainment value and substance, making it a must-watch for fans of the horror genre, even if it falls short of delivering a satisfying cinematic experience. Overall, it\\'s not a masterpiece in its own right, albeit one lacking in substance and enduring impact on viewers. Ultimately, it may not be a compelling addition to the franchise, but it still stands as a testament to the power of the franchise and its potential for greatness.'}]\n",
            "Processing movie: Mulan\n",
            "IMDb ID: tt0120762\n",
            "Number of reviews: 34935\n"
          ]
        },
        {
          "output_type": "stream",
          "name": "stderr",
          "text": [
            "Device set to use cpu\n"
          ]
        },
        {
          "output_type": "stream",
          "name": "stdout",
          "text": [
            "Contextual Summary: [{'summary_text': '\"Mulan\" is a Disney fairy tale that follows a young girl who takes her father\\'s place in the Chinese army, despite its lack of fun and humor. While some may find it entertaining, others criticize its rushed execution and lack of emotional payoff. Despite its flaws, the film\\'s portrayal of Mulan stands out as one of the best Disney female characters ever seen production, showcasing her as a strong female lead in a colorful and artistic film. However, some critics find it to be entertaining, but others praise its reliance on Eddie Murphy\\'s antics. Overall, \"mulan\" remains an entertaining tale of self-discovery and redemption, even if it falls short of the original\\'s impact on viewers\\' perceptions, making it a worthwhile watch for fans of Disney\\'s realism and societal norms. MULAN\\'s powerhouses and characterizations.'}]\n",
            "Processing movie: Taxi Driver\n",
            "IMDb ID: tt0075314\n",
            "Number of reviews: 18374\n"
          ]
        },
        {
          "output_type": "stream",
          "name": "stderr",
          "text": [
            "Device set to use cpu\n"
          ]
        },
        {
          "output_type": "stream",
          "name": "stdout",
          "text": [
            "Contextual Summary: [{'summary_text': '\"Taxi Driver\" presents Martin Scorsese\\'s compelling portrayal of Travis Bickle, a Vietnam veteran who struggles to sleep at night and ends up travelling around. Robert De Niro delivers a chilling performance, dominating the film in quiet moments and quotable moments. While the supporting cast is impressive, Jodie Foster and Harvey Keitel shine in supporting roles. Paul Schrader\\'s screenplay captures the jolting force of a rude awakening, making it an unforgettable experience for those seeking emotional depth and depth. Overall, it\\'s a memorable and unforgettable cinematic experience that resonates with those who appreciate its enduring impact on those who don\\'t fully grasping the complexities of modern cinema. Despite its flaws, it remains a timeless classic that stands as a testament to the power of storytelling and storytelling in the face of societal issues in New York City\\'s darker aspects.'}]\n",
            "Processing movie: Hacksaw Ridge\n",
            "IMDb ID: tt2119532\n",
            "Number of reviews: 27867\n"
          ]
        },
        {
          "output_type": "stream",
          "name": "stderr",
          "text": [
            "Device set to use cpu\n"
          ]
        },
        {
          "output_type": "stream",
          "name": "stdout",
          "text": [
            "Contextual Summary: [{'summary_text': '\"Hacksaw Ridge\" presents a compelling true story of Desmond Doss, portrayed by Andrew Garfield, a hero who survives conflict amidst adverse treatment by his own comrades. Mel Gibson\\'s direction is perfect, with no flaws found in the film\\'s storytelling. Despite mixed reviews, it\\'s a standout in the genre, praised for its personal intention and emotional impact. While some find it a departure from other films, others praise its pacifism and the impact it has on viewers. Garfield\\'s portrayal shines through, making it an epic and a must-watch for those seeking a true story about combat medics and the ultimate goal of saving lives. Ultimately, it remains a masterpiece that will stand as a testament to the power of storytelling and storytelling in the face of adversity and societal norms.'}]\n",
            "Processing movie: Blood for Dust\n",
            "IMDb ID: tt10669888\n",
            "Number of reviews: 8920\n"
          ]
        },
        {
          "output_type": "stream",
          "name": "stderr",
          "text": [
            "Device set to use cpu\n"
          ]
        },
        {
          "output_type": "stream",
          "name": "stdout",
          "text": [
            "Contextual Summary: [{'summary_text': '\"This is a gritty and dark crime thriller, starring Scoot McNairy and Kit Harrington. While some find the dialogue lacking and Cliff\\'s past flawed, others appreciate his portrayal of a former associate. Despite its uneventful start, the movie\\'s bleakness and depressing atmosphere make it a must-watch for fans of gritty crime thrillers. Josh Lucas delivers a standout performance, especially in the lead role, adding depth to the character\\'s desperation. Overall, \"Montana\" offers a stunning backdrop for a chilling crime thriller experience, especially if you enjoy the gritty thrills and dark mysteries of crime thriller genres like \"theme\" and \"Theme\" with its melodrama and suspenseful violence. Regardless of its origins, \"Michaeland\" remains a compelling and thought-provoking watch.'}]\n",
            "Processing movie: Time Cut\n",
            "IMDb ID: tt14857528\n",
            "Number of reviews: 23635\n"
          ]
        },
        {
          "output_type": "stream",
          "name": "stderr",
          "text": [
            "Device set to use cpu\n"
          ]
        },
        {
          "output_type": "stream",
          "name": "stdout",
          "text": [
            "Contextual Summary: [{'summary_text': '\"Time Cut\" fails to deliver on its promise, delivering a poorly constructed plot with glaring holes and shallow character development. While it features modern Canadian scream queens like Marina Stephenson Kerr and Summer Howell, it falls short of delivering the 2000s vibe. The film\\'s stereotypical high school characters feel thinly written, leaving the viewer lost and disoriented. Despite its flaws, it\\'s a straight up bad film with nothing worth talking positively about, especially considering its similarities to Totally Killer and other similar films. Overall, \"Timing Cut\" is a forgettable entry in the genre, leaving audiences disengaged and disorientated by its lackluster plot points and clichés, leaving a lasting impression on the viewer\\'s perception of its impact on the film and its potential for growth and success. Ultimately, \"Tomingled\" and \"Tomorrow\" feel like a waste of time and energy.'}]\n",
            "Processing movie: Iron Man\n",
            "IMDb ID: tt0371746\n",
            "Number of reviews: 46928\n"
          ]
        },
        {
          "output_type": "stream",
          "name": "stderr",
          "text": [
            "Device set to use cpu\n"
          ]
        },
        {
          "output_type": "stream",
          "name": "stdout",
          "text": [
            "Contextual Summary: [{'summary_text': '\"Iron Man\" is a visually stunning adaptation of the Marvel hero, showcasing top-notch special effects and futuristic gadgets. While Jeff Bridges\\' intimidating yet charming character shines, Robert Downey Jr.\\'s performance and Gwyneth Paltrow\\'s portrayal add depth to the action sequences. Director Jon Favreau maintains a reasonable pace, delivering a solid initiation into a trilogy of superhero movies. Despite some dull moments, the film\\'s execution and pacing make it a standout in the MCU 2021 franchise, despite criticisms of its lackluster execution and lack of originality. Overall, it\\'s an enjoyable and enjoyable viewing experience for fans of the superhero genre and a fresh start to a new direction in cinema. Regardless of its shortcomings, it could be a great addition to the franchise in the future, if not a forgettable entry in the franchise.'}]\n",
            "Processing movie: Iron Man 2\n",
            "IMDb ID: tt1228705\n",
            "Number of reviews: 34407\n"
          ]
        },
        {
          "output_type": "stream",
          "name": "stderr",
          "text": [
            "Device set to use cpu\n"
          ]
        },
        {
          "output_type": "stream",
          "name": "stdout",
          "text": [
            "Contextual Summary: [{'summary_text': '\"Iron Man II\" is a sleek, no-holds barred superhero movie, showcasing Robert Downey Jr.\\'s chemistry with Gwyneth Paltrow\\'s electric performance. While the co-stars don Cheadle and Scarlett Johansson deliver solid performances, the film\\'s technical effects and thrilling action sequences may not appeal to fans of Marvel Comics. Despite its flaws, it offers plenty of entertainment, especially for fans of the franchise. Rourke\\'s portrayal adds depth to the villainy, though Rockwell\\'s performance may not. Overall, it\\'s considered a great addition to the Marvel Universe, despite its shortcomings in character development and character development. Regardless, it may not be the best of superhero movies, but overall, it remains a fun and memorable viewing experience worth checking out if you\\'re a fan of Marvel fans.'}]\n",
            "Processing movie: The Mummy\n",
            "IMDb ID: tt0120616\n",
            "Number of reviews: 29573\n"
          ]
        },
        {
          "output_type": "stream",
          "name": "stderr",
          "text": [
            "Device set to use cpu\n"
          ]
        },
        {
          "output_type": "stream",
          "name": "stdout",
          "text": [
            "Contextual Summary: [{'summary_text': '\"The Mummy\" offers a mix of horror and action, with Brendan Fraser delivering a standout performance as Rick O\\'Connell. While some may find it boring, the film\\'s coherence and Arnold Vosloo\\'s portrayal of the mummy Imhotep make it a fun and likable horror adventure. Despite its flaws, it\\'s praised for its roller coaster ride feel and Stephen Sommers\\' attempt to revive the adventure genre in the \\'30\\'s/\\'40\\'s, offering a unique take on occult theology and cartoon-like thrills. However, others criticize its lack of originality and a strong cast and visuals. Overall, it remains a compelling and thought-provoking cinematic experience that\\'s sure to leave a lasting impression on viewers. Regardless of its origins, there\\'s room for improvement in storytelling and storytelling.'}]\n",
            "Processing movie: Jigra\n",
            "IMDb ID: tt26733317\n",
            "Number of reviews: 22873\n"
          ]
        },
        {
          "output_type": "stream",
          "name": "stderr",
          "text": [
            "Device set to use cpu\n"
          ]
        },
        {
          "output_type": "stream",
          "name": "stdout",
          "text": [
            "Contextual Summary: [{'summary_text': '\"Jigra\" starts strong with an exciting and fast-paced first half, but falls short due to overanimated theatrics and a lackluster direction. While Alia Bhatt\\'s performance shines, the film\\'s technical shortcomings and lack of attention to background stories detract from its potential. Despite its flaws, it\\'s a decent watch for those seeking an action-packed film with a strong female lead. However, its pacing and references to modern Hollywood may not resonate with all audiences, leaving a lasting impression on viewers. Overall, \"JIGRA\" falls short of its potential, leaving viewers with little to consider its potential beyond technical brilliance and emotional depth. Nonetheless, it remains a worthwhile watch for fans of action thrillers with strong female leads and memorable moments. Nevertheless, it may not fully capture the essence of a blockbuster status, making it a forgettable entry in the action genre.'}]\n",
            "Processing movie: Sting\n",
            "IMDb ID: tt20112746\n",
            "Number of reviews: 20651\n"
          ]
        },
        {
          "output_type": "stream",
          "name": "stderr",
          "text": [
            "Device set to use cpu\n"
          ]
        },
        {
          "output_type": "stream",
          "name": "stdout",
          "text": [
            "Contextual Summary: [{'summary_text': '\"Sting\" delivers effective scares and a touching family drama, focusing on 12-year-old Charlotte, a rebellious girl who finds solace in an unusual pet spider. While predictable in its plot beats, it delivers impressive special effects and realistic corpses. Alyla Browne and Ryan Corr shine as Charlotte, while Jermaine Fowler shines as a sparingly used comic relief. Despite some gross scenes, the film\\'s strong characters and love of Aliens make it an entertaining one-time watch, especially for those with arachniphobia. Overall, it\\'s a decent monster movie with impressive CGI and practical special effects, making it a worthwhile watch for fans of spiders and fans of monster movies with an eye-catching twist on the classic classics like \"Terrifier 2\" and \"Pirates\" alike. Nonetheless, it may not be marketed beyond its scope.'}]\n",
            "Processing movie: Atlas\n",
            "IMDb ID: tt14856980\n",
            "Number of reviews: 21250\n"
          ]
        },
        {
          "output_type": "stream",
          "name": "stderr",
          "text": [
            "Device set to use cpu\n"
          ]
        },
        {
          "output_type": "stream",
          "name": "stdout",
          "text": [
            "Contextual Summary: [{'summary_text': '\"Atlas\" offers a mixed bag of reviews, praised for Jennifer Lopez\\'s performance but criticized for its heavy-handed plot and lack of originality. While the CGI was top-notch, the film\\'s special effects and strong characters make it a forgettable watch. Despite its flaws, it offers glimpses of promise, especially in its exploration of identity, sacrifice, and the human condition. Overall, it\\'s a solid entry in the sci-fi genre, though it may not reach the heights of \"Outer Limits\" or \"StartUp\" but disappointing in its portrayal of a familiar tropes and a well-rounded exploration of humanity\\'s potential in the 21st-century cinematic conventions make it an enjoyable watch for fans of space operas and futurists alike. Ultimately, it may leave audiences wanting more from this year\\'s future. Regardless of who\\'s who.'}]\n",
            "Processing movie: Hounds of War\n",
            "IMDb ID: tt12972134\n",
            "Number of reviews: 12265\n"
          ]
        },
        {
          "output_type": "stream",
          "name": "stderr",
          "text": [
            "Device set to use cpu\n"
          ]
        },
        {
          "output_type": "stream",
          "name": "stdout",
          "text": [
            "Contextual Summary: [{'summary_text': '\"Hounds of War\" showcases intense action sequences and character-driven narratives, exploring personal motivations of those who fight for profit rather than patriotism. Grillo\\'s portrayal of Mitra and Grillo lacks chemistry in their scenes, resulting in a convoluted plot and a lackluster execution. While Grillo holds his own in his roles, the film\\'s cheesiness and lack of tension hinder its potential. Despite high hopes, it ultimately falls short of delivering on its potential, leaving viewers with a mixed bag of disappointments. Overall, it\\'s an independent low-budget action film with mixed results, making it a forgettable watch for fans of Grillo and Bruce Willis and his potential in action movies. Ultimately, it may not be a breakthrough in the action genre, but it may have been a missed opportunity for newcomers seeking a fresh start in the genre.'}]\n",
            "Processing movie: 20th Century Girl\n",
            "IMDb ID: tt15340724\n",
            "Number of reviews: 11637\n"
          ]
        },
        {
          "output_type": "stream",
          "name": "stderr",
          "text": [
            "Device set to use cpu\n"
          ]
        },
        {
          "output_type": "stream",
          "name": "stdout",
          "text": [
            "Contextual Summary: [{'summary_text': '\"20th Century Girl\" offers a heartwarming portrayal of teen romance but also deep friendship between the characters. Kim Yoo-jung\\'s energy shines through, as do Byeon Woo-seok\\'s powerful portrayal. The film\\'s message is beautiful and wholesome, centered around themes of friendship, honesty, and selflessness. While some critics find it lacking iconic moments, others praise its pacing and emotional depth. Overall, it\\'s a must-watch for anyone seeking a sad cute romance and a wholesome message about love and friendship in a young girl\\'s eyes. Despite its flaws, the movie\\'s focus on friendship and honesty resonates with its message of love and selflessness and trust in the face of adversity, making it a worthwhile watch for those who appreciate its wholesome cinematic endeavors and uplifting cinematic excellence.'}]\n",
            "Processing movie: Drawing Closer\n",
            "IMDb ID: tt31078761\n",
            "Number of reviews: 12348\n"
          ]
        },
        {
          "output_type": "stream",
          "name": "stderr",
          "text": [
            "Device set to use cpu\n"
          ]
        },
        {
          "output_type": "stream",
          "name": "stdout",
          "text": [
            "Contextual Summary: [{'summary_text': '\"This is one of those movies that just gets you right in the feels, capturing your heart with its emotional depth. The story is so good, it\\'s like a puzzle that just fits together, and it made me remember someone I loved deeply. Although the characters don\\'t express much about their feelings, the movie\\'s cinematography and color grading are remarkable. Natsumi Deguchi\\'s portrayal of the main female character is captivating, making the last half hour intense and the film\\'s poignant portrayal make it a must-watch for those who can\\'t contain their emotions, thanks to its poignant storytelling and poignant characters. Overall, \"This\" is a beautiful and emotional cinematic experience that captivates and makes you want to watch for those willing to endure the emotional depth of love and loss, making it an emotional experience that lasts a long time after the credits roll and a lifetime.'}]\n",
            "Processing movie: The Lord of the Rings: The Two Towers\n",
            "IMDb ID: tt0167261\n",
            "Number of reviews: 36225\n"
          ]
        },
        {
          "output_type": "stream",
          "name": "stderr",
          "text": [
            "Device set to use cpu\n"
          ]
        },
        {
          "output_type": "stream",
          "name": "stdout",
          "text": [
            "Contextual Summary: [{'summary_text': '\"The Two Towers\" showcases Peter Jackson\\'s mastery of visual manipulation, with Gollum delivering a profoundly disturbing and amusing performance. Brad Douris\\' skin-crawling performance as Grima Wormtongue is beyond words, as is Elijah Wood\\'s likable performance. While some characters are developed more here than in \"Foster of the Ring,\" others, like Frodo and Aragorn, shine. Ian McKellen\\'s portrayal of Gandalf and Viggo Mortenson\\'s performance add depth to the film, making it a must-watch for fans of the groundbreaking character-generation, especially Andy Serkis\\' portrayal. Overall, it\\'s an outstanding representation of the enduring power of good and truth in a film that stands out in its own right, even if it lacks the emotional depth of the original film\\'s predecessors.'}]\n",
            "Processing movie: Invasion\n",
            "IMDb ID: tt9737326\n",
            "Number of reviews: 15690\n"
          ]
        },
        {
          "output_type": "stream",
          "name": "stderr",
          "text": [
            "Device set to use cpu\n"
          ]
        },
        {
          "output_type": "stream",
          "name": "stdout",
          "text": [
            "Contextual Summary: [{'summary_text': '\"Invasion\" receives mixed reviews, with some praising its entertainment value but others deeming it slow or non-progressive. While some appreciate its character development and action sequences, others find it lacking in depth and melodrama. Despite its production values, it ultimately fails to deliver on its promise of sci-fi entertainment, leaving viewers wanting more. Ultimately, it\\'s a waste of time and money, focusing instead on 20 one-hour walks instead of watching it as a disappointment, resulting in a lackluster and unsatisfying viewing experience. Overall, it may not reach the heights of its potential, but overall, it falls short of delivering on its potential and beyond bad entertainment for viewers. Regardless, it remains a disappointing entry in the genre, despite its positive reviews and a promising future in terms of entertainment value, making it a forgettable watch for those willing to commit'}]\n",
            "Processing movie: The Suicide Squad\n",
            "IMDb ID: tt6334354\n",
            "Number of reviews: 25757\n"
          ]
        },
        {
          "output_type": "stream",
          "name": "stderr",
          "text": [
            "Device set to use cpu\n"
          ]
        },
        {
          "output_type": "stream",
          "name": "stdout",
          "text": [
            "Contextual Summary: [{'summary_text': '\"King Shark\" offers a unique take on the superhero genre, despite occasional flaws in its storytelling. While some critics find it repetitive and lacking depth, others appreciate its engaging characters and performances. Despite some pacing issues, the film\\'s irreverence and engaging storytelling shine through. Sylvester Stallone shines in the lead role, while Idris Elba\\'s performance adds depth to the role. Overall, it\\'s a great addition to the DC universe, blending comedy and action, offering a breath of fresh air in the superhero movie genre, especially for those seeking a fresh perspective on the genre\\'s current trends. Regardless, it deserves to be seen as a must-watch for fans of the genre and a worthwhile investment in the franchise\\'s future endeavors, even if it falls short of PG-13 status, especially with its lack of depth and lackluster performances.'}]\n",
            "Processing movie: The Order\n",
            "IMDb ID: tt8295472\n",
            "Number of reviews: 11664\n"
          ]
        },
        {
          "output_type": "stream",
          "name": "stderr",
          "text": [
            "Device set to use cpu\n"
          ]
        },
        {
          "output_type": "stream",
          "name": "stdout",
          "text": [
            "Contextual Summary: [{'summary_text': '\"The Order\" offers a mixed bag of reviews, with some praising its goofy humor and engaging characters, while others find it cheesy and cringe-worthy. While some find it entertaining and entertaining, others see it as lacking in depth and storytelling. Despite its flaws, the second season of the show offers opportunities for improvement, especially in the writing department. However, it still falls short of the standards of other shows, resulting in a disappointing experience for viewers. Overall, it\\'s a good watch for fans of the magicians and underworld, but not a cult tv experience for those willing to invest in its potential for a new series like this. Ultimately, it may not be a standout in the genre, but its potential is still a promising start for the franchise\\'s future. Regardless, it remains a compelling and thought-provoking television series like \"The'}]\n",
            "Processing movie: Exorcism in Utero\n",
            "IMDb ID: tt22206842\n",
            "Number of reviews: 6198\n"
          ]
        },
        {
          "output_type": "stream",
          "name": "stderr",
          "text": [
            "Device set to use cpu\n"
          ]
        },
        {
          "output_type": "stream",
          "name": "stdout",
          "text": [
            "Contextual Summary: [{'summary_text': '\"Exorcism in Utero\" delivers an unforgettable experience with its hilarious dialogue, memorable characters, and unexpected twists. Despite some issues, the film\\'s suspense is boosted by impressive sequences, including Frank O\\'Neill confronting a troublesome ex and a series of bizarre scenes with the family. While some scenes feel tiresome, the performances, particularly Stephanie Leet\\'s portrayal, make it an unforgettable viewing experience. Overall, it\\'s a gem of a horror movie with a twist that leaves a lasting impression, making it a must-watch for horror enthusiasts and those looking for a thrilling ride on a memorable experience with nod to a relic or item touched by a person or placed on the film amidst the eerie spectres of sinister resemblances of the family\\'s reaction to the stinger\\'s presence, and Leonard Leonard Leonard\\'s stellar performances,'}]\n",
            "Processing movie: Double Blind\n",
            "IMDb ID: tt14729020\n",
            "Number of reviews: 18485\n"
          ]
        },
        {
          "output_type": "stream",
          "name": "stderr",
          "text": [
            "Device set to use cpu\n"
          ]
        },
        {
          "output_type": "stream",
          "name": "stdout",
          "text": [
            "Contextual Summary: [{'summary_text': '\"Double Blind\" receives mixed reviews, with some praising its pacing and suspense, while others find it average and lacking in depth. Despite a strong opening, the movie\\'s reliance on shambolic motivations and lack of drama hinder its impact. While the main actress is believable, the supporting cast could use a little more polish. Overall, it\\'s seen as a small budget but a good example of a horror movie that\\'s done with love and care, despite its flabbergasting moments and a lack of depth in character development, making it a missed opportunity to explore the horrors of real-life horrors and societal norms. Ultimately, it may not reach the heights of its potential, but it may be a promising one that deserves to be seen as one of horror genre horror movies with a positive impact on audiences and audiences alike.'}]\n",
            "Processing movie: Rebel Ridge\n",
            "IMDb ID: tt11301886\n",
            "Number of reviews: 16182\n"
          ]
        },
        {
          "output_type": "stream",
          "name": "stderr",
          "text": [
            "Device set to use cpu\n"
          ]
        },
        {
          "output_type": "stream",
          "name": "stdout",
          "text": [
            "Contextual Summary: [{'summary_text': '\"Terry Richmond\" offers a solid portrayal of corruption within the police force, though the plot feels convoluted. Aaron Pierre delivers an excellent performance as Terry Richmond, despite Terry\\'s one-dimensional character. While the film\\'s pace may not reach the heights expected, the story builds up nicely. Don Johnson delivers a standout performance as the corrupt Police Chief Sandy Burnne. While it may not stand out in the genre, it\\'s a good watch for fans of 80\\'s action movies, albeit one that feels generic and forgettable at times. Overall, \"Meh\" remains a decent and engaging viewing experience, even if it falls short of delivering a memorable performance or memorable one-act action flick altogether, leaving a lasting impression with its overall impact on viewers and fans of the genre\\'s overall experience aplenty of depth and depth in character development. Despite its flaws, it remains an enjoyable addition to the series.'}]\n",
            "Processing movie: Scouts Guide to the Zombie Apocalypse\n",
            "IMDb ID: tt1727776\n",
            "Number of reviews: 30300\n"
          ]
        },
        {
          "output_type": "stream",
          "name": "stderr",
          "text": [
            "Device set to use cpu\n"
          ]
        },
        {
          "output_type": "stream",
          "name": "stdout",
          "text": [
            "Contextual Summary: [{'summary_text': '\"Scouts Guide to the Zombie Apocalypse\" receives mixed reviews, with some praising its gory humor and slapstick humor, while others find it lacking in novelty or originality. Despite its attempts at humor, the film\\'s simplicity and commitment to awkward crudity make it a standout in the zombie genre. While it may appeal to new horror fans and those who grew up on a zombie-infested diet, it falls short of delivering a memorable zombie movie with some laughs and a few moments of gleefully gory comedy. Overall, it\\'s a juvenile showing in purest form, despite its shortcomings in delivering some well-deserved laughs, even if it fails to live up to its potential adversity, making it an enjoyable watch for those who appreciate it more in the coming year-old genre.'}]\n",
            "Processing movie: Mayhem!\n",
            "IMDb ID: tt19319352\n",
            "Number of reviews: 11090\n"
          ]
        },
        {
          "output_type": "stream",
          "name": "stderr",
          "text": [
            "Device set to use cpu\n"
          ]
        },
        {
          "output_type": "stream",
          "name": "stdout",
          "text": [
            "Contextual Summary: [{'summary_text': '\"Mayhem!\" directed by Xavier Gens is violent and melancholic, featuring two extended fight sequences and a stunning performance from Nassim Lyes. Despite its bare-bones revenge plot, the film\\'s pacing may falter due to its DTV release. However, despite its flaws, it remains a contender for best action movie of the year, showcasing Gens\\'s talent in the action arena. While some may find it slow-paced, others will appreciate the opportunity to show off your fighting skills, making it a must-watch for action enthusiasts and those who appreciate its simple yet effective storytelling. Overall, it\\'s an action-packed movie with a strong lead character and an enjoyable watch for fans of action-thrillers and thrillers alike, offering a unique perspective on action-comics and action-movie genres like \"Farang.\"'}]\n",
            "Processing movie: Five Nights at Freddy's\n",
            "IMDb ID: tt4589218\n",
            "Number of reviews: 20274\n"
          ]
        },
        {
          "output_type": "stream",
          "name": "stderr",
          "text": [
            "Device set to use cpu\n"
          ]
        },
        {
          "output_type": "stream",
          "name": "stdout",
          "text": [
            "Contextual Summary: [{'summary_text': '\"Five Nights at Freddy\\'s\" receives mixed reviews, with some praising its lighthearted approach and Josh Hutcherson\\'s performance, while others find it generic and lacking in depth. Despite its flaws, it compensates for its lack of jump scares with humor and self-referential fun. While it may appeal to younger audiences, it\\'s a lighthearted camp movie that falls short of its potential as a PG-13 horror classic. Ultimately, though, it may not appeal to fans of the franchise\\'s early years, others will appreciate its whimsical and satirical campy vibes, though it may be a little tame version of M3GAN, making it a forgettable addition to the horror genre, even if it falls short in its overall impact on audiences and viewership. Regardless, it remains a worthwhile investment in the horror franchise.'}]\n",
            "Processing movie: Rifle Club\n",
            "IMDb ID: tt31188121\n",
            "Number of reviews: 5562\n"
          ]
        },
        {
          "output_type": "stream",
          "name": "stderr",
          "text": [
            "Device set to use cpu\n"
          ]
        },
        {
          "output_type": "stream",
          "name": "stdout",
          "text": [
            "Contextual Summary: [{'summary_text': '\"Rifle Club\" offers a tasteful blend of style and substance, with stellar performances from Dileesh Pothen, Vani Viswanath, and Anurag Kashyap. While some may find its pacing uneven, the film\\'s action sequences and thrilling climax provide an adrenaline-pumping experience. Director Aashiq Abu crafts a visually stunning film, though the large ensemble cast may feel underutilized. Despite this, it\\'s a satisfying watch, especially for fans of action heroes and fans of Malayalam. Overall, I\\'m happy to see the return of Vishnu Agasthya and Navani Vishvani as a standout in the action hero of the genre in Malayala cinema and a memorable cinematic experience worth a watch for action lovers and cinephiles alike alike. Ultimately, I think it deserves more praise for its action-packed second half.'}]\n",
            "Processing movie: Beauty and the Beast\n",
            "IMDb ID: tt0101414\n",
            "Number of reviews: 41741\n"
          ]
        },
        {
          "output_type": "stream",
          "name": "stderr",
          "text": [
            "Device set to use cpu\n"
          ]
        },
        {
          "output_type": "stream",
          "name": "stdout",
          "text": [
            "Contextual Summary: [{'summary_text': '\"Beauty and the Beast\" is hailed as a classic, showcasing meticulous animation and background music. Set against the backdrop of an enchantress disguised as an old hag, the film transforms a young Prince into a hideous beast, leaving him alone in his castle. Hypnotically beautiful, it captivates with its magical ending, making it a must-see for all fans of fairy tales and the entire family. With Celine Dion\\'s theme song, it\\'s praised for its realistic portrayal of love and abuse, offering 90 minutes of mesmerizing fairy tale storytelling that\\'s suitable for all ages and the whole family. Despite its lack of spoilers, it remains a timeless classic, offering an enchanting experience that will delight everyone in its 90-minute-long magical tale setting and captivating storyline. Whether you\\'re a fancier or just aficionado, you\\'ll love and affectionate '}]\n",
            "Processing movie: Kingsman: The Secret Service\n",
            "IMDb ID: tt2802144\n",
            "Number of reviews: 36377\n"
          ]
        },
        {
          "output_type": "stream",
          "name": "stderr",
          "text": [
            "Device set to use cpu\n"
          ]
        },
        {
          "output_type": "stream",
          "name": "stdout",
          "text": [
            "Contextual Summary: [{'summary_text': '\"Kingsman: The Secret Service\" delivers a surprisingly brilliant send up, blending action-comedy with social commentary. Colin Firth shines as James Bond, while Mark Strong and Michael Caine deliver strong performances. Matthew Vaughn\\'s direction blends high-octane action with sharp wit, creating an unforgettable cinematic experience. While some may find it self-indulgent, others will appreciate Taron Egerton\\'s charisma and Jack Davenport\\'s portrayal. Overall, it\\'s a must-see for fans of fast-paced action, stylish, and all-around awesome flicks, offering a unique take on the era of MI-6, a British club for snobbishness and a sense of humor, making it a standout in the spy genre, albeit one that lacks subtlety and likability.'}]\n",
            "Processing movie: Trap\n",
            "IMDb ID: tt26753003\n",
            "Number of reviews: 14152\n"
          ]
        },
        {
          "output_type": "stream",
          "name": "stderr",
          "text": [
            "Device set to use cpu\n"
          ]
        },
        {
          "output_type": "stream",
          "name": "stdout",
          "text": [
            "Contextual Summary: [{'summary_text': '\"Trap\" receives mixed reviews, with some praising Josh Hartnett\\'s performance but others deeming it underwhelming. Despite some fun twists and a climatic twist, the film lacks depth and lacks believable characters. While Hayley Mills shines in her role, the movie feels like it was written by someone unfamiliar with a concert. Shyamalan\\'s portrayal of special forces adds depth to the story, but the film\\'s execution feels uneven. Overall, it\\'s an entertaining watch, even if it falls short of delivering a satisfying cinematic experience amidst its flaws. Ultimately, it may not reach the heights of a thriller, but overall, it remains a worthwhile watch for fans of teen dramas and sci-fi thrillers like Columbo-inspired thrillers, albeit with some shortcomings in execution and execution. Regardless, it still leaves a lasting impression on viewers.'}]\n",
            "Processing movie: Ready Player One\n",
            "IMDb ID: tt1677720\n",
            "Number of reviews: 48085\n"
          ]
        },
        {
          "output_type": "stream",
          "name": "stderr",
          "text": [
            "Device set to use cpu\n"
          ]
        },
        {
          "output_type": "stream",
          "name": "stdout",
          "text": [
            "Contextual Summary: [{'summary_text': '\"The Oasis\" is a visually stunning and effortlessly fun film, blending pop culture references with realistic period dramas and character pieces. While it may receive criticism for its reliance on pop culture artifacts, the cast delivers a terrific portrayal of their characters, especially James Halliday, portrayed by Steve Jobs. The film\\'s warning against overuse of video games and virtual reality resonates, making it a must-watch for fans of the 1980s and beyond. Lena Waithe and Simon Pegg\\'s performances add depth to the overall experience, even if it falls short of delivering a satisfyingly gitty tale of a cult classic, albeit one with some flak for its lack of depth and lack of authenticity. Overall, it\\'s a fun, if somewhat underdeveloped, entry into the era\\'s rich references to 1980s eras and genres.'}]\n",
            "Processing movie: The Holiday\n",
            "IMDb ID: tt0457939\n",
            "Number of reviews: 29608\n"
          ]
        },
        {
          "output_type": "stream",
          "name": "stderr",
          "text": [
            "Device set to use cpu\n"
          ]
        },
        {
          "output_type": "stream",
          "name": "stdout",
          "text": [
            "Contextual Summary: [{'summary_text': '\"The Holiday\" offers a mixed bag of reviews, with praise for Kate Winslet and Jude Law\\'s performances, particularly as Amanda Woods, owner of a movie-trailers editing firm, and Iris Simpkins, portrayed well by Cameron Diaz. While the plot may not appeal to all audiences, the film\\'s touching moments about Hollywood history and chemistry with Eli Wallach add depth. Despite its flaws, it\\'s a feel-good chick flick with complex characters and touching moments that will leave a lasting impression, making it a must-watch for those tired of holiday cheer and clichés, especially if you\\'re a fan of classic holiday classics and aficionados of all ages and genres alike. Regardless, it may not be a satisfying viewing experience, but overall, it remains a worthwhile watch for those who appreciate its quirky charm and captivating storytelling.'}]\n",
            "Processing movie: Thor\n",
            "IMDb ID: tt0800369\n",
            "Number of reviews: 34844\n"
          ]
        },
        {
          "output_type": "stream",
          "name": "stderr",
          "text": [
            "Device set to use cpu\n"
          ]
        },
        {
          "output_type": "stream",
          "name": "stdout",
          "text": [
            "Contextual Summary: [{'summary_text': '\"Thor\" presents Thor the god of lightning and his mighty hammer, directed by a man who specializes in William Shakespeare plays. Thor\\'s warrior son Odin struggles to rule, but his brother Loki is plotting a palace coup of his own. While Anthony Hopkins delivers a standout performance, Tom Higglesworth\\'s portrayal stands out. Despite criticisms of Avenger lore, the film\\'s focus on Thor and his warrior sons adds depth to the character, making it a great watch for fans of fun, comics, and MARVEL fans alike. Overall, it\\'s a decent start to the summer in cinema, especially if you\\'re a fan of fun and comics enthusiasts alike. Regardless, it may not be a memorable entry in the franchise, despite its flaws and a lackluster portrayal of a lesser-known character.'}]\n",
            "Processing movie: The Dark Knight Rises\n",
            "IMDb ID: tt1345836\n",
            "Number of reviews: 36513\n"
          ]
        },
        {
          "output_type": "stream",
          "name": "stderr",
          "text": [
            "Device set to use cpu\n"
          ]
        },
        {
          "output_type": "stream",
          "name": "stdout",
          "text": [
            "Contextual Summary: [{'summary_text': '\"Batman Begins\" offers a fresh take on the superhero genre, with Tom Hardy delivering a beefed-up terrifying performance as Bane. While some characters lack depth, Selina Kyle and Anne Hathaway add depth. Christopher Nolan\\'s direction and deep psychological themes shine through, making it a standout in the genre. Despite its flaws, the film\\'s emotional heartbeat and strong performances elevate it above its predecessors. Caine\\'s portrayal of Bane and Bruce Wayne adds depth to the action genre, leaving viewers questioning whether it\\'s a contender in the box office or a crossover release. Overall, \"BATMAN BEGINNING\" stands out as a compelling and thought-provoking watch for fans of superhero action movies and action action movies with a positive impact on the viewer\\'s overall experience atop the genre\\'s top-tier contender in genre cinema.'}]\n",
            "Processing movie: Transformers: The Last Knight\n",
            "IMDb ID: tt3371366\n",
            "Number of reviews: 25386\n"
          ]
        },
        {
          "output_type": "stream",
          "name": "stderr",
          "text": [
            "Device set to use cpu\n"
          ]
        },
        {
          "output_type": "stream",
          "name": "stdout",
          "text": [
            "Contextual Summary: [{'summary_text': '\"Bay of the Dead\" receives mixed reviews, with praise for its heroic deaths and writting but criticism for its pointless plot and unlikable characters. While some find it entertaining, others criticize its vulgarity and lack of cohesiveness. Despite its flaws, the film\\'s special effects and IMAX 3D footage make it a must-watch for fans of the Transformers franchise. Anthony Hopkins\\' participation adds to the overall experience, but overall, it falls short of delivering the highs and lows of its predecessors. Overall, it\\'s a disappointing watch for those who appreciate its visual appeal but feel its lack of depth and lackluster storytelling. Regardless of its shortcomings, \"Boyhood\" remains a compelling and enjoyable viewing experience for those interested in visual effects and action-packed action action action figures amidst the franchise\\'s overall impact on viewers. Ultimately, it may not be the worst piece of dirt this year\\'s franchises.'}]\n",
            "Processing movie: The Dark Tower\n",
            "IMDb ID: tt1648190\n",
            "Number of reviews: 35687\n"
          ]
        },
        {
          "output_type": "stream",
          "name": "stderr",
          "text": [
            "Device set to use cpu\n"
          ]
        },
        {
          "output_type": "stream",
          "name": "stdout",
          "text": [
            "Contextual Summary: [{'summary_text': '\"The Dark Tower\" struggles to adapt Stephen King\\'s Dark Tower novels, with some parts near-unfilmable. While Matthew McConaughey\\'s portrayal of the villain was mixed, others praised his sinister performance. Despite its flaws, the film\\'s skilfully photographed and authentic production design add to its appeal. Those who haven\\'t yet learned the \\'book to movie\\' lesson need to learn it so they can enjoy movies as they are, especially for fans of the series. Idris Elba\\'s performance salvages some artistic integrity from the ruins, but overall, it\\'s mediocre at best, despite its potential and its lackluster execution. Ultimately, it could\\'ve been a fun, if unfilmable, movie with a limited budget and lack of originality amidst a lackluster plot and lackluster production and production approach to a great cinematic experience.'}]\n",
            "Processing movie: Your Name.\n",
            "IMDb ID: tt5311514\n",
            "Number of reviews: 31952\n"
          ]
        },
        {
          "output_type": "stream",
          "name": "stderr",
          "text": [
            "Device set to use cpu\n"
          ]
        },
        {
          "output_type": "stream",
          "name": "stdout",
          "text": [
            "Contextual Summary: [{'summary_text': '\"Your Name\" is a visually stunning anime film that follows two main characters on a journey of growth and resilience against fate. While some find it similar to \"Spirited Away,\" others criticize its lack of detail and lack of character development. Despite its visuals and immersive atmosphere, the film\\'s sound design and music score elevate it, making it a captivating experience. Makoto Shinkai\\'s work is known for using repetitive settings but this one still resonates with fans of his work. Overall, it\\'s a compelling and thought-provoking movie that offers a unique perspective on life\\'s challenges and personal growth in the face of hardships, leaving a lasting impression of the characters and the world around them. Nevertheless, it falls short of its potential, leaving viewers wanting more from this gem of animation and cinematic experience. Regardless of its shortcomings, it remains a solid and enjoyable watch for fans of anime and manga.'}]\n",
            "Processing movie: Slaughtered Vomit Dolls\n",
            "IMDb ID: tt0811073\n",
            "Number of reviews: 25322\n"
          ]
        },
        {
          "output_type": "stream",
          "name": "stderr",
          "text": [
            "Device set to use cpu\n"
          ]
        },
        {
          "output_type": "stream",
          "name": "stdout",
          "text": [
            "Contextual Summary: [{'summary_text': '\"Slaughtered Vomit Dolls\" is hailed as the sickest horror film ever made, criticized for its vomit-gore and lack of dialogue. While some scenes are well-done, others feel bored senseless and the nudity unerotic. It\\'s a parody of a Nine Inch Nails video, focusing on a bulimic teen runaway stripper named Angela. Despite its flaws, the film offers a chilling experience, even if you\\'re a fan of extreme cinema, criticize its lack of depth and unfocused camera angles. Overall, it\\'s an awful and unsettling cinematic experience, resembling a silent silent movie with a lackluster plot and uninspired storytelling. Regardless, \"SVD\" remains a must-watch for fans of shock cinema and extreme cinematic endeavors like \"Bone Sickness.\"'}]\n",
            "Processing movie: Running on Empty\n",
            "IMDb ID: tt0096018\n",
            "Number of reviews: 29177\n"
          ]
        },
        {
          "output_type": "stream",
          "name": "stderr",
          "text": [
            "Device set to use cpu\n"
          ]
        },
        {
          "output_type": "stream",
          "name": "stdout",
          "text": [
            "Contextual Summary: [{'summary_text': '\"Running on Empty\" marks the 16th anniversary of River Phoenix\\'s tragic death, highlighting his legacy as an adult actor. Christine Lahti delivers a standout performance, capturing the essence of family dynamics amidst identity crises. While it may not reach the box office, it\\'s a powerful portrayal of \\'60s radicals living in hiding. Martha Plimpton shines in one of her earliest performances, as does Martha Pope. Director Sidney Lumet\\'s direction and the film\\'s impact on audiences, making it a must-watch for fans and a catalyst for change in adulthood. Despite its flaws, it remains a compelling and thought-provoking film that sheds light on identity crisis and the enduring impact of a young actor\\'s legacy. Ultimately, it stands as a pivotal moment in filmmaking and enduring influence on audiences.'}]\n",
            "Processing movie: Deadpool 2\n",
            "IMDb ID: tt5463162\n",
            "Number of reviews: 17497\n"
          ]
        },
        {
          "output_type": "stream",
          "name": "stderr",
          "text": [
            "Device set to use cpu\n"
          ]
        },
        {
          "output_type": "stream",
          "name": "stdout",
          "text": [
            "Contextual Summary: [{'summary_text': '\"Deadpool 2\" receives mixed reviews, with some praising its humor and cultural references, while others find it predictable and lacking in substance. While some moments are laugh-out-loud, others feel it\\'s more of the same than the first, with Josh Brolin delivering a standout performance. Despite its flaws, the film\\'s attempt at progressive commentary on diversity in superhero films falls short, resulting in a disappointing viewing experience. Overall, it may appeal to fans of over-the-top action comedies but may not reach the heights of its predecessors, making it a must-watch for fans of comic book geeks and fans of all \\'90s-style humor and comic book humor. Regardless, it might not reach its full potential in the coming years, so it may not be a memorable addition to the superhero genre altogether, leaving audiences with a mixed bag of laughs.'}]\n",
            "Processing movie: Bedspacer\n",
            "IMDb ID: tt30524053\n",
            "Number of reviews: 702\n"
          ]
        },
        {
          "output_type": "stream",
          "name": "stderr",
          "text": [
            "Device set to use cpu\n",
            "Your max_length is set to 300, but your input_length is only 200. Since this is a summarization task, where outputs shorter than the input are typically wanted, you might consider decreasing max_length manually, e.g. summarizer('...', max_length=100)\n"
          ]
        },
        {
          "output_type": "stream",
          "name": "stdout",
          "text": [
            "Contextual Summary: [{'summary_text': '\"Single White Female with a Gone Girl twist\" offers a fresh take on Euphoria, featuring a promising young cast.Micaella Raz shines as Lexi, a departure from her usual roles. Aria Bench and Aila Cruz deliver a multi-layered performance, while Rash Flores delivers a menacing performance as Gio. If you are a fan of psychothrillers, you will get what you are looking for, thanks to a stellar cast including JD Aguas and Matt Francisco. \"Positiveness is a must-watch for all fans of psychological thrillers,\" amidst the backdrop of a darkly engrossingly enigmatic elements and a tense yet believable portrayal of the titular titular titular characters. ... a.k.a.e.w. .'}]\n",
            "Processing movie: Captain America: Civil War\n",
            "IMDb ID: tt3498820\n",
            "Number of reviews: 22989\n"
          ]
        },
        {
          "output_type": "stream",
          "name": "stderr",
          "text": [
            "Device set to use cpu\n"
          ]
        },
        {
          "output_type": "stream",
          "name": "stdout",
          "text": [
            "Contextual Summary: [{'summary_text': '\"Marvel\\'s Infinity War\" stands out for its portrayal of Romanian characters, despite some characters feeling shoehorned. Scarlett Johansson shines as Black Widow, while Daniel Bruhl adds depth to Helmut Zemo. While some characters struggle with fleshed out villains, the movie\\'s action sequences and intrigue make it a standout in the series. Despite its low-budget nature, it\\'s a compelling watch, especially for fans of the Marvel Cinematic Universe. Overall, this movie stands as one of the best action thrillers in the genre, even if it falls short of its high-end plot points and lack of depth. Nevertheless, it still stands as a promising entry in the Marvel Universe. Ultimately, it remains a must-watch for those interested in superheroes and psychological intrigue and psychological thriller genre, making it an enjoyable watch for adults.'}]\n",
            "Processing movie: The Terminator\n",
            "IMDb ID: tt0088247\n",
            "Number of reviews: 36886\n"
          ]
        },
        {
          "output_type": "stream",
          "name": "stderr",
          "text": [
            "Device set to use cpu\n"
          ]
        },
        {
          "output_type": "stream",
          "name": "stdout",
          "text": [
            "Contextual Summary: [{'summary_text': '\"The Terminator\" is a gritty action movie that showcases Arnold Schwarzenegger\\'s versatility as a cyborg programmed to kill without mercy or remorse. While some find it entertaining and filled with insane explosions, others appreciate its gritty depiction of our society\\'s prelude to an even more horrific one in 2023. Despite its flaws, the film\\'s gritty portrayal of human survival and the terminator\\'s unstoppable brutality shines through, making it a must-watch for fans of action cinema, especially those seeking inspiration in the genre\\'s dark and ugly affairs. Regardless, it\\'s a compelling and thought-provoking cinematic experience worth watching. \"Arnold\\'s performance shines, making this film a standout in the action genre,\" despite its lack of originality and a memorable cinematic endeavors.'}]\n",
            "Processing movie: Boyka: Undisputed IV\n",
            "IMDb ID tidak ditemukan untuk film Boyka: Undisputed IV\n",
            "Processing movie: Beauty and the Beast\n",
            "IMDb ID: tt0101414\n",
            "Number of reviews: 41741\n"
          ]
        },
        {
          "output_type": "stream",
          "name": "stderr",
          "text": [
            "Device set to use cpu\n"
          ]
        },
        {
          "output_type": "stream",
          "name": "stdout",
          "text": [
            "Contextual Summary: [{'summary_text': '\"Beauty and the Beast\" is hailed as a classic, showcasing meticulous animation and background music. Set against the backdrop of an enchantress disguised as an old hag, the film transforms a young Prince into a hideous beast, leaving him alone in his castle. Hypnotically beautiful, it captivates with its magical ending, making it a must-see for all fans of fairy tales and the entire family. With Celine Dion\\'s theme song, it\\'s praised for its realistic portrayal of love and abuse, offering 90 minutes of mesmerizing fairy tale storytelling that\\'s suitable for all ages and the whole family. Despite its lack of spoilers, it remains a timeless classic, offering an enchanting experience that will delight everyone in its 90-minute-long magical tale setting and captivating storyline. Whether you\\'re a fancier or just aficionado, you\\'ll love and affectionate '}]\n",
            "Processing movie: Demon Slayer -Kimetsu no Yaiba- The Movie: Mugen Train\n",
            "IMDb ID: tt11032374\n",
            "Number of reviews: 10110\n"
          ]
        },
        {
          "output_type": "stream",
          "name": "stderr",
          "text": [
            "Device set to use cpu\n"
          ]
        },
        {
          "output_type": "stream",
          "name": "stdout",
          "text": [
            "Contextual Summary: [{'summary_text': '\"Ufotable\" is a smashing success in the Demon Slayer series, showcasing the incredible animation and fight scenes. Rengoku\\'s portrayal of flame, water, and thunder breathing techniques is breathtaking, making it a must-watch for fans of the series. While some find it underwhelming, others praise its thrill ride, dark humor, and emotional moments. Despite its flaws, it\\'s a decently enjoyable B-Tier anime with a phenomenal episode. Regardless, \"Mugen Train\" stands out for its goofiness and style, offering a unique take on the serial killer demons in the series\\' cult classics. Ultimately, the film stands as a standout in the anime genre, gaining acclaim for its unique blend of humor, humor, comedy, and awe-inspiring storyline and overall, a memorable viewing experience.'}]\n",
            "Processing movie: Indiana Jones and the Dial of Destiny\n",
            "IMDb ID: tt1462764\n",
            "Number of reviews: 27363\n"
          ]
        },
        {
          "output_type": "stream",
          "name": "stderr",
          "text": [
            "Device set to use cpu\n"
          ]
        },
        {
          "output_type": "stream",
          "name": "stdout",
          "text": [
            "Contextual Summary: [{'summary_text': '\"Indy Jones and the Dial of Destiny\" receives mixed reviews, with some praising its nostalgia and action sequences, while others find it lacking in depth and depth. Harrison Ford\\'s portrayal of his goddaughter Helena shines, but the film\\'s attempt to recreate iconic moments feels overly reliant on nostalgia and lacks meaningful twists. While some find it entertaining and enjoyable, others appreciate its callbacks to earlier movies and Harrison\\'s return to action as a hero. Overall, it\\'s an objectively terrible movie that never should have been made, even if it falls short of delivering on its potential and resemblance to classic action blockbuster moments like \"Star Wars\" and \"Star wars\" remains a part of the genre. Despite its flaws, it remains an enjoyable and enjoyable experience for fans of action-packed action-comic moments.'}]\n",
            "Processing movie: The Family Plan\n",
            "IMDb ID: tt16431870\n",
            "Number of reviews: 19525\n"
          ]
        },
        {
          "output_type": "stream",
          "name": "stderr",
          "text": [
            "Device set to use cpu\n"
          ]
        },
        {
          "output_type": "stream",
          "name": "stdout",
          "text": [
            "Contextual Summary: [{'summary_text': '\"The Family Plan\" offers a solid performance from Mark Wahlberg but falls short in execution. While Michelle Monaghan\\'s performance shines, the film\\'s generic plot and generic action elements detract from its overall impact. Despite Wahlberg\\'s efforts, the movie\\'s long runtime and generic plot make it tiresome. However, it\\'s a fun and engaging watch for fans of Mark Walhberg but fails to deliver on his promise of a memorable action movie. Overall, it feels like a mockery, leaving viewers disappointed and uninterested in continuing the story. Ultimately, it leaves viewers wanting more from this family-friendly action flicks like \"Malcolm\" or \"The Last Action Hero\" as well as other action-packed moments. Regardless, it remains a satisfying and enjoyable watch for those willing to invest in a worthwhile investment in action-filled films like \"The First Action Hero.\"'}]\n",
            "Processing movie: Back to the Future\n",
            "IMDb ID: tt0088763\n",
            "Number of reviews: 26441\n"
          ]
        },
        {
          "output_type": "stream",
          "name": "stderr",
          "text": [
            "Device set to use cpu\n"
          ]
        },
        {
          "output_type": "stream",
          "name": "stdout",
          "text": [
            "Contextual Summary: [{'summary_text': '\"Back To The Future\" is a delightful time travel sci-fi and adventure epic comedy released in the 1980s. Michael J. Fox shines as Marty McFly, portraying him as a bumbling high schooler seeking love and a guitar gig. Thomas F. Wilson delivers a standout performance as the Bad boy Biff Tannen, making the film a must-see for fans of the genre. While some may find it lacking in originality, the film\\'s whimsical storyline and clever references keep viewers wanting more. Christopher Lloyd\\'s portrayal adds depth to the film, making it a memorable and entertaining watch for those who enjoy the thrills of time travel and adventure. Overall, it\\'s a compelling and entertaining cinematic experience that will keep viewers coming back for more in the coming years to come. Despite its shortcomings, \"Back to the future\" remains a timeless classic in the genre, offering a unique and memorable viewing experience.'}]\n",
            "Processing movie: Blue Beetle\n",
            "IMDb ID: tt9362930\n",
            "Number of reviews: 30479\n"
          ]
        },
        {
          "output_type": "stream",
          "name": "stderr",
          "text": [
            "Device set to use cpu\n"
          ]
        },
        {
          "output_type": "stream",
          "name": "stdout",
          "text": [
            "Contextual Summary: [{'summary_text': '\"Blue Beetle\" is a B or C grade super hero movie with charm along the way. While some parts feel rushed and low-depth, others get the job done. The film\\'s post-credit scene set it up for a standalone sequel without burdening itself. While it may not break new ground, it\\'s strikingly done with a hint of horror, making it a standout in DC\\'s superhero debut. Despite its flaws, the movie\\'s attempt to inject emotion into the story leaves a lasting impression, though some criticize its portrayal of Latinos and stereotypes. Overall, it remains a niche fanbase who will enjoy it as a worthy entry in the DC hero genre. Regardless, it may be a promising debut for some fans of DC heroes and a newcomer in the genre, despite its lackluster performances and lackluster CGI and poor storytelling.'}]\n",
            "Processing movie: Emmanuelle\n",
            "IMDb ID: tt0071464\n",
            "Number of reviews: 36379\n"
          ]
        },
        {
          "output_type": "stream",
          "name": "stderr",
          "text": [
            "Device set to use cpu\n"
          ]
        },
        {
          "output_type": "stream",
          "name": "stdout",
          "text": [
            "Contextual Summary: [{'summary_text': '\"Emmanuelle\" is a French erotic film set in Bangkok, featuring a young woman who joins her husband for free love. While some find it elegant and charming, others criticize its syrupy pretension and softcore sex scenes. Sylvia Kristel shines in her role, portraying a sexually naive young woman. Despite its flaws, the film offers sensual images and a rare glimpse into the world of love, making it a milestone in cinema history. Whether you like it or hate it, it\\'s a forgettable entry in the era of softcore movies, with some resentment over its lack of sensual moments and dated dialogue. Regardless, it may not be a classic in cinema, but its portrayal of love and lovemaking remains a mythical character\\'s sexuality and societal taboos, resulting in a dull and unengaging viewing experience.'}]\n",
            "Processing movie: Blitz\n",
            "IMDb ID: tt1297919\n",
            "Number of reviews: 30429\n"
          ]
        },
        {
          "output_type": "stream",
          "name": "stderr",
          "text": [
            "Device set to use cpu\n"
          ]
        },
        {
          "output_type": "stream",
          "name": "stdout",
          "text": [
            "Contextual Summary: [{'summary_text': '\"Blitz\" receives mixed reviews, with praise for Paddy Considine and Aiden Gillen, but criticism for lack of originality. While Statham\\'s portrayal shines, Gillen\\'s ball-to-the-wall performance and Barry Weiss\\'s performance add depth. Despite attempts to break down stereotypes, the film\\'s lack of genuine emotion and predictable plot make it unwatchable. While some find it entertaining, others appreciate its realistic setting and solid action sequences, especially in the chase sequences. Overall, it\\'s a disappointing and uninspired Jason Statham flick, albeit one that falls short of delivering memorable performances and memorable character development. Ultimately, it may not be without flaws, but overall, it remains an entertaining and enjoyable watch for fans of adversity and acclaim for a film that may not stand out in the genre. Regardless, despite its shortcomings, it ultimately leaves a lasting impression on viewers and viewers alike.'}]\n",
            "Processing movie: Ana and Bruno\n",
            "IMDb ID tidak ditemukan untuk film Ana and Bruno\n",
            "Processing movie: Let Go\n",
            "IMDb ID: tt27410895\n",
            "Number of reviews: 17300\n"
          ]
        },
        {
          "output_type": "stream",
          "name": "stderr",
          "text": [
            "Device set to use cpu\n"
          ]
        },
        {
          "output_type": "stream",
          "name": "stdout",
          "text": [
            "Contextual Summary: [{'summary_text': '\"Let Go\" captures the essence of family dynamics with raw sincerity, blending conventional storytelling with authentic storytelling. Directed by Josephine Bornebusch, the film navigates complex emotional terrain with honesty and depth, highlighting the complexities of familial relationships and personal growth. Pl Sverre Hagen and Sigrid Johnson deliver outstanding performances, delivering a poignant cinematic experience that resonates long after viewing. Despite occasional ambitions, the movie\\'s honesty and compelling portrayal of human connections make it a compelling contender for the International Feature Film Award at the 2025 Oscars, leaving a lasting impression, urging viewers to embrace change and embrace change amidst the challenges of life\\'s complexities and challenges of living a healthy and happy life. Ultimately, it\\'s considered a gem that stands as a testament to the power of storytelling and storytelling in the face of societal norms.'}]\n",
            "Processing movie: The Accountant\n",
            "IMDb ID: tt2140479\n",
            "Number of reviews: 21292\n"
          ]
        },
        {
          "output_type": "stream",
          "name": "stderr",
          "text": [
            "Device set to use cpu\n"
          ]
        },
        {
          "output_type": "stream",
          "name": "stdout",
          "text": [
            "Contextual Summary: [{'summary_text': '\"The Accountant\" offers a mixed bag of reviews, with praise for Ben Affleck\\'s portrayal of Christian Wolff, a high functioning autistic accountant hired to find faulty accounting practices and embezzlement. While some find the plot solid and entertaining, others criticize its reliance on thriller tropes like Jason Bourne\\'s. Despite its flaws, the film\\'s multi-layered plot and realistic violence make it a compelling watch, especially for those with autism and a desire to learn from their mistakes. Overall, it\\'s a thoroughly engaging thriller with plenty of suspense and tension, making it both entertaining and entertaining for fans of autism and thrillers like \"To Leave Something Behind\" and \"Tolerance\" worth checking out for its enduring enduring character development and characterization aficionado and villainy alike. Regardless, it remains a must-watch for fans and fans of thrillers with affleck and Simmons.'}]\n",
            "Processing movie: Snow White and 7 Wise Men\n",
            "IMDb ID tidak ditemukan untuk film Snow White and 7 Wise Men\n",
            "Processing movie: The Emperor's New Groove\n",
            "IMDb ID: tt0120917\n",
            "Number of reviews: 30861\n"
          ]
        },
        {
          "output_type": "stream",
          "name": "stderr",
          "text": [
            "Device set to use cpu\n"
          ]
        },
        {
          "output_type": "stream",
          "name": "stdout",
          "text": [
            "Contextual Summary: [{'summary_text': '\"The Emperor\\'s New Groove\" offers plenty of laughs with David Spade\\'s portrayal of emperor Kuzco, complemented by a dim-witted sidekick, Kronk. Despite its flaws, the film\\'s slapstick humor and clever twists make it a standout in the animated genre. While it may not break new ground, it offers a refreshing take on a doomed project, despite its obvious shortcomings. Overall, it\\'s an enjoyable watch for adults, offering a taste of zaniness and a stern warning for those who appreciate a fun animated feature with its unique twists and twists. Nonetheless, it falls short of Disney\\'s \"Beauty and the Beast\" in terms of enduring appeal and enduring impact. Regardless of age, it remains a must-watch for fans of upcoming animated feature genres and entertaining viewing experience.'}]\n",
            "Processing movie: Terminator Genisys\n",
            "IMDb ID: tt1340138\n",
            "Number of reviews: 20715\n"
          ]
        },
        {
          "output_type": "stream",
          "name": "stderr",
          "text": [
            "Device set to use cpu\n"
          ]
        },
        {
          "output_type": "stream",
          "name": "stdout",
          "text": [
            "Contextual Summary: [{'summary_text': '\"Genisys\" is a rehash of the original two sci-fi films, with Emilia Clarke delivering a standout performance. While the CGI is good and John Connor\\'s character choices add depth, the story feels convoluted. Despite some references to Cameron\\'s originals, it\\'s a forgettable addition to the genre, leaving viewers with a mixed impression. While it may appeal to fans of Terminator 3, its lack of seriousness and lack of originality leave viewers with mixed feelings about the film\\'s impact on viewers\\' perceptions. Clarke\\'s performance adds depth, but overall, the film falls short of its potential, making it a missed opportunity to delve deeper into the genre\\'s depth. Ultimately, it remains a fun, humorous action flick that deserves recognition as a sequel to T2 and Terminator 3 in the 21st century.'}]\n",
            "Processing movie: Cheeky\n",
            "IMDb ID: tt0200192\n",
            "Number of reviews: 21752\n"
          ]
        },
        {
          "output_type": "stream",
          "name": "stderr",
          "text": [
            "Device set to use cpu\n"
          ]
        },
        {
          "output_type": "stream",
          "name": "stdout",
          "text": [
            "Contextual Summary: [{'summary_text': '\"Tinto Brass\\'s Tra(sgre)dire\" is a cheeky and playful adult film that embraces its soft-porn identity. While some may find it excessive or overly explicit, the film\\'s richness of color and imagery is evident. Despite its flaws, it\\'s a pleasant watch, especially for those seeking a bit of light-hearted entertainment. Mayarchuk\\'s portrayal of a jolly girl romps around London with her boyfriend Matteo, making it a standout in the soft-core genre, showcasing a mixed bag of sexy moments and unspoken storytelling. Overall, \"Cheeky\" stands out as a charming and innocent film with a refreshing take on the erotic genre. However, it may not appeal to all viewers seeking more out of the genre, especially those who enjoy watching a little bit of fun.'}]\n",
            "Processing movie: Shrek Forever After\n",
            "IMDb ID: tt0892791\n",
            "Number of reviews: 35681\n"
          ]
        },
        {
          "output_type": "stream",
          "name": "stderr",
          "text": [
            "Device set to use cpu\n"
          ]
        },
        {
          "output_type": "stream",
          "name": "stdout",
          "text": [
            "Contextual Summary: [{'summary_text': '\"Shrek 4\" delivers on its promise of reuniting Shrek with his friends, albeit with some predictable moments. Mike Myers and Cameron Diaz deliver solid performances, especially from Eddie Murphy. While the film\\'s premise may not be classic, it gives us a chance to warm up with the characters and discover new reasons to love them. Despite its flaws, it offers some genuine laughs and a rich storyline, particularly in its fantasy adventure aspect. While it may not reach the heights of its predecessor, \"Strengthening\" is a worthwhile watch, even if it falls short of delivering on the franchise\\'s potential. Overall, it\\'s an entertaining and enjoyable watch with some genuine moments of genuine fun and memorable moments, making it a standout in the animated genre. Regardless, it may be a worthy contender for a sequel with a potential to reviving franchises.'}]\n",
            "Processing movie: Scream\n",
            "IMDb ID: tt0117571\n",
            "Number of reviews: 45219\n"
          ]
        },
        {
          "output_type": "stream",
          "name": "stderr",
          "text": [
            "Device set to use cpu\n"
          ]
        },
        {
          "output_type": "stream",
          "name": "stdout",
          "text": [
            "Contextual Summary: [{'summary_text': '\"Scream\" by Wes Craven is a brilliant slasher film that redefines the genre with \"Nightmare on Elm Street.\" While some find it tired, others appreciate its fresh approach and gore-filled moments. Despite its meta-parody, it manages to amuse and scare with its tongue in cheek. Courtney Cox shines as a believable virgin, but the film\\'s meta-paradise may not resonate with all audiences. Overall, it\\'s a good teen horror movie worth a watch, even if you\\'re not a fan of teen genres like \"Resident Evil\" or \"Redemption\" a bit too much for it to truly stand out in the genre\\'s overall appeal, making it a must-watch for fans of the genre and those who enjoy the thrills of tense action and witty characters.'}]\n",
            "Processing movie: Beetlejuice\n",
            "IMDb ID: tt0094721\n",
            "Number of reviews: 29916\n"
          ]
        },
        {
          "output_type": "stream",
          "name": "stderr",
          "text": [
            "Device set to use cpu\n"
          ]
        },
        {
          "output_type": "stream",
          "name": "stdout",
          "text": [
            "Contextual Summary: [{'summary_text': '\"Beetlejuice (1988)\" features Michael Keaton as a bombastic conman summoned by Beetle Juice, despite some overblown scenes and a rushed finale. Tim Burton\\'s direction carefully avoids raunch, crafting a comic fantasy about dead folks celebrating life. While the film\\'s premise may not resonate with all audiences, its inventiveness and cynical twists make it a standout in the genre, showcasing the filmmaker\\'s visionary talent. Keatson\\'s performance adds depth, but the film ultimately ends with a satisfying climax that veers disbelief but ultimately leaves a lasting impression, offering a fresh dimension of humour and suspenseful storytelling. Despite its oddball premise, \"Beetlesjuice\" remains a compelling and thought-provoking exploration of ghosts and life\\'s potential in the making.'}]\n",
            "Processing movie: Real Steel\n",
            "IMDb ID: tt0433035\n",
            "Number of reviews: 32316\n"
          ]
        },
        {
          "output_type": "stream",
          "name": "stderr",
          "text": [
            "Device set to use cpu\n"
          ]
        },
        {
          "output_type": "stream",
          "name": "stdout",
          "text": [
            "Contextual Summary: [{'summary_text': '\"Real Steel\" offers a nostalgic look at the future with futuristic tech, with Hugh Jackman, Dakota Goyo, and Evangeline Lilly leading the charge. While some critics find it unrealistic, Jackman\\'s portrayal of fatherhood is well-acted. The film\\'s references to toys and video games add depth, but it falls short of its potential. Despite its flaws, it\\'s a family movie that captivates with its family bonding themes and realistic action sequences, making it a great family movie for older kids, even if it falls into a repackaged formula. Overall, it may not reach the heights of other blockbuster status, but Jackman and the robot\\'s performances add depth to the overall experience. Regardless, it remains a memorable and enjoyable viewing experience for older audiences with its characterization and storyline and overall, it leaves a lasting impression with its overall impact on viewers.'}]\n",
            "Processing movie: Se7en\n",
            "IMDb ID: tt0114369\n",
            "Number of reviews: 19104\n"
          ]
        },
        {
          "output_type": "stream",
          "name": "stderr",
          "text": [
            "Device set to use cpu\n"
          ]
        },
        {
          "output_type": "stream",
          "name": "stdout",
          "text": [
            "Contextual Summary: [{'summary_text': '\"Seven\" is a gripping gothic thriller that follows two detectives in present New York City as they solve a puzzle involving a serial killer using the deadly sins as his M.O. Kevin Spacey shines in a small role, while Brad Pitt delivers a meatier performance as John Doe. Director David Fincher\\'s timeless directing captures the essence of horror and mystery, offering a glimpse into the harsh realities of life and the darkest realms of the human soul. Gwyneth Paltrow shines as Mill\\'s uneasy wife, while Morgan Freeman\\'s performance adds depth to the film, making it a memorable and memorable watch for fans of psychological thrillers and the enduring power of suspense and mystery. Ultimately, it\\'s a must-watch for fans eager to explore the complexities of the psychological thriller genre, leaving a lasting impact on audiences.'}]\n",
            "Processing movie: Gran Turismo\n",
            "IMDb ID: tt4495098\n",
            "Number of reviews: 24589\n"
          ]
        },
        {
          "output_type": "stream",
          "name": "stderr",
          "text": [
            "Device set to use cpu\n"
          ]
        },
        {
          "output_type": "stream",
          "name": "stdout",
          "text": [
            "Contextual Summary: [{'summary_text': '\"Gran Turismo (2023)\" is a breathtaking true story racing film that blends thrills, family drama, and thrilling video games. While David Harbour delivers a standout performance, Djimon Hounsou steals scenes with emotional baggage. Despite some unreality issues, the film delivers impressive racing sequences and impressive location work. Director Archie Madekwe shines as Jann, a keen gamer who struggles to succeed in the real world. While not without flaws, it\\'s a compelling children\\'s film that showcases the power of storytelling and action sequences, even if it falls short of delivering a true story. Overall, it remains a visually stunning and thought-provoking cinematic experience that could stand out as a classic in the genre. Ultimately, it falls into the genre of low-budget racing movies, lacking the depth and depth needed to stand out in this genre.'}]\n",
            "Processing movie: Madame Web\n",
            "IMDb ID: tt11057302\n",
            "Number of reviews: 29352\n"
          ]
        },
        {
          "output_type": "stream",
          "name": "stderr",
          "text": [
            "Device set to use cpu\n"
          ]
        },
        {
          "output_type": "stream",
          "name": "stdout",
          "text": [
            "Contextual Summary: [{'summary_text': '\"Madame Web\" receives mixed reviews, with some praising its formulaic storyline and underdeveloped characters. While some find it entertaining and entertaining, others criticize its lack of emotional connection or lack of originality. Despite its flaws, it\\'s a disappointing entry in the comic book genre, with a current rating of 3.7. The film\\'s lack of talent and lack of a cohesive narrative make it a forgettable addition to the franchise, even if it could have been remade into a better version of \"Morbius\" and \"Marshall\" being criticized for their lack of creativity and a lack of cohesiveness in storytelling. Ultimately, \"Mama Web\" remains a waste of time and money, leaving audiences disappointed and disappointed in its execution. Regardless of its potential, it may not be a breakthrough of any kind, but it may have contributed to its resentment and criticism.'}]\n",
            "Processing movie: Kung Fu Panda 3\n",
            "IMDb ID: tt2267968\n",
            "Number of reviews: 32336\n"
          ]
        },
        {
          "output_type": "stream",
          "name": "stderr",
          "text": [
            "Device set to use cpu\n"
          ]
        },
        {
          "output_type": "stream",
          "name": "stdout",
          "text": [
            "Contextual Summary: [{'summary_text': '\"Kung Fu Panda 3\" fails to deliver on its promise of laughter and entertainment, focusing instead on a tired \"be yourself\" morality. Despite Jack Black\\'s stellar performances, the film lacks the depth of its predecessors, lacking the originality needed to deliver genuine entertainment. While it offers moments of humor and solid entertainment, it falls short of delivering the high scores expected from previous installments. Overall, it\\'s a treat for both parents and children, showcasing the best animation from DreamWorks and delivering a satisfying blend of family entertainment and family entertainment, making it a must-watch for fans of kung fu films and other animated part 3s alike, regardless of whether or not a fan base or a specific genre. Regardless, it remains a worthwhile investment for fans and a memorable viewing experience for those interested in animation and family-friendly entertainment. \\'\\'Be yourself\\'\\' morals and entertainment worth a watch.'}]\n",
            "Processing movie: Skinford 2: The Curse\n",
            "IMDb ID: tt27303284\n",
            "Number of reviews: 0\n"
          ]
        },
        {
          "output_type": "stream",
          "name": "stderr",
          "text": [
            "Device set to use cpu\n",
            "Your max_length is set to 300, but your input_length is only 3. Since this is a summarization task, where outputs shorter than the input are typically wanted, you might consider decreasing max_length manually, e.g. summarizer('...', max_length=1)\n"
          ]
        },
        {
          "output_type": "stream",
          "name": "stdout",
          "text": [
            "Contextual Summary: [{'summary_text': '. - (IT) - 0 - 1 - 2 - 3 - 4 - 5 - 6 - 7 - 8 - 9 - 10 - 11 - 12 - 13 - 14 - 15 - 16 - 18 - 19 - 20 - 21 - 23 - 24 - 25 - 26 - 28 - 30 - 40 - 50 - 60 - 70 - 80 - 90 - 100 - 150 - 140 - 120 - 130 -140 - 45 - 34 - 35 - 44 -35 - 38 -34 - 41 - 39 - 42 - 43 - 64 - 36 - 33 - 31 - 32 - 46 - 49 - 54 --41 -46 -49 -48 -44 -'}]\n",
            "Processing movie: Porno\n",
            "IMDb ID: tt8485772\n",
            "Number of reviews: 20241\n"
          ]
        },
        {
          "output_type": "stream",
          "name": "stderr",
          "text": [
            "Device set to use cpu\n"
          ]
        },
        {
          "output_type": "stream",
          "name": "stdout",
          "text": [
            "Contextual Summary: [{'summary_text': '\"Mr. Pike\" follows a group of religious teens who stumble upon a strange movie reel and discover they\\'re working at a cursed movie theater. Despite its flaws, the film offers moments of horror and gore, especially for fans of exploitative horror movies. While some find it stretched out and lacking in depth, others appreciate its solid performances and comedic relief. Overall, it\\'s a decent but not great movie if you\\'re into trashy horror movies with a focus on small town religious observance in small town religions. However, others find it lacking depth and suspenseful exploration of a bizarre movie reel that unleashes the horror within. Ultimately, it falls short of its potential, leaving audiences wanting more from this upcoming installment in a more engaging and thought-provoking horror genre akin to a cult horror genre indie feel-comedy genre.'}]\n",
            "Processing movie: Miraculous: Ladybug & Cat Noir, The Movie\n",
            "IMDb ID: tt10364034\n",
            "Number of reviews: 13114\n"
          ]
        },
        {
          "output_type": "stream",
          "name": "stderr",
          "text": [
            "Device set to use cpu\n"
          ]
        },
        {
          "output_type": "stream",
          "name": "stdout",
          "text": [
            "Contextual Summary: [{'summary_text': '\"Miraculous: Ladybug and Cat Noir, The Movie\" drew mixed reviews, with some finding it corny at times and others finding it rushed and overly focused on the love between characters. While some appreciated the animation and the storyline, others felt it didn\\'t fully align with the show\\'s storyline. However, Jeremy\\'s listening to the fans\\' requests made up for it, with Marinette and Adrien capturing their original animation beautifully. Overall, it\\'s a great addition to the Miraculous franchise, especially for those with little to no idea about the lore at all. Despite its flaws, the film\\'s execution and characters make it a memorable viewing experience, even if it falls short of delivering on its promise. Ultimately, \"Mandalone\" was a forgettable entry in the franchise\\'s future, leaving a lasting impression on viewers.'}]\n",
            "Processing movie: Up\n",
            "IMDb ID: tt1049413\n",
            "Number of reviews: 31206\n"
          ]
        },
        {
          "output_type": "stream",
          "name": "stderr",
          "text": [
            "Device set to use cpu\n"
          ]
        },
        {
          "output_type": "stream",
          "name": "stdout",
          "text": [
            "Contextual Summary: [{'summary_text': '\"Up\" is a Pixar masterpiece, starring Carl Fredricksen and scout Russell, directed by Pete Docter and Bob Peterson. Despite teenage boredom, the film\\'s emotional depth and touching soundtrack elevate it. Carl Frederickson (Ed Asner) is portrayed as a young boy who dreams of exploring Paradise Falls. While some find it cartoony, others praise its emotional depth, vivid imagery, and heartfelt emotion. Regardless of age, it\\'s a must-see for anyone seeking pure fun with its jaw-dropping chase scenes and thematic moments, making it a standout in Pixard\\'s animation. Overall, \"Underground\" remains a compelling and thought-provoking cinematic experience that resonates with those over age 40 who hasn\\'t taken time to pursue their childhood dreams in a different way. Whether you like it or hate it, watch it now or in the future.'}]\n",
            "Processing movie: Jackpot!\n",
            "IMDb ID: tt26940324\n",
            "Number of reviews: 22241\n"
          ]
        },
        {
          "output_type": "stream",
          "name": "stderr",
          "text": [
            "Device set to use cpu\n"
          ]
        },
        {
          "output_type": "stream",
          "name": "stdout",
          "text": [
            "Contextual Summary: [{'summary_text': '\"Jackpot!\" offers a mix of action and comedy, with John Cena and Nora Awkwafina delivering solid performances. While some find it predictable and lacking originality, others appreciate its chemistry and action sequences. Despite its predictable plot, the film\\'s reliance on tired clichés and juvenile dialogue make it a forgettable entry in the comedic genre. However, it\\'s worth a watch if you\\'re looking for a relaxing movie to watch to relax and recharge your batteries a bit more than just a few minutes apiece. Overall, \"Junction!\" is a decent but not groundbreaking cinematic endeavor that falls short of the top-tier comedic achievements of the \\'90s comedies, making it an entertaining watch for fans of violent cartoons and adolescent comedy. Regardless, it may not appeal to fans of classic comedies and entertainment value.'}]\n",
            "Processing movie: Man of Steel\n",
            "IMDb ID: tt0770828\n",
            "Number of reviews: 16323\n"
          ]
        },
        {
          "output_type": "stream",
          "name": "stderr",
          "text": [
            "Device set to use cpu\n"
          ]
        },
        {
          "output_type": "stream",
          "name": "stdout",
          "text": [
            "Contextual Summary: [{'summary_text': '\"Man of Steel\" is a visually stunning superhero film, showcasing Zack Snyder\\'s direction and Hans Zimmer\\'s score. While some find it dark and lacking depth, others appreciate its chemistry between Snyder and Cavill. The film\\'s action scenes are intense and powerful, backed by meaningful stakes that elevate it above typical superhero fare. Despite its flaws, it\\'s a truly unforgettable experience, celebrating Superman\\'s quest for his identity and the complexities of his quest. Overall, it remains a must-watch for adults, offering a unique and unforgettable viewing experience that stands out from other superhero films in its own right, making it a true cinematic gem that deserves recognition for its unique approach to storytelling and action scenes and action cinematic magic. Whether you\\'re a fan of DC\\'s original storytelling or just aficionados, \"man of steel\" remains an unforgettable experience that will last a lifetime into the superhero genre.'}]\n",
            "Processing movie: Taken\n",
            "IMDb ID: tt0936501\n",
            "Number of reviews: 27532\n"
          ]
        },
        {
          "output_type": "stream",
          "name": "stderr",
          "text": [
            "Device set to use cpu\n"
          ]
        },
        {
          "output_type": "stream",
          "name": "stdout",
          "text": [
            "Contextual Summary: [{'summary_text': '\"Taken\" offers a riveting portrayal of Liam Neeson\\'s quest for revenge against Albanian baddies, blending action sequences with emotional depth. While some critics find the plot preachy, the film\\'s deft hacking skills and emotional depth elevate it above typical genre fare. Bryan Mills\\' tenacity and resourcefulness shine through, making him a compelling villain in this action movie. Despite its long runtime and American humor, it\\'s a standout in the action genre, challenging viewers to consider the limits of family violence and family violence, making it a must-watch for fans of action movies and its enduring impact on audiences. Ultimately, it stands as a testament to the power of action films and its impact on the genre\\'s impact on humanity and action films, resonating with its emotional core and enduring relevance in a cinematic endeavors of its genre.'}]\n",
            "Processing movie: Spider-Man: Far From Home\n",
            "IMDb ID: tt6320628\n",
            "Number of reviews: 13161\n"
          ]
        },
        {
          "output_type": "stream",
          "name": "stderr",
          "text": [
            "Device set to use cpu\n"
          ]
        },
        {
          "output_type": "stream",
          "name": "stdout",
          "text": [
            "Contextual Summary: [{'summary_text': '\"Spider-Man: Far from Home\" receives mixed reviews, with praise for Tom Holland\\'s performance and Jake Gyllanhall\\'s strong performance. While some find it disappointing, others praise its entertaining sequel and strong visual effects. Director Jon Watts returns to direct another Spider-Man movie, due out in 2021. Despite its flaws, the film\\'s diverse cast and engaging storytelling make it a satisfying addition to the Marvel Cinematic Universe. While it may not break new ground, fans of the genre will appreciate its unique approach to storytelling and storytelling. Overall, it\\'s a compelling and satisfying sequel that stands out in its genre and its unique storytelling. Regardless of its shortcomings, \"Homecoming\" remains a must-watch for fans of Marvel storytelling and action-packed cinematic experiences. Ultimately, it remains an entertaining and memorable cinematic experience worth reaffirming amidst adversity.'}]\n",
            "Processing movie: Minions: The Rise of Gru\n",
            "IMDb ID: tt5113044\n",
            "Number of reviews: 13395\n"
          ]
        },
        {
          "output_type": "stream",
          "name": "stderr",
          "text": [
            "Device set to use cpu\n"
          ]
        },
        {
          "output_type": "stream",
          "name": "stdout",
          "text": [
            "Contextual Summary: [{'summary_text': '\"Minions: Rise of Gru\" is a family-friendly animated film aimed at kids with a focus on the minions. While some find it entertaining and charming, others criticize its lack of a true plot or creative ideas. Despite its flaws, the film offers memorable moments and references to the \\'60s and \\'70s, making it a must-watch for both children and adults. With its heavy-duty voice acting and memorable moments, it\\'s a great addition to the franchise, especially in this era of commercialization and franchises. Overall, it may not be the best Despicable Me / Minions movie, but its charm and humor make it worth a one-time watch for both adults and kids alike, offering a fun and memorable experience for both kids and adults alike. Regardless, it remains a standout in the animated genre and a worthwhile watch for fans of the franchise.'}]\n",
            "Processing movie: Whiplash\n",
            "IMDb ID: tt2582802\n",
            "Number of reviews: 33110\n"
          ]
        },
        {
          "output_type": "stream",
          "name": "stderr",
          "text": [
            "Device set to use cpu\n"
          ]
        },
        {
          "output_type": "stream",
          "name": "stdout",
          "text": [
            "Contextual Summary: [{'summary_text': '\"Whiplash\" is a visually striking exploration of the physicality of drumming, executed with such ferocity and intelligence that it feels fresh. J.K. Simmons delivers an outstanding performance as Andrew, a first year student at an elite Manhattan music conservatory. Director Damien Chazelle captures the essence of music with conviction, while Miles Teller shines in a breakthrough role. While the film\\'s brevity and emotional depth make it a compelling watch, especially for fans of low-budget cinema, it\\'s notable for its chemistry with Simmons and Teller\\'s on screen chemistry. Despite its flaws, \"whiplash\" remains a promising entry in the genre, offering a fresh perspective on societal norms of nurturing and intimidation, making it an exciting and thought-provoking cinematic experience worth exploring. Regardless of whether or not, \"WHIPlash\" stands as a testament to the talent of its genre and its enduring impact on audiences.'}]\n",
            "Processing movie: The Concierge\n",
            "IMDb ID: tt7673706\n",
            "Number of reviews: 0\n"
          ]
        },
        {
          "output_type": "stream",
          "name": "stderr",
          "text": [
            "Device set to use cpu\n",
            "Your max_length is set to 300, but your input_length is only 3. Since this is a summarization task, where outputs shorter than the input are typically wanted, you might consider decreasing max_length manually, e.g. summarizer('...', max_length=1)\n"
          ]
        },
        {
          "output_type": "stream",
          "name": "stdout",
          "text": [
            "Contextual Summary: [{'summary_text': '. - (IT) - 0 - 1 - 2 - 3 - 4 - 5 - 6 - 7 - 8 - 9 - 10 - 11 - 12 - 13 - 14 - 15 - 16 - 18 - 19 - 20 - 21 - 23 - 24 - 25 - 26 - 28 - 30 - 40 - 50 - 60 - 70 - 80 - 90 - 100 - 150 - 140 - 120 - 130 -140 - 45 - 34 - 35 - 44 -35 - 38 -34 - 41 - 39 - 42 - 43 - 64 - 36 - 33 - 31 - 32 - 46 - 49 - 54 --41 -46 -49 -48 -44 -'}]\n",
            "Processing movie: Purpose of Reunion\n",
            "IMDb ID: tt5987506\n",
            "Number of reviews: 0\n"
          ]
        },
        {
          "output_type": "stream",
          "name": "stderr",
          "text": [
            "Device set to use cpu\n",
            "Your max_length is set to 300, but your input_length is only 3. Since this is a summarization task, where outputs shorter than the input are typically wanted, you might consider decreasing max_length manually, e.g. summarizer('...', max_length=1)\n"
          ]
        },
        {
          "output_type": "stream",
          "name": "stdout",
          "text": [
            "Contextual Summary: [{'summary_text': '. - (IT) - 0 - 1 - 2 - 3 - 4 - 5 - 6 - 7 - 8 - 9 - 10 - 11 - 12 - 13 - 14 - 15 - 16 - 18 - 19 - 20 - 21 - 23 - 24 - 25 - 26 - 28 - 30 - 40 - 50 - 60 - 70 - 80 - 90 - 100 - 150 - 140 - 120 - 130 -140 - 45 - 34 - 35 - 44 -35 - 38 -34 - 41 - 39 - 42 - 43 - 64 - 36 - 33 - 31 - 32 - 46 - 49 - 54 --41 -46 -49 -48 -44 -'}]\n",
            "Processing movie: Status Update\n",
            "IMDb ID: tt5692390\n",
            "Number of reviews: 9677\n"
          ]
        },
        {
          "output_type": "stream",
          "name": "stderr",
          "text": [
            "Device set to use cpu\n"
          ]
        },
        {
          "output_type": "stream",
          "name": "stdout",
          "text": [
            "Contextual Summary: [{'summary_text': '\"Status Update\" offers a mixed bag of reviews, with some praising its fun, but others find it predictable and predictable. Despite some cool casting choices, the film captures the magic of wishes coming true. The story revolves around a California skate boarder who has to move to Connecticut and enter a new high school. While it may not be special, the storyline between him and his dad is brilliant. Ross Lynch\\'s performance and Harvey Guillen\\'s standout performance elevate the film, making it a must-watch for fans of Disney\\'s Disney classics, especially Troy Bolton\\'s lack of a magical phone and predictable plot points. Overall, it\\'s a fun, if not groundbreaking, viewing experience worth exploring. Regardless of its shortcomings, \"State-up\" remains a classic classic with a twist on the classic Disney classic era of footloose era charm and a modern twist on life.'}]\n",
            "Processing movie: Private call\n",
            "IMDb ID: tt0313966\n",
            "Number of reviews: 6394\n"
          ]
        },
        {
          "output_type": "stream",
          "name": "stderr",
          "text": [
            "Device set to use cpu\n"
          ]
        },
        {
          "output_type": "stream",
          "name": "stdout",
          "text": [
            "Contextual Summary: [{'summary_text': '\"Deviant Desires\" is a hardcore porn movie with attractive performances, especially from Rosemarie Flower. While some find it attractive and entertaining, others criticize its recycled plot and substandard scripting. However, Flower\\'s sex scenes and Brad Bartram\\'s music elevate the film, making it a must-watch for those with access to Cinemax or Showtime 2. Despite its flaws, it\\'s still a great example of a new kind of porn, dubbed \"middlecore\" in the sexist genre, offering a variety of genres like \"Valentine\" and \"Innocence Betrayed.\" Overall, I\\'m a fan of the film\\'s unique take on the genre\\'s appeal in the past few years, and it\\'ll stand out in the genre in the coming years. Regardless, it may not break new ground in the porn genre fans.'}]\n",
            "Processing movie: Babygirl\n",
            "IMDb ID: tt30057084\n",
            "Number of reviews: 18396\n"
          ]
        },
        {
          "output_type": "stream",
          "name": "stderr",
          "text": [
            "Device set to use cpu\n"
          ]
        },
        {
          "output_type": "stream",
          "name": "stdout",
          "text": [
            "Contextual Summary: [{'summary_text': '\"Babygirl\" attempts to portray older women as unhinged predators while glorifying the male gaze, resulting in a predictable storyline and unconvincing performances. While Nicole Kidman\\'s acting style may not resonate with all audiences, the film\\'s erotic elements are tastefully done but may feel uncomfortable or controversial for some viewers. Despite its flaws, it highlights the importance of empowered relationships, highlighting the complexities of aging and societal norms. Ultimately, \"Babagirl\" fails to capture the essence of human relationships, leaving audiences wanting more from its portrayal of older women\\'s roles. Regardless, it\\'s an exercise in humiliation for its female audience, leaving a lasting impression on its overall impact on the film and its potential impact on female audiences. Nevertheless, it may not reach its full potential, but it could lead to a positive impact on younger actors and their potential.'}]\n",
            "Processing movie: The Equalizer 2\n",
            "IMDb ID: tt3766354\n",
            "Number of reviews: 16397\n"
          ]
        },
        {
          "output_type": "stream",
          "name": "stderr",
          "text": [
            "Device set to use cpu\n"
          ]
        },
        {
          "output_type": "stream",
          "name": "stdout",
          "text": [
            "Contextual Summary: [{'summary_text': '\"Equalizer\" receives mixed reviews, with some praising Denzel Washington\\'s performance as Robert McCall, while others find it predictable and lacking in connection. While some praise its action sequences and suspense, others criticize its lack of cohesiveness. Despite some strong performances, especially from Washington, the sequel lacks the depth of its predecessor, leaving a lasting impression on viewers. Overall, it\\'s a solid action movie with action packed moments and a strong plot, especially for fans of action-packed movies like \"Crank type\" and \"Van Damme.\" Washington is a standout in the action genre, making it a contender for a sequel with plenty of action packed action packed thrills and believable characters, even amidst a lack of originality in character development and execution. Regardless, it may not be a long-term success, but it could stand to benefit from a stronger franchise with better execution and character development.'}]\n",
            "Processing movie: House of Ga'a\n",
            "IMDb ID: tt31691318\n",
            "Number of reviews: 7553\n"
          ]
        },
        {
          "output_type": "stream",
          "name": "stderr",
          "text": [
            "Device set to use cpu\n"
          ]
        },
        {
          "output_type": "stream",
          "name": "stdout",
          "text": [
            "Contextual Summary: [{'summary_text': '\"House of Ga\\'a\" delivers a remarkable portrayal of Nigeria\\'s history and culture, with outstanding performances, especially from the lead character Femi branch. While some find it relatable and the storyline impeccable, others find it lacking in charisma. Despite its flaws, the film\\'s characterization and directing are top-notch, elevating it above expectations. Kudos to the entire cast for delivering this remarkable film, showcasing the rich heritage of Yoruba war films. With its high-stakes fight scenes, easy-to-follow yet complex plot and characters, it\\'s an interesting watch from start to finish, making it a must-watch for those interested in historical films with depth and depth in storytelling and storytelling. Ultimately, it remains a compelling and thought-provoking exploration of power and corruption in Nigerian history and cultural heritage in filmmaking and storytelling in general, resulting in a memorable cinematic experience that resonates with audiences.'}]\n",
            "Processing movie: Prisoners\n",
            "IMDb ID: tt1392214\n",
            "Number of reviews: 32646\n"
          ]
        },
        {
          "output_type": "stream",
          "name": "stderr",
          "text": [
            "Device set to use cpu\n"
          ]
        },
        {
          "output_type": "stream",
          "name": "stdout",
          "text": [
            "Contextual Summary: [{'summary_text': '\"Prisoners\" presents a sensitive portrayal of two missing girls, portrayed by Hugh Jackman. Jake Gyllenhaal delivers a standout performance as Detective Loki, navigating the mystery of a stolen child. While the film\\'s slow pace and intense emotions make it empathizing, it also manages to never take a rest on character building and story development. It\\'s a testament to Jackman\\'s ability to move into bigger star larger scaled films with ease, especially in the direction of \"Les Miserables.\" Despite occasional pacing issues, the movie\\'s intense emotions and intriguing characters make it a memorable viewing experience, especially for those unfamiliar with serial killers like Alex Jones and the premise of the film. Ultimately, it\\'s important to watch for all involved in a film noir genre like \"prisoners,\" a genre that isn\\'t perfect.'}]\n",
            "Processing movie: Pride & Prejudice\n",
            "IMDb ID: tt3169706\n",
            "Number of reviews: 31123\n"
          ]
        },
        {
          "output_type": "stream",
          "name": "stderr",
          "text": [
            "Device set to use cpu\n"
          ]
        },
        {
          "output_type": "stream",
          "name": "stdout",
          "text": [
            "Contextual Summary: [{'summary_text': '\"Pride\" is a poignant exploration of friendship and solidarity in a bleak period of British history. While some find it difficult to watch, others praise its emotional depth and strong character development. The film\\'s budget is fair, but its portrayal of two completely different worlds resonates deeply. Despite its political correctness, it\\'s a must-see for those seeking a feel-good story about solidarity and solidarity. It\\'s also a powerful reminder of the power of partnering, especially in the face of hate and identity politics. Overall, \"Pirate\" stands out as a compelling and thought-provoking film that inspires and inspires people to stand out in the LGBTQ community\\'s activism. Ultimately, it may not be a huge blockbuster status, but it may resonate with some viewers. Regardless of its origins, \"Prince\" remains a moving and moving exploration of adversity and unity in activism.'}]\n",
            "Processing movie: Inglourious Basterds\n",
            "IMDb ID: tt0361748\n",
            "Number of reviews: 23682\n"
          ]
        },
        {
          "output_type": "stream",
          "name": "stderr",
          "text": [
            "Device set to use cpu\n"
          ]
        },
        {
          "output_type": "stream",
          "name": "stdout",
          "text": [
            "Contextual Summary: [{'summary_text': '\"Inglourious Basterds\" by Quentin Tarantino is hailed as a classic WWII film, blending comedy with dark moments and delivering memorable moments. While some find it entertaining and entertaining, others criticize its lack of casting talent. Despite its flaws, the film\\'s tension and laugh-out-loud moments make it a must-watch for fans of his work, showcasing his talent for balancing humor and suspense. With its blend of comedy and dark moments, it\\'s a cinematic roller coaster ride worth a watch if you\\'re looking for a gripping portrayal of a WW2 tale set against a backdrop of bloody sexism and a dark, enigmatic atmosphere, despite its ambiguities, making it an entertaining and memorable experience worth resonating with fans of pulp fiction alike.'}]\n",
            "Processing movie: Eternal Sunshine of the Spotless Mind\n",
            "IMDb ID: tt0338013\n",
            "Number of reviews: 28764\n"
          ]
        },
        {
          "output_type": "stream",
          "name": "stderr",
          "text": [
            "Device set to use cpu\n"
          ]
        },
        {
          "output_type": "stream",
          "name": "stdout",
          "text": [
            "Contextual Summary: [{'summary_text': '\"Eternal Sunshine of the Spotless Mind\" is a visually stunning and emotionally engaging love fable set in L.A. starring Jim Carrey and Kate Winslet. Directed by Valds skarsdóttir, the film\\'s surrealism and realism blend beautifully, capturing the heartbreak of a man who falls for his feisty girlfriend, Clementine Kruczynski. While some criticize its over-direction, Gondry\\'s direction and Ellen Kuras\\' performances elevate the film, delivering a poignant message about love and loss. Overall, it\\'s a brilliantly constructed story that\\'s both stunningly beautiful and emotionally engaging, making it a must-watch for cinephiles and fans of great films alike. Despite its flaws, \"eternal sunshine\" stands as a standout in American cinema.'}]\n",
            "Processing movie: Pacific Rim\n",
            "IMDb ID: tt1663662\n",
            "Number of reviews: 21225\n"
          ]
        },
        {
          "output_type": "stream",
          "name": "stderr",
          "text": [
            "Device set to use cpu\n"
          ]
        },
        {
          "output_type": "stream",
          "name": "stdout",
          "text": [
            "Contextual Summary: [{'summary_text': '\"PACIFIC RIM\" is Guillermo del Toro\\'s tribute to kaiju and Japanese sci-fi movies, blending visual effects with massive action. While some critics find it lacking cutting edge or lackluster performances, it delivers entertaining moments and a satisfying ending. Despite some minor pacing issues, the film\\'s dark atmosphere and sinister events make it a worthwhile watch, even if it may not reach the heights of other films like \"Man of Steel.\" Overall, \"Pacific Rim\" is a fun and thought-provoking tribute to dark atmospheres and dark events in a B-movie genre, despite some minor moments of underwhelming action and sub-par performances, making it worth a watch for fans of dark cinema and action movies like \"Major\" and \"Pink Floyd\" in its overall impact. Regardless, it\\'s a must-watch for those interested in dark cinema.'}]\n",
            "Processing movie: Jujutsu Kaisen 0\n",
            "IMDb ID: tt14331144\n",
            "Number of reviews: 23880\n"
          ]
        },
        {
          "output_type": "stream",
          "name": "stderr",
          "text": [
            "Device set to use cpu\n"
          ]
        },
        {
          "output_type": "stream",
          "name": "stdout",
          "text": [
            "Contextual Summary: [{'summary_text': '\"Yuta vs. Geto\" receives mixed reviews, with some praising its heartwarming story and animation, while others find it disappointing and lacking depth. Despite this, the movie\\'s strong performances and nuanced characters make it a must-watch for fans of JJK. While it may not be worth a theater visit, it\\'s a great addition to the series, especially for those who enjoy a bit more depth in their characters. Overall, the film\\'s portrayal of Okkutsu\\'s struggle is praised for its emotional depth and emotional depth, though some criticize its lack of depth in character depth and relevance in the main series, making it worth watching for those willing to commit to a long-term commitment to the film itself, especially amidst its overall impact on the series\\'s future endeavors, but overall, it remains a worthwhile watch for those with apprehensions.'}]\n",
            "Processing movie: SPY x FAMILY CODE: White\n",
            "IMDb ID: tt26684398\n",
            "Number of reviews: 18927\n"
          ]
        },
        {
          "output_type": "stream",
          "name": "stderr",
          "text": [
            "Device set to use cpu\n"
          ]
        },
        {
          "output_type": "stream",
          "name": "stdout",
          "text": [
            "Contextual Summary: [{'summary_text': '\"Spy x Family: Code White\" brings the beloved manga series to life in an electrifying cinematic experience. Despite some inconsistencies, the film offers entertaining entertainment for fans of the series and fans of anime. While it may not be entirely original, the characters deliver an adventure that avoids repetitive combat scenes. The film\\'s action sequences and Bond\\'s presence add excitement, but it\\'s worth a watch if you\\'re a fan of the franchise or just want to enjoy an anime movie that extends a running series in a memorable experience. Overall, it\\'ll entertain both kids and adults alike, making it a solid addition to the anime genre and a worthwhile watch for those who enjoy the thrills of the action and suspenseful cinematic experiences it creates in the franchise\\'s originality and originality that makes it an enjoyable watch for fans and fans alike alike. \\'############ #####!'}]\n",
            "Processing movie: Karate Kid: Legends\n",
            "IMDb ID: tt1674782\n",
            "Number of reviews: 0\n"
          ]
        },
        {
          "output_type": "stream",
          "name": "stderr",
          "text": [
            "Device set to use cpu\n",
            "Your max_length is set to 300, but your input_length is only 3. Since this is a summarization task, where outputs shorter than the input are typically wanted, you might consider decreasing max_length manually, e.g. summarizer('...', max_length=1)\n"
          ]
        },
        {
          "output_type": "stream",
          "name": "stdout",
          "text": [
            "Contextual Summary: [{'summary_text': '. - (IT) - 0 - 1 - 2 - 3 - 4 - 5 - 6 - 7 - 8 - 9 - 10 - 11 - 12 - 13 - 14 - 15 - 16 - 18 - 19 - 20 - 21 - 23 - 24 - 25 - 26 - 28 - 30 - 40 - 50 - 60 - 70 - 80 - 90 - 100 - 150 - 140 - 120 - 130 -140 - 45 - 34 - 35 - 44 -35 - 38 -34 - 41 - 39 - 42 - 43 - 64 - 36 - 33 - 31 - 32 - 46 - 49 - 54 --41 -46 -49 -48 -44 -'}]\n",
            "Processing movie: Turning Red\n",
            "IMDb ID: tt8097030\n",
            "Number of reviews: 22723\n"
          ]
        },
        {
          "output_type": "stream",
          "name": "stderr",
          "text": [
            "Device set to use cpu\n"
          ]
        },
        {
          "output_type": "stream",
          "name": "stdout",
          "text": [
            "Contextual Summary: [{'summary_text': '\"Turning Red\" offers a fresh take on family dynamics, focusing on the growing pains of adolescent friendship and motherhood. While some may find its metaphor for puberty confusing, others appreciate its heartfelt portrayal of friendship and parental pressures. Directed by Domee Shii, the film\\'s East Asian cast delivers compelling performances, despite some nitpicks. Despite its flaws, it\\'s a lighthearted film that resonates with both children and adults alike, making it a must-watch for those who appreciate its lighthearted approach and its message of not lie and growing up in a child\\'s life. Ultimately, it serves as a refreshing departure from traditional storytelling and a poignant exploration of childhood and the complexities of adulthood in the context of parenting and aging in the midst of aging and societal issues in general.'}]\n",
            "Processing movie: 28 Weeks Later\n",
            "IMDb ID: tt0463854\n",
            "Number of reviews: 19941\n"
          ]
        },
        {
          "output_type": "stream",
          "name": "stderr",
          "text": [
            "Device set to use cpu\n"
          ]
        },
        {
          "output_type": "stream",
          "name": "stdout",
          "text": [
            "Contextual Summary: [{'summary_text': '\"28 Weeks Later\" offers a unique and enjoyable zombie horror experience, blending suspense with tension and spectacle. Danny Boyle\\'s departure from directorial duties led to positive reviews, with some praising its atmospheric cinematography and intelligent political subtext. Juan Carlos Fresnadillo\\'s direction captures the essence of the original, although some find it more reflective than others. Despite its short runtime, the film\\'s focus on action elements and Jeremy Renner\\'s character adds depth to the genre, making it a pleasant surprise for fans of the genre. Overall, it\\'s a standout in the zombie genre, albeit not without its flaws, leaving a lasting impression with its pacing and action sequences that stand out in the genre\\'s overall experience. Regardless, it may not be without its shortcomings, but it may offer a new perspective on the genre in general.'}]\n",
            "Processing movie: Jurassic World\n",
            "IMDb ID: tt0369610\n",
            "Number of reviews: 21040\n"
          ]
        },
        {
          "output_type": "stream",
          "name": "stderr",
          "text": [
            "Device set to use cpu\n"
          ]
        },
        {
          "output_type": "stream",
          "name": "stdout",
          "text": [
            "Contextual Summary: [{'summary_text': '\"Jurassic World\" remains a personal favourite, praised for its fun, thrilling themes, and memorable dinosaur scenes but criticized for its underdeveloped characters and clumsy plot holes. Vincent D\\'Onofrio\\'s effort adds intensity to his character, though some character arcs feel clichéd. Despite its flaws, the film offers a nostalgic yet up-to-date experience, with subtle connections and rides down memory lane enjoyable. While some find it worth the matinée admission, others criticize its lackluster direction and inconsistencies, making it a worthwhile watch for Jurassic Park fans and fans of the franchise. Overall, it\\'s a memorable and enjoyable viewing experience worth a watch for those who appreciate a reboot or remake of a classic franchise like the originals, even if it falls short of its potential. Ultimately, it may not stand out in the cinematic universe.'}]\n",
            "Processing movie: How to Train Your Dragon: The Hidden World\n",
            "IMDb ID: tt2386490\n",
            "Number of reviews: 17332\n"
          ]
        },
        {
          "output_type": "stream",
          "name": "stderr",
          "text": [
            "Device set to use cpu\n"
          ]
        },
        {
          "output_type": "stream",
          "name": "stdout",
          "text": [
            "Contextual Summary: [{'summary_text': '\"How to Train Your Dragon 2\" presents the compelling adventures of Viking leader Hiccup (Jay Baruchel) and his trusted Night Fury pal, Grimmel the Grisly (F. Murray Abraham). While the film\\'s visuals and humor shine, the villain\\'s motives feel cliched and the plot lacks originality. Despite its flaws, it\\'s a solid entry in the Dreamworks franchise, showcasing the homages to the first two films. However, it falls short of capturing the essence of Norse culture and mythology. Overall, the movie\\'s overall rating is rated A+ for its animation and storytelling, though some criticize its lack of originality and the overall overall rating as a whole lot more than enough to warrant a reassessment for fans of the franchise\\'s future. Regardless, it remains a worthwhile watch, despite its lackluster performances and lackluster storytelling.'}]\n",
            "Processing movie: Doctor Strange in the Multiverse of Madness\n",
            "IMDb ID: tt9419884\n",
            "Number of reviews: 17733\n"
          ]
        },
        {
          "output_type": "stream",
          "name": "stderr",
          "text": [
            "Device set to use cpu\n"
          ]
        },
        {
          "output_type": "stream",
          "name": "stdout",
          "text": [
            "Contextual Summary: [{'summary_text': '\"Doctor Strange in the Multiverse of Madness\" receives mixed reviews, with some finding it messy and lacking depth compared to other groundbreaking MCU films. While some find it entertaining and interesting, others criticize its messy plot and lack of depth. America Chavez shines as Doctor Strange, but Christine Palmer\\'s performance is criticized as underutilized. Overall, it\\'s a great addition to the Marvel Cinematic Universe, though it may not stand on its own as a groundbreaking entry in the MCU. Despite its shortcomings, \"Darned\" remains an entertaining ride, even if it lacks the depth needed to stand out in the multiverse, making it a forgettable entry into the Marvel cinematic universe. Regardless, it remains a compelling addition to Marvel\\'s worldbuilding and character development films that could have been a standout role in this MCU cinematic experience aplenty.'}]\n",
            "Processing movie: Cinderella\n",
            "IMDb ID: tt1661199\n",
            "Number of reviews: 13354\n"
          ]
        },
        {
          "output_type": "stream",
          "name": "stderr",
          "text": [
            "Device set to use cpu\n"
          ]
        },
        {
          "output_type": "stream",
          "name": "stdout",
          "text": [
            "Contextual Summary: [{'summary_text': '\"Cinderella\" is a remake of the classic fairy tale, featuring a determined director at the helm. While some criticize its passive attitude and lack of new ideas, the film\\'s chemistry between lead actors and the original story is strong. Helena Bonham Carter and Stellan Skarsgrd shine in supporting roles, making it a pleasant surprise. Despite occasional pacing issues, it remains a charming and enjoyable watch, reminiscent of classic live action remakes like \"Beauty and the Beast.\" Overall, it\\'s an enjoyable and enjoyable experience, even if it may not break new ground in Disney\\'s franchises. Regardless, it still stands as a standout in the genre, despite its flaws and a disappointment for fans of the original versions, especially re-interpretations like \"Beautiful and uplifting realism in storytelling.'}]\n",
            "Processing movie: Train to Busan\n",
            "IMDb ID: tt5700672\n",
            "Number of reviews: 23681\n"
          ]
        },
        {
          "output_type": "stream",
          "name": "stderr",
          "text": [
            "Device set to use cpu\n"
          ]
        },
        {
          "output_type": "stream",
          "name": "stdout",
          "text": [
            "Contextual Summary: [{'summary_text': '\"28 days later\" offers a mixed bag of zombies and modern themes, though it lacks precedents for other zombie movies. Despite its metaphorical narrative and lack of action sequences, the film delivers a compelling survival plot amidst modern issues. While some find it cartoony and lacking in depth, others appreciate its focus on family dynamics and combating crime. Overall, it\\'s a fun gimmicky movie that doesn\\'t overshadow its predecessors, offering a believable and frightening story that keeps viewers interested all the way to the end of its runtime despite its lack of pacing issues and a lack of focus on zombies. Ultimately, it may not be a smashing success, but it could lead to a sequel with similar themes and plot points that will keep viewers interested for years to come, making it a hit in this subgenre of horror and scares and intrigue.'}]\n",
            "Processing movie: Bullet Train\n",
            "IMDb ID: tt12593682\n",
            "Number of reviews: 20458\n"
          ]
        },
        {
          "output_type": "stream",
          "name": "stderr",
          "text": [
            "Device set to use cpu\n"
          ]
        },
        {
          "output_type": "stream",
          "name": "stdout",
          "text": [
            "Contextual Summary: [{'summary_text': '\"The Wild Ride\" is a fun action comedy that features Brad Pitt in a standout role. While the film features Brian Tyree Henry and Aaron Taylor-Johnson, it falls short of its potential. Despite some Japanese backdrops and Celebrity Cameos, the film\\'s visuals are stunning. Brad Pitt shines in his lead role, while Joey King and Hiroyuki Sanada shine in their roles. While some may find it entertaining, others will appreciate its fun callbacks and craziness, making it a must-watch for those interested in action comedy and a bit of fun while it\\'s also a memorable one-liner and villainous stereotypes. Regardless of its merits, \"Wild Ride\" remains a compelling and thought-provoking exploration of human connection and the human connection in the human dimension, albeit one-liners and villains alike, despite its flaws.'}]\n",
            "Processing movie: Grown Ups 2\n",
            "IMDb ID: tt2191701\n",
            "Number of reviews: 18108\n"
          ]
        },
        {
          "output_type": "stream",
          "name": "stderr",
          "text": [
            "Device set to use cpu\n"
          ]
        },
        {
          "output_type": "stream",
          "name": "stdout",
          "text": [
            "Contextual Summary: [{'summary_text': '\"Grown Ups 2\" receives mixed reviews, with some praising its comedic moments and likable characters but criticized for its childish humor and lack of storyline. While Adam Sandler shines in his role, the movie\\'s lack of real flow and character development detract from its overall impact. Despite some funny moments, it\\'s not for everyone, especially those who enjoy comedies with a strong cast. Ultimately, if you enjoyed the first installment, you\\'ll find it a forgettable entry in the franchise, suggesting its lack of originality and a lack of genuine fun for those who appreciate Comedies with no real storyline and laughable characters. Overall, \"GROWN UPS 2\" fails to deliver on its potential, leaving audiences disappointed and disappointed in the sequel\\'s success. Regardless, despite its failure to deliver a satisfying cinematic experience, leaving viewers disappointed by its lackluster performances and lackluster storytelling.'}]\n",
            "Data telah disimpan dalam 'movie_reviews_and_summaries.csv'\n",
            "Data gabungan telah disimpan dalam 'merged_movie_data.csv'\n"
          ]
        }
      ],
      "source": [
        "import requests\n",
        "from bs4 import BeautifulSoup\n",
        "import pandas as pd\n",
        "import json\n",
        "from transformers import pipeline\n",
        "from sumy.parsers.plaintext import PlaintextParser\n",
        "from sumy.nlp.tokenizers import Tokenizer\n",
        "from sumy.summarizers.lsa import LsaSummarizer\n",
        "\n",
        "# Kelas movie_scraper untuk mengambil informasi dan review film\n",
        "class movie_scraper:\n",
        "    def __init__(self, name):\n",
        "        self.name = name\n",
        "\n",
        "    def get_movie_info(self):\n",
        "        data_url = f\"http://www.omdbapi.com/?t={self.name}&apikey=79ce9d13\"\n",
        "        resp = requests.get(data_url)\n",
        "        data = resp.json()  # Menggunakan json() untuk langsung mengonversi respons ke dictionary\n",
        "        return data\n",
        "\n",
        "    def get_movie_reviews(self, id):\n",
        "        headers = {\n",
        "            'User-Agent': 'Mozilla/5.0 (Windows NT 10.0; Win64; x64) AppleWebKit/537.36 (KHTML, like Gecko) Chrome/58.0.3029.110 Safari/537.3'}\n",
        "        search_url = f\"https://www.imdb.com/title/{id}/reviews/?ref_=tt_urv_sm\"\n",
        "        response = requests.get(search_url, headers=headers)\n",
        "        soup = BeautifulSoup(response.text, 'html.parser')\n",
        "        review_div = soup.find_all('div', class_=\"ipc-html-content-inner-div\")\n",
        "        review_list = \" \".join([review.get_text().strip() for review in review_div])  # Menggunakan list comprehension\n",
        "        return review_list\n",
        "\n",
        "    def contextualize_summary(self, summary):\n",
        "        parser = PlaintextParser.from_string(summary, Tokenizer(\"english\"))\n",
        "        summarizer = LsaSummarizer()\n",
        "        raw_summary = ' '.join([str(sentence) for sentence in summarizer(parser.document, 20)])\n",
        "        pipe = pipeline(\"summarization\", model=\"abhiramd22/t5-base-finetuned-to-summarize-movie-reviews\")\n",
        "        contextual_summary = pipe(raw_summary, min_length=200, max_length=300)\n",
        "        return contextual_summary\n",
        "\n",
        "# Memuat data dari file Excel yang sudah di-scrape sebelumnya\n",
        "df = pd.read_excel('/content/data1.xlsx')\n",
        "\n",
        "# Membuat list untuk menyimpan data hasil scraping\n",
        "movie_data = []\n",
        "\n",
        "# Iterasi untuk mengambil nama film dari DataFrame\n",
        "for index, row in df.iterrows():\n",
        "    movie_name = row['Movie_name']\n",
        "    print(f\"Processing movie: {movie_name}\")\n",
        "\n",
        "    # Membuat objek movie_scraper untuk setiap film\n",
        "    obj = movie_scraper(movie_name)\n",
        "\n",
        "    # Mengambil informasi film\n",
        "    info = obj.get_movie_info()\n",
        "    id = info.get('imdbID', None)\n",
        "\n",
        "    if id:\n",
        "        print(f\"IMDb ID: {id}\")\n",
        "\n",
        "        # Mengambil review film\n",
        "        reviews = obj.get_movie_reviews(id)\n",
        "        print(f\"Number of reviews: {len(reviews)}\")\n",
        "\n",
        "        # Menyusun ringkasan review film\n",
        "        contextual_summary = obj.contextualize_summary(reviews)\n",
        "        print(f\"Contextual Summary: {contextual_summary}\")\n",
        "\n",
        "        # Menyimpan hasil ke dalam list\n",
        "        movie_data.append({\n",
        "            \"Movie Name\": movie_name,\n",
        "            \"IMDb ID\": id,\n",
        "            \"Reviews\": reviews,\n",
        "            \"Contextual Summary\": contextual_summary\n",
        "        })\n",
        "    else:\n",
        "        print(f\"IMDb ID tidak ditemukan untuk film {movie_name}\")\n",
        "        # Menyimpan data dengan informasi kosong\n",
        "        movie_data.append({\n",
        "            \"Movie Name\": movie_name,\n",
        "            \"IMDb ID\": None,\n",
        "            \"Reviews\": None,\n",
        "            \"Contextual Summary\": None\n",
        "        })\n",
        "\n",
        "# Membuat DataFrame dari hasil yang sudah dikumpulkan\n",
        "result_df = pd.DataFrame(movie_data)\n",
        "\n",
        "# Menyimpan DataFrame ke dalam file CSV\n",
        "result_df.to_csv('movie_reviews_and_summaries.csv', index=False)\n",
        "print(\"Data telah disimpan dalam 'movie_reviews_and_summaries.csv'\")\n",
        "\n",
        "# Membaca file hasil scraping\n",
        "result_df = pd.read_csv('movie_reviews_and_summaries.csv')\n",
        "\n",
        "# Menggabungkan data Book1.xlsx dengan hasil scraping\n",
        "merged_df = pd.merge(df, result_df, left_on='Movie_name', right_on='Movie Name', how='outer')\n",
        "\n",
        "# Menyimpan hasil penggabungan ke file CSV baru\n",
        "merged_df.to_csv('merged_movie_data.csv', index=False)\n",
        "print(\"Data gabungan telah disimpan dalam 'merged_movie_data.csv'\")\n"
      ]
    }
  ]
}